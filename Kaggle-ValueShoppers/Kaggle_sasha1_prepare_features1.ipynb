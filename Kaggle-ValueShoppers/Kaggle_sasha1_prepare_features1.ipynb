{
 "cells": [
  {
   "cell_type": "code",
   "execution_count": null,
   "metadata": {
    "collapsed": false
   },
   "outputs": [],
   "source": [
    "%matplotlib inline\n",
    "from IPython.core.pylabtools import figsize\n",
    "\n",
    "from functools import partial\n",
    "import itertools\n",
    "import re\n",
    "\n",
    "import matplotlib.gridspec as gridspec\n",
    "import numpy as np\n",
    "import scipy.stats as stats\n",
    "import matplotlib.pyplot as plt\n",
    "import pylab as pl\n",
    "import scipy as sp\n",
    "from graphviz import Digraph\n",
    "import pydot\n",
    "from IPython.display import Image\n",
    "import seaborn as sns\n",
    "\n",
    "print(__doc__)\n",
    "from patsy import dmatrices\n",
    "import scipy as sc\n",
    "import scipy.optimize as opt\n",
    "import statsmodels.api as sm\n",
    "\n",
    "import sklearn as sk\n",
    "\n",
    "\n",
    "from sklearn.pipeline import Pipeline\n",
    "from sklearn.pipeline import FeatureUnion\n",
    "from sklearn.pipeline import TransformerMixin\n",
    "from sklearn.pipeline import BaseEstimator\n",
    "from sklearn.base import BaseEstimator, TransformerMixin, clone\n",
    "from sklearn.utils.metaestimators import if_delegate_has_method\n",
    "from sklearn.utils import column_or_1d\n",
    "from sklearn.pipeline import make_pipeline\n",
    "from sklearn.pipeline import make_union\n",
    "\n",
    "\n",
    "from sklearn.datasets import samples_generator\n",
    "from sklearn import datasets\n",
    "\n",
    "from sklearn.preprocessing import PolynomialFeatures\n",
    "from sklearn.preprocessing import FunctionTransformer\n",
    "\n",
    "from sklearn.feature_extraction import DictVectorizer\n",
    "\n",
    "import sklearn.feature_extraction as fe\n",
    "\n",
    "import sklearn.feature_selection as fs\n",
    "from sklearn.feature_selection import SelectKBest\n",
    "from sklearn.feature_selection import f_regression\n",
    "from sklearn.feature_selection import VarianceThreshold\n",
    "\n",
    "import sklearn.linear_model as lm\n",
    "import sklearn.grid_search as gs\n",
    "from sklearn.svm import SVC\n",
    "from sklearn.decomposition import PCA\n",
    "\n",
    "\n",
    "import sklearn.preprocessing as preprocessing\n",
    "import sklearn.cross_validation as cv\n",
    "from sklearn.cross_validation import train_test_split\n",
    "from sklearn.metrics import roc_curve, auc\n",
    "\n",
    "from sklearn_pandas import DataFrameMapper, cross_val_score\n",
    "\n",
    "import matplotlib.pyplot as plt\n",
    "import patsy\n",
    "from statsmodels.sandbox import cox\n",
    "\n",
    "from patsylearn import *\n",
    "\n",
    "import joblib as jb\n",
    "\n",
    "\n",
    "from datasu.auc import *\n",
    "from datasu.dicts import *\n",
    "from datasu.files import *\n",
    "from datasu.pandas import *\n",
    "from datasu.persist import *\n",
    "\n",
    "import pandas as pd"
   ]
  },
  {
   "cell_type": "markdown",
   "metadata": {},
   "source": [
    "## UTILS"
   ]
  },
  {
   "cell_type": "markdown",
   "metadata": {},
   "source": [
    "## LOAD DATA"
   ]
  },
  {
   "cell_type": "code",
   "execution_count": null,
   "metadata": {
    "collapsed": false
   },
   "outputs": [],
   "source": [
    "main_folder = '~/dev/data/Kagle-ValuesShoppers/'\n",
    "df_coupons = pd.read_csv(main_folder+'offers')[['offer','category','company','brand','offervalue','quantity']]\n",
    "df_offers_ids = pd.read_csv(main_folder+'trainHistory').rename(columns={'id': 'customer_id'})\n",
    "df_offers_ids_submission = pd.read_csv(main_folder+'testHistory').rename(columns={'id': 'customer_id'})\n",
    "df_trans_all = pd.read_csv(main_folder+'transactions_reduced_category').rename(columns={'id': 'customer_id'})"
   ]
  },
  {
   "cell_type": "code",
   "execution_count": null,
   "metadata": {
    "collapsed": false
   },
   "outputs": [],
   "source": [
    "df_offers_all = pd.merge(df_offers_ids, df_coupons, on=['offer'])\n",
    "df_offers_all = df_offers_all[['customer_id','chain','offer','market','category','company','brand','offerdate','offervalue','quantity','repeattrips','repeater']]\n",
    "\n",
    "df_offers_all_submission = pd.merge(df_offers_ids_submission, df_coupons, on=['offer'])\n",
    "df_offers_all_submission = df_offers_all_submission[['customer_id','chain','offer','market','category','company','brand','offerdate','offervalue','quantity']]"
   ]
  },
  {
   "cell_type": "code",
   "execution_count": null,
   "metadata": {
    "collapsed": false
   },
   "outputs": [],
   "source": [
    "df_coupons.head()"
   ]
  },
  {
   "cell_type": "code",
   "execution_count": null,
   "metadata": {
    "collapsed": false
   },
   "outputs": [],
   "source": [
    "df_coupons[df_coupons.offer==1213242]"
   ]
  },
  {
   "cell_type": "code",
   "execution_count": null,
   "metadata": {
    "collapsed": false
   },
   "outputs": [],
   "source": [
    "df_offers_all.head()"
   ]
  },
  {
   "cell_type": "code",
   "execution_count": null,
   "metadata": {
    "collapsed": false
   },
   "outputs": [],
   "source": [
    "df_trans_all.head()"
   ]
  },
  {
   "cell_type": "code",
   "execution_count": null,
   "metadata": {
    "collapsed": false
   },
   "outputs": [],
   "source": [
    "offer_counts = df_offers_all.groupby(by='offer').count().customer_id.order(ascending=False)\n",
    "sns.barplot(y=offer_counts.index.values, x=offer_counts.values, orient='h')"
   ]
  },
  {
   "cell_type": "markdown",
   "metadata": {},
   "source": [
    "## FILTER DATA"
   ]
  },
  {
   "cell_type": "code",
   "execution_count": null,
   "metadata": {
    "collapsed": false
   },
   "outputs": [],
   "source": [
    "df_trans = df_trans_all#[0:3000000]"
   ]
  },
  {
   "cell_type": "code",
   "execution_count": null,
   "metadata": {
    "collapsed": false
   },
   "outputs": [],
   "source": [
    "df_offers_filtered = df_offers_all#[df_offers_all.offer==1197502]"
   ]
  },
  {
   "cell_type": "code",
   "execution_count": null,
   "metadata": {
    "collapsed": false
   },
   "outputs": [],
   "source": [
    "len(df_trans.customer_id.unique()), len(df_trans.customer_id),  len(df_offers_filtered.customer_id.unique()),len(df_offers_filtered.customer_id), "
   ]
  },
  {
   "cell_type": "markdown",
   "metadata": {},
   "source": [
    "## FEATURE EXTRACTION"
   ]
  },
  {
   "cell_type": "markdown",
   "metadata": {},
   "source": [
    "### AGGREGATE TRANSCATIONS"
   ]
  },
  {
   "cell_type": "code",
   "execution_count": null,
   "metadata": {
    "collapsed": false
   },
   "outputs": [],
   "source": [
    "summ_grouping = {'total':np.sum, 'average':np.average }\n",
    "count_grouping = {'count':np.count_nonzero }"
   ]
  },
  {
   "cell_type": "code",
   "execution_count": null,
   "metadata": {
    "collapsed": false
   },
   "outputs": [],
   "source": [
    "count_agg = partial(build_df_agg, agg_columns=['customer_id'], agg_funcs=count_grouping)\n",
    "total_avg_agg = partial(build_df_agg, agg_columns=['productsize','purchasequantity','purchaseamount'], agg_funcs=summ_grouping)"
   ]
  },
  {
   "cell_type": "code",
   "execution_count": null,
   "metadata": {
    "collapsed": false
   },
   "outputs": [],
   "source": [
    "grpby_columns = ['customer_id','brand']\n",
    "\n",
    "df_trans_grp_customer_brand = df_trans.groupby(by=grpby_columns, axis=0) \\\n",
    "                               .agg(merge_dicts(count_agg(grpby_columns), \\\n",
    "                                                total_avg_agg(grpby_columns)))    \n",
    "    \n",
    "df_trans_grp_customer_brand.columns = flatten_columns(df_trans_grp_customer_brand,prefix='agg_')\n",
    "df_trans_grp_customer_brand = df_trans_grp_customer_brand.reset_index()#.set_index('customer_id')\n",
    "df_trans_grp_customer_brand.head()\n"
   ]
  },
  {
   "cell_type": "code",
   "execution_count": null,
   "metadata": {
    "collapsed": false
   },
   "outputs": [],
   "source": [
    "print len(df_trans_grp_customer_brand.brand.unique())\n",
    "print len(df_trans_grp_customer_brand)"
   ]
  },
  {
   "cell_type": "code",
   "execution_count": null,
   "metadata": {
    "collapsed": true
   },
   "outputs": [],
   "source": [
    "grpby_columns = ['customer_id','category']\n",
    "grp_columns = ['purchaseamount']\n",
    "\n",
    "df_trans_grp_customer_category = df_trans.groupby(by=grpby_columns, axis=0) \\\n",
    "                                         .agg(merge_dicts(count_agg(grpby_columns), \\\n",
    "                                              total_avg_agg(grpby_columns))) \n",
    "    \n",
    "df_trans_grp_customer_category.columns = flatten_columns(df_trans_grp_customer_category, prefix='agg_')\n",
    "df_trans_grp_customer_category = df_trans_grp_customer_category.reset_index()#.set_index('customer_id')\n",
    "df_trans_grp_customer_category.head()\n",
    "\n"
   ]
  },
  {
   "cell_type": "code",
   "execution_count": null,
   "metadata": {
    "collapsed": false
   },
   "outputs": [],
   "source": [
    "print len(df_trans_grp_customer_category)"
   ]
  },
  {
   "cell_type": "code",
   "execution_count": null,
   "metadata": {
    "collapsed": false
   },
   "outputs": [],
   "source": [
    "grpby_columns = ['customer_id','dept']\n",
    "grp_columns = ['productsize','purchaseamount']\n",
    "\n",
    "df_trans_grp_customer_dept = df_trans.groupby(by=grpby_columns, axis=0) \\\n",
    "                                     .agg(merge_dicts(count_agg(grpby_columns), \\\n",
    "                                          total_avg_agg(grpby_columns))) \n",
    "    \n",
    "df_trans_grp_customer_dept.columns = flatten_columns(df_trans_grp_customer_dept, prefix='agg_')\n",
    "df_trans_grp_customer_dept = df_trans_grp_customer_dept.reset_index()#.set_index('customer_id')\n",
    "df_trans_grp_customer_dept.head()"
   ]
  },
  {
   "cell_type": "markdown",
   "metadata": {},
   "source": [
    "### MERGE FEATURES TO ONE TABLE"
   ]
  },
  {
   "cell_type": "code",
   "execution_count": null,
   "metadata": {
    "collapsed": false
   },
   "outputs": [],
   "source": [
    "df_offers__trans_aggs = merge_data(df_offers_all, how='left',\n",
    "                                  rights=[(df_trans_grp_customer_brand,['customer_id','brand']),\n",
    "                                          (df_trans_grp_customer_category,['customer_id', 'category']),\n",
    "#                                           (df_trans_grp_customer_dept,['customer_id'])\n",
    "                                         ])\n",
    "\n",
    "df_offers__trans_aggs.fillna(0, inplace=True)\n",
    "df_offers__trans_aggs.head()"
   ]
  },
  {
   "cell_type": "markdown",
   "metadata": {},
   "source": [
    "### PERSIST DATA TO DISK"
   ]
  },
  {
   "cell_type": "code",
   "execution_count": null,
   "metadata": {
    "collapsed": false
   },
   "outputs": [],
   "source": [
    "persist_variables(['df_trans_grp_customer_brand',\n",
    "                   'df_trans_grp_customer_category',\n",
    "                   'df_trans_grp_customer_dept',\n",
    "                   'df_offers__trans_aggs']\n",
    "                  ,path=main_folder+'working_data')"
   ]
  },
  {
   "cell_type": "code",
   "execution_count": null,
   "metadata": {
    "collapsed": true
   },
   "outputs": [],
   "source": []
  }
 ],
 "metadata": {
  "kernelspec": {
   "display_name": "Python 2",
   "language": "python",
   "name": "python2"
  },
  "language_info": {
   "codemirror_mode": {
    "name": "ipython",
    "version": 2
   },
   "file_extension": ".py",
   "mimetype": "text/x-python",
   "name": "python",
   "nbconvert_exporter": "python",
   "pygments_lexer": "ipython2",
   "version": "2.7.11"
  }
 },
 "nbformat": 4,
 "nbformat_minor": 0
}
