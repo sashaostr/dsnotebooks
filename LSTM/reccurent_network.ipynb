{
 "cells": [
  {
   "cell_type": "code",
   "execution_count": null,
   "metadata": {
    "collapsed": false
   },
   "outputs": [],
   "source": [
    "'''\n",
    "A Reccurent Neural Network (LSTM) implementation example using TensorFlow library.\n",
    "This example is using the MNIST database of handwritten digits (http://yann.lecun.com/exdb/mnist/)\n",
    "Long Short Term Memory paper: http://deeplearning.cs.cmu.edu/pdfs/Hochreiter97_lstm.pdf\n",
    "\n",
    "Author: Aymeric Damien\n",
    "Project: https://github.com/aymericdamien/TensorFlow-Examples/\n",
    "'''"
   ]
  },
  {
   "cell_type": "code",
   "execution_count": null,
   "metadata": {
    "collapsed": false
   },
   "outputs": [],
   "source": [
    "# Import MINST data\n",
    "import tensorflow.examples.tutorials.mnist.input_data as input_data\n",
    "mnist = input_data.read_data_sets(\"/tmp/data/\", one_hot=True)\n",
    "\n",
    "import tensorflow as tf\n",
    "from tensorflow.models.rnn import rnn, rnn_cell\n",
    "import numpy as np"
   ]
  },
  {
   "cell_type": "code",
   "execution_count": 2,
   "metadata": {
    "collapsed": true
   },
   "outputs": [],
   "source": [
    "'''\n",
    "To classify images using a reccurent neural network, we consider every image row as a sequence of pixels.\n",
    "Because MNIST image shape is 28*28px, we will then handle 28 sequences of 28 steps for every sample.\n",
    "'''\n",
    "\n",
    "# Parameters\n",
    "learning_rate = 0.001\n",
    "training_iters = 100000\n",
    "batch_size = 128\n",
    "display_step = 10\n",
    "\n",
    "# Network Parameters\n",
    "n_input = 28 # MNIST data input (img shape: 28*28)\n",
    "n_steps = 28 # timesteps\n",
    "n_hidden = 23 # hidden layer num of features\n",
    "n_classes = 10 # MNIST total classes (0-9 digits)"
   ]
  },
  {
   "cell_type": "code",
   "execution_count": 3,
   "metadata": {
    "collapsed": false
   },
   "outputs": [],
   "source": [
    "# tf Graph input\n",
    "x = tf.placeholder(tf.float32, [None, n_steps, n_input])\n",
    "istate = tf.placeholder(tf.float32, [None, 2*n_hidden]) #state & cell => 2x n_hidden\n",
    "y = tf.placeholder(tf.float32, [None, n_classes])\n",
    "\n",
    "# Define weights\n",
    "weights = {\n",
    "    'hidden': tf.Variable(tf.random_normal([n_input, n_hidden])), # Hidden layer weights\n",
    "    'out': tf.Variable(tf.random_normal([n_hidden, n_classes]))\n",
    "}\n",
    "biases = {\n",
    "    'hidden': tf.Variable(tf.random_normal([n_hidden])),\n",
    "    'out': tf.Variable(tf.random_normal([n_classes]))\n",
    "}"
   ]
  },
  {
   "cell_type": "code",
   "execution_count": 4,
   "metadata": {
    "collapsed": false
   },
   "outputs": [
    {
     "data": {
      "text/plain": [
       "TensorShape([Dimension(None), Dimension(46)])"
      ]
     },
     "execution_count": 4,
     "metadata": {},
     "output_type": "execute_result"
    }
   ],
   "source": [
    "istate.get_shape()"
   ]
  },
  {
   "cell_type": "code",
   "execution_count": 5,
   "metadata": {
    "collapsed": true
   },
   "outputs": [],
   "source": [
    "def RNN(_X, _istate, _weights, _biases):\n",
    "    print _X.get_shape()\n",
    "    # input shape: (batch_size, n_steps, n_input)\n",
    "    _X = tf.transpose(_X, [1, 0, 2])  # permute n_steps and batch_size\n",
    "    print _X.get_shape()\n",
    "    # Reshape to prepare input to hidden activation\n",
    "    _X = tf.reshape(_X, [-1, n_input]) # (n_steps*batch_size, n_input)\n",
    "    print _X.get_shape()\n",
    "    # Linear activation\n",
    "    _X = tf.matmul(_X, _weights['hidden']) + _biases['hidden']\n",
    "    print _X.get_shape()\n",
    "    # Define a lstm cell with tensorflow\n",
    "    lstm_cell = rnn_cell.BasicLSTMCell(n_hidden, forget_bias=1.0)\n",
    "    # Split data because rnn cell needs a list of inputs for the RNN inner loop\n",
    "    _X = tf.split(0, n_steps, _X) # n_steps * (batch_size, n_hidden)\n",
    "#     print _X.get_shape()\n",
    "    # Get lstm cell output\n",
    "    outputs, states = rnn.rnn(lstm_cell, _X, initial_state=_istate)\n",
    "    \n",
    "    # Linear activation\n",
    "    # Get inner loop last output\n",
    "    return (tf.matmul(outputs[-1], _weights['out']) + _biases['out']), _X,outputs, states"
   ]
  },
  {
   "cell_type": "code",
   "execution_count": 6,
   "metadata": {
    "collapsed": false
   },
   "outputs": [
    {
     "name": "stdout",
     "output_type": "stream",
     "text": [
      "TensorShape([Dimension(None), Dimension(28), Dimension(28)])\n",
      "TensorShape([Dimension(28), Dimension(None), Dimension(28)])\n",
      "TensorShape([Dimension(None), Dimension(28)])\n",
      "TensorShape([Dimension(None), Dimension(23)])\n"
     ]
    }
   ],
   "source": [
    "pred, _X,o, s = RNN(x, istate, weights, biases)"
   ]
  },
  {
   "cell_type": "code",
   "execution_count": 8,
   "metadata": {
    "collapsed": false
   },
   "outputs": [
    {
     "data": {
      "text/plain": [
       "(28, TensorShape([Dimension(None), Dimension(23)]))"
      ]
     },
     "execution_count": 8,
     "metadata": {},
     "output_type": "execute_result"
    }
   ],
   "source": [
    "len(_X), _X[0].get_shape()"
   ]
  },
  {
   "cell_type": "code",
   "execution_count": 7,
   "metadata": {
    "collapsed": false
   },
   "outputs": [
    {
     "data": {
      "text/plain": [
       "TensorShape([Dimension(None), Dimension(10)])"
      ]
     },
     "execution_count": 7,
     "metadata": {},
     "output_type": "execute_result"
    }
   ],
   "source": [
    "pred.get_shape()"
   ]
  },
  {
   "cell_type": "code",
   "execution_count": 9,
   "metadata": {
    "collapsed": false
   },
   "outputs": [
    {
     "data": {
      "text/plain": [
       "(28, TensorShape([Dimension(None), Dimension(23)]))"
      ]
     },
     "execution_count": 9,
     "metadata": {},
     "output_type": "execute_result"
    }
   ],
   "source": [
    "len(o), o[0].get_shape(), "
   ]
  },
  {
   "cell_type": "code",
   "execution_count": 10,
   "metadata": {
    "collapsed": false
   },
   "outputs": [
    {
     "data": {
      "text/plain": [
       "(28, TensorShape([Dimension(None), Dimension(46)]))"
      ]
     },
     "execution_count": 10,
     "metadata": {},
     "output_type": "execute_result"
    }
   ],
   "source": [
    "len(s),s[0].get_shape()"
   ]
  },
  {
   "cell_type": "code",
   "execution_count": 11,
   "metadata": {
    "collapsed": false
   },
   "outputs": [],
   "source": [
    "# pred = RNN(x, istate, weights, biases)\n",
    "\n",
    "# Define loss and optimizer\n",
    "cost = tf.reduce_mean(tf.nn.softmax_cross_entropy_with_logits(pred, y)) # Softmax loss\n",
    "optimizer = tf.train.AdamOptimizer(learning_rate=learning_rate).minimize(cost) # Adam Optimizer\n",
    "\n",
    "# Evaluate model\n",
    "correct_pred = tf.equal(tf.argmax(pred,1), tf.argmax(y,1))\n",
    "accuracy = tf.reduce_mean(tf.cast(correct_pred, tf.float32))"
   ]
  },
  {
   "cell_type": "code",
   "execution_count": 12,
   "metadata": {
    "collapsed": false
   },
   "outputs": [
    {
     "name": "stdout",
     "output_type": "stream",
     "text": [
      "Iter 1280, Minibatch Loss= 3.967579, Training Accuracy= 0.09375\n",
      "Iter 2560, Minibatch Loss= 2.996217, Training Accuracy= 0.11719\n",
      "Iter 3840, Minibatch Loss= 2.431879, Training Accuracy= 0.14062\n",
      "Iter 5120, Minibatch Loss= 2.482943, Training Accuracy= 0.14844\n",
      "Iter 6400, Minibatch Loss= 2.223346, Training Accuracy= 0.21094\n",
      "Iter 7680, Minibatch Loss= 2.246519, Training Accuracy= 0.15625\n",
      "Iter 8960, Minibatch Loss= 2.138725, Training Accuracy= 0.21875\n",
      "Iter 10240, Minibatch Loss= 1.993708, Training Accuracy= 0.32031\n",
      "Iter 11520, Minibatch Loss= 1.911527, Training Accuracy= 0.35156\n",
      "Iter 12800, Minibatch Loss= 2.006713, Training Accuracy= 0.26562\n",
      "Iter 14080, Minibatch Loss= 1.923802, Training Accuracy= 0.32031\n",
      "Iter 15360, Minibatch Loss= 1.860279, Training Accuracy= 0.35938\n",
      "Iter 16640, Minibatch Loss= 1.756133, Training Accuracy= 0.37500\n",
      "Iter 17920, Minibatch Loss= 1.570304, Training Accuracy= 0.43750\n",
      "Iter 19200, Minibatch Loss= 1.470616, Training Accuracy= 0.52344\n",
      "Iter 20480, Minibatch Loss= 1.313303, Training Accuracy= 0.60938\n",
      "Iter 21760, Minibatch Loss= 1.396616, Training Accuracy= 0.51562\n",
      "Iter 23040, Minibatch Loss= 1.192152, Training Accuracy= 0.60938\n",
      "Iter 24320, Minibatch Loss= 1.340561, Training Accuracy= 0.53125\n",
      "Iter 25600, Minibatch Loss= 1.383512, Training Accuracy= 0.54688\n",
      "Iter 26880, Minibatch Loss= 1.152812, Training Accuracy= 0.58594\n",
      "Iter 28160, Minibatch Loss= 1.355358, Training Accuracy= 0.55469\n",
      "Iter 29440, Minibatch Loss= 1.114090, Training Accuracy= 0.60938\n",
      "Iter 30720, Minibatch Loss= 1.160945, Training Accuracy= 0.57812\n",
      "Iter 32000, Minibatch Loss= 1.115673, Training Accuracy= 0.67969\n",
      "Iter 33280, Minibatch Loss= 1.024146, Training Accuracy= 0.72656\n",
      "Iter 34560, Minibatch Loss= 1.248980, Training Accuracy= 0.58594\n",
      "Iter 35840, Minibatch Loss= 0.860569, Training Accuracy= 0.73438\n",
      "Iter 37120, Minibatch Loss= 0.854358, Training Accuracy= 0.73438\n",
      "Iter 38400, Minibatch Loss= 0.787908, Training Accuracy= 0.79688\n",
      "Iter 39680, Minibatch Loss= 0.780417, Training Accuracy= 0.75000\n",
      "Iter 40960, Minibatch Loss= 1.132736, Training Accuracy= 0.69531\n",
      "Iter 42240, Minibatch Loss= 0.736277, Training Accuracy= 0.79688\n",
      "Iter 43520, Minibatch Loss= 0.823162, Training Accuracy= 0.67188\n",
      "Iter 44800, Minibatch Loss= 0.726640, Training Accuracy= 0.76562\n",
      "Iter 46080, Minibatch Loss= 0.596564, Training Accuracy= 0.82812\n",
      "Iter 47360, Minibatch Loss= 0.881392, Training Accuracy= 0.75000\n",
      "Iter 48640, Minibatch Loss= 0.769542, Training Accuracy= 0.72656\n",
      "Iter 49920, Minibatch Loss= 0.787144, Training Accuracy= 0.74219\n",
      "Iter 51200, Minibatch Loss= 0.682834, Training Accuracy= 0.77344\n",
      "Iter 52480, Minibatch Loss= 0.605305, Training Accuracy= 0.84375\n",
      "Iter 53760, Minibatch Loss= 0.540090, Training Accuracy= 0.85156\n",
      "Iter 55040, Minibatch Loss= 0.672474, Training Accuracy= 0.76562\n",
      "Iter 56320, Minibatch Loss= 0.724949, Training Accuracy= 0.76562\n",
      "Iter 57600, Minibatch Loss= 0.848388, Training Accuracy= 0.67969\n",
      "Iter 58880, Minibatch Loss= 0.686687, Training Accuracy= 0.76562\n",
      "Iter 60160, Minibatch Loss= 0.731737, Training Accuracy= 0.82031\n",
      "Iter 61440, Minibatch Loss= 0.631844, Training Accuracy= 0.82812\n",
      "Iter 62720, Minibatch Loss= 0.664821, Training Accuracy= 0.80469\n",
      "Iter 64000, Minibatch Loss= 0.641689, Training Accuracy= 0.82812\n",
      "Iter 65280, Minibatch Loss= 0.637209, Training Accuracy= 0.81250\n",
      "Iter 66560, Minibatch Loss= 0.639034, Training Accuracy= 0.79688\n",
      "Iter 67840, Minibatch Loss= 0.540762, Training Accuracy= 0.83594\n",
      "Iter 69120, Minibatch Loss= 0.649027, Training Accuracy= 0.76562\n",
      "Iter 70400, Minibatch Loss= 0.754770, Training Accuracy= 0.75781\n",
      "Iter 71680, Minibatch Loss= 0.580645, Training Accuracy= 0.82031\n",
      "Iter 72960, Minibatch Loss= 0.691717, Training Accuracy= 0.75781\n",
      "Iter 74240, Minibatch Loss= 0.523215, Training Accuracy= 0.86719\n",
      "Iter 75520, Minibatch Loss= 0.522950, Training Accuracy= 0.79688\n",
      "Iter 76800, Minibatch Loss= 0.542721, Training Accuracy= 0.82812\n",
      "Iter 78080, Minibatch Loss= 0.419523, Training Accuracy= 0.83594\n",
      "Iter 79360, Minibatch Loss= 0.685448, Training Accuracy= 0.78125\n",
      "Iter 80640, Minibatch Loss= 0.414277, Training Accuracy= 0.82812\n",
      "Iter 81920, Minibatch Loss= 0.594128, Training Accuracy= 0.78906\n",
      "Iter 83200, Minibatch Loss= 0.479752, Training Accuracy= 0.86719\n",
      "Iter 84480, Minibatch Loss= 0.578717, Training Accuracy= 0.84375\n",
      "Iter 85760, Minibatch Loss= 0.396553, Training Accuracy= 0.88281\n",
      "Iter 87040, Minibatch Loss= 0.442736, Training Accuracy= 0.87500\n",
      "Iter 88320, Minibatch Loss= 0.500834, Training Accuracy= 0.83594\n",
      "Iter 89600, Minibatch Loss= 0.595363, Training Accuracy= 0.79688\n",
      "Iter 90880, Minibatch Loss= 0.495263, Training Accuracy= 0.81250\n",
      "Iter 92160, Minibatch Loss= 0.453968, Training Accuracy= 0.88281\n",
      "Iter 93440, Minibatch Loss= 0.435625, Training Accuracy= 0.85938\n",
      "Iter 94720, Minibatch Loss= 0.423782, Training Accuracy= 0.88281\n",
      "Iter 96000, Minibatch Loss= 0.400132, Training Accuracy= 0.88281\n",
      "Iter 97280, Minibatch Loss= 0.421599, Training Accuracy= 0.84375\n",
      "Iter 98560, Minibatch Loss= 0.531646, Training Accuracy= 0.80469\n",
      "Iter 99840, Minibatch Loss= 0.400615, Training Accuracy= 0.88281\n",
      "Optimization Finished!\n",
      "Testing Accuracy: 0.914062\n"
     ]
    }
   ],
   "source": [
    "# Initializing the variables\n",
    "init = tf.initialize_all_variables()\n",
    "\n",
    "# Launch the graph\n",
    "with tf.Session() as sess:\n",
    "    sess.run(init)\n",
    "    step = 1\n",
    "    # Keep training until reach max iterations\n",
    "    while step * batch_size < training_iters:\n",
    "        batch_xs, batch_ys = mnist.train.next_batch(batch_size)\n",
    "        # Reshape data to get 28 seq of 28 elements\n",
    "        batch_xs = batch_xs.reshape((batch_size, n_steps, n_input))\n",
    "        # Fit training using batch data\n",
    "        sess.run(optimizer, feed_dict={x: batch_xs, y: batch_ys,\n",
    "                                       istate: np.zeros((batch_size, 2*n_hidden))})\n",
    "        if step % display_step == 0:\n",
    "            # Calculate batch accuracy\n",
    "            acc = sess.run(accuracy, feed_dict={x: batch_xs, y: batch_ys,\n",
    "                                                istate: np.zeros((batch_size, 2*n_hidden))})\n",
    "            # Calculate batch loss\n",
    "            loss = sess.run(cost, feed_dict={x: batch_xs, y: batch_ys,\n",
    "                                             istate: np.zeros((batch_size, 2*n_hidden))})\n",
    "            print \"Iter \" + str(step*batch_size) + \", Minibatch Loss= \" + \"{:.6f}\".format(loss) + \\\n",
    "                  \", Training Accuracy= \" + \"{:.5f}\".format(acc)\n",
    "        step += 1\n",
    "    print \"Optimization Finished!\"\n",
    "    # Calculate accuracy for 256 mnist test images\n",
    "    test_len = 256\n",
    "    test_data = mnist.test.images[:test_len].reshape((-1, n_steps, n_input))\n",
    "    test_label = mnist.test.labels[:test_len]\n",
    "    print \"Testing Accuracy:\", sess.run(accuracy, feed_dict={x: test_data, y: test_label,\n",
    "                                                             istate: np.zeros((test_len, 2*n_hidden))})"
   ]
  },
  {
   "cell_type": "code",
   "execution_count": 13,
   "metadata": {
    "collapsed": false
   },
   "outputs": [],
   "source": [
    "sess.close()"
   ]
  },
  {
   "cell_type": "code",
   "execution_count": null,
   "metadata": {
    "collapsed": true
   },
   "outputs": [],
   "source": []
  }
 ],
 "metadata": {
  "kernelspec": {
   "display_name": "Python 2",
   "language": "python",
   "name": "python2"
  },
  "language_info": {
   "codemirror_mode": {
    "name": "ipython",
    "version": 2
   },
   "file_extension": ".py",
   "mimetype": "text/x-python",
   "name": "python",
   "nbconvert_exporter": "python",
   "pygments_lexer": "ipython2",
   "version": "2.7.11"
  }
 },
 "nbformat": 4,
 "nbformat_minor": 0
}
