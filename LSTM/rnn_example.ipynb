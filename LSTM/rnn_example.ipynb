{
 "cells": [
  {
   "cell_type": "code",
   "execution_count": 1,
   "metadata": {
    "collapsed": true
   },
   "outputs": [],
   "source": [
    "import tensorflow as tf\n",
    "import numpy as np\n",
    "from tensorflow.models.rnn import rnn_cell\n",
    "from tensorflow.models.rnn import rnn\n",
    "\n",
    "#Defining some hyper-params\n",
    "num_units = 2       #this is the parameter for input_size in the basic LSTM cell\n",
    "input_size = 2      #num_units and input_size will be the same\n",
    "\n",
    "batch_size = 50\n",
    "seq_len = 55\n",
    "num_epochs=100"
   ]
  },
  {
   "cell_type": "markdown",
   "metadata": {},
   "source": [
    "Now we will generate the data. This code was taken from the RNN example from the Lasagne.\n",
    "https://github.com/Lasagne/Lasagne/blob/master/examples/recurrent.py\n",
    "\n",
    "Summary of what type of data we are generating:\n",
    "\n",
    "    Generate a batch of sequences for the \"add\" task, e.g. the target for the\n",
    "    following\n",
    "    ``| 0.5 | 0.7 | 0.3 | 0.1 | 0.2 | ... | 0.5 | 0.9 | ... | 0.8 | 0.2 |\n",
    "      |  0  |  0  |  1  |  0  |  0  |     |  0  |  1  |     |  0  |  0  |``\n",
    "    would be 0.3 + .9 = 1.2. \n",
    "    \n",
    "The input and the output of the function gen_data:\n",
    "\n",
    "    Parameters\n",
    "    ----------\n",
    "    min_length : int\n",
    "        Minimum sequence length.\n",
    "    max_length : int\n",
    "        Maximum sequence length.\n",
    "    n_batch : int\n",
    "        Number of samples in the batch.\n",
    "    Returns\n",
    "    -------\n",
    "    X : Input to the network, of shape (n_batch, max_length, 2), where the last\n",
    "        dimension corresponds to the two sequences shown above.\n",
    "    y : Correct output for each sample, shape (n_batch,)"
   ]
  },
  {
   "cell_type": "code",
   "execution_count": 2,
   "metadata": {
    "collapsed": true
   },
   "outputs": [],
   "source": [
    "def gen_data(min_length=50, max_length=55, n_batch=5):\n",
    "\n",
    "    X = np.concatenate([np.random.uniform(size=(n_batch, max_length, 1)),\n",
    "                        np.zeros((n_batch, max_length, 1))],\n",
    "                       axis=-1)\n",
    "    y = np.zeros((n_batch,))\n",
    "    # Compute masks and correct values\n",
    "    for n in range(n_batch):\n",
    "        # Randomly choose the sequence length\n",
    "        length = np.random.randint(min_length, max_length)\n",
    "        #i changed this to a constant\n",
    "        #length=55\n",
    "\n",
    "        # Zero out X after the end of the sequence\n",
    "        X[n, length:, 0] = 0\n",
    "        # Set the second dimension to 1 at the indices to add\n",
    "        X[n, np.random.randint(length/2-1), 1] = 1\n",
    "        X[n, np.random.randint(length/2, length), 1] = 1\n",
    "        # Multiply and sum the dimensions of X to get the target value\n",
    "        y[n] = np.sum(X[n, :, 0]*X[n, :, 1])\n",
    "    # Center the inputs and outputs\n",
    "    #X -= X.reshape(-1, 2).mean(axis=0)\n",
    "    #y -= y.mean()\n",
    "    return (X,y)"
   ]
  },
  {
   "cell_type": "code",
   "execution_count": 3,
   "metadata": {
    "collapsed": true
   },
   "outputs": [],
   "source": [
    "### Model Construction\n",
    "\n",
    "cell = rnn_cell.BasicLSTMCell(num_units)    #we use the basic LSTM cell provided in TensorFlow\n",
    "                                            #num units is the input-size for this cell\n",
    "\n",
    "#create placeholders for X and y\n",
    "\n",
    "inputs = [tf.placeholder(tf.float32,shape=[batch_size,input_size]) for _ in range(seq_len)]\n",
    "result = tf.placeholder(tf.float32, shape=[batch_size])\n",
    "\n",
    "outputs, states = rnn.rnn(cell, inputs, dtype=tf.float32)   #note that outputs is a list of seq_len\n",
    "                                                            #each element is a tensor of size [batch_size,num_units]\n",
    "\n",
    "outputs2 = outputs[-1]   #we actually only need the last output from the model, ie: last element of outputs\n",
    "\n",
    "\n",
    "#We actually want the output to be size [batch_size, 1]\n",
    "#So we will implement a linear layer to do this\n",
    "\n",
    "W_o = tf.Variable(tf.random_normal([2,1], stddev=0.01))     \n",
    "b_o = tf.Variable(tf.random_normal([1], stddev=0.01))\n",
    "\n",
    "outputs2 = outputs[-1]\n",
    "\n",
    "outputs3 = tf.matmul(outputs2,W_o) + b_o       \n",
    "\n",
    "cost = tf.reduce_mean(tf.pow(outputs3-result,2))    #compute the cost for this batch of data\n",
    "\n",
    "#compute updates to parameters in order to minimize cost\n",
    "\n",
    "#train_op = tf.train.GradientDescentOptimizer(0.008).minimize(cost)\n",
    "train_op = tf.train.RMSPropOptimizer(0.005, 0.2).minimize(cost) \n",
    "\n",
    "\n"
   ]
  },
  {
   "cell_type": "code",
   "execution_count": 22,
   "metadata": {
    "collapsed": true
   },
   "outputs": [],
   "source": [
    "### Generate Validation Data\n",
    "tempX,y_val = gen_data(50,seq_len,batch_size)\n",
    "X_val = []\n",
    "for i in range(seq_len):\n",
    "    X_val.append(tempX[:,i,:])"
   ]
  },
  {
   "cell_type": "code",
   "execution_count": 38,
   "metadata": {
    "collapsed": false,
    "scrolled": true
   },
   "outputs": [
    {
     "data": {
      "text/plain": [
       "(50, 55, 2)"
      ]
     },
     "execution_count": 38,
     "metadata": {},
     "output_type": "execute_result"
    }
   ],
   "source": [
    "tempX.shape"
   ]
  },
  {
   "cell_type": "code",
   "execution_count": 52,
   "metadata": {
    "collapsed": false
   },
   "outputs": [
    {
     "data": {
      "text/plain": [
       "(55, TensorShape([Dimension(50), Dimension(2)]))"
      ]
     },
     "execution_count": 52,
     "metadata": {},
     "output_type": "execute_result"
    }
   ],
   "source": [
    "len(inputs), inputs[0].get_shape()"
   ]
  },
  {
   "cell_type": "code",
   "execution_count": 53,
   "metadata": {
    "collapsed": false
   },
   "outputs": [
    {
     "data": {
      "text/plain": [
       "(55, TensorShape([Dimension(50), Dimension(2)]))"
      ]
     },
     "execution_count": 53,
     "metadata": {},
     "output_type": "execute_result"
    }
   ],
   "source": [
    "len(outputs), outputs[0].get_shape()"
   ]
  },
  {
   "cell_type": "code",
   "execution_count": 47,
   "metadata": {
    "collapsed": true
   },
   "outputs": [
    {
     "name": "stdout",
     "output_type": "stream",
     "text": [
      "Validation cost: 1.1004986763, on Epoch 0\n",
      "Validation cost: 1.08680915833, on Epoch 1\n",
      "Validation cost: 1.07319009304, on Epoch 2\n",
      "Validation cost: 1.05926322937, on Epoch 3\n",
      "Validation cost: 1.04492068291, on Epoch 4\n",
      "Validation cost: 1.02958679199, on Epoch 5\n",
      "Validation cost: 1.0142608881, on Epoch 6\n",
      "Validation cost: 0.998470127583, on Epoch 7\n",
      "Validation cost: 0.981955289841, on Epoch 8\n",
      "Validation cost: 0.965620100498, on Epoch 9\n",
      "Validation cost: 0.948754191399, on Epoch 10\n",
      "Validation cost: 0.932253718376, on Epoch 11\n",
      "Validation cost: 0.915660858154, on Epoch 12\n",
      "Validation cost: 0.899058997631, on Epoch 13\n",
      "Validation cost: 0.882270038128, on Epoch 14\n",
      "Validation cost: 0.865384578705, on Epoch 15\n",
      "Validation cost: 0.847898066044, on Epoch 16\n",
      "Validation cost: 0.831382632256, on Epoch 17\n",
      "Validation cost: 0.814068436623, on Epoch 18\n",
      "Validation cost: 0.798361599445, on Epoch 19\n",
      "Validation cost: 0.78099489212, on Epoch 20\n",
      "Validation cost: 0.764262914658, on Epoch 21\n",
      "Validation cost: 0.748005449772, on Epoch 22\n",
      "Validation cost: 0.731913208961, on Epoch 23\n",
      "Validation cost: 0.715320587158, on Epoch 24\n",
      "Validation cost: 0.699292838573, on Epoch 25\n",
      "Validation cost: 0.683428406715, on Epoch 26\n",
      "Validation cost: 0.667519450188, on Epoch 27\n",
      "Validation cost: 0.651994347572, on Epoch 28\n",
      "Validation cost: 0.636302709579, on Epoch 29\n",
      "Validation cost: 0.620867967606, on Epoch 30\n",
      "Validation cost: 0.606114685535, on Epoch 31\n",
      "Validation cost: 0.590935468674, on Epoch 32\n",
      "Validation cost: 0.576310455799, on Epoch 33\n",
      "Validation cost: 0.561636507511, on Epoch 34\n",
      "Validation cost: 0.547717988491, on Epoch 35\n",
      "Validation cost: 0.533878684044, on Epoch 36\n",
      "Validation cost: 0.519241273403, on Epoch 37\n",
      "Validation cost: 0.505662560463, on Epoch 38\n",
      "Validation cost: 0.493028521538, on Epoch 39\n",
      "Validation cost: 0.479912221432, on Epoch 40\n",
      "Validation cost: 0.466338098049, on Epoch 41\n",
      "Validation cost: 0.453700393438, on Epoch 42\n",
      "Validation cost: 0.440663963556, on Epoch 43\n",
      "Validation cost: 0.427968859673, on Epoch 44\n",
      "Validation cost: 0.415693998337, on Epoch 45\n",
      "Validation cost: 0.404298305511, on Epoch 46\n",
      "Validation cost: 0.392436951399, on Epoch 47\n",
      "Validation cost: 0.381055384874, on Epoch 48\n"
     ]
    },
    {
     "ename": "KeyboardInterrupt",
     "evalue": "",
     "output_type": "error",
     "traceback": [
      "\u001b[1;31m---------------------------------------------------------------------------\u001b[0m",
      "\u001b[1;31mKeyboardInterrupt\u001b[0m                         Traceback (most recent call last)",
      "\u001b[1;32m<ipython-input-47-45c25b2e45ba>\u001b[0m in \u001b[0;36m<module>\u001b[1;34m()\u001b[0m\n\u001b[0;32m     19\u001b[0m         \u001b[0mtemp_dict\u001b[0m\u001b[1;33m.\u001b[0m\u001b[0mupdate\u001b[0m\u001b[1;33m(\u001b[0m\u001b[1;33m{\u001b[0m\u001b[0mresult\u001b[0m\u001b[1;33m:\u001b[0m \u001b[0my\u001b[0m\u001b[1;33m}\u001b[0m\u001b[1;33m)\u001b[0m\u001b[1;33m\u001b[0m\u001b[0m\n\u001b[0;32m     20\u001b[0m \u001b[1;33m\u001b[0m\u001b[0m\n\u001b[1;32m---> 21\u001b[1;33m         \u001b[0msess\u001b[0m\u001b[1;33m.\u001b[0m\u001b[0mrun\u001b[0m\u001b[1;33m(\u001b[0m\u001b[0mtrain_op\u001b[0m\u001b[1;33m,\u001b[0m\u001b[0mfeed_dict\u001b[0m\u001b[1;33m=\u001b[0m\u001b[0mtemp_dict\u001b[0m\u001b[1;33m)\u001b[0m   \u001b[1;31m#perform an update on the parameters\u001b[0m\u001b[1;33m\u001b[0m\u001b[0m\n\u001b[0m\u001b[0;32m     22\u001b[0m \u001b[1;33m\u001b[0m\u001b[0m\n\u001b[0;32m     23\u001b[0m         \u001b[0mval_dict\u001b[0m \u001b[1;33m=\u001b[0m \u001b[1;33m{\u001b[0m\u001b[0minputs\u001b[0m\u001b[1;33m[\u001b[0m\u001b[0mi\u001b[0m\u001b[1;33m]\u001b[0m\u001b[1;33m:\u001b[0m\u001b[0mX_val\u001b[0m\u001b[1;33m[\u001b[0m\u001b[0mi\u001b[0m\u001b[1;33m]\u001b[0m \u001b[1;32mfor\u001b[0m \u001b[0mi\u001b[0m \u001b[1;32min\u001b[0m \u001b[0mrange\u001b[0m\u001b[1;33m(\u001b[0m\u001b[0mseq_len\u001b[0m\u001b[1;33m)\u001b[0m\u001b[1;33m}\u001b[0m  \u001b[1;31m#create validation dictionary\u001b[0m\u001b[1;33m\u001b[0m\u001b[0m\n",
      "\u001b[1;32m/home/ds/.pyenv/versions/anaconda2-2.4.1/lib/python2.7/site-packages/tensorflow/python/client/session.pyc\u001b[0m in \u001b[0;36mrun\u001b[1;34m(self, fetches, feed_dict)\u001b[0m\n\u001b[0;32m    366\u001b[0m \u001b[1;33m\u001b[0m\u001b[0m\n\u001b[0;32m    367\u001b[0m     \u001b[1;31m# Run request and get response.\u001b[0m\u001b[1;33m\u001b[0m\u001b[1;33m\u001b[0m\u001b[0m\n\u001b[1;32m--> 368\u001b[1;33m     \u001b[0mresults\u001b[0m \u001b[1;33m=\u001b[0m \u001b[0mself\u001b[0m\u001b[1;33m.\u001b[0m\u001b[0m_do_run\u001b[0m\u001b[1;33m(\u001b[0m\u001b[0mtarget_list\u001b[0m\u001b[1;33m,\u001b[0m \u001b[0munique_fetch_targets\u001b[0m\u001b[1;33m,\u001b[0m \u001b[0mfeed_dict_string\u001b[0m\u001b[1;33m)\u001b[0m\u001b[1;33m\u001b[0m\u001b[0m\n\u001b[0m\u001b[0;32m    369\u001b[0m \u001b[1;33m\u001b[0m\u001b[0m\n\u001b[0;32m    370\u001b[0m     \u001b[1;31m# User may have fetched the same tensor multiple times, but we\u001b[0m\u001b[1;33m\u001b[0m\u001b[1;33m\u001b[0m\u001b[0m\n",
      "\u001b[1;32m/home/ds/.pyenv/versions/anaconda2-2.4.1/lib/python2.7/site-packages/tensorflow/python/client/session.pyc\u001b[0m in \u001b[0;36m_do_run\u001b[1;34m(self, target_list, fetch_list, feed_dict)\u001b[0m\n\u001b[0;32m    426\u001b[0m \u001b[1;33m\u001b[0m\u001b[0m\n\u001b[0;32m    427\u001b[0m       return tf_session.TF_Run(self._session, feed_dict, fetch_list,\n\u001b[1;32m--> 428\u001b[1;33m                                target_list)\n\u001b[0m\u001b[0;32m    429\u001b[0m \u001b[1;33m\u001b[0m\u001b[0m\n\u001b[0;32m    430\u001b[0m     \u001b[1;32mexcept\u001b[0m \u001b[0mtf_session\u001b[0m\u001b[1;33m.\u001b[0m\u001b[0mStatusNotOK\u001b[0m \u001b[1;32mas\u001b[0m \u001b[0me\u001b[0m\u001b[1;33m:\u001b[0m\u001b[1;33m\u001b[0m\u001b[0m\n",
      "\u001b[1;31mKeyboardInterrupt\u001b[0m: "
     ]
    }
   ],
   "source": [
    "### Execute\n",
    "\n",
    "with tf.Session() as sess:\n",
    "\n",
    "    tf.initialize_all_variables().run()     #initialize all variables in the model\n",
    "\n",
    "    for k in range(num_epochs):\n",
    "\n",
    "        #Generate Data for each epoch\n",
    "        #What this does is it creates a list of of elements of length seq_len, each of size [batch_size,input_size]\n",
    "        #this is required to feed data into rnn.rnn\n",
    "        tempX,y = gen_data(50,seq_len,batch_size)        \n",
    "        X = []\n",
    "        for i in range(seq_len):\n",
    "            X.append(tempX[:,i,:])\n",
    "\n",
    "        #Create the dictionary of inputs to feed into sess.run\n",
    "        temp_dict = {inputs[i]:X[i] for i in range(seq_len)}\n",
    "        temp_dict.update({result: y})\n",
    "        \n",
    "        sess.run(train_op,feed_dict=temp_dict)   #perform an update on the parameters\n",
    "\n",
    "        val_dict = {inputs[i]:X_val[i] for i in range(seq_len)}  #create validation dictionary\n",
    "        val_dict.update({result: y_val})\n",
    "        c_val = sess.run(cost, feed_dict = val_dict )            #compute the cost on the validation set\n",
    "        \n",
    "        print \"Validation cost: {}, on Epoch {}\".format(c_val,k)\n",
    "\n"
   ]
  },
  {
   "cell_type": "code",
   "execution_count": 49,
   "metadata": {
    "collapsed": false
   },
   "outputs": [
    {
     "data": {
      "text/plain": [
       "(55, 55)"
      ]
     },
     "execution_count": 49,
     "metadata": {},
     "output_type": "execute_result"
    }
   ],
   "source": [
    "len(X), len(inputs)"
   ]
  },
  {
   "cell_type": "code",
   "execution_count": 51,
   "metadata": {
    "collapsed": false
   },
   "outputs": [
    {
     "data": {
      "text/plain": [
       "((50, 2), TensorShape([Dimension(50), Dimension(2)]))"
      ]
     },
     "execution_count": 51,
     "metadata": {},
     "output_type": "execute_result"
    }
   ],
   "source": [
    "X[0].shape, inputs[0].get_shape()"
   ]
  }
 ],
 "metadata": {
  "kernelspec": {
   "display_name": "Python 2",
   "language": "python",
   "name": "python2"
  },
  "language_info": {
   "codemirror_mode": {
    "name": "ipython",
    "version": 2
   },
   "file_extension": ".py",
   "mimetype": "text/x-python",
   "name": "python",
   "nbconvert_exporter": "python",
   "pygments_lexer": "ipython2",
   "version": "2.7.11"
  }
 },
 "nbformat": 4,
 "nbformat_minor": 0
}
