{
 "cells": [
  {
   "cell_type": "code",
   "execution_count": 73,
   "metadata": {
    "collapsed": false
   },
   "outputs": [
    {
     "name": "stdout",
     "output_type": "stream",
     "text": [
      "Automatically created module for IPython interactive environment\n"
     ]
    }
   ],
   "source": [
    "%matplotlib inline\n",
    "from IPython.core.pylabtools import figsize\n",
    "\n",
    "from functools import partial\n",
    "import itertools\n",
    "import re\n",
    "\n",
    "import matplotlib.gridspec as gridspec\n",
    "import numpy as np\n",
    "import scipy.stats as stats\n",
    "import matplotlib.pyplot as plt\n",
    "import pylab as pl\n",
    "import scipy as sp\n",
    "from graphviz import Digraph\n",
    "import pydot\n",
    "from IPython.display import Image\n",
    "import pandas as pd\n",
    "import seaborn as sns\n",
    "\n",
    "print(__doc__)\n",
    "import pandas as pd\n",
    "from patsy import dmatrices\n",
    "import scipy as sc\n",
    "import scipy.optimize as opt\n",
    "import statsmodels.api as sm\n",
    "\n",
    "import sklearn as sk\n",
    "\n",
    "\n",
    "from sklearn.pipeline import Pipeline\n",
    "from sklearn.pipeline import FeatureUnion\n",
    "from sklearn.pipeline import TransformerMixin\n",
    "from sklearn.pipeline import BaseEstimator\n",
    "from sklearn.base import BaseEstimator, TransformerMixin, clone\n",
    "from sklearn.utils.metaestimators import if_delegate_has_method\n",
    "from sklearn.utils import column_or_1d\n",
    "from sklearn.pipeline import make_pipeline\n",
    "from sklearn.pipeline import make_union\n",
    "\n",
    "\n",
    "from sklearn.datasets import samples_generator\n",
    "from sklearn import datasets\n",
    "\n",
    "from sklearn.preprocessing import PolynomialFeatures\n",
    "from sklearn.preprocessing import FunctionTransformer\n",
    "\n",
    "from sklearn.feature_extraction import DictVectorizer\n",
    "\n",
    "import sklearn.feature_extraction as fe\n",
    "\n",
    "import sklearn.feature_selection as fs\n",
    "from sklearn.feature_selection import SelectKBest\n",
    "from sklearn.feature_selection import f_regression\n",
    "from sklearn.feature_selection import VarianceThreshold\n",
    "\n",
    "import sklearn.linear_model as lm\n",
    "import sklearn.grid_search as gs\n",
    "from sklearn.svm import SVC, LinearSVC, LinearSVR, NuSVC\n",
    "from sklearn.decomposition import PCA\n",
    "\n",
    "\n",
    "import sklearn.preprocessing as preprocessing\n",
    "import sklearn.cross_validation as cv\n",
    "from sklearn.cross_validation import train_test_split\n",
    "from sklearn.metrics import roc_curve, auc\n",
    "\n",
    "from sklearn_pandas import DataFrameMapper, cross_val_score\n",
    "\n",
    "import matplotlib.pyplot as plt\n",
    "import patsy\n",
    "from statsmodels.sandbox import cox\n",
    "\n",
    "from patsylearn import *\n",
    "\n",
    "import joblib as jb\n",
    "\n",
    "\n",
    "from datasu.auc import *\n",
    "from datasu.dict import *\n",
    "from datasu.files import *\n",
    "from datasu.pandas import *\n",
    "from datasu.persist import *\n"
   ]
  },
  {
   "cell_type": "markdown",
   "metadata": {},
   "source": [
    "## UTILS"
   ]
  },
  {
   "cell_type": "markdown",
   "metadata": {},
   "source": [
    "## LOAD DATA"
   ]
  },
  {
   "cell_type": "code",
   "execution_count": 10,
   "metadata": {
    "collapsed": false
   },
   "outputs": [],
   "source": [
    "main_folder = '/ea/Datasets/Kaggle-AcquireValuedShoppersChallenge2/'\n",
    "df_coupons = pd.read_csv(main_folder+'offers')[['offer','category','company','brand','offervalue','quantity']]\n",
    "df_offers_ids = pd.read_csv(main_folder+'trainHistory').rename(columns={'id': 'customer_id'})\n",
    "df_offers_ids_submission = pd.read_csv(main_folder+'testHistory').rename(columns={'id': 'customer_id'})\n",
    "df_trans_all = pd.read_csv(main_folder+'transactions_reduced_category').rename(columns={'id': 'customer_id'})"
   ]
  },
  {
   "cell_type": "code",
   "execution_count": 11,
   "metadata": {
    "collapsed": false
   },
   "outputs": [],
   "source": [
    "df_offers_all = pd.merge(df_offers_ids, df_coupons, on=['offer'])\n",
    "df_offers_all = df_offers_all[['customer_id','chain','offer','market','category','company','brand','offerdate','offervalue','quantity','repeattrips','repeater']]\n",
    "\n",
    "df_offers_all_submission = pd.merge(df_offers_ids_submission, df_coupons, on=['offer'])\n",
    "df_offers_all_submission = df_offers_all_submission[['customer_id','chain','offer','market','category','company','brand','offerdate','offervalue','quantity']]"
   ]
  },
  {
   "cell_type": "code",
   "execution_count": 12,
   "metadata": {
    "collapsed": false
   },
   "outputs": [
    {
     "data": {
      "text/html": [
       "<div>\n",
       "<table border=\"1\" class=\"dataframe\">\n",
       "  <thead>\n",
       "    <tr style=\"text-align: right;\">\n",
       "      <th></th>\n",
       "      <th>offer</th>\n",
       "      <th>category</th>\n",
       "      <th>company</th>\n",
       "      <th>brand</th>\n",
       "      <th>offervalue</th>\n",
       "      <th>quantity</th>\n",
       "    </tr>\n",
       "  </thead>\n",
       "  <tbody>\n",
       "    <tr>\n",
       "      <th>0</th>\n",
       "      <td>1190530</td>\n",
       "      <td>9115</td>\n",
       "      <td>108500080</td>\n",
       "      <td>93904</td>\n",
       "      <td>5.00</td>\n",
       "      <td>1</td>\n",
       "    </tr>\n",
       "    <tr>\n",
       "      <th>1</th>\n",
       "      <td>1194044</td>\n",
       "      <td>9909</td>\n",
       "      <td>107127979</td>\n",
       "      <td>6732</td>\n",
       "      <td>1.00</td>\n",
       "      <td>1</td>\n",
       "    </tr>\n",
       "    <tr>\n",
       "      <th>2</th>\n",
       "      <td>1197502</td>\n",
       "      <td>3203</td>\n",
       "      <td>106414464</td>\n",
       "      <td>13474</td>\n",
       "      <td>0.75</td>\n",
       "      <td>1</td>\n",
       "    </tr>\n",
       "    <tr>\n",
       "      <th>3</th>\n",
       "      <td>1198271</td>\n",
       "      <td>5558</td>\n",
       "      <td>107120272</td>\n",
       "      <td>5072</td>\n",
       "      <td>1.50</td>\n",
       "      <td>1</td>\n",
       "    </tr>\n",
       "    <tr>\n",
       "      <th>4</th>\n",
       "      <td>1198272</td>\n",
       "      <td>5558</td>\n",
       "      <td>107120272</td>\n",
       "      <td>5072</td>\n",
       "      <td>1.50</td>\n",
       "      <td>1</td>\n",
       "    </tr>\n",
       "  </tbody>\n",
       "</table>\n",
       "</div>"
      ],
      "text/plain": [
       "     offer  category    company  brand  offervalue  quantity\n",
       "0  1190530      9115  108500080  93904        5.00         1\n",
       "1  1194044      9909  107127979   6732        1.00         1\n",
       "2  1197502      3203  106414464  13474        0.75         1\n",
       "3  1198271      5558  107120272   5072        1.50         1\n",
       "4  1198272      5558  107120272   5072        1.50         1"
      ]
     },
     "execution_count": 12,
     "metadata": {},
     "output_type": "execute_result"
    }
   ],
   "source": [
    "df_coupons.head()"
   ]
  },
  {
   "cell_type": "code",
   "execution_count": 13,
   "metadata": {
    "collapsed": false
   },
   "outputs": [
    {
     "data": {
      "text/html": [
       "<div>\n",
       "<table border=\"1\" class=\"dataframe\">\n",
       "  <thead>\n",
       "    <tr style=\"text-align: right;\">\n",
       "      <th></th>\n",
       "      <th>offer</th>\n",
       "      <th>category</th>\n",
       "      <th>company</th>\n",
       "      <th>brand</th>\n",
       "      <th>offervalue</th>\n",
       "      <th>quantity</th>\n",
       "    </tr>\n",
       "  </thead>\n",
       "  <tbody>\n",
       "    <tr>\n",
       "      <th>26</th>\n",
       "      <td>1213242</td>\n",
       "      <td>5824</td>\n",
       "      <td>105190050</td>\n",
       "      <td>26456</td>\n",
       "      <td>2</td>\n",
       "      <td>1</td>\n",
       "    </tr>\n",
       "  </tbody>\n",
       "</table>\n",
       "</div>"
      ],
      "text/plain": [
       "      offer  category    company  brand  offervalue  quantity\n",
       "26  1213242      5824  105190050  26456           2         1"
      ]
     },
     "execution_count": 13,
     "metadata": {},
     "output_type": "execute_result"
    }
   ],
   "source": [
    "df_coupons[df_coupons.offer==1213242]"
   ]
  },
  {
   "cell_type": "code",
   "execution_count": 14,
   "metadata": {
    "collapsed": false
   },
   "outputs": [
    {
     "data": {
      "text/html": [
       "<div>\n",
       "<table border=\"1\" class=\"dataframe\">\n",
       "  <thead>\n",
       "    <tr style=\"text-align: right;\">\n",
       "      <th></th>\n",
       "      <th>customer_id</th>\n",
       "      <th>chain</th>\n",
       "      <th>offer</th>\n",
       "      <th>market</th>\n",
       "      <th>category</th>\n",
       "      <th>company</th>\n",
       "      <th>brand</th>\n",
       "      <th>offerdate</th>\n",
       "      <th>offervalue</th>\n",
       "      <th>quantity</th>\n",
       "      <th>repeattrips</th>\n",
       "      <th>repeater</th>\n",
       "    </tr>\n",
       "  </thead>\n",
       "  <tbody>\n",
       "    <tr>\n",
       "      <th>0</th>\n",
       "      <td>86246</td>\n",
       "      <td>205</td>\n",
       "      <td>1208251</td>\n",
       "      <td>34</td>\n",
       "      <td>2202</td>\n",
       "      <td>104460040</td>\n",
       "      <td>3718</td>\n",
       "      <td>2013-04-24</td>\n",
       "      <td>2</td>\n",
       "      <td>1</td>\n",
       "      <td>5</td>\n",
       "      <td>t</td>\n",
       "    </tr>\n",
       "    <tr>\n",
       "      <th>1</th>\n",
       "      <td>15753725</td>\n",
       "      <td>17</td>\n",
       "      <td>1208251</td>\n",
       "      <td>4</td>\n",
       "      <td>2202</td>\n",
       "      <td>104460040</td>\n",
       "      <td>3718</td>\n",
       "      <td>2013-04-24</td>\n",
       "      <td>2</td>\n",
       "      <td>1</td>\n",
       "      <td>0</td>\n",
       "      <td>f</td>\n",
       "    </tr>\n",
       "    <tr>\n",
       "      <th>2</th>\n",
       "      <td>16535563</td>\n",
       "      <td>4</td>\n",
       "      <td>1208251</td>\n",
       "      <td>1</td>\n",
       "      <td>2202</td>\n",
       "      <td>104460040</td>\n",
       "      <td>3718</td>\n",
       "      <td>2013-04-27</td>\n",
       "      <td>2</td>\n",
       "      <td>1</td>\n",
       "      <td>7</td>\n",
       "      <td>t</td>\n",
       "    </tr>\n",
       "    <tr>\n",
       "      <th>3</th>\n",
       "      <td>18259179</td>\n",
       "      <td>3</td>\n",
       "      <td>1208251</td>\n",
       "      <td>2</td>\n",
       "      <td>2202</td>\n",
       "      <td>104460040</td>\n",
       "      <td>3718</td>\n",
       "      <td>2013-04-24</td>\n",
       "      <td>2</td>\n",
       "      <td>1</td>\n",
       "      <td>0</td>\n",
       "      <td>f</td>\n",
       "    </tr>\n",
       "    <tr>\n",
       "      <th>4</th>\n",
       "      <td>21024070</td>\n",
       "      <td>15</td>\n",
       "      <td>1208251</td>\n",
       "      <td>9</td>\n",
       "      <td>2202</td>\n",
       "      <td>104460040</td>\n",
       "      <td>3718</td>\n",
       "      <td>2013-04-23</td>\n",
       "      <td>2</td>\n",
       "      <td>1</td>\n",
       "      <td>1</td>\n",
       "      <td>t</td>\n",
       "    </tr>\n",
       "  </tbody>\n",
       "</table>\n",
       "</div>"
      ],
      "text/plain": [
       "   customer_id  chain    offer  market  category    company  brand  \\\n",
       "0        86246    205  1208251      34      2202  104460040   3718   \n",
       "1     15753725     17  1208251       4      2202  104460040   3718   \n",
       "2     16535563      4  1208251       1      2202  104460040   3718   \n",
       "3     18259179      3  1208251       2      2202  104460040   3718   \n",
       "4     21024070     15  1208251       9      2202  104460040   3718   \n",
       "\n",
       "    offerdate  offervalue  quantity  repeattrips repeater  \n",
       "0  2013-04-24           2         1            5        t  \n",
       "1  2013-04-24           2         1            0        f  \n",
       "2  2013-04-27           2         1            7        t  \n",
       "3  2013-04-24           2         1            0        f  \n",
       "4  2013-04-23           2         1            1        t  "
      ]
     },
     "execution_count": 14,
     "metadata": {},
     "output_type": "execute_result"
    }
   ],
   "source": [
    "df_offers_all.head()"
   ]
  },
  {
   "cell_type": "code",
   "execution_count": 15,
   "metadata": {
    "collapsed": false
   },
   "outputs": [
    {
     "data": {
      "text/html": [
       "<div>\n",
       "<table border=\"1\" class=\"dataframe\">\n",
       "  <thead>\n",
       "    <tr style=\"text-align: right;\">\n",
       "      <th></th>\n",
       "      <th>customer_id</th>\n",
       "      <th>chain</th>\n",
       "      <th>dept</th>\n",
       "      <th>category</th>\n",
       "      <th>company</th>\n",
       "      <th>brand</th>\n",
       "      <th>date</th>\n",
       "      <th>productsize</th>\n",
       "      <th>productmeasure</th>\n",
       "      <th>purchasequantity</th>\n",
       "      <th>purchaseamount</th>\n",
       "    </tr>\n",
       "  </thead>\n",
       "  <tbody>\n",
       "    <tr>\n",
       "      <th>0</th>\n",
       "      <td>86246</td>\n",
       "      <td>205</td>\n",
       "      <td>99</td>\n",
       "      <td>9909</td>\n",
       "      <td>104538848</td>\n",
       "      <td>15343</td>\n",
       "      <td>2012-03-02</td>\n",
       "      <td>16.0</td>\n",
       "      <td>OZ</td>\n",
       "      <td>1</td>\n",
       "      <td>2.49</td>\n",
       "    </tr>\n",
       "    <tr>\n",
       "      <th>1</th>\n",
       "      <td>86246</td>\n",
       "      <td>205</td>\n",
       "      <td>58</td>\n",
       "      <td>5824</td>\n",
       "      <td>108674585</td>\n",
       "      <td>55172</td>\n",
       "      <td>2012-03-02</td>\n",
       "      <td>16.0</td>\n",
       "      <td>OZ</td>\n",
       "      <td>1</td>\n",
       "      <td>3.29</td>\n",
       "    </tr>\n",
       "    <tr>\n",
       "      <th>2</th>\n",
       "      <td>86246</td>\n",
       "      <td>205</td>\n",
       "      <td>72</td>\n",
       "      <td>7205</td>\n",
       "      <td>103500030</td>\n",
       "      <td>3830</td>\n",
       "      <td>2012-03-06</td>\n",
       "      <td>4.6</td>\n",
       "      <td>OZ</td>\n",
       "      <td>1</td>\n",
       "      <td>3.99</td>\n",
       "    </tr>\n",
       "    <tr>\n",
       "      <th>3</th>\n",
       "      <td>86246</td>\n",
       "      <td>205</td>\n",
       "      <td>55</td>\n",
       "      <td>5558</td>\n",
       "      <td>104154848</td>\n",
       "      <td>5603</td>\n",
       "      <td>2012-03-07</td>\n",
       "      <td>5.8</td>\n",
       "      <td>OZ</td>\n",
       "      <td>1</td>\n",
       "      <td>1.25</td>\n",
       "    </tr>\n",
       "    <tr>\n",
       "      <th>4</th>\n",
       "      <td>86246</td>\n",
       "      <td>205</td>\n",
       "      <td>58</td>\n",
       "      <td>5824</td>\n",
       "      <td>1076401474</td>\n",
       "      <td>304</td>\n",
       "      <td>2012-03-14</td>\n",
       "      <td>12.0</td>\n",
       "      <td>OZ</td>\n",
       "      <td>1</td>\n",
       "      <td>4.99</td>\n",
       "    </tr>\n",
       "  </tbody>\n",
       "</table>\n",
       "</div>"
      ],
      "text/plain": [
       "   customer_id  chain  dept  category     company  brand        date  \\\n",
       "0        86246    205    99      9909   104538848  15343  2012-03-02   \n",
       "1        86246    205    58      5824   108674585  55172  2012-03-02   \n",
       "2        86246    205    72      7205   103500030   3830  2012-03-06   \n",
       "3        86246    205    55      5558   104154848   5603  2012-03-07   \n",
       "4        86246    205    58      5824  1076401474    304  2012-03-14   \n",
       "\n",
       "   productsize productmeasure  purchasequantity  purchaseamount  \n",
       "0         16.0             OZ                 1            2.49  \n",
       "1         16.0             OZ                 1            3.29  \n",
       "2          4.6             OZ                 1            3.99  \n",
       "3          5.8             OZ                 1            1.25  \n",
       "4         12.0             OZ                 1            4.99  "
      ]
     },
     "execution_count": 15,
     "metadata": {},
     "output_type": "execute_result"
    }
   ],
   "source": [
    "df_trans_all.head()"
   ]
  },
  {
   "cell_type": "code",
   "execution_count": 16,
   "metadata": {
    "collapsed": false
   },
   "outputs": [
    {
     "name": "stderr",
     "output_type": "stream",
     "text": [
      "/root/.pyenv/versions/2.7.9/envs/2.7.9-analytics2/lib/python2.7/site-packages/ipykernel/__main__.py:1: FutureWarning: order is deprecated, use sort_values(...)\n",
      "  if __name__ == '__main__':\n",
      "/root/.pyenv/versions/2.7.9/envs/2.7.9-analytics2/lib/python2.7/site-packages/matplotlib/__init__.py:892: UserWarning: axes.color_cycle is deprecated and replaced with axes.prop_cycle; please use the latter.\n",
      "  warnings.warn(self.msg_depr % (key, alt_key))\n"
     ]
    },
    {
     "data": {
      "text/plain": [
       "<matplotlib.axes._subplots.AxesSubplot at 0x7f4130061d90>"
      ]
     },
     "execution_count": 16,
     "metadata": {},
     "output_type": "execute_result"
    },
    {
     "data": {
      "image/png": "[encoded data removed]",
      "text/plain": [
       "<matplotlib.figure.Figure at 0x7f4130396cd0>"
      ]
     },
     "metadata": {},
     "output_type": "display_data"
    }
   ],
   "source": [
    "offer_counts = df_offers_all.groupby(by='offer').count().customer_id.order(ascending=False)\n",
    "sns.barplot(y=offer_counts.index.values, x=offer_counts.values, orient='h')"
   ]
  },
  {
   "cell_type": "markdown",
   "metadata": {},
   "source": [
    "## FILTER DATA"
   ]
  },
  {
   "cell_type": "code",
   "execution_count": 17,
   "metadata": {
    "collapsed": false
   },
   "outputs": [],
   "source": [
    "df_trans = df_trans_all#[0:3000000]"
   ]
  },
  {
   "cell_type": "code",
   "execution_count": 18,
   "metadata": {
    "collapsed": false
   },
   "outputs": [],
   "source": [
    "df_offers_filtered = df_offers_all#[df_offers_all.offer==1197502]"
   ]
  },
  {
   "cell_type": "code",
   "execution_count": 19,
   "metadata": {
    "collapsed": false
   },
   "outputs": [
    {
     "data": {
      "text/plain": [
       "(310665, 15349956, 160057, 160057)"
      ]
     },
     "execution_count": 19,
     "metadata": {},
     "output_type": "execute_result"
    }
   ],
   "source": [
    "len(df_trans.customer_id.unique()), len(df_trans.customer_id),  len(df_offers_filtered.customer_id.unique()),len(df_offers_filtered.customer_id), "
   ]
  },
  {
   "cell_type": "markdown",
   "metadata": {},
   "source": [
    "## FEATURE EXTRACTION"
   ]
  },
  {
   "cell_type": "markdown",
   "metadata": {},
   "source": [
    "### AGGREGATE TRANSCATIONS"
   ]
  },
  {
   "cell_type": "code",
   "execution_count": 9,
   "metadata": {
    "collapsed": false
   },
   "outputs": [
    {
     "name": "stdout",
     "output_type": "stream",
     "text": [
      "['df_trans_grp_customer_brand.var', 'df_trans_grp_customer_category.var', 'df_trans_grp_customer_dept.var']\n",
      "loaded df_trans_grp_customer_brand\n",
      "loaded df_trans_grp_customer_category\n",
      "loaded df_trans_grp_customer_dept\n"
     ]
    }
   ],
   "source": [
    "load_variables(path=main_folder+'working_data');\n"
   ]
  },
  {
   "cell_type": "code",
   "execution_count": 7,
   "metadata": {
    "collapsed": false
   },
   "outputs": [
    {
     "data": {
      "text/plain": [
       "4182530"
      ]
     },
     "execution_count": 7,
     "metadata": {},
     "output_type": "execute_result"
    }
   ],
   "source": []
  },
  {
   "cell_type": "markdown",
   "metadata": {},
   "source": [
    "### MERGE FEATURES TO ONE TABLE"
   ]
  },
  {
   "cell_type": "code",
   "execution_count": 20,
   "metadata": {
    "collapsed": false
   },
   "outputs": [
    {
     "name": "stdout",
     "output_type": "stream",
     "text": [
      "160057\n"
     ]
    },
    {
     "data": {
      "text/html": [
       "<div>\n",
       "<table border=\"1\" class=\"dataframe\">\n",
       "  <thead>\n",
       "    <tr style=\"text-align: right;\">\n",
       "      <th></th>\n",
       "      <th>customer_id</th>\n",
       "      <th>chain</th>\n",
       "      <th>offer</th>\n",
       "      <th>market</th>\n",
       "      <th>category</th>\n",
       "      <th>company</th>\n",
       "      <th>brand</th>\n",
       "      <th>offerdate</th>\n",
       "      <th>offervalue</th>\n",
       "      <th>quantity</th>\n",
       "      <th>repeattrips</th>\n",
       "      <th>repeater</th>\n",
       "    </tr>\n",
       "  </thead>\n",
       "  <tbody>\n",
       "    <tr>\n",
       "      <th>0</th>\n",
       "      <td>86246</td>\n",
       "      <td>205</td>\n",
       "      <td>1208251</td>\n",
       "      <td>34</td>\n",
       "      <td>2202</td>\n",
       "      <td>104460040</td>\n",
       "      <td>3718</td>\n",
       "      <td>2013-04-24</td>\n",
       "      <td>2</td>\n",
       "      <td>1</td>\n",
       "      <td>5</td>\n",
       "      <td>t</td>\n",
       "    </tr>\n",
       "    <tr>\n",
       "      <th>1</th>\n",
       "      <td>15753725</td>\n",
       "      <td>17</td>\n",
       "      <td>1208251</td>\n",
       "      <td>4</td>\n",
       "      <td>2202</td>\n",
       "      <td>104460040</td>\n",
       "      <td>3718</td>\n",
       "      <td>2013-04-24</td>\n",
       "      <td>2</td>\n",
       "      <td>1</td>\n",
       "      <td>0</td>\n",
       "      <td>f</td>\n",
       "    </tr>\n",
       "    <tr>\n",
       "      <th>2</th>\n",
       "      <td>16535563</td>\n",
       "      <td>4</td>\n",
       "      <td>1208251</td>\n",
       "      <td>1</td>\n",
       "      <td>2202</td>\n",
       "      <td>104460040</td>\n",
       "      <td>3718</td>\n",
       "      <td>2013-04-27</td>\n",
       "      <td>2</td>\n",
       "      <td>1</td>\n",
       "      <td>7</td>\n",
       "      <td>t</td>\n",
       "    </tr>\n",
       "    <tr>\n",
       "      <th>3</th>\n",
       "      <td>18259179</td>\n",
       "      <td>3</td>\n",
       "      <td>1208251</td>\n",
       "      <td>2</td>\n",
       "      <td>2202</td>\n",
       "      <td>104460040</td>\n",
       "      <td>3718</td>\n",
       "      <td>2013-04-24</td>\n",
       "      <td>2</td>\n",
       "      <td>1</td>\n",
       "      <td>0</td>\n",
       "      <td>f</td>\n",
       "    </tr>\n",
       "    <tr>\n",
       "      <th>4</th>\n",
       "      <td>21024070</td>\n",
       "      <td>15</td>\n",
       "      <td>1208251</td>\n",
       "      <td>9</td>\n",
       "      <td>2202</td>\n",
       "      <td>104460040</td>\n",
       "      <td>3718</td>\n",
       "      <td>2013-04-23</td>\n",
       "      <td>2</td>\n",
       "      <td>1</td>\n",
       "      <td>1</td>\n",
       "      <td>t</td>\n",
       "    </tr>\n",
       "  </tbody>\n",
       "</table>\n",
       "</div>"
      ],
      "text/plain": [
       "   customer_id  chain    offer  market  category    company  brand  \\\n",
       "0        86246    205  1208251      34      2202  104460040   3718   \n",
       "1     15753725     17  1208251       4      2202  104460040   3718   \n",
       "2     16535563      4  1208251       1      2202  104460040   3718   \n",
       "3     18259179      3  1208251       2      2202  104460040   3718   \n",
       "4     21024070     15  1208251       9      2202  104460040   3718   \n",
       "\n",
       "    offerdate  offervalue  quantity  repeattrips repeater  \n",
       "0  2013-04-24           2         1            5        t  \n",
       "1  2013-04-24           2         1            0        f  \n",
       "2  2013-04-27           2         1            7        t  \n",
       "3  2013-04-24           2         1            0        f  \n",
       "4  2013-04-23           2         1            1        t  "
      ]
     },
     "execution_count": 20,
     "metadata": {},
     "output_type": "execute_result"
    }
   ],
   "source": [
    "print len(df_offers_all)\n",
    "df_offers_all.head()"
   ]
  },
  {
   "cell_type": "code",
   "execution_count": 21,
   "metadata": {
    "collapsed": false
   },
   "outputs": [
    {
     "name": "stdout",
     "output_type": "stream",
     "text": [
      "160057\n",
      "160057\n",
      "160057\n"
     ]
    }
   ],
   "source": [
    "df_offers_all_merge4 = merge_data(df_offers_all, how='left',\n",
    "                                  rights=[(df_trans_grp_customer_brand,['customer_id','brand']),\n",
    "                                          (df_trans_grp_customer_category,['customer_id', 'category']),\n",
    "#                                           (df_trans_grp_customer_dept,['customer_id'])\n",
    "                                         ])\n",
    "\n",
    "df_offers_all_merge4.fillna(0, inplace=True)"
   ]
  },
  {
   "cell_type": "code",
   "execution_count": 22,
   "metadata": {
    "collapsed": false
   },
   "outputs": [
    {
     "data": {
      "text/plain": [
       "(160057, 160057, 26)"
      ]
     },
     "execution_count": 22,
     "metadata": {},
     "output_type": "execute_result"
    }
   ],
   "source": [
    "len(df_offers_all), len(df_offers_all_merge4), len(df_offers_all_merge4.columns)"
   ]
  },
  {
   "cell_type": "code",
   "execution_count": 23,
   "metadata": {
    "collapsed": false
   },
   "outputs": [
    {
     "data": {
      "text/plain": [
       "array([  3718,  13474, 102504,   7668,  15889,    875,  13791,   5072,\n",
       "         6926,  64486,  28840,   6732])"
      ]
     },
     "execution_count": 23,
     "metadata": {},
     "output_type": "execute_result"
    }
   ],
   "source": [
    "df_offers_all_merge4.brand.unique()"
   ]
  },
  {
   "cell_type": "markdown",
   "metadata": {},
   "source": [
    "### CLEAR MEMORY"
   ]
  },
  {
   "cell_type": "code",
   "execution_count": null,
   "metadata": {
    "collapsed": false
   },
   "outputs": [],
   "source": [
    "# %reset_selective -f df_trans_all\n",
    "# %reset_selective -f df_trans"
   ]
  },
  {
   "cell_type": "markdown",
   "metadata": {},
   "source": [
    "## TRAIN MODEL"
   ]
  },
  {
   "cell_type": "code",
   "execution_count": 24,
   "metadata": {
    "collapsed": false
   },
   "outputs": [],
   "source": [
    "df_data_train = df_offers_all_merge4"
   ]
  },
  {
   "cell_type": "code",
   "execution_count": 25,
   "metadata": {
    "collapsed": false
   },
   "outputs": [
    {
     "data": {
      "text/plain": [
       "Index([u'customer_id', u'chain', u'offer', u'market', u'category', u'company',\n",
       "       u'brand', u'offerdate', u'offervalue', u'quantity', u'repeattrips',\n",
       "       u'repeater', u'agg_productsize_customer_id_brand_average',\n",
       "       u'agg_productsize_customer_id_brand_total',\n",
       "       u'agg_customer_id_customer_id_brand_count',\n",
       "       u'agg_purchaseamount_customer_id_brand_average',\n",
       "       u'agg_purchaseamount_customer_id_brand_total',\n",
       "       u'agg_purchasequantity_customer_id_brand_average',\n",
       "       u'agg_purchasequantity_customer_id_brand_total',\n",
       "       u'agg_productsize_customer_id_category_total',\n",
       "       u'agg_productsize_customer_id_category_average',\n",
       "       u'agg_customer_id_customer_id_category_count',\n",
       "       u'agg_purchaseamount_customer_id_category_total',\n",
       "       u'agg_purchaseamount_customer_id_category_average',\n",
       "       u'agg_purchasequantity_customer_id_category_total',\n",
       "       u'agg_purchasequantity_customer_id_category_average'],\n",
       "      dtype='object')"
      ]
     },
     "execution_count": 25,
     "metadata": {},
     "output_type": "execute_result"
    }
   ],
   "source": [
    "df_data_train.columns"
   ]
  },
  {
   "cell_type": "code",
   "execution_count": 26,
   "metadata": {
    "collapsed": false
   },
   "outputs": [
    {
     "data": {
      "text/plain": [
       "105051"
      ]
     },
     "execution_count": 26,
     "metadata": {},
     "output_type": "execute_result"
    }
   ],
   "source": [
    "df_data_train.repeattrips.sum()"
   ]
  },
  {
   "cell_type": "code",
   "execution_count": 27,
   "metadata": {
    "collapsed": false
   },
   "outputs": [],
   "source": [
    "categorical_cols = ['chain','market','category','company','brand']\n",
    "agg_cols = filter(lambda c: re.match(\"agg_*\",c), df_data_train.columns)\n",
    "num_cols = ['offervalue','quantity']\n"
   ]
  },
  {
   "cell_type": "code",
   "execution_count": 37,
   "metadata": {
    "collapsed": false
   },
   "outputs": [],
   "source": [
    "df_X = df_data_train.filter(items=categorical_cols+agg_cols+num_cols) \n",
    "columns_to_type(df_X, categorical_cols, 'category')\n",
    "\n",
    "df_Y = df_data_train[['repeater']]\n",
    "Y = df_Y.repeater.map(lambda v: v=='t')\n",
    "Y_svm = Y.map(lambda v: 1 if v else -1)\n",
    "W = df_data_train.repeattrips.replace(to_replace=0, value=1).values"
   ]
  },
  {
   "cell_type": "code",
   "execution_count": 29,
   "metadata": {
    "collapsed": false
   },
   "outputs": [
    {
     "data": {
      "text/plain": [
       "Index([u'chain', u'market', u'category', u'company', u'brand',\n",
       "       u'agg_productsize_customer_id_brand_average',\n",
       "       u'agg_productsize_customer_id_brand_total',\n",
       "       u'agg_customer_id_customer_id_brand_count',\n",
       "       u'agg_purchaseamount_customer_id_brand_average',\n",
       "       u'agg_purchaseamount_customer_id_brand_total',\n",
       "       u'agg_purchasequantity_customer_id_brand_average',\n",
       "       u'agg_purchasequantity_customer_id_brand_total',\n",
       "       u'agg_productsize_customer_id_category_total',\n",
       "       u'agg_productsize_customer_id_category_average',\n",
       "       u'agg_customer_id_customer_id_category_count',\n",
       "       u'agg_purchaseamount_customer_id_category_total',\n",
       "       u'agg_purchaseamount_customer_id_category_average',\n",
       "       u'agg_purchasequantity_customer_id_category_total',\n",
       "       u'agg_purchasequantity_customer_id_category_average', u'offervalue',\n",
       "       u'quantity'],\n",
       "      dtype='object')"
      ]
     },
     "execution_count": 29,
     "metadata": {},
     "output_type": "execute_result"
    }
   ],
   "source": [
    "df_X.columns"
   ]
  },
  {
   "cell_type": "code",
   "execution_count": 30,
   "metadata": {
    "collapsed": false
   },
   "outputs": [
    {
     "name": "stdout",
     "output_type": "stream",
     "text": [
      "19 21\n",
      "160057 160057\n"
     ]
    }
   ],
   "source": [
    "print len(categorical_cols+agg_cols), len(df_X.columns)\n",
    "print len(df_X),len(df_Y)"
   ]
  },
  {
   "cell_type": "markdown",
   "metadata": {},
   "source": [
    "### BUILD INTERACTIONS FEATURES"
   ]
  },
  {
   "cell_type": "code",
   "execution_count": null,
   "metadata": {
    "collapsed": false
   },
   "outputs": [],
   "source": [
    "col_name_pattern = lambda prefix,infix: \"%s.*%s.*\" % (prefix,infix)\n",
    "\n",
    "filter_array = lambda pattern, array: filter(lambda c: re.match(pattern,c), array)\n",
    "def get_expr(members, operator):\n",
    "    if not isinstance(members,list):\n",
    "        members = [members]\n",
    "    return ''.join(['(', operator.join(members), ')']) if len(members) > 0 else ''\n",
    "\n",
    "# agg_col_name_pattern = partial(col_name_pattern, 'agg')\n",
    "plus_expr = partial(get_expr, operator='+')\n",
    "# plus_agg_columns_by_infix1 = lambda infix: plus_expr(filter_columns(agg_col_name_pattern(infix)))\n",
    "plus_agg_columns_by_infix = lambda infix, columns: get_expr(filter_array(col_name_pattern('agg',infix), columns),'+')\n"
   ]
  },
  {
   "cell_type": "code",
   "execution_count": null,
   "metadata": {
    "collapsed": false
   },
   "outputs": [],
   "source": [
    "brand_interactions = \"%s:%s\" % (plus_agg_columns_by_infix('brand',agg_cols),  plus_expr('brand'))\n",
    "brand_interactions = \"%s:%s\" % (plus_agg_columns_by_infix('category',agg_cols),  plus_expr('category'))\n"
   ]
  },
  {
   "cell_type": "markdown",
   "metadata": {},
   "source": [
    "### SPLIT TRAIN-TEST"
   ]
  },
  {
   "cell_type": "code",
   "execution_count": 39,
   "metadata": {
    "collapsed": false,
    "scrolled": true
   },
   "outputs": [
    {
     "data": {
      "text/plain": [
       "(120042, 40015)"
      ]
     },
     "execution_count": 39,
     "metadata": {},
     "output_type": "execute_result"
    }
   ],
   "source": [
    "df_X_train, df_X_test, Y_train, Y_test, Y_svm_train, Y_svm_test, W_train, W_test = train_test_split(df_X, Y, Y_svm, W)\n",
    "len(df_X_train),len(df_X_test)\n"
   ]
  },
  {
   "cell_type": "markdown",
   "metadata": {},
   "source": [
    "### BUILD PIPELINE"
   ]
  },
  {
   "cell_type": "code",
   "execution_count": 74,
   "metadata": {
    "collapsed": true
   },
   "outputs": [],
   "source": [
    "cache_size=10*1000"
   ]
  },
  {
   "cell_type": "code",
   "execution_count": 40,
   "metadata": {
    "collapsed": false
   },
   "outputs": [],
   "source": [
    "mapper = DataFrameMapper([\n",
    "        (col, sk.preprocessing.LabelBinarizer()) for col in categorical_cols] \n",
    "      + [(agg_cols+num_cols, None)])\n",
    "\n",
    "prepare_pipeline = make_pipeline(mapper,\n",
    "                        PolynomialFeatures(degree=1, interaction_only=True),                         \n",
    "                        preprocessing.StandardScaler()\n",
    "                        ) \n"
   ]
  },
  {
   "cell_type": "code",
   "execution_count": 41,
   "metadata": {
    "collapsed": false
   },
   "outputs": [],
   "source": [
    "fit_pipeline_LR1 = make_pipeline(prepare_pipeline,\n",
    "                             lm.LogisticRegression(C=0.01, penalty='l1'))     \n",
    "# class_weight=W_train"
   ]
  },
  {
   "cell_type": "code",
   "execution_count": 42,
   "metadata": {
    "collapsed": true
   },
   "outputs": [],
   "source": [
    "fit_pipeline_SGD1 = make_pipeline(prepare_pipeline,\n",
    "                                 lm.SGDClassifier(loss=\"hinge\", penalty=\"l1\", alpha=0.01))"
   ]
  },
  {
   "cell_type": "code",
   "execution_count": 44,
   "metadata": {
    "collapsed": true
   },
   "outputs": [],
   "source": [
    "fit_pipeline_SVC1 = make_pipeline(prepare_pipeline,\n",
    "                                 SVC(cache_size=cache_size, C=0.01))\n",
    "\n",
    "transform_pipeline_SVC2 = prepare_pipeline\n",
    "SVC2 = SVC(cache_size=cache_size, C=0.01)\n",
    "\n",
    "\n"
   ]
  },
  {
   "cell_type": "code",
   "execution_count": 76,
   "metadata": {
    "collapsed": false
   },
   "outputs": [
    {
     "data": {
      "text/plain": [
       "<bound method SVC.decision_function of SVC(C=1.0, cache_size=200, class_weight=None, coef0=0.0,\n",
       "  decision_function_shape=None, degree=3, gamma='auto', kernel='rbf',\n",
       "  max_iter=-1, probability=False, random_state=None, shrinking=True,\n",
       "  tol=0.001, verbose=False)>"
      ]
     },
     "execution_count": 76,
     "metadata": {},
     "output_type": "execute_result"
    }
   ],
   "source": [
    "SVC2.decision_function"
   ]
  },
  {
   "cell_type": "code",
   "execution_count": 78,
   "metadata": {
    "collapsed": false
   },
   "outputs": [],
   "source": [
    "nuSVC1 = NuSVC(cache_size=cache_size, kernel='poly', degree=2, decision_function_shape='ovr', verbose=True)\n",
    "\n",
    "# LinearSVC(penalty='l1',C=0.01)"
   ]
  },
  {
   "cell_type": "markdown",
   "metadata": {},
   "source": [
    "### FIT MODEL"
   ]
  },
  {
   "cell_type": "code",
   "execution_count": null,
   "metadata": {
    "collapsed": false
   },
   "outputs": [],
   "source": [
    "mapper.fit_transform(df_X).shape"
   ]
  },
  {
   "cell_type": "code",
   "execution_count": null,
   "metadata": {
    "collapsed": true
   },
   "outputs": [],
   "source": [
    "# df_X_transf = prepare_pipeline.fit_transform(df_X_train)\n",
    "# len(df_X_transf[1]),len(df_X_transf), len(Y)"
   ]
  },
  {
   "cell_type": "code",
   "execution_count": null,
   "metadata": {
    "collapsed": false
   },
   "outputs": [],
   "source": [
    "fit_pipeline_LR1.fit(df_X_train, y=Y_train)\n",
    "print 'score in-sample: ' + str(fit_pipeline_LR1.score(df_X_train, y=Y_train))"
   ]
  },
  {
   "cell_type": "code",
   "execution_count": null,
   "metadata": {
    "collapsed": false
   },
   "outputs": [],
   "source": [
    "logreg = fit_pipeline_LR1.named_steps['logisticregression']\n",
    "logreg.classes_\n",
    "sum(logreg.coef_[0,:])"
   ]
  },
  {
   "cell_type": "code",
   "execution_count": null,
   "metadata": {
    "collapsed": false
   },
   "outputs": [],
   "source": [
    "fit_pipeline_LR1.decision_function(df_X_test)"
   ]
  },
  {
   "cell_type": "markdown",
   "metadata": {},
   "source": [
    "### CROSSVALIDATION"
   ]
  },
  {
   "cell_type": "code",
   "execution_count": null,
   "metadata": {
    "collapsed": false
   },
   "outputs": [],
   "source": [
    "scores = cv.cross_val_score(fit_pipeline_LR1, df_X_train, Y_train,cv=5, scoring='accuracy')\n",
    "print scores\n",
    "print(\"Accuracy: %0.2f (+/- %0.2f)\" % (scores.mean(), scores.std() * 2))\n",
    "\n",
    "# X_test = prepare_pipeline.transform(X_test)\n",
    "# print 'Test accuracy: %0.2f' % fit_pipeline.score(X_test, Y_test\n"
   ]
  },
  {
   "cell_type": "code",
   "execution_count": null,
   "metadata": {
    "collapsed": false
   },
   "outputs": [],
   "source": [
    "run_crossval(df_X_train, Y_train, fit_pipeline_LR1)"
   ]
  },
  {
   "cell_type": "code",
   "execution_count": null,
   "metadata": {
    "collapsed": false
   },
   "outputs": [],
   "source": [
    "W_train"
   ]
  },
  {
   "cell_type": "markdown",
   "metadata": {},
   "source": [
    "### TEST"
   ]
  },
  {
   "cell_type": "code",
   "execution_count": null,
   "metadata": {
    "collapsed": true
   },
   "outputs": [],
   "source": []
  },
  {
   "cell_type": "code",
   "execution_count": 45,
   "metadata": {
    "collapsed": false
   },
   "outputs": [],
   "source": [
    "model_SVC2 = SVC2.fit(transform_pipeline_SVC2.fit_transform(df_X_train), y=Y_svm_train, sample_weight=W_train)\n",
    "\n",
    "model_SGD1 = fit_pipeline_SGD1.fit(df_X_train, y=Y_svm_train)\n",
    "model_LR1 = fit_pipeline_LR1.fit(df_X_train, y=Y_train)\n",
    "model_SVC1 = fit_pipeline_SVC1.fit(df_X_train, y=Y_svm_train)"
   ]
  },
  {
   "cell_type": "code",
   "execution_count": 80,
   "metadata": {
    "collapsed": false
   },
   "outputs": [
    {
     "name": "stdout",
     "output_type": "stream",
     "text": [
      "[LibSVM]"
     ]
    }
   ],
   "source": [
    "model_NuSVC1 = nuSVC1.fit(prepare_pipeline.fit_transform(df_X_train), y=Y_svm_train, sample_weight=W_train)"
   ]
  },
  {
   "cell_type": "code",
   "execution_count": 46,
   "metadata": {
    "collapsed": false
   },
   "outputs": [
    {
     "data": {
      "image/png": "[encoded data removed]",
      "text/plain": [
       "<matplotlib.figure.Figure at 0x7f412baaad50>"
      ]
     },
     "metadata": {},
     "output_type": "display_data"
    },
    {
     "data": {
      "image/png": "[encoded data removed]",
      "text/plain": [
       "<matplotlib.figure.Figure at 0x7f412b95dd10>"
      ]
     },
     "metadata": {},
     "output_type": "display_data"
    },
    {
     "data": {
      "image/png": "[encoded data removed]",
      "text/plain": [
       "<matplotlib.figure.Figure at 0x7f412b884cd0>"
      ]
     },
     "metadata": {},
     "output_type": "display_data"
    },
    {
     "data": {
      "image/png": "[encoded data removed]",
      "text/plain": [
       "<matplotlib.figure.Figure at 0x7f412b954190>"
      ]
     },
     "metadata": {},
     "output_type": "display_data"
    }
   ],
   "source": [
    "probas_LR1 = model_LR1.decision_function(df_X_test)\n",
    "plot_auc(Y_test, probas_LR1)\n",
    " \n",
    "probas_SGD1 = model_SGD1.decision_function(df_X_test)\n",
    "plot_auc(Y_test, probas_SGD1)\n",
    "\n",
    "probas_SVC1 = model_SVC1.decision_function(df_X_test)\n",
    "plot_auc(Y_test, probas_SVC1)\n",
    "\n",
    "probas_SVC2 = model_SVC2.decision_function(transform_pipeline_SVC2.transform(df_X_test))\n",
    "plot_auc(Y_test, probas_SVC2)"
   ]
  },
  {
   "cell_type": "code",
   "execution_count": 81,
   "metadata": {
    "collapsed": false
   },
   "outputs": [
    {
     "data": {
      "image/png": "[encoded data removed]",
      "text/plain": [
       "<matplotlib.figure.Figure at 0x7f412b954710>"
      ]
     },
     "metadata": {},
     "output_type": "display_data"
    }
   ],
   "source": [
    "probas_nuSVC1 = model_NuSVC1.decision_function(prepare_pipeline.transform(df_X_test))\n",
    "plot_auc(Y_test, probas_nuSVC1)"
   ]
  },
  {
   "cell_type": "code",
   "execution_count": 93,
   "metadata": {
    "collapsed": false
   },
   "outputs": [
    {
     "name": "stdout",
     "output_type": "stream",
     "text": [
      "(40015,)\n"
     ]
    },
    {
     "data": {
      "text/plain": [
       "(69023,)"
      ]
     },
     "execution_count": 93,
     "metadata": {},
     "output_type": "execute_result"
    }
   ],
   "source": [
    "print probas_nuSVC1.shape\n",
    "model_NuSVC1.support_.shape"
   ]
  },
  {
   "cell_type": "markdown",
   "metadata": {},
   "source": [
    "## TEST ON KAGGLE"
   ]
  },
  {
   "cell_type": "markdown",
   "metadata": {},
   "source": [
    "### FIT MODEL ON ALL DATA"
   ]
  },
  {
   "cell_type": "code",
   "execution_count": null,
   "metadata": {
    "collapsed": false
   },
   "outputs": [],
   "source": [
    "fit_pipeline_LR1.fit(df_X_train, y=Y_train)\n",
    "print 'score in-sample: ' + str(fit_pipeline_LR1.score(df_X_train, y=Y_train))"
   ]
  },
  {
   "cell_type": "markdown",
   "metadata": {},
   "source": [
    "### PREPARA DATA FOR PREDICTION"
   ]
  },
  {
   "cell_type": "code",
   "execution_count": 94,
   "metadata": {
    "collapsed": false
   },
   "outputs": [
    {
     "data": {
      "text/html": [
       "<div>\n",
       "<table border=\"1\" class=\"dataframe\">\n",
       "  <thead>\n",
       "    <tr style=\"text-align: right;\">\n",
       "      <th></th>\n",
       "      <th>customer_id</th>\n",
       "      <th>chain</th>\n",
       "      <th>offer</th>\n",
       "      <th>market</th>\n",
       "      <th>category</th>\n",
       "      <th>company</th>\n",
       "      <th>brand</th>\n",
       "      <th>offerdate</th>\n",
       "      <th>offervalue</th>\n",
       "      <th>quantity</th>\n",
       "    </tr>\n",
       "  </thead>\n",
       "  <tbody>\n",
       "    <tr>\n",
       "      <th>0</th>\n",
       "      <td>12262064</td>\n",
       "      <td>95</td>\n",
       "      <td>1219903</td>\n",
       "      <td>39</td>\n",
       "      <td>799</td>\n",
       "      <td>1076211171</td>\n",
       "      <td>17286</td>\n",
       "      <td>2013-06-27</td>\n",
       "      <td>1.5</td>\n",
       "      <td>1</td>\n",
       "    </tr>\n",
       "    <tr>\n",
       "      <th>1</th>\n",
       "      <td>15575309</td>\n",
       "      <td>17</td>\n",
       "      <td>1219903</td>\n",
       "      <td>4</td>\n",
       "      <td>799</td>\n",
       "      <td>1076211171</td>\n",
       "      <td>17286</td>\n",
       "      <td>2013-07-05</td>\n",
       "      <td>1.5</td>\n",
       "      <td>1</td>\n",
       "    </tr>\n",
       "    <tr>\n",
       "      <th>2</th>\n",
       "      <td>18985721</td>\n",
       "      <td>4</td>\n",
       "      <td>1219903</td>\n",
       "      <td>1</td>\n",
       "      <td>799</td>\n",
       "      <td>1076211171</td>\n",
       "      <td>17286</td>\n",
       "      <td>2013-07-15</td>\n",
       "      <td>1.5</td>\n",
       "      <td>1</td>\n",
       "    </tr>\n",
       "    <tr>\n",
       "      <th>3</th>\n",
       "      <td>20552767</td>\n",
       "      <td>14</td>\n",
       "      <td>1219903</td>\n",
       "      <td>8</td>\n",
       "      <td>799</td>\n",
       "      <td>1076211171</td>\n",
       "      <td>17286</td>\n",
       "      <td>2013-06-29</td>\n",
       "      <td>1.5</td>\n",
       "      <td>1</td>\n",
       "    </tr>\n",
       "    <tr>\n",
       "      <th>4</th>\n",
       "      <td>21323129</td>\n",
       "      <td>4</td>\n",
       "      <td>1219903</td>\n",
       "      <td>1</td>\n",
       "      <td>799</td>\n",
       "      <td>1076211171</td>\n",
       "      <td>17286</td>\n",
       "      <td>2013-06-28</td>\n",
       "      <td>1.5</td>\n",
       "      <td>1</td>\n",
       "    </tr>\n",
       "  </tbody>\n",
       "</table>\n",
       "</div>"
      ],
      "text/plain": [
       "   customer_id  chain    offer  market  category     company  brand  \\\n",
       "0     12262064     95  1219903      39       799  1076211171  17286   \n",
       "1     15575309     17  1219903       4       799  1076211171  17286   \n",
       "2     18985721      4  1219903       1       799  1076211171  17286   \n",
       "3     20552767     14  1219903       8       799  1076211171  17286   \n",
       "4     21323129      4  1219903       1       799  1076211171  17286   \n",
       "\n",
       "    offerdate  offervalue  quantity  \n",
       "0  2013-06-27         1.5         1  \n",
       "1  2013-07-05         1.5         1  \n",
       "2  2013-07-15         1.5         1  \n",
       "3  2013-06-29         1.5         1  \n",
       "4  2013-06-28         1.5         1  "
      ]
     },
     "execution_count": 94,
     "metadata": {},
     "output_type": "execute_result"
    }
   ],
   "source": [
    "df_offers_all_submission.head()"
   ]
  },
  {
   "cell_type": "code",
   "execution_count": 95,
   "metadata": {
    "collapsed": false
   },
   "outputs": [
    {
     "name": "stdout",
     "output_type": "stream",
     "text": [
      "151484\n",
      "151484\n",
      "151484\n"
     ]
    }
   ],
   "source": [
    "df_offers_all_submission_merge4 = merge_data(df_offers_all_submission, how='left',\n",
    "                                             rights=[(df_trans_grp_customer_brand,['customer_id','brand']),\n",
    "                                                     (df_trans_grp_customer_category,['customer_id', 'category']),\n",
    "#                                                      (df_trans_grp_customer_dept,['customer_id'])\n",
    "                                                    ])\n",
    "df_offers_all_submission_merge4.fillna(0, inplace=True)"
   ]
  },
  {
   "cell_type": "code",
   "execution_count": 96,
   "metadata": {
    "collapsed": false
   },
   "outputs": [
    {
     "data": {
      "text/plain": [
       "(151484, 151484)"
      ]
     },
     "execution_count": 96,
     "metadata": {},
     "output_type": "execute_result"
    }
   ],
   "source": [
    "len(df_offers_all_submission_merge4), len(df_offers_all_submission.customer_id.unique())"
   ]
  },
  {
   "cell_type": "code",
   "execution_count": 97,
   "metadata": {
    "collapsed": false
   },
   "outputs": [
    {
     "data": {
      "text/html": [
       "<div>\n",
       "<table border=\"1\" class=\"dataframe\">\n",
       "  <thead>\n",
       "    <tr style=\"text-align: right;\">\n",
       "      <th></th>\n",
       "      <th>customer_id</th>\n",
       "      <th>chain</th>\n",
       "      <th>offer</th>\n",
       "      <th>market</th>\n",
       "      <th>category</th>\n",
       "      <th>company</th>\n",
       "      <th>brand</th>\n",
       "      <th>offerdate</th>\n",
       "      <th>offervalue</th>\n",
       "      <th>quantity</th>\n",
       "      <th>...</th>\n",
       "      <th>agg_purchaseamount_customer_id_brand_total</th>\n",
       "      <th>agg_purchasequantity_customer_id_brand_average</th>\n",
       "      <th>agg_purchasequantity_customer_id_brand_total</th>\n",
       "      <th>agg_productsize_customer_id_category_total</th>\n",
       "      <th>agg_productsize_customer_id_category_average</th>\n",
       "      <th>agg_customer_id_customer_id_category_count</th>\n",
       "      <th>agg_purchaseamount_customer_id_category_total</th>\n",
       "      <th>agg_purchaseamount_customer_id_category_average</th>\n",
       "      <th>agg_purchasequantity_customer_id_category_total</th>\n",
       "      <th>agg_purchasequantity_customer_id_category_average</th>\n",
       "    </tr>\n",
       "  </thead>\n",
       "  <tbody>\n",
       "    <tr>\n",
       "      <th>0</th>\n",
       "      <td>12262064</td>\n",
       "      <td>95</td>\n",
       "      <td>1219903</td>\n",
       "      <td>39</td>\n",
       "      <td>799</td>\n",
       "      <td>1076211171</td>\n",
       "      <td>17286</td>\n",
       "      <td>2013-06-27</td>\n",
       "      <td>1.5</td>\n",
       "      <td>1</td>\n",
       "      <td>...</td>\n",
       "      <td>6.79</td>\n",
       "      <td>1.5</td>\n",
       "      <td>3</td>\n",
       "      <td>0</td>\n",
       "      <td>0</td>\n",
       "      <td>0</td>\n",
       "      <td>0</td>\n",
       "      <td>0</td>\n",
       "      <td>0</td>\n",
       "      <td>0</td>\n",
       "    </tr>\n",
       "  </tbody>\n",
       "</table>\n",
       "<p>1 rows × 24 columns</p>\n",
       "</div>"
      ],
      "text/plain": [
       "   customer_id  chain    offer  market  category     company  brand  \\\n",
       "0     12262064     95  1219903      39       799  1076211171  17286   \n",
       "\n",
       "    offerdate  offervalue  quantity  \\\n",
       "0  2013-06-27         1.5         1   \n",
       "\n",
       "                         ...                          \\\n",
       "0                        ...                           \n",
       "\n",
       "   agg_purchaseamount_customer_id_brand_total  \\\n",
       "0                                        6.79   \n",
       "\n",
       "   agg_purchasequantity_customer_id_brand_average  \\\n",
       "0                                             1.5   \n",
       "\n",
       "   agg_purchasequantity_customer_id_brand_total  \\\n",
       "0                                             3   \n",
       "\n",
       "   agg_productsize_customer_id_category_total  \\\n",
       "0                                           0   \n",
       "\n",
       "   agg_productsize_customer_id_category_average  \\\n",
       "0                                             0   \n",
       "\n",
       "   agg_customer_id_customer_id_category_count  \\\n",
       "0                                           0   \n",
       "\n",
       "   agg_purchaseamount_customer_id_category_total  \\\n",
       "0                                              0   \n",
       "\n",
       "   agg_purchaseamount_customer_id_category_average  \\\n",
       "0                                                0   \n",
       "\n",
       "   agg_purchasequantity_customer_id_category_total  \\\n",
       "0                                                0   \n",
       "\n",
       "   agg_purchasequantity_customer_id_category_average  \n",
       "0                                                  0  \n",
       "\n",
       "[1 rows x 24 columns]"
      ]
     },
     "execution_count": 97,
     "metadata": {},
     "output_type": "execute_result"
    }
   ],
   "source": [
    "df_offers_all_submission_merge4[df_offers_all_submission_merge4.customer_id==12262064]"
   ]
  },
  {
   "cell_type": "code",
   "execution_count": 98,
   "metadata": {
    "collapsed": false
   },
   "outputs": [
    {
     "data": {
      "text/plain": [
       "Index([u'customer_id', u'chain', u'offer', u'market', u'category', u'company',\n",
       "       u'brand', u'offerdate', u'offervalue', u'quantity',\n",
       "       u'agg_productsize_customer_id_brand_average',\n",
       "       u'agg_productsize_customer_id_brand_total',\n",
       "       u'agg_customer_id_customer_id_brand_count',\n",
       "       u'agg_purchaseamount_customer_id_brand_average',\n",
       "       u'agg_purchaseamount_customer_id_brand_total',\n",
       "       u'agg_purchasequantity_customer_id_brand_average',\n",
       "       u'agg_purchasequantity_customer_id_brand_total',\n",
       "       u'agg_productsize_customer_id_category_total',\n",
       "       u'agg_productsize_customer_id_category_average',\n",
       "       u'agg_customer_id_customer_id_category_count',\n",
       "       u'agg_purchaseamount_customer_id_category_total',\n",
       "       u'agg_purchaseamount_customer_id_category_average',\n",
       "       u'agg_purchasequantity_customer_id_category_total',\n",
       "       u'agg_purchasequantity_customer_id_category_average'],\n",
       "      dtype='object')"
      ]
     },
     "execution_count": 98,
     "metadata": {},
     "output_type": "execute_result"
    }
   ],
   "source": [
    "df_offers_all_submission_merge4.columns"
   ]
  },
  {
   "cell_type": "code",
   "execution_count": 99,
   "metadata": {
    "collapsed": true
   },
   "outputs": [],
   "source": [
    "df_X_submission = df_offers_all_submission_merge4.filter(items=categorical_cols+agg_cols+num_cols) \n",
    "columns_to_type(df_X_submission, categorical_cols, 'category')\n"
   ]
  },
  {
   "cell_type": "code",
   "execution_count": 100,
   "metadata": {
    "collapsed": false,
    "scrolled": true
   },
   "outputs": [
    {
     "data": {
      "text/plain": [
       "Index([u'chain', u'market', u'category', u'company', u'brand',\n",
       "       u'agg_productsize_customer_id_brand_average',\n",
       "       u'agg_productsize_customer_id_brand_total',\n",
       "       u'agg_customer_id_customer_id_brand_count',\n",
       "       u'agg_purchaseamount_customer_id_brand_average',\n",
       "       u'agg_purchaseamount_customer_id_brand_total',\n",
       "       u'agg_purchasequantity_customer_id_brand_average',\n",
       "       u'agg_purchasequantity_customer_id_brand_total',\n",
       "       u'agg_productsize_customer_id_category_total',\n",
       "       u'agg_productsize_customer_id_category_average',\n",
       "       u'agg_customer_id_customer_id_category_count',\n",
       "       u'agg_purchaseamount_customer_id_category_total',\n",
       "       u'agg_purchaseamount_customer_id_category_average',\n",
       "       u'agg_purchasequantity_customer_id_category_total',\n",
       "       u'agg_purchasequantity_customer_id_category_average', u'offervalue',\n",
       "       u'quantity'],\n",
       "      dtype='object')"
      ]
     },
     "execution_count": 100,
     "metadata": {},
     "output_type": "execute_result"
    }
   ],
   "source": [
    "df_X_submission.columns"
   ]
  },
  {
   "cell_type": "code",
   "execution_count": 101,
   "metadata": {
    "collapsed": false
   },
   "outputs": [],
   "source": [
    "probas_ = model_NuSVC1.decision_function(prepare_pipeline.transform(df_X_submission))\n",
    "# probas_ = model_SVC1.decision_function(df_X_submission).astype(float)"
   ]
  },
  {
   "cell_type": "code",
   "execution_count": 102,
   "metadata": {
    "collapsed": false
   },
   "outputs": [
    {
     "data": {
      "text/plain": [
       "array([-2.64151091, -1.89283586, -1.76609674, ...,  0.81850498,\n",
       "        3.15089218,  3.91115224])"
      ]
     },
     "execution_count": 102,
     "metadata": {},
     "output_type": "execute_result"
    }
   ],
   "source": [
    "len(probas_)\n",
    "probas_"
   ]
  },
  {
   "cell_type": "code",
   "execution_count": 103,
   "metadata": {
    "collapsed": false
   },
   "outputs": [
    {
     "data": {
      "text/plain": [
       "(-365475.01811362128, -365475.01811362128)"
      ]
     },
     "execution_count": 103,
     "metadata": {},
     "output_type": "execute_result"
    }
   ],
   "source": [
    "sum(probas_),sum(probas_)"
   ]
  },
  {
   "cell_type": "code",
   "execution_count": 104,
   "metadata": {
    "collapsed": false
   },
   "outputs": [
    {
     "data": {
      "text/html": [
       "<div>\n",
       "<table border=\"1\" class=\"dataframe\">\n",
       "  <thead>\n",
       "    <tr style=\"text-align: right;\">\n",
       "      <th></th>\n",
       "      <th>id</th>\n",
       "      <th>repeatProbability</th>\n",
       "    </tr>\n",
       "  </thead>\n",
       "  <tbody>\n",
       "    <tr>\n",
       "      <th>0</th>\n",
       "      <td>12262064</td>\n",
       "      <td>-2.641511</td>\n",
       "    </tr>\n",
       "    <tr>\n",
       "      <th>1</th>\n",
       "      <td>15575309</td>\n",
       "      <td>-1.892836</td>\n",
       "    </tr>\n",
       "    <tr>\n",
       "      <th>2</th>\n",
       "      <td>18985721</td>\n",
       "      <td>-1.766097</td>\n",
       "    </tr>\n",
       "    <tr>\n",
       "      <th>3</th>\n",
       "      <td>20552767</td>\n",
       "      <td>-1.799203</td>\n",
       "    </tr>\n",
       "    <tr>\n",
       "      <th>4</th>\n",
       "      <td>21323129</td>\n",
       "      <td>-1.967648</td>\n",
       "    </tr>\n",
       "  </tbody>\n",
       "</table>\n",
       "</div>"
      ],
      "text/plain": [
       "         id  repeatProbability\n",
       "0  12262064          -2.641511\n",
       "1  15575309          -1.892836\n",
       "2  18985721          -1.766097\n",
       "3  20552767          -1.799203\n",
       "4  21323129          -1.967648"
      ]
     },
     "execution_count": 104,
     "metadata": {},
     "output_type": "execute_result"
    }
   ],
   "source": [
    "df_submission = df_offers_all_submission.customer_id.to_frame(name='id')\n",
    "df_submission['repeatProbability'] = probas_.tolist()\n",
    "df_submission.head()"
   ]
  },
  {
   "cell_type": "code",
   "execution_count": 105,
   "metadata": {
    "collapsed": false
   },
   "outputs": [],
   "source": [
    "df_submission.to_csv(path_or_buf=main_folder+'submission10_nusvc1_weighted', index=False)"
   ]
  },
  {
   "cell_type": "code",
   "execution_count": null,
   "metadata": {
    "collapsed": false
   },
   "outputs": [],
   "source": [
    "svc = model_SVC1.named_steps['svc']\n",
    "svc.n_support_"
   ]
  },
  {
   "cell_type": "markdown",
   "metadata": {},
   "source": [
    "## OTHER"
   ]
  },
  {
   "cell_type": "code",
   "execution_count": null,
   "metadata": {
    "collapsed": false
   },
   "outputs": [],
   "source": [
    "X =patsy.dmatrix('productsize_id_category_total:C(category, Treatment)  -1', data=df_trans_category_grp, return_type='dataframe')\n",
    "X.head()"
   ]
  },
  {
   "cell_type": "code",
   "execution_count": null,
   "metadata": {
    "collapsed": false
   },
   "outputs": [],
   "source": [
    "X = patsy.dmatrix('market + category -1', data=df_off_hist_train, return_type='dataframe')\n",
    "X.head()"
   ]
  },
  {
   "cell_type": "code",
   "execution_count": null,
   "metadata": {
    "collapsed": true
   },
   "outputs": [],
   "source": [
    "pd.DataFrame(df_trans_grp_brand.to_records())"
   ]
  },
  {
   "cell_type": "code",
   "execution_count": null,
   "metadata": {
    "collapsed": true
   },
   "outputs": [],
   "source": [
    "X = patsy.dmatrix('total_int_calls_minutes:C(intl_package, Treatment) + age -1', data=X_train, return_type='dataframe')"
   ]
  },
  {
   "cell_type": "code",
   "execution_count": null,
   "metadata": {
    "collapsed": false
   },
   "outputs": [],
   "source": [
    "df_offers_history[df_offers_history.id==4638754711]"
   ]
  },
  {
   "cell_type": "code",
   "execution_count": null,
   "metadata": {
    "collapsed": true
   },
   "outputs": [],
   "source": [
    "df_off_hist_train['id_chain'] =  df_off_hist_train['id'].map(lambda x:(str(x)+'_')) + df_off_hist_train['chain'].map(str)"
   ]
  },
  {
   "cell_type": "markdown",
   "metadata": {},
   "source": [
    "# PREPARE FILES"
   ]
  },
  {
   "cell_type": "code",
   "execution_count": null,
   "metadata": {
    "collapsed": false
   },
   "outputs": [],
   "source": [
    "from datetime import datetime\n",
    "import zipfile\n",
    "\n",
    "loc_history = \"./testHistory\"\n",
    "\n",
    "loc_transactions = \"./transactions\"\n",
    "loc_reduced = \"./transactions_reduced_customer_test\" # will be created\n",
    "\n",
    "\n"
   ]
  },
  {
   "cell_type": "code",
   "execution_count": null,
   "metadata": {
    "collapsed": true
   },
   "outputs": [],
   "source": [
    "reduce_data(loc_history, loc_transactions, loc_reduced)\n"
   ]
  }
 ],
 "metadata": {
  "kernelspec": {
   "display_name": "Python 2",
   "language": "python",
   "name": "python2"
  },
  "language_info": {
   "codemirror_mode": {
    "name": "ipython",
    "version": 2
   },
   "file_extension": ".py",
   "mimetype": "text/x-python",
   "name": "python",
   "nbconvert_exporter": "python",
   "pygments_lexer": "ipython2",
   "version": "2.7.9"
  }
 },
 "nbformat": 4,
 "nbformat_minor": 0
}
