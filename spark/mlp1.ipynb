{
 "cells": [
  {
   "cell_type": "code",
   "execution_count": 1,
   "metadata": {
    "collapsed": false
   },
   "outputs": [
    {
     "name": "stderr",
     "output_type": "stream",
     "text": [
      "/home/ds/.pyenv/versions/anaconda2-2.4.1/lib/python2.7/site-packages/matplotlib/__init__.py:872: UserWarning: axes.color_cycle is deprecated and replaced with axes.prop_cycle; please use the latter.\n",
      "  warnings.warn(self.msg_depr % (key, alt_key))\n"
     ]
    }
   ],
   "source": [
    "%matplotlib inline\n",
    "import seaborn as sns\n",
    "\n",
    "import findspark\n",
    "import os\n",
    "findspark.init()\n",
    "\n",
    "import pyspark\n",
    "from pyspark import SparkContext\n",
    "from pyspark import SparkFiles\n",
    "from pyspark import sql\n",
    "from pyspark import SparkConf\n",
    "from pyspark import StorageLevel\n",
    "\n",
    "from pyspark.sql import SQLContext, HiveContext\n",
    "\n",
    "from pyspark.sql import Row\n",
    "from pyspark.sql import DataFrameWriter\n",
    "from pyspark.sql import DataFrameReader\n",
    "from pyspark.sql import functions as F\n",
    "from pyspark.sql.types import *\n",
    "from pyspark.sql import GroupedData\n",
    "from pyspark.sql.functions import UserDefinedFunction\n",
    "\n",
    "from pyspark.ml import Pipeline\n",
    "from pyspark.ml.classification import *\n",
    "from pyspark.ml.feature import *\n",
    "from pyspark.ml.tuning import *\n",
    "from pyspark.ml.evaluation  import *\n",
    "\n",
    "\n",
    "from functools import partial\n",
    "import numpy as np\n",
    "\n",
    "from datasu.auc import *\n",
    "from datasu.dicts import *\n",
    "from datasu.files import *\n",
    "from datasu.pandas import *\n",
    "from datasu.persist import *\n",
    "from datasu.spark import *\n",
    "from datasu.patsy import *\n",
    "\n",
    "\n",
    "import pandas as pd"
   ]
  },
  {
   "cell_type": "code",
   "execution_count": 2,
   "metadata": {
    "collapsed": false
   },
   "outputs": [
    {
     "data": {
      "text/plain": [
       "[(u'spark.master', u'spark://spark1.ea.lab:7077'),\n",
       " (u'spark.executor.max', u'3'),\n",
       " (u'spark.driver.memory', u'12g'),\n",
       " (u'spark.submit.pyFiles',\n",
       "  u'/home/ds/.ivy2/jars/com.databricks_spark-csv_2.10-1.3.0.jar,/home/ds/.ivy2/jars/org.apache.commons_commons-csv-1.1.jar,/home/ds/.ivy2/jars/com.univocity_univocity-parsers-1.5.1.jar'),\n",
       " (u'spark.jars',\n",
       "  u'file:/home/ds/.ivy2/jars/com.databricks_spark-csv_2.10-1.3.0.jar,file:/home/ds/.ivy2/jars/org.apache.commons_commons-csv-1.1.jar,file:/home/ds/.ivy2/jars/com.univocity_univocity-parsers-1.5.1.jar'),\n",
       " (u'spark.executor.memory', u'5g'),\n",
       " (u'spark.kryoserializer.buffer.max', u'196m'),\n",
       " (u'spark.driver.maxResultSize', u'5g'),\n",
       " (u'spark.files',\n",
       "  u'file:/home/ds/.ivy2/jars/com.databricks_spark-csv_2.10-1.3.0.jar,file:/home/ds/.ivy2/jars/org.apache.commons_commons-csv-1.1.jar,file:/home/ds/.ivy2/jars/com.univocity_univocity-parsers-1.5.1.jar'),\n",
       " (u'spark.app.name', u'mlp1'),\n",
       " (u'spark.serializer', u'org.apache.spark.serializer.KryoSerializer'),\n",
       " (u'spark.cores.max', u'28'),\n",
       " (u'spark.worker.cleanup.enabled', u'True'),\n",
       " (u'spark.python.worker.memory', u'2g'),\n",
       " (u'spark.executor.extraJavaOptions',\n",
       "  u'-XX:+PrintGCDetails -XX:+UseCompressedOops'),\n",
       " (u'spark.submit.deployMode', u'client')]"
      ]
     },
     "execution_count": 2,
     "metadata": {},
     "output_type": "execute_result"
    }
   ],
   "source": [
    "conf = SparkConf()\n",
    "conf.set('spark.driver.memory', '12g')\n",
    "conf.set('spark.python.worker.memory', '2g')\n",
    "conf.set(\"spark.driver.maxResultSize\", \"5g\")\n",
    "conf.set(\"spark.executor.max\", 3)\n",
    "conf.set('spark.executor.memory', '5g')\n",
    "conf.set(\"spark.cores.max\", 28)\n",
    "conf.set('spark.worker.cleanup.enabled', True)\n",
    "conf.set(\"spark.serializer\", \"org.apache.spark.serializer.KryoSerializer\")\n",
    "conf.set(\"spark.kryoserializer.buffer.max\", \"196m\")\n",
    "conf.set('spark.executor.extraJavaOptions', '-XX:+PrintGCDetails -XX:+UseCompressedOops')\n",
    "\n",
    "conf.setAppName('mlp1')\n",
    "conf.getAll()"
   ]
  },
  {
   "cell_type": "code",
   "execution_count": 3,
   "metadata": {
    "collapsed": false
   },
   "outputs": [
    {
     "name": "stdout",
     "output_type": "stream",
     "text": [
      "spark context not exists\n"
     ]
    }
   ],
   "source": [
    "try:\n",
    "    sc.stop()\n",
    "except:\n",
    "    print 'spark context not exists'"
   ]
  },
  {
   "cell_type": "code",
   "execution_count": 4,
   "metadata": {
    "collapsed": false
   },
   "outputs": [],
   "source": [
    "sc = pyspark.SparkContext(conf=conf)\n",
    "sqc = pyspark.SQLContext(sc)\n",
    "sqlContext = sqc"
   ]
  },
  {
   "cell_type": "code",
   "execution_count": 5,
   "metadata": {
    "collapsed": true
   },
   "outputs": [],
   "source": [
    "csv_reader = sqc.read.format('com.databricks.spark.csv').options(header='true', inferschema='true')"
   ]
  },
  {
   "cell_type": "markdown",
   "metadata": {
    "collapsed": false
   },
   "source": [
    "## LOAD DATA\n"
   ]
  },
  {
   "cell_type": "code",
   "execution_count": 6,
   "metadata": {
    "collapsed": true
   },
   "outputs": [],
   "source": [
    "base_data_path = '/home/ds/dev/data/Kagle-ValuesShoppers/'\n",
    "spark_data_path = 'file://'+ base_data_path + 'spark_data/'\n",
    "transactions_name = 'transactions'"
   ]
  },
  {
   "cell_type": "code",
   "execution_count": 7,
   "metadata": {
    "collapsed": false
   },
   "outputs": [],
   "source": [
    "df_coupons = pd.read_csv(base_data_path+'offers')[['offer','category','company','brand','offervalue','quantity']]\n",
    "df_offers_ids = pd.read_csv(base_data_path+'trainHistory').rename(columns={'id': 'customer_id'})\n",
    "df_offers_ids_subm = pd.read_csv(base_data_path+'testHistory').rename(columns={'id': 'customer_id'})\n",
    "# df_trans_all = pd.read_csv(base_data_path+'transactions_reduced_category').rename(columns={'id': 'customer_id'})"
   ]
  },
  {
   "cell_type": "code",
   "execution_count": 8,
   "metadata": {
    "collapsed": false
   },
   "outputs": [],
   "source": [
    "df_offers_hist = pd.merge(df_offers_ids, df_coupons, on=['offer'])\n",
    "df_offers_hist = df_offers_hist[['customer_id','chain','offer','market','category','company','brand','offerdate','offervalue','quantity','repeattrips','repeater']]\n",
    "\n",
    "df_offers_subm = pd.merge(df_offers_ids_subm, df_coupons, on=['offer'])\n",
    "df_offers_subm = df_offers_subm[['customer_id','chain','offer','market','category','company','brand','offerdate','offervalue','quantity']]"
   ]
  },
  {
   "cell_type": "code",
   "execution_count": 9,
   "metadata": {
    "collapsed": false
   },
   "outputs": [],
   "source": [
    "ddf_offers_hist = sqc.createDataFrame(df_offers_hist)\n",
    "ddf_offers_subm = sqc.createDataFrame(df_offers_subm)\n",
    "\n",
    "\n",
    "ddf_offers_hist = ddf_offers_hist.withColumn('repeater_bool', ddf_offers_hist.repeater == 't')"
   ]
  },
  {
   "cell_type": "code",
   "execution_count": 10,
   "metadata": {
    "collapsed": true
   },
   "outputs": [],
   "source": [
    "bool_to_double = UserDefinedFunction(lambda v: 1.0 if v else 0.0, DoubleType(), 'bool_to_double')"
   ]
  },
  {
   "cell_type": "code",
   "execution_count": 11,
   "metadata": {
    "collapsed": false
   },
   "outputs": [],
   "source": [
    "ddf_offers_hist = ddf_offers_hist.withColumn('label', bool_to_double('repeater_bool'))"
   ]
  },
  {
   "cell_type": "code",
   "execution_count": 12,
   "metadata": {
    "collapsed": false
   },
   "outputs": [
    {
     "name": "stdout",
     "output_type": "stream",
     "text": [
      "+-----------+-----+-------+------+--------+---------+-----+----------+----------+--------+-----------+--------+-------------+-----+\n",
      "|customer_id|chain|  offer|market|category|  company|brand| offerdate|offervalue|quantity|repeattrips|repeater|repeater_bool|label|\n",
      "+-----------+-----+-------+------+--------+---------+-----+----------+----------+--------+-----------+--------+-------------+-----+\n",
      "|      86246|  205|1208251|    34|    2202|104460040| 3718|2013-04-24|       2.0|       1|          5|       t|         true|  1.0|\n",
      "|   15753725|   17|1208251|     4|    2202|104460040| 3718|2013-04-24|       2.0|       1|          0|       f|        false|  0.0|\n",
      "|   16535563|    4|1208251|     1|    2202|104460040| 3718|2013-04-27|       2.0|       1|          7|       t|         true|  1.0|\n",
      "+-----------+-----+-------+------+--------+---------+-----+----------+----------+--------+-----------+--------+-------------+-----+\n",
      "only showing top 3 rows\n",
      "\n"
     ]
    }
   ],
   "source": [
    "ddf_offers_hist.show(3)"
   ]
  },
  {
   "cell_type": "code",
   "execution_count": 13,
   "metadata": {
    "collapsed": false
   },
   "outputs": [],
   "source": [
    "ddf_transactions = csv_reader.load(base_data_path+transactions_name, samplingRatio=0.02)\n",
    "ddf_transactions.rdd.setName(transactions_name)\n",
    "ddf_transactions.alias('transactions')\n",
    "\n",
    "ddf_transactions.rdd.getNumPartitions()\n",
    "ddf_transactions = ddf_transactions.withColumnRenamed('id','customer_id')"
   ]
  },
  {
   "cell_type": "code",
   "execution_count": 14,
   "metadata": {
    "collapsed": true
   },
   "outputs": [],
   "source": [
    "ddf_transactions_small, ddf_transactions_big = ddf_transactions.randomSplit([0.01,0.99])"
   ]
  },
  {
   "cell_type": "code",
   "execution_count": 15,
   "metadata": {
    "collapsed": false
   },
   "outputs": [
    {
     "data": {
      "text/plain": [
       "ddf_trans MapPartitionsRDD[35] at javaToPython at NativeMethodAccessorImpl.java:-2"
      ]
     },
     "execution_count": 15,
     "metadata": {},
     "output_type": "execute_result"
    }
   ],
   "source": [
    "ddf_trans = ddf_transactions\n",
    "ddf_trans.rdd.setName('ddf_trans')\n",
    "# ddf_trans.cache()"
   ]
  },
  {
   "cell_type": "code",
   "execution_count": null,
   "metadata": {
    "collapsed": false
   },
   "outputs": [],
   "source": [
    "ddf_trans.count()"
   ]
  },
  {
   "cell_type": "markdown",
   "metadata": {},
   "source": [
    "## prepare features"
   ]
  },
  {
   "cell_type": "markdown",
   "metadata": {},
   "source": [
    "#### aggregate transactions"
   ]
  },
  {
   "cell_type": "code",
   "execution_count": 16,
   "metadata": {
    "collapsed": true
   },
   "outputs": [],
   "source": [
    "summ_grouping = {'total':F.sum, 'average':F.avg }\n",
    "count_grouping = {'count':F.count }"
   ]
  },
  {
   "cell_type": "code",
   "execution_count": 17,
   "metadata": {
    "collapsed": true
   },
   "outputs": [],
   "source": [
    "total_agg = partial(get_ddf_aggs, agg_columns=['purchasequantity'], agg_funcs={'total':F.sum}, prefix='agg_', cast_to='double')\n",
    "avg_agg = partial(get_ddf_aggs, agg_columns=['productsize'], agg_funcs={'average':F.avg}, prefix='agg_', cast_to='double')"
   ]
  },
  {
   "cell_type": "code",
   "execution_count": 18,
   "metadata": {
    "collapsed": false
   },
   "outputs": [],
   "source": [
    "ddf_category_pivot1, category_indexer = aggregate_and_pivot_into_vector(ddf_trans, id_column='customer_id', \n",
    "                                              pivot_column='category', \n",
    "                                              aggs=total_agg(['customer_id', 'category']),\n",
    "                                              return_indexer=True)"
   ]
  },
  {
   "cell_type": "code",
   "execution_count": 19,
   "metadata": {
    "collapsed": false
   },
   "outputs": [
    {
     "data": {
      "text/plain": [
       "Row(customer_id=614738200, features=SparseVector(836, {0: 13.0, 1: 37.0, 2: 16.0, 3: 28.0, 4: 13.0, 5: 31.0, 6: 7.0, 7: 20.0, 9: 5.0, 10: 5.0, 11: 145.0, 12: 6.0, 13: 8.0, 14: 174.0, 15: 7.0, 16: 8.0, 17: 6.0, 20: 18.0, 21: 1.0, 22: 3.0, 23: 10.0, 24: 7.0, 25: 14.0, 26: 4.0, 29: 14.0, 30: 3.0, 31: 7.0, 32: 4.0, 33: 2.0, 35: 5.0, 36: 9.0, 37: 1.0, 38: 17.0, 39: 4.0, 40: 16.0, 41: 5.0, 42: 4.0, 43: 8.0, 44: 8.0, 45: 8.0, 46: 13.0, 47: 6.0, 48: 2.0, 49: 2.0, 50: 2.0, 51: 3.0, 52: 2.0, 53: 33.0, 54: 1.0, 55: 9.0, 56: 16.0, 57: 2.0, 58: 15.0, 59: 4.0, 61: 19.0, 63: 10.0, 65: 5.0, 67: 2.0, 68: 2.0, 69: 1.0, 70: 1.0, 71: 1.0, 73: 2.0, 74: 2.0, 76: 2.0, 79: 7.0, 80: 1.0, 85: 1.0, 88: 3.0, 89: 93.0, 90: 6.0, 91: 1.0, 92: 11.0, 93: 32.0, 94: 4.0, 96: 7.0, 97: 8.0, 98: 2.0, 99: 2.0, 100: 22.0, 102: 69.0, 103: 6.0, 104: 1.0, 105: 1.0, 106: 11.0, 107: 53.0, 108: 1.0, 111: 4.0, 112: 8.0, 116: 1.0, 117: 2.0, 118: 9.0, 119: 5.0, 121: 3.0, 126: 2.0, 127: 2.0, 130: 7.0, 134: 1.0, 135: 22.0, 137: 1.0, 138: 1.0, 140: 2.0, 141: 1.0, 144: 5.0, 146: 1.0, 148: 3.0, 150: 4.0, 151: 1.0, 152: 31.0, 156: 1.0, 157: 5.0, 158: 3.0, 160: 4.0, 161: 4.0, 164: 1.0, 167: 4.0, 168: 16.0, 169: 1.0, 170: 6.0, 171: 5.0, 172: 1.0, 173: 18.0, 174: 2.0, 176: 3.0, 177: 8.0, 185: 3.0, 186: 12.0, 191: 5.0, 193: 1.0, 194: 5.0, 195: 2.0, 199: 2.0, 200: 2.0, 204: 1.0, 207: 1.0, 208: 11.0, 209: 1.0, 211: 2.0, 213: 4.0, 215: 3.0, 217: 3.0, 218: 2.0, 222: 2.0, 227: 2.0, 228: 1.0, 229: 14.0, 231: 14.0, 232: 5.0, 233: 2.0, 234: 4.0, 235: 4.0, 238: 1.0, 239: 2.0, 240: 1.0, 244: 3.0, 245: 1.0, 246: 1.0, 248: 4.0, 249: 1.0, 251: 2.0, 256: 1.0, 260: 2.0, 263: 41.0, 264: 25.0, 266: 85.0, 268: 2.0, 271: 1.0, 272: 1.0, 275: 1.0, 278: 1.0, 280: 3.0, 281: 1.0, 282: 5.0, 283: 1.0, 284: 1.0, 285: 1.0, 286: 4.0, 288: 11.0, 292: 1.0, 295: 1.0, 296: 23.0, 298: 28.0, 299: 10.0, 301: 1.0, 305: 2.0, 306: 5.0, 308: 5.0, 314: 4.0, 317: 2.0, 318: 27.0, 319: 5.0, 321: 3.0, 323: 1.0, 324: 1.0, 326: 25.0, 327: 2.0, 328: 49.0, 333: 1.0, 339: 1.0, 344: 1.0, 350: 1.0, 352: 1.0, 355: 1.0, 359: 2.0, 360: 139.0, 361: 12.0, 364: 4.0, 367: 1.0, 368: 1.0, 371: 1.0, 372: 2.0, 373: 5.0, 377: 2.0, 386: 1.0, 394: 6.0, 397: 1.0, 406: 2.0, 411: 1.0, 420: 6.0, 424: 1.0, 429: 3.0, 432: 7.0, 437: 12.0, 439: 1.0, 452: 3.0, 458: 1.0, 461: 1.0, 465: 1.0, 466: 3.0, 469: 32.0, 477: 2.0, 488: 2.0, 491: 1.0, 504: 1.0, 514: 2.0, 517: 5.0, 518: 2.0, 521: 3.0, 537: 19.0, 545: 1.0, 560: 1.0, 562: 27.0, 574: 9.0, 583: 1.0, 585: 3.0, 588: 2.0, 607: 1.0, 623: 2.0, 634: 1.0, 639: 1.0, 652: 1.0, 677: 1.0, 688: 1.0, 717: 2.0, 720: 4.0, 746: 3.0, 753: 2.0, 759: 1.0}))"
      ]
     },
     "execution_count": 19,
     "metadata": {},
     "output_type": "execute_result"
    }
   ],
   "source": [
    "ddf_category_pivot1.first()"
   ]
  },
  {
   "cell_type": "code",
   "execution_count": 20,
   "metadata": {
    "collapsed": false
   },
   "outputs": [],
   "source": [
    "ddf_category_pivot2 = aggregate_and_pivot_into_vector(ddf_trans, id_column='customer_id', \n",
    "                                              pivot_column='category', \n",
    "                                              aggs=avg_agg(['customer_id', 'category']))"
   ]
  },
  {
   "cell_type": "code",
   "execution_count": 21,
   "metadata": {
    "collapsed": true
   },
   "outputs": [],
   "source": [
    "ddf_brand_pivot1, brand_indexer = aggregate_and_pivot_into_vector(ddf_trans, id_column='customer_id', \n",
    "                                              pivot_column='brand', \n",
    "                                              aggs=total_agg(['customer_id', 'brand']),\n",
    "                                              return_indexer=True)"
   ]
  },
  {
   "cell_type": "code",
   "execution_count": 22,
   "metadata": {
    "collapsed": false
   },
   "outputs": [
    {
     "name": "stdout",
     "output_type": "stream",
     "text": [
      "+-----------+--------------------+\n",
      "|customer_id|            features|\n",
      "+-----------+--------------------+\n",
      "|  614738200|(35689,[0,1,2,3,4...|\n",
      "| 4621031497|(35689,[0,1,2,3,4...|\n",
      "+-----------+--------------------+\n",
      "only showing top 2 rows\n",
      "\n"
     ]
    }
   ],
   "source": [
    "ddf_brand_pivot1.show(2)"
   ]
  },
  {
   "cell_type": "code",
   "execution_count": 23,
   "metadata": {
    "collapsed": false
   },
   "outputs": [],
   "source": [
    "ddf_pivot12 = merge_features(ddfs=[ddf_category_pivot1,ddf_brand_pivot1], join_column='customer_id', merge_column='features')"
   ]
  },
  {
   "cell_type": "code",
   "execution_count": 24,
   "metadata": {
    "collapsed": false
   },
   "outputs": [
    {
     "data": {
      "text/plain": [
       "Row(customer_id=98468631, features=SparseVector(36525, {0: 15.0, 1: 23.0, 2: 35.0, 3: 9.0, 4: 57.0, 5: 5.0, 6: 4.0, 7: 37.0, 8: 5.0, 9: 1.0, 10: 2.0, 11: 16.0, 12: 11.0, 15: 7.0, 16: 4.0, 17: 4.0, 18: 5.0, 20: 33.0, 21: 2.0, 22: 6.0, 25: 2.0, 26: 2.0, 28: 3.0, 29: 4.0, 32: 4.0, 33: 4.0, 36: 3.0, 37: 1.0, 40: 13.0, 41: 7.0, 47: 1.0, 48: 9.0, 49: 2.0, 51: 1.0, 52: 1.0, 54: 43.0, 55: 5.0, 58: 8.0, 59: 1.0, 61: 2.0, 62: 1.0, 63: 2.0, 68: 16.0, 71: 2.0, 72: 36.0, 78: 1.0, 79: 1.0, 80: 3.0, 83: 8.0, 84: 1.0, 85: 2.0, 89: 152.0, 90: 17.0, 96: 16.0, 99: 3.0, 100: 6.0, 102: 4.0, 104: 1.0, 105: 2.0, 106: 13.0, 107: 3.0, 109: 17.0, 114: 1.0, 116: 2.0, 118: 4.0, 127: 1.0, 129: 2.0, 130: 1.0, 134: 5.0, 135: 1.0, 137: 2.0, 138: 12.0, 141: 1.0, 142: 4.0, 145: 1.0, 147: 3.0, 148: 2.0, 149: 6.0, 150: 3.0, 152: 5.0, 153: 1.0, 154: 1.0, 156: 3.0, 157: 2.0, 160: 7.0, 162: 6.0, 164: 4.0, 165: 6.0, 166: 1.0, 168: 7.0, 169: 1.0, 176: 3.0, 177: 3.0, 182: 1.0, 183: 1.0, 185: 4.0, 190: 2.0, 191: 3.0, 194: 1.0, 195: 1.0, 196: 1.0, 197: 1.0, 198: 1.0, 199: 4.0, 204: 1.0, 205: 1.0, 207: 1.0, 212: 1.0, 215: 2.0, 217: 2.0, 221: 10.0, 224: 11.0, 225: 2.0, 226: 2.0, 227: 1.0, 232: 2.0, 237: 2.0, 239: 1.0, 241: 1.0, 242: 1.0, 249: 1.0, 250: 2.0, 252: 1.0, 255: 2.0, 262: 1.0, 264: 2.0, 265: 6.0, 270: 15.0, 290: 3.0, 291: 2.0, 298: 5.0, 301: 1.0, 302: 3.0, 306: 1.0, 309: 1.0, 313: 2.0, 315: 8.0, 319: 2.0, 329: 15.0, 335: 14.0, 336: 5.0, 338: 3.0, 342: 6.0, 358: 4.0, 375: 2.0, 382: 4.0, 392: 2.0, 394: 2.0, 406: 2.0, 411: 3.0, 426: 2.0, 432: 8.0, 442: 6.0, 444: 4.0, 445: 1.0, 447: 1.0, 499: 1.0, 502: 2.0, 511: 10.0, 520: 1.0, 531: 1.0, 543: 4.0, 547: 1.0, 557: 1.0, 572: 1.0, 617: 1.0, 626: 3.0, 657: 4.0, 836: 15.0, 837: 14.0, 838: 1.0, 839: 1.0, 841: 3.0, 842: 7.0, 843: 1.0, 845: 3.0, 846: 11.0, 847: 11.0, 848: 2.0, 850: 2.0, 851: 1.0, 853: 1.0, 854: 1.0, 855: 5.0, 858: 5.0, 859: 2.0, 861: 2.0, 863: 4.0, 865: 1.0, 866: 1.0, 867: 18.0, 873: 12.0, 877: 1.0, 878: 4.0, 880: 1.0, 881: 2.0, 882: 10.0, 883: 13.0, 886: 135.0, 888: 7.0, 889: 4.0, 892: 33.0, 896: 5.0, 898: 6.0, 901: 2.0, 902: 1.0, 903: 1.0, 905: 3.0, 906: 4.0, 908: 1.0, 911: 2.0, 915: 4.0, 918: 13.0, 928: 17.0, 933: 2.0, 936: 7.0, 938: 4.0, 939: 3.0, 948: 4.0, 949: 1.0, 958: 1.0, 959: 2.0, 963: 1.0, 964: 3.0, 965: 1.0, 971: 4.0, 972: 4.0, 980: 6.0, 982: 1.0, 983: 2.0, 984: 3.0, 995: 2.0, 1003: 1.0, 1010: 3.0, 1012: 14.0, 1018: 2.0, 1019: 2.0, 1022: 4.0, 1023: 1.0, 1024: 1.0, 1025: 1.0, 1026: 2.0, 1032: 1.0, 1037: 1.0, 1045: 2.0, 1048: 7.0, 1049: 7.0, 1050: 6.0, 1053: 1.0, 1054: 4.0, 1058: 15.0, 1064: 2.0, 1068: 17.0, 1071: 1.0, 1074: 1.0, 1079: 3.0, 1083: 2.0, 1084: 1.0, 1085: 1.0, 1097: 7.0, 1098: 12.0, 1101: 1.0, 1102: 4.0, 1103: 1.0, 1107: 1.0, 1109: 3.0, 1110: 1.0, 1111: 2.0, 1112: 1.0, 1114: 1.0, 1115: 1.0, 1117: 7.0, 1119: 6.0, 1123: 2.0, 1127: 1.0, 1131: 1.0, 1134: 1.0, 1136: 1.0, 1137: 1.0, 1140: 7.0, 1158: 2.0, 1167: 7.0, 1174: 1.0, 1186: 1.0, 1190: 2.0, 1194: 3.0, 1195: 1.0, 1199: 4.0, 1206: 6.0, 1213: 1.0, 1235: 1.0, 1236: 13.0, 1246: 3.0, 1248: 1.0, 1257: 2.0, 1258: 4.0, 1263: 1.0, 1267: 1.0, 1274: 2.0, 1275: 3.0, 1279: 3.0, 1285: 4.0, 1294: 3.0, 1295: 8.0, 1306: 1.0, 1317: 3.0, 1321: 14.0, 1334: 1.0, 1351: 1.0, 1359: 1.0, 1383: 2.0, 1386: 1.0, 1397: 1.0, 1409: 2.0, 1411: 2.0, 1425: 1.0, 1430: 1.0, 1436: 152.0, 1447: 1.0, 1463: 1.0, 1468: 1.0, 1508: 4.0, 1517: 1.0, 1523: 35.0, 1533: 1.0, 1549: 2.0, 1561: 17.0, 1566: 1.0, 1569: 9.0, 1582: 2.0, 1587: 2.0, 1594: 2.0, 1601: 1.0, 1603: 4.0, 1612: 3.0, 1621: 1.0, 1635: 1.0, 1649: 1.0, 1654: 3.0, 1655: 4.0, 1660: 1.0, 1668: 1.0, 1670: 1.0, 1677: 2.0, 1705: 1.0, 1770: 1.0, 1776: 5.0, 1818: 1.0, 1855: 1.0, 1880: 1.0, 1889: 1.0, 1901: 1.0, 1958: 1.0, 2014: 5.0, 2092: 2.0, 2095: 1.0, 2118: 2.0, 2304: 1.0, 2351: 3.0, 2388: 1.0, 2401: 1.0, 2410: 3.0, 2451: 1.0, 2514: 1.0, 2529: 1.0, 2634: 1.0, 2721: 1.0, 2730: 1.0, 2791: 1.0, 2810: 1.0, 2902: 1.0, 2932: 1.0, 2935: 2.0, 3044: 1.0, 3137: 4.0, 3169: 6.0, 3307: 1.0, 3385: 1.0, 3758: 1.0, 4333: 1.0, 4538: 1.0, 5855: 1.0, 6226: 1.0, 8251: 3.0, 9984: 1.0, 11318: 1.0}))"
      ]
     },
     "execution_count": 24,
     "metadata": {},
     "output_type": "execute_result"
    }
   ],
   "source": [
    "ddf_pivot12.first()"
   ]
  },
  {
   "cell_type": "markdown",
   "metadata": {},
   "source": [
    "#### merge trans with history"
   ]
  },
  {
   "cell_type": "code",
   "execution_count": 25,
   "metadata": {
    "collapsed": false
   },
   "outputs": [
    {
     "name": "stdout",
     "output_type": "stream",
     "text": [
      "+-----------+-----+-------+------+--------+---------+-----+----------+----------+--------+-----------+--------+-------------+-----+\n",
      "|customer_id|chain|  offer|market|category|  company|brand| offerdate|offervalue|quantity|repeattrips|repeater|repeater_bool|label|\n",
      "+-----------+-----+-------+------+--------+---------+-----+----------+----------+--------+-----------+--------+-------------+-----+\n",
      "|      86246|  205|1208251|    34|    2202|104460040| 3718|2013-04-24|       2.0|       1|          5|       t|         true|  1.0|\n",
      "|   15753725|   17|1208251|     4|    2202|104460040| 3718|2013-04-24|       2.0|       1|          0|       f|        false|  0.0|\n",
      "+-----------+-----+-------+------+--------+---------+-----+----------+----------+--------+-----------+--------+-------------+-----+\n",
      "only showing top 2 rows\n",
      "\n"
     ]
    }
   ],
   "source": [
    "ddf_offers_hist.show(2)"
   ]
  },
  {
   "cell_type": "code",
   "execution_count": 26,
   "metadata": {
    "collapsed": false
   },
   "outputs": [],
   "source": [
    "# ddf_offers_hist_indexed = category_indexer.transform(ddf_offers_hist)"
   ]
  },
  {
   "cell_type": "code",
   "execution_count": 27,
   "metadata": {
    "collapsed": true
   },
   "outputs": [],
   "source": [
    "# ddf_offers_hist_indexed = brand_indexer.transform(ddf_offers_hist_indexed)"
   ]
  },
  {
   "cell_type": "code",
   "execution_count": 28,
   "metadata": {
    "collapsed": false
   },
   "outputs": [],
   "source": [
    "# ddf_offers_hist_indexed.show(2)"
   ]
  },
  {
   "cell_type": "code",
   "execution_count": 29,
   "metadata": {
    "collapsed": true
   },
   "outputs": [],
   "source": [
    "# assembler = VectorAssembler(inputCols=['category_idx','brand_idx'], outputCol='features')\n",
    "# ddf_offers_hist_indexed = assembler.transform(ddf_offers_hist_indexed)"
   ]
  },
  {
   "cell_type": "code",
   "execution_count": 30,
   "metadata": {
    "collapsed": false
   },
   "outputs": [],
   "source": [
    "# ddf_hist_features = merge_features(ddfs=[ddf_offers_hist_indexed, ddf_pivot12],                     \n",
    "#                      join_column='customer_id', merge_column='features')\n",
    "\n",
    "ddf_hist_features = ddf_offers_hist.join(ddf_pivot12, on='customer_id', how='inner')"
   ]
  },
  {
   "cell_type": "code",
   "execution_count": 31,
   "metadata": {
    "collapsed": false
   },
   "outputs": [
    {
     "data": {
      "text/plain": [
       "Row(customer_id=99642431, chain=15, offer=1197502, market=9, category=3203, company=106414464, brand=13474, offerdate=u'2013-03-25', offervalue=0.75, quantity=1, repeattrips=0, repeater=u'f', repeater_bool=False, label=0.0, features=SparseVector(36525, {0: 2.0, 1: 15.0, 2: 9.0, 3: 4.0, 4: 20.0, 5: 6.0, 6: 4.0, 7: 1.0, 8: 4.0, 9: 6.0, 10: 6.0, 11: 4.0, 14: 1.0, 16: 7.0, 19: 5.0, 23: 1.0, 24: 3.0, 25: 3.0, 26: 1.0, 27: 1.0, 28: 11.0, 29: 2.0, 30: 5.0, 31: 2.0, 39: 2.0, 41: 1.0, 42: 4.0, 43: 13.0, 45: 1.0, 47: 10.0, 49: 3.0, 51: 6.0, 53: 1.0, 55: 2.0, 56: 1.0, 58: 6.0, 59: 1.0, 61: 5.0, 63: 3.0, 64: 2.0, 67: 2.0, 68: 1.0, 69: 2.0, 77: 3.0, 78: 1.0, 81: 1.0, 87: 1.0, 89: 11.0, 95: 2.0, 98: 1.0, 104: 1.0, 105: 2.0, 107: 1.0, 109: 3.0, 110: 4.0, 111: 4.0, 112: 4.0, 113: 1.0, 119: 1.0, 124: 4.0, 131: 1.0, 135: 3.0, 137: 4.0, 138: 4.0, 139: 2.0, 140: 6.0, 144: 1.0, 145: 14.0, 149: 3.0, 152: 2.0, 157: 10.0, 160: 2.0, 161: 1.0, 162: 5.0, 164: 1.0, 170: 2.0, 173: 2.0, 176: 2.0, 181: 1.0, 184: 1.0, 203: 3.0, 213: 2.0, 214: 1.0, 218: 3.0, 225: 1.0, 238: 3.0, 239: 1.0, 258: 1.0, 260: 2.0, 271: 1.0, 277: 1.0, 283: 4.0, 286: 5.0, 288: 3.0, 301: 1.0, 305: 2.0, 309: 1.0, 314: 1.0, 315: 1.0, 316: 2.0, 325: 1.0, 326: 3.0, 328: 3.0, 330: 2.0, 337: 1.0, 360: 2.0, 362: 1.0, 394: 2.0, 427: 1.0, 458: 1.0, 468: 1.0, 492: 1.0, 580: 2.0, 681: 1.0, 836: 3.0, 837: 3.0, 838: 2.0, 839: 1.0, 840: 3.0, 844: 1.0, 845: 9.0, 850: 5.0, 852: 3.0, 853: 4.0, 857: 4.0, 858: 3.0, 859: 4.0, 869: 2.0, 870: 4.0, 871: 2.0, 872: 1.0, 874: 3.0, 879: 1.0, 882: 3.0, 883: 4.0, 885: 3.0, 886: 12.0, 888: 2.0, 893: 1.0, 894: 4.0, 897: 1.0, 898: 1.0, 899: 4.0, 903: 1.0, 905: 3.0, 909: 4.0, 913: 2.0, 921: 3.0, 923: 2.0, 924: 7.0, 928: 3.0, 940: 1.0, 948: 2.0, 951: 2.0, 952: 4.0, 957: 3.0, 962: 3.0, 964: 1.0, 971: 4.0, 972: 2.0, 975: 2.0, 979: 11.0, 991: 2.0, 992: 1.0, 997: 1.0, 1008: 3.0, 1020: 2.0, 1039: 4.0, 1043: 1.0, 1049: 1.0, 1052: 1.0, 1061: 2.0, 1110: 1.0, 1124: 6.0, 1129: 1.0, 1135: 1.0, 1146: 3.0, 1164: 3.0, 1165: 1.0, 1178: 1.0, 1219: 1.0, 1223: 6.0, 1240: 3.0, 1257: 4.0, 1262: 1.0, 1307: 1.0, 1332: 1.0, 1359: 1.0, 1372: 1.0, 1389: 1.0, 1401: 7.0, 1404: 3.0, 1409: 1.0, 1436: 38.0, 1523: 19.0, 1568: 5.0, 1596: 1.0, 1621: 11.0, 1649: 6.0, 1655: 1.0, 1660: 8.0, 1665: 1.0, 1708: 5.0, 1748: 1.0, 1766: 2.0, 1770: 2.0, 1776: 4.0, 1803: 2.0, 1860: 1.0, 1865: 2.0, 1966: 2.0, 2116: 1.0, 2132: 1.0, 2138: 1.0, 2181: 1.0, 2189: 3.0, 2196: 2.0, 2264: 1.0, 2412: 2.0, 2521: 1.0, 2564: 2.0, 2635: 1.0, 2755: 1.0, 2840: 2.0, 3011: 1.0, 3158: 1.0, 3513: 2.0, 3601: 2.0, 3705: 1.0, 3727: 1.0, 3869: 1.0, 3962: 1.0, 4590: 1.0, 4725: 1.0, 4973: 1.0}))"
      ]
     },
     "execution_count": 31,
     "metadata": {},
     "output_type": "execute_result"
    }
   ],
   "source": [
    "ddf_hist_features.first()"
   ]
  },
  {
   "cell_type": "markdown",
   "metadata": {},
   "source": [
    "# build pipes"
   ]
  },
  {
   "cell_type": "code",
   "execution_count": 32,
   "metadata": {
    "collapsed": true
   },
   "outputs": [],
   "source": [
    "std_scale = StandardScaler(inputCol=\"features\", outputCol=\"features_scaled\", withStd=True, withMean=False)\n",
    "pipe_prepare1 = Pipeline(stages=[std_scale])"
   ]
  },
  {
   "cell_type": "code",
   "execution_count": 33,
   "metadata": {
    "collapsed": false
   },
   "outputs": [],
   "source": [
    "lr1 = LogisticRegression(featuresCol=\"features_scaled\", labelCol=\"label\", predictionCol=\"prediction\", regParam=0.01, elasticNetParam=0.3)\n",
    "pipe_lr1 = Pipeline(stages=[lr1])\n",
    "# , \n",
    "#                          maxIter=100, regParam=0.1, elasticNetParam=0.0, tol=1e-6, fitIntercept=True, \n",
    "#                          thresholds=None, probabilityCol=\"probability\",  \n",
    "#                          rawPredictionCol=\"rawPrediction\", standardization=True, weightCol=None"
   ]
  },
  {
   "cell_type": "code",
   "execution_count": 34,
   "metadata": {
    "collapsed": false
   },
   "outputs": [],
   "source": [
    "rf1 = RandomForestClassifier(labelCol=\"repeater_str\", featuresCol=\"features\", maxDepth=5, maxBins=50)\n",
    "\n",
    "pipe_rf1 = Pipeline(stages=[rf1])"
   ]
  },
  {
   "cell_type": "code",
   "execution_count": 35,
   "metadata": {
    "collapsed": true
   },
   "outputs": [],
   "source": [
    "layers = [36525, 500,100, 2]\n",
    "mlp1 = MultilayerPerceptronClassifier(labelCol=\"label\", featuresCol=\"features_scaled\", maxIter=100, layers=layers, blockSize=1280, seed=1234)\n",
    "\n",
    "pipe_mlp1 = Pipeline(stages=[mlp1])"
   ]
  },
  {
   "cell_type": "code",
   "execution_count": 36,
   "metadata": {
    "collapsed": true
   },
   "outputs": [],
   "source": [
    "pipe = pipe_mlp1"
   ]
  },
  {
   "cell_type": "markdown",
   "metadata": {},
   "source": [
    "## Fit models"
   ]
  },
  {
   "cell_type": "code",
   "execution_count": 37,
   "metadata": {
    "collapsed": true
   },
   "outputs": [],
   "source": [
    "model_prepare1 = pipe_prepare1.fit(ddf_hist_features)"
   ]
  },
  {
   "cell_type": "code",
   "execution_count": 38,
   "metadata": {
    "collapsed": false
   },
   "outputs": [],
   "source": [
    "ddf_data = model_prepare1.transform(ddf_hist_features)\n",
    "ddf_data = ddf_data.select(['features','features_scaled','label']) #, 'repeattrips'])"
   ]
  },
  {
   "cell_type": "code",
   "execution_count": 39,
   "metadata": {
    "collapsed": false
   },
   "outputs": [],
   "source": [
    "ddf_data_train, ddf_data_test = ddf_data.randomSplit([0.7, 0.3])\n"
   ]
  },
  {
   "cell_type": "code",
   "execution_count": 40,
   "metadata": {
    "collapsed": false
   },
   "outputs": [
    {
     "name": "stdout",
     "output_type": "stream",
     "text": [
      "+--------------------+--------------------+-----+\n",
      "|            features|     features_scaled|label|\n",
      "+--------------------+--------------------+-----+\n",
      "|(36525,[0,1,2,3,4...|(36525,[0,1,2,3,4...|  0.0|\n",
      "|(36525,[0,1,2,3,4...|(36525,[0,1,2,3,4...|  0.0|\n",
      "|(36525,[0,1,2,3,4...|(36525,[0,1,2,3,4...|  1.0|\n",
      "+--------------------+--------------------+-----+\n",
      "only showing top 3 rows\n",
      "\n"
     ]
    }
   ],
   "source": [
    "ddf_data_train.show(3)"
   ]
  },
  {
   "cell_type": "code",
   "execution_count": 41,
   "metadata": {
    "collapsed": false
   },
   "outputs": [],
   "source": [
    "model = pipe.fit(ddf_data_train)"
   ]
  },
  {
   "cell_type": "code",
   "execution_count": 42,
   "metadata": {
    "collapsed": false
   },
   "outputs": [
    {
     "data": {
      "text/plain": [
       "111776"
      ]
     },
     "execution_count": 42,
     "metadata": {},
     "output_type": "execute_result"
    }
   ],
   "source": [
    "ddf_data_train.count()"
   ]
  },
  {
   "cell_type": "code",
   "execution_count": 49,
   "metadata": {
    "collapsed": false
   },
   "outputs": [
    {
     "name": "stdout",
     "output_type": "stream",
     "text": [
      "+-------------------+\n",
      "|         avg(label)|\n",
      "+-------------------+\n",
      "|0.27182042656742056|\n",
      "+-------------------+\n",
      "\n"
     ]
    }
   ],
   "source": [
    "ddf_data_train.agg(F.avg('label')).show()"
   ]
  },
  {
   "cell_type": "code",
   "execution_count": 99,
   "metadata": {
    "collapsed": true
   },
   "outputs": [],
   "source": [
    "from numpy import random\n",
    "from scipy import stats"
   ]
  },
  {
   "cell_type": "code",
   "execution_count": 142,
   "metadata": {
    "collapsed": false
   },
   "outputs": [],
   "source": [
    "\n",
    "\n",
    "randBern = F.UserDefinedFunction(lambda r: float(random.choice(a=[0.0, 1.0],p=[0.73, 0.27])) ,DoubleType())"
   ]
  },
  {
   "cell_type": "code",
   "execution_count": 155,
   "metadata": {
    "collapsed": false
   },
   "outputs": [],
   "source": [
    "# r=ddf_data_train.withColumn('prediction', randBern(F.lit(1)))\n",
    "r=ddf_data_train.withColumn('prediction', F.lit(0.0))"
   ]
  },
  {
   "cell_type": "code",
   "execution_count": 156,
   "metadata": {
    "collapsed": false
   },
   "outputs": [
    {
     "name": "stdout",
     "output_type": "stream",
     "text": [
      "+--------------------+--------------------+-----+----------+\n",
      "|            features|     features_scaled|label|prediction|\n",
      "+--------------------+--------------------+-----+----------+\n",
      "|(36525,[0,1,2,3,4...|(36525,[0,1,2,3,4...|  0.0|       0.0|\n",
      "|(36525,[0,1,2,3,4...|(36525,[0,1,2,3,4...|  0.0|       0.0|\n",
      "|(36525,[0,1,2,3,4...|(36525,[0,1,2,3,4...|  1.0|       0.0|\n",
      "|(36525,[1,2,3,4,5...|(36525,[1,2,3,4,5...|  0.0|       0.0|\n",
      "|(36525,[0,1,2,3,4...|(36525,[0,1,2,3,4...|  0.0|       0.0|\n",
      "+--------------------+--------------------+-----+----------+\n",
      "only showing top 5 rows\n",
      "\n"
     ]
    }
   ],
   "source": [
    "r.show(5)"
   ]
  },
  {
   "cell_type": "code",
   "execution_count": 157,
   "metadata": {
    "collapsed": false
   },
   "outputs": [
    {
     "name": "stdout",
     "output_type": "stream",
     "text": [
      "+---------------+\n",
      "|avg(prediction)|\n",
      "+---------------+\n",
      "|            0.0|\n",
      "+---------------+\n",
      "\n"
     ]
    }
   ],
   "source": [
    "r.agg(F.avg('prediction')).show()"
   ]
  },
  {
   "cell_type": "code",
   "execution_count": 162,
   "metadata": {
    "collapsed": false
   },
   "outputs": [
    {
     "name": "stdout",
     "output_type": "stream",
     "text": [
      "Precision:0.728179573433\n",
      "Recall:0.728179573433\n"
     ]
    }
   ],
   "source": [
    "# evaluator = BinaryClassificationEvaluator(metricName=\"areaUnderROC\",rawPredictionCol=\"prediction\", labelCol=\"label\")\n",
    "\n",
    "predictionAndLabels = r.select(\"prediction\", \"label\")\n",
    "evaluator = MulticlassClassificationEvaluator(metricName=\"precision\")\n",
    "print(\"Precision:\" + str(evaluator.evaluate(predictionAndLabels)))\n",
    "\n",
    "evaluator = MulticlassClassificationEvaluator(metricName=\"recall\")\n",
    "print(\"Recall:\" + str(evaluator.evaluate(predictionAndLabels)))"
   ]
  },
  {
   "cell_type": "code",
   "execution_count": 124,
   "metadata": {
    "collapsed": false
   },
   "outputs": [],
   "source": [
    "r = model.transform(ddf_data_train)"
   ]
  },
  {
   "cell_type": "code",
   "execution_count": null,
   "metadata": {
    "collapsed": false
   },
   "outputs": [],
   "source": [
    "df_data_test_res1 = r.select(['rawPrediction', get_index_from_vector()('probability', F.lit(1)).alias('probability'), 'prediction', 'label']).toPandas()"
   ]
  },
  {
   "cell_type": "code",
   "execution_count": null,
   "metadata": {
    "collapsed": true
   },
   "outputs": [],
   "source": []
  },
  {
   "cell_type": "code",
   "execution_count": null,
   "metadata": {
    "collapsed": false
   },
   "outputs": [],
   "source": [
    "df_data_test_res1.head()"
   ]
  },
  {
   "cell_type": "code",
   "execution_count": null,
   "metadata": {
    "collapsed": false
   },
   "outputs": [],
   "source": [
    "plot_auc(df_data_test_res1.label, df_data_test_res1.probability.values)"
   ]
  },
  {
   "cell_type": "code",
   "execution_count": null,
   "metadata": {
    "collapsed": true
   },
   "outputs": [],
   "source": []
  },
  {
   "cell_type": "code",
   "execution_count": null,
   "metadata": {
    "collapsed": true
   },
   "outputs": [],
   "source": []
  },
  {
   "cell_type": "code",
   "execution_count": null,
   "metadata": {
    "collapsed": true
   },
   "outputs": [],
   "source": []
  },
  {
   "cell_type": "code",
   "execution_count": null,
   "metadata": {
    "collapsed": true
   },
   "outputs": [],
   "source": []
  },
  {
   "cell_type": "code",
   "execution_count": null,
   "metadata": {
    "collapsed": true
   },
   "outputs": [],
   "source": []
  },
  {
   "cell_type": "code",
   "execution_count": null,
   "metadata": {
    "collapsed": true
   },
   "outputs": [],
   "source": []
  },
  {
   "cell_type": "code",
   "execution_count": null,
   "metadata": {
    "collapsed": false
   },
   "outputs": [],
   "source": [
    "ddf_offers_submission__trans_aggs = ddf_offers_submission__trans_aggs.withColumn('repeater',F.lit('f'))\n",
    "ddf_offers_union__trans_aggs = ddf_offers__trans_aggs.unionAll(\n",
    "                            ddf_offers_submission__trans_aggs.select(*ddf_offers__trans_aggs.columns))\n",
    "\n",
    "ddf_offers_union__trans_aggs = ddf_offers_union__trans_aggs.drop('customer_id')"
   ]
  },
  {
   "cell_type": "code",
   "execution_count": null,
   "metadata": {
    "collapsed": false
   },
   "outputs": [],
   "source": [
    "model_transform2 = pipe_transform1.fit(ddf_offers_union__trans_aggs)"
   ]
  },
  {
   "cell_type": "code",
   "execution_count": null,
   "metadata": {
    "collapsed": true
   },
   "outputs": [],
   "source": [
    "ddf_data = model_transform2.transform(ddf_offers__trans_aggs)\n",
    "ddf_data = ddf_data.select(['features','label']) #, 'repeattrips'])"
   ]
  },
  {
   "cell_type": "code",
   "execution_count": null,
   "metadata": {
    "collapsed": true
   },
   "outputs": [],
   "source": [
    "ddf_data_train, ddf_data_test = ddf_data.randomSplit([0.7, 0.3])\n"
   ]
  },
  {
   "cell_type": "code",
   "execution_count": null,
   "metadata": {
    "collapsed": false
   },
   "outputs": [],
   "source": [
    "# ddf_data_train.groupBy('label').count().collect()"
   ]
  },
  {
   "cell_type": "code",
   "execution_count": null,
   "metadata": {
    "collapsed": false
   },
   "outputs": [],
   "source": [
    "model_lr2 = pipe_lr1.fit(ddf_data_train) #, params={'weightCol':\"repeattrips\"})\n"
   ]
  },
  {
   "cell_type": "code",
   "execution_count": null,
   "metadata": {
    "collapsed": false
   },
   "outputs": [],
   "source": [
    "ddf_data_test_res1 = model_lr2.transform(ddf_data_test, params={'threshold':0.3})"
   ]
  },
  {
   "cell_type": "code",
   "execution_count": null,
   "metadata": {
    "collapsed": false
   },
   "outputs": [],
   "source": [
    "ddf_data_test_res1.columns"
   ]
  },
  {
   "cell_type": "code",
   "execution_count": null,
   "metadata": {
    "collapsed": false
   },
   "outputs": [],
   "source": [
    "df_data_test_res1 = ddf_data_test_res1.select(['rawPrediction', get_index_from_vector()('probability', F.lit(1)).alias('probability'), 'prediction', 'label']).toPandas()"
   ]
  },
  {
   "cell_type": "code",
   "execution_count": null,
   "metadata": {
    "collapsed": false
   },
   "outputs": [],
   "source": [
    "df_data_test_res1.head()"
   ]
  },
  {
   "cell_type": "code",
   "execution_count": null,
   "metadata": {
    "collapsed": false
   },
   "outputs": [],
   "source": [
    "plot_auc(df_data_test_res1.label, df_data_test_res1.probability.values)"
   ]
  },
  {
   "cell_type": "markdown",
   "metadata": {},
   "source": [
    "### cross-validation"
   ]
  },
  {
   "cell_type": "code",
   "execution_count": null,
   "metadata": {
    "collapsed": false
   },
   "outputs": [],
   "source": [
    "grid = ParamGridBuilder().build()\n",
    "evaluator = BinaryClassificationEvaluator()\n",
    "\n",
    "cv = CrossValidator(estimator=pipe_lr1, estimatorParamMaps=grid, evaluator=evaluator)\n",
    "\n",
    "cvModel = cv.fit(ddf_data_train)\n",
    "evaluator.evaluate(cvModel.transform(ddf_data_train))"
   ]
  },
  {
   "cell_type": "markdown",
   "metadata": {},
   "source": [
    "### fit big data!!!"
   ]
  },
  {
   "cell_type": "code",
   "execution_count": null,
   "metadata": {
    "collapsed": true
   },
   "outputs": [],
   "source": [
    "ddf_trans_agg_history = ddf_trans_agg_history.drop('customer_id')"
   ]
  },
  {
   "cell_type": "code",
   "execution_count": null,
   "metadata": {
    "collapsed": false
   },
   "outputs": [],
   "source": [
    "ddf_trans_agg_history.columns"
   ]
  },
  {
   "cell_type": "code",
   "execution_count": null,
   "metadata": {
    "collapsed": false
   },
   "outputs": [],
   "source": [
    "ddf_trans_agg_history_union_offers = ddf_trans_agg_history.unionAll(ddf_offers_union__trans_aggs.select(*ddf_trans_agg_history.columns))\n",
    "ddf_trans_agg_history_union_offers.columns"
   ]
  },
  {
   "cell_type": "code",
   "execution_count": null,
   "metadata": {
    "collapsed": true
   },
   "outputs": [],
   "source": [
    "model_transform1 = pipe_transform1.fit(ddf_trans_agg_history_union_offers)"
   ]
  },
  {
   "cell_type": "code",
   "execution_count": null,
   "metadata": {
    "collapsed": true
   },
   "outputs": [],
   "source": [
    "ddf_data = model_transform1.transform(ddf_trans_agg_history)\n",
    "ddf_data = ddf_data.select(['features','label']) #, 'repeattrips'])"
   ]
  },
  {
   "cell_type": "code",
   "execution_count": null,
   "metadata": {
    "collapsed": true
   },
   "outputs": [],
   "source": [
    "ddf_data_train = ddf_data"
   ]
  },
  {
   "cell_type": "code",
   "execution_count": null,
   "metadata": {
    "collapsed": false
   },
   "outputs": [],
   "source": [
    "ddf_data_test = model_transform1.transform(ddf_offers__trans_aggs)"
   ]
  },
  {
   "cell_type": "code",
   "execution_count": null,
   "metadata": {
    "collapsed": true
   },
   "outputs": [],
   "source": [
    "# ddf_data_train, ddf_data_test = ddf_data.randomSplit([0.7, 0.3])"
   ]
  },
  {
   "cell_type": "code",
   "execution_count": null,
   "metadata": {
    "collapsed": false
   },
   "outputs": [],
   "source": [
    "ddf_trans_agg_history_union_offers.groupBy('repeater').count().collect()"
   ]
  },
  {
   "cell_type": "code",
   "execution_count": null,
   "metadata": {
    "collapsed": false
   },
   "outputs": [],
   "source": [
    "model_lr1 = pipe_lr1.fit(ddf_data_train) #, params={'weightCol':\"repeattrips\"})"
   ]
  },
  {
   "cell_type": "code",
   "execution_count": null,
   "metadata": {
    "collapsed": true
   },
   "outputs": [],
   "source": [
    "ddf_data_test_res1 = model_lr1.transform(ddf_data_test, params={'threshold':0.3})"
   ]
  },
  {
   "cell_type": "code",
   "execution_count": null,
   "metadata": {
    "collapsed": false
   },
   "outputs": [],
   "source": [
    "ddf_data_test_res1 = ddf_data_test_res1.select(['rawPrediction', get_index_from_vector()('probability', F.lit(1)).alias('probability'), 'prediction', 'label'])"
   ]
  },
  {
   "cell_type": "code",
   "execution_count": null,
   "metadata": {
    "collapsed": false
   },
   "outputs": [],
   "source": [
    "# df_data_test_res1 = ddf_data_test_res1.sample(False, fraction=0.1).toPandas()\n",
    "df_data_test_res1 = ddf_data_test_res1.toPandas()"
   ]
  },
  {
   "cell_type": "code",
   "execution_count": null,
   "metadata": {
    "collapsed": false
   },
   "outputs": [],
   "source": [
    "df_data_test_res1.head()"
   ]
  },
  {
   "cell_type": "code",
   "execution_count": null,
   "metadata": {
    "collapsed": false
   },
   "outputs": [],
   "source": [
    "plot_auc(df_data_test_res1.label, df_data_test_res1.probability.values)"
   ]
  },
  {
   "cell_type": "markdown",
   "metadata": {},
   "source": [
    "### submission"
   ]
  },
  {
   "cell_type": "code",
   "execution_count": null,
   "metadata": {
    "collapsed": false
   },
   "outputs": [],
   "source": [
    "ddf_data_submission = model_transform2.transform(ddf_offers_submission__trans_aggs).select(['customer_id','features'])"
   ]
  },
  {
   "cell_type": "code",
   "execution_count": null,
   "metadata": {
    "collapsed": false
   },
   "outputs": [],
   "source": [
    "ddf_data_submission_res1 = model_lr2.transform(ddf_data_submission)"
   ]
  },
  {
   "cell_type": "code",
   "execution_count": null,
   "metadata": {
    "collapsed": true
   },
   "outputs": [],
   "source": [
    "df_data_submission_res1 = ddf_data_submission_res1.select(\n",
    "                [F.col('customer_id').alias('id'), get_index_from_vector()('probability', F.lit(1)).alias('repeatProbability')]).toPandas()"
   ]
  },
  {
   "cell_type": "code",
   "execution_count": null,
   "metadata": {
    "collapsed": false
   },
   "outputs": [],
   "source": [
    "df_data_submission_res1.head()"
   ]
  },
  {
   "cell_type": "code",
   "execution_count": null,
   "metadata": {
    "collapsed": false
   },
   "outputs": [],
   "source": [
    "df_data_submission_res1.to_csv(path_or_buf=main_folder+'submission/'+'submission_spark18_LR1_bd', index=False)"
   ]
  },
  {
   "cell_type": "markdown",
   "metadata": {},
   "source": [
    "## Other"
   ]
  },
  {
   "cell_type": "code",
   "execution_count": null,
   "metadata": {
    "collapsed": true
   },
   "outputs": [],
   "source": []
  },
  {
   "cell_type": "code",
   "execution_count": null,
   "metadata": {
    "collapsed": false
   },
   "outputs": [],
   "source": [
    "from pyspark.ml.classification import LogisticRegression\n",
    "lr = LogisticRegression()\n",
    "output = ParamGridBuilder() \\\n",
    "         .baseOn({lr.labelCol: 'l'}) \\\n",
    "         .baseOn([lr.predictionCol, 'p']) \\\n",
    "         .addGrid(lr.regParam, [1.0, 2.0]) \\\n",
    "         .addGrid(lr.maxIter, [1, 5]) \\\n",
    "         .build()\n",
    "            \n",
    "expected = [\n",
    "         {lr.regParam: 1.0, lr.maxIter: 1, lr.labelCol: 'l', lr.predictionCol: 'p'},\n",
    "         {lr.regParam: 2.0, lr.maxIter: 1, lr.labelCol: 'l', lr.predictionCol: 'p'},\n",
    "         {lr.regParam: 1.0, lr.maxIter: 5, lr.labelCol: 'l', lr.predictionCol: 'p'},\n",
    "         {lr.regParam: 2.0, lr.maxIter: 5, lr.labelCol: 'l', lr.predictionCol: 'p'}]\n",
    "\n",
    "len(output) == len(expected)\n",
    "all([m in expected for m in output])\n"
   ]
  },
  {
   "cell_type": "code",
   "execution_count": null,
   "metadata": {
    "collapsed": true
   },
   "outputs": [],
   "source": [
    "\n"
   ]
  },
  {
   "cell_type": "code",
   "execution_count": null,
   "metadata": {
    "collapsed": false
   },
   "outputs": [],
   "source": [
    "from pyspark.ml.classification import LogisticRegression\n",
    "from pyspark.ml.evaluation import BinaryClassificationEvaluator\n",
    "from pyspark.mllib.linalg import Vectors\n",
    "dataset = sqlContext.createDataFrame(\n",
    "     [(Vectors.dense([0.0]), 0.0),\n",
    "      (Vectors.dense([0.4]), 1.0),\n",
    "      (Vectors.dense([0.5]), 0.0),\n",
    "      (Vectors.dense([0.6]), 1.0),\n",
    "      (Vectors.dense([1.0]), 1.0)] * 10,\n",
    "     [\"features\", \"label\"])\n",
    "lr = LogisticRegression()\n",
    "\n",
    "grid = ParamGridBuilder().addGrid(lr.maxIter, [0, 1]).build()\n",
    "evaluator = BinaryClassificationEvaluator()\n",
    "\n",
    "cv = CrossValidator(estimator=lr, estimatorParamMaps=grid, evaluator=evaluator)\n",
    "cvModel = cv.fit(dataset)\n",
    "evaluator.evaluate(cvModel.transform(dataset))"
   ]
  },
  {
   "cell_type": "markdown",
   "metadata": {},
   "source": [
    "### play with RFormula"
   ]
  },
  {
   "cell_type": "code",
   "execution_count": null,
   "metadata": {
    "collapsed": false
   },
   "outputs": [],
   "source": [
    "df = sqc.createDataFrame([\n",
    "     (1.0, 1.0, \"a\",\"q\"),\n",
    "     (0.0, 2.0, \"b\",\"w\"),\n",
    "     (0.0, 3.0, \"a\",\"q\"),    \n",
    " ], [\"y\", \"x\", \"cat1\",\"cat2\"])\n",
    "df.show()\n"
   ]
  },
  {
   "cell_type": "code",
   "execution_count": null,
   "metadata": {
    "collapsed": false
   },
   "outputs": [],
   "source": [
    "rf = RFormula(formula=\"y ~ cat1\", featuresCol=\"features\", labelCol=\"label\")\n",
    "df1 = rf.fit(df).transform(df)\n",
    "df1.show()\n",
    "\n",
    "rf = RFormula(formula=\"y ~ cat1+cat2\", featuresCol=\"features\", labelCol=\"label\")\n",
    "df2 = rf.fit(df).transform(df)\n",
    "df2.show()\n",
    "\n",
    "rf = RFormula(formula=\"y ~ cat1:cat2\", featuresCol=\"features\", labelCol=\"label\")\n",
    "df3 = rf.fit(df).transform(df)\n",
    "df3.show()\n",
    "\n",
    "rf = RFormula(formula=\"y ~ cat1:x + cat2:x\", featuresCol=\"features\", labelCol=\"label\")\n",
    "df4 = rf.fit(df).transform(df)\n",
    "df4.show()"
   ]
  },
  {
   "cell_type": "code",
   "execution_count": null,
   "metadata": {
    "collapsed": false
   },
   "outputs": [],
   "source": [
    "scaler = StandardScaler(inputCol=\"features\", outputCol=\"scaledFeatures\",\n",
    "                        withStd=True, withMean=False)\n",
    "\n",
    "scalerModel = scaler.fit(df1)\n",
    "scalerModel.transform(df1).show()"
   ]
  },
  {
   "cell_type": "code",
   "execution_count": null,
   "metadata": {
    "collapsed": false
   },
   "outputs": [],
   "source": [
    "from pyspark.sql import Row\n",
    "from pyspark.mllib.linalg import Vectors\n",
    "\n",
    "df = sc.parallelize([\n",
    "     Row(label=1.0, weight=2.0, features=Vectors.dense(1.0)),\n",
    "     Row(label=0.0, weight=2.0, features=Vectors.sparse(1, [], []))]).toDF()\n",
    "df.show()"
   ]
  },
  {
   "cell_type": "code",
   "execution_count": null,
   "metadata": {
    "collapsed": true
   },
   "outputs": [],
   "source": [
    "\n",
    "test0 = sc.parallelize([Row(features=Vectors.dense(-1.0))]).toDF()\n",
    "result = model.transform(test0).head()\n",
    "result.prediction\n",
    "\n",
    "result.probability\n",
    "\n",
    "result.rawPrediction\n",
    "\n",
    "test1 = sc.parallelize([Row(features=Vectors.sparse(1, [0], [1.0]))]).toDF()\n",
    "model.transform(test1).head().prediction\n",
    "\n",
    "lr.setParams(\"vector\")"
   ]
  }
 ],
 "metadata": {
  "kernelspec": {
   "display_name": "Python 2",
   "language": "python",
   "name": "python2"
  },
  "language_info": {
   "codemirror_mode": {
    "name": "ipython",
    "version": 2
   },
   "file_extension": ".py",
   "mimetype": "text/x-python",
   "name": "python",
   "nbconvert_exporter": "python",
   "pygments_lexer": "ipython2",
   "version": "2.7.11"
  }
 },
 "nbformat": 4,
 "nbformat_minor": 0
}
