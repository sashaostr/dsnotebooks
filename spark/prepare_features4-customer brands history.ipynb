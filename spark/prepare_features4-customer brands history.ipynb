{
 "cells": [
  {
   "cell_type": "code",
   "execution_count": 1,
   "metadata": {
    "collapsed": false
   },
   "outputs": [],
   "source": [
    "import findspark\n",
    "import os\n",
    "findspark.init()\n",
    "import pyspark\n",
    "from pyspark import SparkFiles\n",
    "from pyspark import sql\n",
    "from pyspark import SparkConf\n",
    "\n",
    "from pyspark.sql import SQLContext, HiveContext\n",
    "from pyspark import SparkContext"
   ]
  },
  {
   "cell_type": "code",
   "execution_count": 2,
   "metadata": {
    "collapsed": false
   },
   "outputs": [],
   "source": [
    "from pyspark.sql import Row\n",
    "from pyspark.sql import DataFrameWriter\n",
    "from pyspark.sql import DataFrameReader\n",
    "from pyspark.sql import GroupedData\n",
    "\n",
    "from pyspark import StorageLevel\n",
    "\n",
    "from pyspark.sql import functions as F\n",
    "from pyspark.sql.functions import struct\n",
    "from pyspark.sql import GroupedData\n",
    "\n",
    "from pyspark.ml.feature import VectorAssembler, VectorIndexer"
   ]
  },
  {
   "cell_type": "code",
   "execution_count": 3,
   "metadata": {
    "collapsed": false
   },
   "outputs": [],
   "source": [
    "from functools import partial\n",
    "import collections\n",
    "import numpy as np\n",
    "\n",
    "from datasu.auc import *\n",
    "\n",
    "from datasu.dicts import *\n",
    "from datasu.files import *\n",
    "from datasu.pandas import *\n",
    "from datasu.persist import *\n",
    "from datasu.spark import *\n",
    "\n",
    "import pandas as pd"
   ]
  },
  {
   "cell_type": "code",
   "execution_count": 4,
   "metadata": {
    "collapsed": false
   },
   "outputs": [
    {
     "data": {
      "text/plain": [
       "[(u'spark.master', u'spark://spark1.ea.lab:7077'),\n",
       " (u'spark.executor.max', u'3'),\n",
       " (u'spark.driver.memory', u'12g'),\n",
       " (u'spark.submit.pyFiles',\n",
       "  u'/home/ds/.ivy2/jars/com.databricks_spark-csv_2.10-1.3.0.jar,/home/ds/.ivy2/jars/org.apache.commons_commons-csv-1.1.jar,/home/ds/.ivy2/jars/com.univocity_univocity-parsers-1.5.1.jar'),\n",
       " (u'spark.jars',\n",
       "  u'file:/home/ds/.ivy2/jars/com.databricks_spark-csv_2.10-1.3.0.jar,file:/home/ds/.ivy2/jars/org.apache.commons_commons-csv-1.1.jar,file:/home/ds/.ivy2/jars/com.univocity_univocity-parsers-1.5.1.jar'),\n",
       " (u'spark.executor.memory', u'5g'),\n",
       " (u'spark.app.name', u'prepare features'),\n",
       " (u'spark.driver.maxResultSize', u'5g'),\n",
       " (u'spark.files',\n",
       "  u'file:/home/ds/.ivy2/jars/com.databricks_spark-csv_2.10-1.3.0.jar,file:/home/ds/.ivy2/jars/org.apache.commons_commons-csv-1.1.jar,file:/home/ds/.ivy2/jars/com.univocity_univocity-parsers-1.5.1.jar'),\n",
       " (u'spark.serializer', u'org.apache.spark.serializer.KryoSerializer'),\n",
       " (u'spark.cores.max', u'28'),\n",
       " (u'spark.worker.cleanup.enabled', u'True'),\n",
       " (u'spark.python.worker.memory', u'2g'),\n",
       " (u'spark.executor.extraJavaOptions',\n",
       "  u'-XX:+PrintGCDetails -XX:+UseCompressedOops'),\n",
       " (u'spark.submit.deployMode', u'client')]"
      ]
     },
     "execution_count": 4,
     "metadata": {},
     "output_type": "execute_result"
    }
   ],
   "source": [
    "conf = SparkConf()\n",
    "conf.set('spark.driver.memory', '12g')\n",
    "conf.set('spark.python.worker.memory', '2g')\n",
    "conf.set(\"spark.driver.maxResultSize\", \"5g\")\n",
    "conf.set(\"spark.executor.max\", 3)\n",
    "conf.set('spark.executor.memory', '5g')\n",
    "conf.set(\"spark.cores.max\", 28)\n",
    "conf.set('spark.worker.cleanup.enabled', True)\n",
    "conf.set(\"spark.serializer\", \"org.apache.spark.serializer.KryoSerializer\")\n",
    "conf.set('spark.executor.extraJavaOptions', '-XX:+PrintGCDetails -XX:+UseCompressedOops')\n",
    "\n",
    "conf.setAppName('prepare features')\n",
    "conf.getAll()"
   ]
  },
  {
   "cell_type": "code",
   "execution_count": null,
   "metadata": {
    "collapsed": false
   },
   "outputs": [],
   "source": [
    "try:\n",
    "    sc.stop()\n",
    "except:\n",
    "    print 'spark context not exists'"
   ]
  },
  {
   "cell_type": "code",
   "execution_count": 6,
   "metadata": {
    "collapsed": false
   },
   "outputs": [],
   "source": [
    "   \n",
    "sc = pyspark.SparkContext(conf=conf)\n",
    "sqc = pyspark.SQLContext(sc)\n",
    "# shq = HiveContext(sc)"
   ]
  },
  {
   "cell_type": "code",
   "execution_count": null,
   "metadata": {
    "collapsed": true
   },
   "outputs": [],
   "source": []
  },
  {
   "cell_type": "code",
   "execution_count": 7,
   "metadata": {
    "collapsed": false
   },
   "outputs": [
    {
     "data": {
      "text/plain": [
       "(2, 2)"
      ]
     },
     "execution_count": 7,
     "metadata": {},
     "output_type": "execute_result"
    }
   ],
   "source": [
    "sc.defaultParallelism, sc.defaultMinPartitions"
   ]
  },
  {
   "cell_type": "code",
   "execution_count": 8,
   "metadata": {
    "collapsed": false
   },
   "outputs": [],
   "source": [
    "csv_reader = sqc.read.format('com.databricks.spark.csv').options(header='true', inferschema='true')"
   ]
  },
  {
   "cell_type": "markdown",
   "metadata": {},
   "source": [
    "## LOAD DATA"
   ]
  },
  {
   "cell_type": "code",
   "execution_count": 9,
   "metadata": {
    "collapsed": true
   },
   "outputs": [],
   "source": [
    "base_data_path = '/home/ds/dev/data/Kagle-ValuesShoppers/'\n",
    "spark_data_path = 'file://'+ base_data_path + 'spark_data/'\n",
    "transactions_name = 'transactions'"
   ]
  },
  {
   "cell_type": "code",
   "execution_count": 10,
   "metadata": {
    "collapsed": false
   },
   "outputs": [],
   "source": [
    "df_coupons = pd.read_csv(base_data_path+'offers')[['offer','category','company','brand','offervalue','quantity']]\n",
    "df_offers_ids = pd.read_csv(base_data_path+'trainHistory').rename(columns={'id': 'customer_id'})\n",
    "df_offers_ids_subm = pd.read_csv(base_data_path+'testHistory').rename(columns={'id': 'customer_id'})\n",
    "# df_trans_all = pd.read_csv(base_data_path+'transactions_reduced_category').rename(columns={'id': 'customer_id'})"
   ]
  },
  {
   "cell_type": "code",
   "execution_count": 11,
   "metadata": {
    "collapsed": false
   },
   "outputs": [],
   "source": [
    "df_offers_hist = pd.merge(df_offers_ids, df_coupons, on=['offer'])\n",
    "df_offers_hist = df_offers_hist[['customer_id','chain','offer','market','category','company','brand','offerdate','offervalue','quantity','repeattrips','repeater']]\n",
    "\n",
    "df_offers_subm = pd.merge(df_offers_ids_subm, df_coupons, on=['offer'])\n",
    "df_offers_subm = df_offers_subm[['customer_id','chain','offer','market','category','company','brand','offerdate','offervalue','quantity']]"
   ]
  },
  {
   "cell_type": "code",
   "execution_count": 2,
   "metadata": {
    "collapsed": false
   },
   "outputs": [
    {
     "ename": "NameError",
     "evalue": "name 'csv_reader' is not defined",
     "output_type": "error",
     "traceback": [
      "\u001b[1;31m---------------------------------------------------------------------------\u001b[0m",
      "\u001b[1;31mNameError\u001b[0m                                 Traceback (most recent call last)",
      "\u001b[1;32m<ipython-input-2-55583c4a5529>\u001b[0m in \u001b[0;36m<module>\u001b[1;34m()\u001b[0m\n\u001b[1;32m----> 1\u001b[1;33m \u001b[0mddf_transactions\u001b[0m \u001b[1;33m=\u001b[0m \u001b[0mcsv_reader\u001b[0m\u001b[1;33m.\u001b[0m\u001b[0mload\u001b[0m\u001b[1;33m(\u001b[0m\u001b[0mbase_data_path\u001b[0m\u001b[1;33m+\u001b[0m\u001b[0mtransactions_name\u001b[0m\u001b[1;33m,\u001b[0m \u001b[0msamplingRatio\u001b[0m\u001b[1;33m=\u001b[0m\u001b[1;36m0.02\u001b[0m\u001b[1;33m)\u001b[0m\u001b[1;33m\u001b[0m\u001b[0m\n\u001b[0m\u001b[0;32m      2\u001b[0m \u001b[0mddf_transactions\u001b[0m\u001b[1;33m.\u001b[0m\u001b[0mrdd\u001b[0m\u001b[1;33m.\u001b[0m\u001b[0msetName\u001b[0m\u001b[1;33m(\u001b[0m\u001b[0mtransactions_name\u001b[0m\u001b[1;33m)\u001b[0m\u001b[1;33m\u001b[0m\u001b[0m\n\u001b[0;32m      3\u001b[0m \u001b[0mddf_transactions\u001b[0m\u001b[1;33m.\u001b[0m\u001b[0malias\u001b[0m\u001b[1;33m(\u001b[0m\u001b[1;34m'transactions'\u001b[0m\u001b[1;33m)\u001b[0m\u001b[1;33m\u001b[0m\u001b[0m\n\u001b[0;32m      4\u001b[0m \u001b[1;33m\u001b[0m\u001b[0m\n\u001b[0;32m      5\u001b[0m \u001b[0mddf_transactions\u001b[0m\u001b[1;33m.\u001b[0m\u001b[0mrdd\u001b[0m\u001b[1;33m.\u001b[0m\u001b[0mgetNumPartitions\u001b[0m\u001b[1;33m(\u001b[0m\u001b[1;33m)\u001b[0m\u001b[1;33m\u001b[0m\u001b[0m\n",
      "\u001b[1;31mNameError\u001b[0m: name 'csv_reader' is not defined"
     ]
    }
   ],
   "source": [
    "ddf_transactions = csv_reader.load(base_data_path+transactions_name, samplingRatio=0.02)\n",
    "ddf_transactions.rdd.setName(transactions_name)\n",
    "ddf_transactions.alias('transactions')\n",
    "\n",
    "ddf_transactions.rdd.getNumPartitions()\n",
    "ddf_transactions = ddf_transactions.withColumnRenamed('id','customer_id')"
   ]
  },
  {
   "cell_type": "code",
   "execution_count": 1,
   "metadata": {
    "collapsed": false
   },
   "outputs": [
    {
     "ename": "NameError",
     "evalue": "name 'ddf_transactions' is not defined",
     "output_type": "error",
     "traceback": [
      "\u001b[1;31m---------------------------------------------------------------------------\u001b[0m",
      "\u001b[1;31mNameError\u001b[0m                                 Traceback (most recent call last)",
      "\u001b[1;32m<ipython-input-1-cff9080a9a8b>\u001b[0m in \u001b[0;36m<module>\u001b[1;34m()\u001b[0m\n\u001b[1;32m----> 1\u001b[1;33m \u001b[0mddf_transactions_small\u001b[0m\u001b[1;33m,\u001b[0m \u001b[0mddf_transactions_big\u001b[0m \u001b[1;33m=\u001b[0m \u001b[0mddf_transactions\u001b[0m\u001b[1;33m.\u001b[0m\u001b[0mrandomSplit\u001b[0m\u001b[1;33m(\u001b[0m\u001b[1;33m[\u001b[0m\u001b[1;36m0.2\u001b[0m\u001b[1;33m,\u001b[0m\u001b[1;36m0.8\u001b[0m\u001b[1;33m]\u001b[0m\u001b[1;33m)\u001b[0m\u001b[1;33m\u001b[0m\u001b[0m\n\u001b[0m",
      "\u001b[1;31mNameError\u001b[0m: name 'ddf_transactions' is not defined"
     ]
    }
   ],
   "source": [
    "ddf_transactions_small, ddf_transactions_big = ddf_transactions.randomSplit([0.2,0.8])"
   ]
  },
  {
   "cell_type": "code",
   "execution_count": 38,
   "metadata": {
    "collapsed": false
   },
   "outputs": [],
   "source": [
    "ddf_trans = ddf_transactions_small\n",
    "# ddf_trans.cache()"
   ]
  },
  {
   "cell_type": "code",
   "execution_count": 39,
   "metadata": {
    "collapsed": false
   },
   "outputs": [
    {
     "data": {
      "text/plain": [
       "349655789"
      ]
     },
     "execution_count": 39,
     "metadata": {},
     "output_type": "execute_result"
    }
   ],
   "source": [
    "ddf_trans.count()"
   ]
  },
  {
   "cell_type": "code",
   "execution_count": 16,
   "metadata": {
    "collapsed": true
   },
   "outputs": [],
   "source": [
    "cat_cols = ['chain','market','category','company','brand']\n",
    "num_cols = ['offervalue','quantity']"
   ]
  },
  {
   "cell_type": "markdown",
   "metadata": {},
   "source": [
    "## EXPLORE DATA"
   ]
  },
  {
   "cell_type": "code",
   "execution_count": null,
   "metadata": {
    "collapsed": false
   },
   "outputs": [],
   "source": [
    "ddf_trans.show(5)"
   ]
  },
  {
   "cell_type": "code",
   "execution_count": null,
   "metadata": {
    "collapsed": false
   },
   "outputs": [],
   "source": [
    "ddf_trans.select('dept').distinct().count()"
   ]
  },
  {
   "cell_type": "code",
   "execution_count": 53,
   "metadata": {
    "collapsed": false
   },
   "outputs": [
    {
     "data": {
      "text/plain": [
       "836"
      ]
     },
     "execution_count": 53,
     "metadata": {},
     "output_type": "execute_result"
    }
   ],
   "source": [
    "ddf_trans.select('category').distinct().count()"
   ]
  },
  {
   "cell_type": "code",
   "execution_count": null,
   "metadata": {
    "collapsed": false
   },
   "outputs": [],
   "source": [
    "ddf_trans.select('company').distinct().count()"
   ]
  },
  {
   "cell_type": "code",
   "execution_count": 54,
   "metadata": {
    "collapsed": false
   },
   "outputs": [
    {
     "data": {
      "text/plain": [
       "35689"
      ]
     },
     "execution_count": 54,
     "metadata": {},
     "output_type": "execute_result"
    }
   ],
   "source": [
    "ddf_trans.select('brand').distinct().count()"
   ]
  },
  {
   "cell_type": "code",
   "execution_count": 52,
   "metadata": {
    "collapsed": false
   },
   "outputs": [
    {
     "data": {
      "text/plain": [
       "311541"
      ]
     },
     "execution_count": 52,
     "metadata": {},
     "output_type": "execute_result"
    }
   ],
   "source": [
    "ddf_trans.select('customer_id').distinct().count()"
   ]
  },
  {
   "cell_type": "code",
   "execution_count": null,
   "metadata": {
    "collapsed": true
   },
   "outputs": [],
   "source": []
  },
  {
   "cell_type": "markdown",
   "metadata": {},
   "source": [
    "## PREPARE DATA"
   ]
  },
  {
   "cell_type": "code",
   "execution_count": null,
   "metadata": {
    "collapsed": false
   },
   "outputs": [],
   "source": [
    "ddf_offers_hist = sqc.createDataFrame(df_offers_hist)\n",
    "ddf_offers_subm = sqc.createDataFrame(df_offers_subm)"
   ]
  },
  {
   "cell_type": "code",
   "execution_count": null,
   "metadata": {
    "collapsed": true
   },
   "outputs": [],
   "source": [
    "ddf_offers_hist_ids = ddf_offers_hist.select('customer_id')\n",
    "ddf_offers_all_ids = ddf_offers_hist_ids.unionAll(ddf_offers_subm.select('customer_id')).distinct()\n",
    "\n",
    "ddf_transactions = ddf_transactions.join(ddf_offers_all_ids, on='customer_id', how='leftsemi')"
   ]
  },
  {
   "cell_type": "code",
   "execution_count": null,
   "metadata": {
    "collapsed": false
   },
   "outputs": [],
   "source": [
    "ddf_transactions = ddf_transactions.repartition(12000)\n",
    "ddf_transactions.rdd.getNumPartitions()"
   ]
  },
  {
   "cell_type": "markdown",
   "metadata": {},
   "source": [
    "\n",
    "## PREPARE FEATURES"
   ]
  },
  {
   "cell_type": "code",
   "execution_count": null,
   "metadata": {
    "collapsed": false
   },
   "outputs": [],
   "source": [
    "summ_grouping = {'total':F.sum, 'average':F.avg }\n",
    "count_grouping = {'count':F.count }\n",
    "\n",
    "# count_agg = partial(get_ddf_aggs, agg_columns=['customer_id'], agg_funcs=count_grouping, prefix='agg_')\n",
    "# total_avg_agg = partial(get_ddf_aggs, agg_columns=['productsize','purchasequantity','purchaseamount'], agg_funcs=summ_grouping, prefix='agg_')"
   ]
  },
  {
   "cell_type": "code",
   "execution_count": null,
   "metadata": {
    "collapsed": false
   },
   "outputs": [],
   "source": [
    "# grpby_columns = ['customer_id','brand', 'category', 'dept']\n",
    "grpby_columns = ['customer_id','category']\n",
    "grpby_columns_name = ['customer_id','brand']\n"
   ]
  },
  {
   "cell_type": "markdown",
   "metadata": {},
   "source": [
    "## effective pivot"
   ]
  },
  {
   "cell_type": "code",
   "execution_count": null,
   "metadata": {
    "collapsed": false
   },
   "outputs": [],
   "source": [
    "import pyspark.sql.types as sql_types\n",
    "# import pyspark.sql.\n",
    "\n",
    "from pyspark.mllib.linalg import *\n",
    "from pyspark.mllib.linalg.distributed import *\n",
    "from pyspark.mllib.linalg import VectorUDT, MatrixUDT, Vectors, Matrices"
   ]
  },
  {
   "cell_type": "code",
   "execution_count": 40,
   "metadata": {
    "collapsed": false
   },
   "outputs": [
    {
     "name": "stdout",
     "output_type": "stream",
     "text": [
      "+-----------+-----+----+--------+----------+-----+----------+-----------+--------------+----------------+--------------+\n",
      "|customer_id|chain|dept|category|   company|brand|      date|productsize|productmeasure|purchasequantity|purchaseamount|\n",
      "+-----------+-----+----+--------+----------+-----+----------+-----------+--------------+----------------+--------------+\n",
      "|      86246|  205|   7|     707|1078778070|12564|2012-03-02|       12.0|            OZ|               1|          7.59|\n",
      "|      86246|  205|  63|    6319| 107654575|17876|2012-03-02|       64.0|            OZ|               1|          1.59|\n",
      "+-----------+-----+----+--------+----------+-----+----------+-----------+--------------+----------------+--------------+\n",
      "only showing top 2 rows\n",
      "\n"
     ]
    }
   ],
   "source": [
    "ddf_trans.show(2)"
   ]
  },
  {
   "cell_type": "code",
   "execution_count": 41,
   "metadata": {
    "collapsed": true
   },
   "outputs": [],
   "source": [
    "total_avg_agg = partial(get_ddf_aggs, agg_columns=['productsize','purchasequantity'], agg_funcs={'total':F.sum}, prefix='agg_', cast_to='double')"
   ]
  },
  {
   "cell_type": "code",
   "execution_count": 42,
   "metadata": {
    "collapsed": false
   },
   "outputs": [],
   "source": [
    "ddf_pivot1 = aggregate_and_pivot_into_vector(ddf_trans, id_column='customer_id', \n",
    "                                              pivot_column='category', \n",
    "                                              aggs=total_avg_agg(['customer_id', 'category']))\n",
    "                                              "
   ]
  },
  {
   "cell_type": "code",
   "execution_count": 43,
   "metadata": {
    "collapsed": true
   },
   "outputs": [
    {
     "data": {
      "text/plain": [
       "Row(customer_id=98468631, features=SparseVector(1672, {0: 15.0, 1: 23.0, 2: 35.0, 3: 9.0, 4: 57.0, 5: 5.0, 6: 4.0, 7: 37.0, 8: 5.0, 9: 1.0, 10: 2.0, 11: 16.0, 12: 11.0, 15: 7.0, 16: 4.0, 17: 4.0, 18: 5.0, 20: 33.0, 21: 2.0, 22: 6.0, 25: 2.0, 26: 2.0, 28: 3.0, 29: 4.0, 32: 4.0, 33: 4.0, 36: 3.0, 37: 1.0, 40: 13.0, 41: 7.0, 47: 1.0, 48: 9.0, 49: 2.0, 51: 1.0, 52: 1.0, 54: 43.0, 55: 5.0, 58: 8.0, 59: 1.0, 61: 2.0, 62: 1.0, 63: 2.0, 68: 16.0, 71: 2.0, 72: 36.0, 78: 1.0, 79: 1.0, 80: 3.0, 83: 8.0, 84: 1.0, 85: 2.0, 89: 152.0, 90: 17.0, 96: 16.0, 99: 3.0, 100: 6.0, 102: 4.0, 104: 1.0, 105: 2.0, 106: 13.0, 107: 3.0, 109: 17.0, 114: 1.0, 116: 2.0, 118: 4.0, 127: 1.0, 129: 2.0, 130: 1.0, 134: 5.0, 135: 1.0, 137: 2.0, 138: 12.0, 141: 1.0, 142: 4.0, 145: 1.0, 147: 3.0, 148: 2.0, 149: 6.0, 150: 3.0, 152: 5.0, 153: 1.0, 154: 1.0, 156: 3.0, 157: 2.0, 160: 7.0, 162: 6.0, 164: 4.0, 165: 6.0, 166: 1.0, 168: 7.0, 169: 1.0, 176: 3.0, 177: 3.0, 182: 1.0, 183: 1.0, 185: 4.0, 190: 2.0, 191: 3.0, 194: 1.0, 195: 1.0, 196: 1.0, 197: 1.0, 198: 1.0, 199: 4.0, 204: 1.0, 205: 1.0, 207: 1.0, 212: 1.0, 215: 2.0, 217: 2.0, 221: 10.0, 224: 11.0, 225: 2.0, 226: 2.0, 227: 1.0, 232: 2.0, 237: 2.0, 239: 1.0, 241: 1.0, 242: 1.0, 249: 1.0, 250: 2.0, 252: 1.0, 255: 2.0, 262: 1.0, 264: 2.0, 265: 6.0, 270: 15.0, 290: 3.0, 291: 2.0, 298: 5.0, 301: 1.0, 302: 3.0, 306: 1.0, 309: 1.0, 313: 2.0, 315: 8.0, 319: 2.0, 329: 15.0, 335: 14.0, 336: 5.0, 338: 3.0, 342: 6.0, 358: 4.0, 375: 2.0, 382: 4.0, 392: 2.0, 394: 2.0, 406: 2.0, 411: 3.0, 426: 2.0, 432: 8.0, 442: 6.0, 444: 4.0, 445: 1.0, 447: 1.0, 499: 1.0, 502: 2.0, 511: 10.0, 520: 1.0, 531: 1.0, 543: 4.0, 547: 1.0, 557: 1.0, 572: 1.0, 617: 1.0, 626: 3.0, 657: 4.0, 836: 9.0, 837: 449.5, 838: 3232.0, 839: 79.9, 840: 591.3, 841: 66.0, 842: 31.0, 843: 444.65, 844: 80.0, 845: 16.0, 846: 23.0, 847: 144.5, 848: 27.8, 851: 41.0, 852: 44.0, 853: 9.0, 854: 249.75, 856: 203.5, 857: 811.2, 858: 240.0, 861: 16.0, 862: 2.0, 864: 345.0, 865: 128.0, 868: 8.15, 869: 120.0, 872: 9.1, 873: 40.0, 876: 1615.6, 877: 7.6, 883: 6.1, 884: 110.5, 885: 48.0, 887: 14.5, 888: 4.0, 890: 5700.0, 891: 76.5, 894: 76.0, 895: 16.5, 897: 87.78, 898: 6.5, 899: 5.3, 904: 219.0, 907: 250.0, 908: 356.93, 914: 10.0, 915: 10.0, 916: 31.0, 919: 174.9, 920: 16.0, 921: 360.0, 925: 2416.0, 926: 15.74, 932: 1048.0, 935: 17.0, 936: 449.4, 938: 97.3, 940: 18.0, 941: 82.7, 942: 58.12, 943: 24.0, 945: 116.0, 950: 18.4, 952: 96.0, 954: 33.5, 963: 100.0, 965: 12.0, 966: 67.6, 970: 70.58, 971: 15.0, 973: 38.0, 974: 994.0, 977: 16.9, 978: 51.6, 979: 32.0, 981: 24.0, 983: 19.5, 984: 18.0, 985: 33.5, 986: 700.0, 988: 766.0, 989: 20.0, 990: 96.0, 992: 13.32, 993: 32.0, 996: 10.0, 998: 74.2, 1000: 32.0, 1001: 59.8, 1002: 28.0, 1004: 29.41, 1005: 3.4, 1012: 34.5, 1013: 23.25, 1018: 10.0, 1019: 1.0, 1021: 44.8, 1025: 22.0, 1026: 4.0, 1027: 13.3, 1030: 33.8, 1031: 24.0, 1032: 9.0, 1033: 14.1, 1034: 16.0, 1035: 100.0, 1040: 6.38, 1041: 8.0, 1043: 3.27, 1048: 9.0, 1051: 48.0, 1053: 47.6, 1057: 231.15, 1060: 84.5, 1061: 16.5, 1062: 22.0, 1063: 10.0, 1068: 22.5, 1073: 60.0, 1075: 1.0, 1077: 41.0, 1078: 0.15, 1085: 24.0, 1086: 8.0, 1088: 27.0, 1091: 4.0, 1098: 10.0, 1100: 288.0, 1101: 128.0, 1106: 78.0, 1126: 27.0, 1127: 15.25, 1134: 57.5, 1137: 24.0, 1138: 48.0, 1142: 4.0, 1145: 12.4, 1149: 44.0, 1151: 82.0, 1155: 20.0, 1165: 76.34, 1171: 48.0, 1172: 5.0, 1174: 26.0, 1178: 87.0, 1194: 9.3, 1211: 5.2, 1218: 2.0, 1228: 2.0, 1230: 13.7, 1242: 13.0, 1247: 170.0, 1262: 8.5, 1268: 40.0, 1278: 4.0, 1280: 64.8, 1281: 14.0, 1283: 32.0, 1335: 4.0, 1338: 12.0, 1347: 112.5, 1356: 12.0, 1367: 40.0, 1379: 28.31, 1383: 1.0, 1393: 180.0, 1408: 4.0, 1453: 9.0, 1462: 24.0, 1493: 135.2}))"
      ]
     },
     "execution_count": 43,
     "metadata": {},
     "output_type": "execute_result"
    }
   ],
   "source": [
    "ddf_pivot1.first()"
   ]
  },
  {
   "cell_type": "code",
   "execution_count": 44,
   "metadata": {
    "collapsed": false
   },
   "outputs": [
    {
     "data": {
      "text/plain": [
       "[Column<cast((sum(productsize),mode=Complete,isDistinct=false) as double) AS agg_customer_id_brand_productsize_total#180>,\n",
       " Column<cast((sum(purchasequantity),mode=Complete,isDistinct=false) as double) AS agg_customer_id_brand_purchasequantity_total#181>]"
      ]
     },
     "execution_count": 44,
     "metadata": {},
     "output_type": "execute_result"
    }
   ],
   "source": [
    "total_avg_agg(['customer_id', 'brand'])"
   ]
  },
  {
   "cell_type": "code",
   "execution_count": 45,
   "metadata": {
    "collapsed": false
   },
   "outputs": [],
   "source": [
    "ddf_pivot2 = aggregate_and_pivot_into_vector(ddf_trans, id_column='customer_id', \n",
    "                                              pivot_column='brand', \n",
    "                                              aggs=total_avg_agg(['customer_id', 'brand']))                                              "
   ]
  },
  {
   "cell_type": "code",
   "execution_count": 46,
   "metadata": {
    "collapsed": true
   },
   "outputs": [
    {
     "data": {
      "text/plain": [
       "Row(customer_id=98468631, features=SparseVector(71378, {0: 15.0, 1: 14.0, 2: 1.0, 3: 1.0, 5: 3.0, 6: 7.0, 7: 1.0, 9: 3.0, 10: 11.0, 11: 11.0, 12: 2.0, 14: 2.0, 15: 1.0, 17: 1.0, 18: 1.0, 19: 5.0, 22: 5.0, 23: 2.0, 25: 2.0, 27: 4.0, 29: 1.0, 30: 1.0, 31: 18.0, 37: 12.0, 41: 1.0, 42: 4.0, 44: 1.0, 45: 2.0, 46: 10.0, 47: 13.0, 50: 135.0, 52: 7.0, 53: 4.0, 56: 33.0, 60: 5.0, 62: 6.0, 65: 2.0, 66: 1.0, 67: 1.0, 69: 3.0, 70: 4.0, 72: 1.0, 75: 2.0, 79: 4.0, 82: 13.0, 92: 17.0, 97: 2.0, 100: 7.0, 102: 4.0, 103: 3.0, 112: 4.0, 113: 1.0, 122: 1.0, 123: 2.0, 127: 1.0, 128: 3.0, 129: 1.0, 135: 4.0, 136: 4.0, 144: 6.0, 146: 1.0, 147: 2.0, 148: 3.0, 159: 2.0, 167: 1.0, 174: 3.0, 176: 14.0, 182: 2.0, 183: 2.0, 186: 4.0, 187: 1.0, 188: 1.0, 189: 1.0, 190: 2.0, 196: 1.0, 201: 1.0, 209: 2.0, 212: 7.0, 213: 7.0, 214: 6.0, 217: 1.0, 218: 4.0, 222: 15.0, 228: 2.0, 232: 17.0, 235: 1.0, 238: 1.0, 243: 3.0, 247: 2.0, 248: 1.0, 249: 1.0, 261: 7.0, 262: 12.0, 265: 1.0, 266: 4.0, 267: 1.0, 271: 1.0, 273: 3.0, 274: 1.0, 275: 2.0, 276: 1.0, 278: 1.0, 279: 1.0, 281: 7.0, 283: 6.0, 287: 2.0, 291: 1.0, 295: 1.0, 298: 1.0, 300: 1.0, 301: 1.0, 304: 7.0, 322: 2.0, 331: 7.0, 338: 1.0, 350: 1.0, 354: 2.0, 358: 3.0, 359: 1.0, 363: 4.0, 370: 6.0, 377: 1.0, 399: 1.0, 400: 13.0, 410: 3.0, 412: 1.0, 421: 2.0, 422: 4.0, 427: 1.0, 431: 1.0, 438: 2.0, 439: 3.0, 443: 3.0, 449: 4.0, 458: 3.0, 459: 8.0, 470: 1.0, 481: 3.0, 485: 14.0, 498: 1.0, 515: 1.0, 523: 1.0, 547: 2.0, 550: 1.0, 561: 1.0, 573: 2.0, 575: 2.0, 589: 1.0, 594: 1.0, 600: 152.0, 611: 1.0, 627: 1.0, 632: 1.0, 672: 4.0, 681: 1.0, 687: 35.0, 697: 1.0, 713: 2.0, 725: 17.0, 730: 1.0, 733: 9.0, 746: 2.0, 751: 2.0, 758: 2.0, 765: 1.0, 767: 4.0, 776: 3.0, 785: 1.0, 799: 1.0, 813: 1.0, 818: 3.0, 819: 4.0, 824: 1.0, 832: 1.0, 834: 1.0, 841: 2.0, 869: 1.0, 934: 1.0, 940: 5.0, 982: 1.0, 1019: 1.0, 1044: 1.0, 1053: 1.0, 1065: 1.0, 1122: 1.0, 1178: 5.0, 1256: 2.0, 1259: 1.0, 1282: 2.0, 1468: 1.0, 1515: 3.0, 1552: 1.0, 1565: 1.0, 1574: 3.0, 1615: 1.0, 1678: 1.0, 1693: 1.0, 1798: 1.0, 1885: 1.0, 1894: 1.0, 1955: 1.0, 1974: 1.0, 2066: 1.0, 2096: 1.0, 2099: 2.0, 2208: 1.0, 2301: 4.0, 2333: 6.0, 2471: 1.0, 2549: 1.0, 2922: 1.0, 3497: 1.0, 3702: 1.0, 5019: 1.0, 5390: 1.0, 7415: 3.0, 9148: 1.0, 10482: 1.0, 35689: 9.0, 35690: 53.0, 35691: 18.0, 35692: 18.4, 35694: 48.0, 35695: 87.0, 35696: 8.0, 35698: 66.1, 35699: 84.5, 35700: 100.5, 35701: 10.0, 35703: 29.75, 35704: 40.0, 35706: 16.0, 35707: 15.5, 35708: 28.0, 35711: 33.3, 35712: 24.5, 35714: 22.2, 35716: 11.0, 35718: 16.0, 35719: 16.0, 35720: 244.45, 35726: 1251.2, 35730: 2.0, 35731: 30.5, 35733: 1.5, 35734: 120.0, 35735: 91.6, 35736: 1083.0, 35739: 2248.0, 35741: 6.0, 35742: 64.8, 35745: 203.5, 35749: 21.8, 35751: 50.0, 35754: 1.0, 35755: 100.0, 35756: 2.0, 35758: 60.0, 35759: 144.0, 35761: 33.8, 35764: 432.0, 35768: 9.3, 35771: 155.9, 35781: 116.0, 35786: 48.0, 35789: 92.93, 35791: 49.0, 35792: 156.0, 35801: 5.0, 35802: 14.1, 35811: 6.38, 35812: 21.0, 35816: 10.0, 35817: 24.0, 35818: 7.5, 35824: 35.5, 35825: 17.3, 35833: 86.0, 35835: 7.5, 35836: 4.0, 35837: 5.0, 35848: 26.0, 35856: 0.18, 35863: 31.0, 35865: 65.0, 35871: 65.0, 35872: 28.0, 35875: 2.0, 35876: 20.0, 35877: 10.0, 35878: 5.32, 35879: 27.6, 35885: 18.0, 35890: 10.0, 35898: 33.8, 35901: 49.5, 35902: 87.0, 35903: 75.0, 35906: 10.0, 35907: 32.8, 35911: 76.34, 35913: 32.0, 35917: 12.0, 35921: 168.0, 35924: 100.0, 35927: 41.0, 35932: 12.1, 35936: 3.1, 35937: 28.0, 35938: 10.0, 35950: 66.0, 35951: 107.0, 35954: 13.8, 35955: 100.0, 35956: 3.27, 35960: 6.0, 35962: 90.0, 35963: 10.0, 35964: 149.4, 35965: 9.0, 35967: 20.0, 35968: 4.0, 35970: 181.65, 35972: 128.0, 35976: 13.14, 35980: 30.0, 35984: 30.0, 35987: 4.75, 35989: 0.15, 35990: 12.2, 35993: 76.4, 36011: 30.0, 36020: 16.8, 36027: 2.1, 36039: 6.0, 36043: 16.07, 36047: 45.0, 36048: 30.0, 36052: 64.0, 36059: 20.4, 36066: 6.0, 36088: 12.0, 36089: 1024.0, 36099: 45.1, 36101: 15.0, 36110: 32.0, 36111: 24.0, 36116: 7.0, 36120: 6.5, 36127: 18.0, 36128: 4.34, 36132: 30.0, 36133: 22.0, 36138: 56.0, 36147: 36.6, 36148: 40.0, 36159: 32.0, 36170: 10.5, 36174: 48.0, 36187: 9.0, 36204: 22.0, 36212: 12.5, 36236: 5.3, 36239: 18.5, 36250: 4.0, 36262: 25.5, 36264: 48.0, 36278: 11.4, 36283: 3.0, 36289: 8897.85, 36300: 16.0, 36316: 16.0, 36321: 8.0, 36361: 42.0, 36370: 240.0, 36376: 2352.3, 36386: 12.0, 36402: 87.78, 36414: 1024.0, 36419: 8.0, 36422: 4.32, 36435: 360.0, 36440: 47.6, 36447: 811.2, 36454: 16.9, 36456: 28.31, 36465: 19.5, 36474: 1.0, 36488: 12.0, 36502: 27.0, 36507: 48.0, 36508: 170.0, 36513: 12.0, 36521: 1.55, 36523: 3.4, 36530: 2.98, 36558: 7.9, 36623: 13.8, 36629: 76.0, 36671: 16.0, 36708: 9.0, 36733: 20.0, 36742: 3.25, 36754: 14.2, 36811: 1.0, 36867: 61.2, 36945: 40.0, 36948: 32.0, 36971: 9.25, 37157: 180.0, 37204: 101.4, 37241: 10.0, 37254: 24.0, 37263: 170.0, 37304: 105.0, 37367: 10.0, 37382: 5.0, 37487: 24.0, 37574: 16.5, 37583: 33.8, 37644: 144.0, 37663: 27.0, 37755: 1.0, 37785: 4.0, 37788: 23.8, 37897: 1.0, 37990: 9.0, 38022: 1.9, 38160: 14.0, 38238: 4.0, 38611: 12.5, 39186: 108.0, 39391: 22.0, 40708: 32.0, 41079: 3.52, 43104: 3.0, 44837: 1.0, 46171: 50.7, 49746: 32.0}))"
      ]
     },
     "execution_count": 46,
     "metadata": {},
     "output_type": "execute_result"
    }
   ],
   "source": [
    "ddf_pivot2.first()"
   ]
  },
  {
   "cell_type": "code",
   "execution_count": 47,
   "metadata": {
    "collapsed": false
   },
   "outputs": [],
   "source": [
    "res = merge_features(ddfs=[ddf_pivot1,ddf_pivot2], join_column='customer_id', merge_column='features')"
   ]
  },
  {
   "cell_type": "code",
   "execution_count": 48,
   "metadata": {
    "collapsed": false
   },
   "outputs": [
    {
     "data": {
      "text/plain": [
       "Row(customer_id=98468631, features=SparseVector(73050, {0: 15.0, 1: 23.0, 2: 35.0, 3: 9.0, 4: 57.0, 5: 5.0, 6: 4.0, 7: 37.0, 8: 5.0, 9: 1.0, 10: 2.0, 11: 16.0, 12: 11.0, 15: 7.0, 16: 4.0, 17: 4.0, 18: 5.0, 20: 33.0, 21: 2.0, 22: 6.0, 25: 2.0, 26: 2.0, 28: 3.0, 29: 4.0, 32: 4.0, 33: 4.0, 36: 3.0, 37: 1.0, 40: 13.0, 41: 7.0, 47: 1.0, 48: 9.0, 49: 2.0, 51: 1.0, 52: 1.0, 54: 43.0, 55: 5.0, 58: 8.0, 59: 1.0, 61: 2.0, 62: 1.0, 63: 2.0, 68: 16.0, 71: 2.0, 72: 36.0, 78: 1.0, 79: 1.0, 80: 3.0, 83: 8.0, 84: 1.0, 85: 2.0, 89: 152.0, 90: 17.0, 96: 16.0, 99: 3.0, 100: 6.0, 102: 4.0, 104: 1.0, 105: 2.0, 106: 13.0, 107: 3.0, 109: 17.0, 114: 1.0, 116: 2.0, 118: 4.0, 127: 1.0, 129: 2.0, 130: 1.0, 134: 5.0, 135: 1.0, 137: 2.0, 138: 12.0, 141: 1.0, 142: 4.0, 145: 1.0, 147: 3.0, 148: 2.0, 149: 6.0, 150: 3.0, 152: 5.0, 153: 1.0, 154: 1.0, 156: 3.0, 157: 2.0, 160: 7.0, 162: 6.0, 164: 4.0, 165: 6.0, 166: 1.0, 168: 7.0, 169: 1.0, 176: 3.0, 177: 3.0, 182: 1.0, 183: 1.0, 185: 4.0, 190: 2.0, 191: 3.0, 194: 1.0, 195: 1.0, 196: 1.0, 197: 1.0, 198: 1.0, 199: 4.0, 204: 1.0, 205: 1.0, 207: 1.0, 212: 1.0, 215: 2.0, 217: 2.0, 221: 10.0, 224: 11.0, 225: 2.0, 226: 2.0, 227: 1.0, 232: 2.0, 237: 2.0, 239: 1.0, 241: 1.0, 242: 1.0, 249: 1.0, 250: 2.0, 252: 1.0, 255: 2.0, 262: 1.0, 264: 2.0, 265: 6.0, 270: 15.0, 290: 3.0, 291: 2.0, 298: 5.0, 301: 1.0, 302: 3.0, 306: 1.0, 309: 1.0, 313: 2.0, 315: 8.0, 319: 2.0, 329: 15.0, 335: 14.0, 336: 5.0, 338: 3.0, 342: 6.0, 358: 4.0, 375: 2.0, 382: 4.0, 392: 2.0, 394: 2.0, 406: 2.0, 411: 3.0, 426: 2.0, 432: 8.0, 442: 6.0, 444: 4.0, 445: 1.0, 447: 1.0, 499: 1.0, 502: 2.0, 511: 10.0, 520: 1.0, 531: 1.0, 543: 4.0, 547: 1.0, 557: 1.0, 572: 1.0, 617: 1.0, 626: 3.0, 657: 4.0, 836: 9.0, 837: 449.5, 838: 3232.0, 839: 79.9, 840: 591.3, 841: 66.0, 842: 31.0, 843: 444.65, 844: 80.0, 845: 16.0, 846: 23.0, 847: 144.5, 848: 27.8, 851: 41.0, 852: 44.0, 853: 9.0, 854: 249.75, 856: 203.5, 857: 811.2, 858: 240.0, 861: 16.0, 862: 2.0, 864: 345.0, 865: 128.0, 868: 8.15, 869: 120.0, 872: 9.1, 873: 40.0, 876: 1615.6, 877: 7.6, 883: 6.1, 884: 110.5, 885: 48.0, 887: 14.5, 888: 4.0, 890: 5700.0, 891: 76.5, 894: 76.0, 895: 16.5, 897: 87.78, 898: 6.5, 899: 5.3, 904: 219.0, 907: 250.0, 908: 356.93, 914: 10.0, 915: 10.0, 916: 31.0, 919: 174.9, 920: 16.0, 921: 360.0, 925: 2416.0, 926: 15.74, 932: 1048.0, 935: 17.0, 936: 449.4, 938: 97.3, 940: 18.0, 941: 82.7, 942: 58.12, 943: 24.0, 945: 116.0, 950: 18.4, 952: 96.0, 954: 33.5, 963: 100.0, 965: 12.0, 966: 67.6, 970: 70.58, 971: 15.0, 973: 38.0, 974: 994.0, 977: 16.9, 978: 51.6, 979: 32.0, 981: 24.0, 983: 19.5, 984: 18.0, 985: 33.5, 986: 700.0, 988: 766.0, 989: 20.0, 990: 96.0, 992: 13.32, 993: 32.0, 996: 10.0, 998: 74.2, 1000: 32.0, 1001: 59.8, 1002: 28.0, 1004: 29.41, 1005: 3.4, 1012: 34.5, 1013: 23.25, 1018: 10.0, 1019: 1.0, 1021: 44.8, 1025: 22.0, 1026: 4.0, 1027: 13.3, 1030: 33.8, 1031: 24.0, 1032: 9.0, 1033: 14.1, 1034: 16.0, 1035: 100.0, 1040: 6.38, 1041: 8.0, 1043: 3.27, 1048: 9.0, 1051: 48.0, 1053: 47.6, 1057: 231.15, 1060: 84.5, 1061: 16.5, 1062: 22.0, 1063: 10.0, 1068: 22.5, 1073: 60.0, 1075: 1.0, 1077: 41.0, 1078: 0.15, 1085: 24.0, 1086: 8.0, 1088: 27.0, 1091: 4.0, 1098: 10.0, 1100: 288.0, 1101: 128.0, 1106: 78.0, 1126: 27.0, 1127: 15.25, 1134: 57.5, 1137: 24.0, 1138: 48.0, 1142: 4.0, 1145: 12.4, 1149: 44.0, 1151: 82.0, 1155: 20.0, 1165: 76.34, 1171: 48.0, 1172: 5.0, 1174: 26.0, 1178: 87.0, 1194: 9.3, 1211: 5.2, 1218: 2.0, 1228: 2.0, 1230: 13.7, 1242: 13.0, 1247: 170.0, 1262: 8.5, 1268: 40.0, 1278: 4.0, 1280: 64.8, 1281: 14.0, 1283: 32.0, 1335: 4.0, 1338: 12.0, 1347: 112.5, 1356: 12.0, 1367: 40.0, 1379: 28.31, 1383: 1.0, 1393: 180.0, 1408: 4.0, 1453: 9.0, 1462: 24.0, 1493: 135.2, 1672: 15.0, 1673: 14.0, 1674: 1.0, 1675: 1.0, 1677: 3.0, 1678: 7.0, 1679: 1.0, 1681: 3.0, 1682: 11.0, 1683: 11.0, 1684: 2.0, 1686: 2.0, 1687: 1.0, 1689: 1.0, 1690: 1.0, 1691: 5.0, 1694: 5.0, 1695: 2.0, 1697: 2.0, 1699: 4.0, 1701: 1.0, 1702: 1.0, 1703: 18.0, 1709: 12.0, 1713: 1.0, 1714: 4.0, 1716: 1.0, 1717: 2.0, 1718: 10.0, 1719: 13.0, 1722: 135.0, 1724: 7.0, 1725: 4.0, 1728: 33.0, 1732: 5.0, 1734: 6.0, 1737: 2.0, 1738: 1.0, 1739: 1.0, 1741: 3.0, 1742: 4.0, 1744: 1.0, 1747: 2.0, 1751: 4.0, 1754: 13.0, 1764: 17.0, 1769: 2.0, 1772: 7.0, 1774: 4.0, 1775: 3.0, 1784: 4.0, 1785: 1.0, 1794: 1.0, 1795: 2.0, 1799: 1.0, 1800: 3.0, 1801: 1.0, 1807: 4.0, 1808: 4.0, 1816: 6.0, 1818: 1.0, 1819: 2.0, 1820: 3.0, 1831: 2.0, 1839: 1.0, 1846: 3.0, 1848: 14.0, 1854: 2.0, 1855: 2.0, 1858: 4.0, 1859: 1.0, 1860: 1.0, 1861: 1.0, 1862: 2.0, 1868: 1.0, 1873: 1.0, 1881: 2.0, 1884: 7.0, 1885: 7.0, 1886: 6.0, 1889: 1.0, 1890: 4.0, 1894: 15.0, 1900: 2.0, 1904: 17.0, 1907: 1.0, 1910: 1.0, 1915: 3.0, 1919: 2.0, 1920: 1.0, 1921: 1.0, 1933: 7.0, 1934: 12.0, 1937: 1.0, 1938: 4.0, 1939: 1.0, 1943: 1.0, 1945: 3.0, 1946: 1.0, 1947: 2.0, 1948: 1.0, 1950: 1.0, 1951: 1.0, 1953: 7.0, 1955: 6.0, 1959: 2.0, 1963: 1.0, 1967: 1.0, 1970: 1.0, 1972: 1.0, 1973: 1.0, 1976: 7.0, 1994: 2.0, 2003: 7.0, 2010: 1.0, 2022: 1.0, 2026: 2.0, 2030: 3.0, 2031: 1.0, 2035: 4.0, 2042: 6.0, 2049: 1.0, 2071: 1.0, 2072: 13.0, 2082: 3.0, 2084: 1.0, 2093: 2.0, 2094: 4.0, 2099: 1.0, 2103: 1.0, 2110: 2.0, 2111: 3.0, 2115: 3.0, 2121: 4.0, 2130: 3.0, 2131: 8.0, 2142: 1.0, 2153: 3.0, 2157: 14.0, 2170: 1.0, 2187: 1.0, 2195: 1.0, 2219: 2.0, 2222: 1.0, 2233: 1.0, 2245: 2.0, 2247: 2.0, 2261: 1.0, 2266: 1.0, 2272: 152.0, 2283: 1.0, 2299: 1.0, 2304: 1.0, 2344: 4.0, 2353: 1.0, 2359: 35.0, 2369: 1.0, 2385: 2.0, 2397: 17.0, 2402: 1.0, 2405: 9.0, 2418: 2.0, 2423: 2.0, 2430: 2.0, 2437: 1.0, 2439: 4.0, 2448: 3.0, 2457: 1.0, 2471: 1.0, 2485: 1.0, 2490: 3.0, 2491: 4.0, 2496: 1.0, 2504: 1.0, 2506: 1.0, 2513: 2.0, 2541: 1.0, 2606: 1.0, 2612: 5.0, 2654: 1.0, 2691: 1.0, 2716: 1.0, 2725: 1.0, 2737: 1.0, 2794: 1.0, 2850: 5.0, 2928: 2.0, 2931: 1.0, 2954: 2.0, 3140: 1.0, 3187: 3.0, 3224: 1.0, 3237: 1.0, 3246: 3.0, 3287: 1.0, 3350: 1.0, 3365: 1.0, 3470: 1.0, 3557: 1.0, 3566: 1.0, 3627: 1.0, 3646: 1.0, 3738: 1.0, 3768: 1.0, 3771: 2.0, 3880: 1.0, 3973: 4.0, 4005: 6.0, 4143: 1.0, 4221: 1.0, 4594: 1.0, 5169: 1.0, 5374: 1.0, 6691: 1.0, 7062: 1.0, 9087: 3.0, 10820: 1.0, 12154: 1.0, 37361: 9.0, 37362: 53.0, 37363: 18.0, 37364: 18.4, 37366: 48.0, 37367: 87.0, 37368: 8.0, 37370: 66.1, 37371: 84.5, 37372: 100.5, 37373: 10.0, 37375: 29.75, 37376: 40.0, 37378: 16.0, 37379: 15.5, 37380: 28.0, 37383: 33.3, 37384: 24.5, 37386: 22.2, 37388: 11.0, 37390: 16.0, 37391: 16.0, 37392: 244.45, 37398: 1251.2, 37402: 2.0, 37403: 30.5, 37405: 1.5, 37406: 120.0, 37407: 91.6, 37408: 1083.0, 37411: 2248.0, 37413: 6.0, 37414: 64.8, 37417: 203.5, 37421: 21.8, 37423: 50.0, 37426: 1.0, 37427: 100.0, 37428: 2.0, 37430: 60.0, 37431: 144.0, 37433: 33.8, 37436: 432.0, 37440: 9.3, 37443: 155.9, 37453: 116.0, 37458: 48.0, 37461: 92.93, 37463: 49.0, 37464: 156.0, 37473: 5.0, 37474: 14.1, 37483: 6.38, 37484: 21.0, 37488: 10.0, 37489: 24.0, 37490: 7.5, 37496: 35.5, 37497: 17.3, 37505: 86.0, 37507: 7.5, 37508: 4.0, 37509: 5.0, 37520: 26.0, 37528: 0.18, 37535: 31.0, 37537: 65.0, 37543: 65.0, 37544: 28.0, 37547: 2.0, 37548: 20.0, 37549: 10.0, 37550: 5.32, 37551: 27.6, 37557: 18.0, 37562: 10.0, 37570: 33.8, 37573: 49.5, 37574: 87.0, 37575: 75.0, 37578: 10.0, 37579: 32.8, 37583: 76.34, 37585: 32.0, 37589: 12.0, 37593: 168.0, 37596: 100.0, 37599: 41.0, 37604: 12.1, 37608: 3.1, 37609: 28.0, 37610: 10.0, 37622: 66.0, 37623: 107.0, 37626: 13.8, 37627: 100.0, 37628: 3.27, 37632: 6.0, 37634: 90.0, 37635: 10.0, 37636: 149.4, 37637: 9.0, 37639: 20.0, 37640: 4.0, 37642: 181.65, 37644: 128.0, 37648: 13.14, 37652: 30.0, 37656: 30.0, 37659: 4.75, 37661: 0.15, 37662: 12.2, 37665: 76.4, 37683: 30.0, 37692: 16.8, 37699: 2.1, 37711: 6.0, 37715: 16.07, 37719: 45.0, 37720: 30.0, 37724: 64.0, 37731: 20.4, 37738: 6.0, 37760: 12.0, 37761: 1024.0, 37771: 45.1, 37773: 15.0, 37782: 32.0, 37783: 24.0, 37788: 7.0, 37792: 6.5, 37799: 18.0, 37800: 4.34, 37804: 30.0, 37805: 22.0, 37810: 56.0, 37819: 36.6, 37820: 40.0, 37831: 32.0, 37842: 10.5, 37846: 48.0, 37859: 9.0, 37876: 22.0, 37884: 12.5, 37908: 5.3, 37911: 18.5, 37922: 4.0, 37934: 25.5, 37936: 48.0, 37950: 11.4, 37955: 3.0, 37961: 8897.85, 37972: 16.0, 37988: 16.0, 37993: 8.0, 38033: 42.0, 38042: 240.0, 38048: 2352.3, 38058: 12.0, 38074: 87.78, 38086: 1024.0, 38091: 8.0, 38094: 4.32, 38107: 360.0, 38112: 47.6, 38119: 811.2, 38126: 16.9, 38128: 28.31, 38137: 19.5, 38146: 1.0, 38160: 12.0, 38174: 27.0, 38179: 48.0, 38180: 170.0, 38185: 12.0, 38193: 1.55, 38195: 3.4, 38202: 2.98, 38230: 7.9, 38295: 13.8, 38301: 76.0, 38343: 16.0, 38380: 9.0, 38405: 20.0, 38414: 3.25, 38426: 14.2, 38483: 1.0, 38539: 61.2, 38617: 40.0, 38620: 32.0, 38643: 9.25, 38829: 180.0, 38876: 101.4, 38913: 10.0, 38926: 24.0, 38935: 170.0, 38976: 105.0, 39039: 10.0, 39054: 5.0, 39159: 24.0, 39246: 16.5, 39255: 33.8, 39316: 144.0, 39335: 27.0, 39427: 1.0, 39457: 4.0, 39460: 23.8, 39569: 1.0, 39662: 9.0, 39694: 1.9, 39832: 14.0, 39910: 4.0, 40283: 12.5, 40858: 108.0, 41063: 22.0, 42380: 32.0, 42751: 3.52, 44776: 3.0, 46509: 1.0, 47843: 50.7, 51418: 32.0}))"
      ]
     },
     "execution_count": 48,
     "metadata": {},
     "output_type": "execute_result"
    }
   ],
   "source": [
    "res.first()"
   ]
  },
  {
   "cell_type": "code",
   "execution_count": 51,
   "metadata": {
    "collapsed": false
   },
   "outputs": [
    {
     "data": {
      "text/plain": [
       "311541"
      ]
     },
     "execution_count": 51,
     "metadata": {},
     "output_type": "execute_result"
    }
   ],
   "source": [
    "res.count()"
   ]
  },
  {
   "cell_type": "code",
   "execution_count": 49,
   "metadata": {
    "collapsed": true
   },
   "outputs": [],
   "source": [
    "write_ddf_to_csv(res, spark_data_path+'ddf_res')"
   ]
  },
  {
   "cell_type": "code",
   "execution_count": 50,
   "metadata": {
    "collapsed": false
   },
   "outputs": [
    {
     "data": {
      "text/plain": [
       "'Tue Feb 23 20:23:43 2016'"
      ]
     },
     "execution_count": 50,
     "metadata": {},
     "output_type": "execute_result"
    }
   ],
   "source": [
    "import time\n",
    "time.ctime()\n"
   ]
  },
  {
   "cell_type": "markdown",
   "metadata": {},
   "source": [
    "### pivot agg customer_category"
   ]
  },
  {
   "cell_type": "code",
   "execution_count": null,
   "metadata": {
    "collapsed": true
   },
   "outputs": [],
   "source": []
  },
  {
   "cell_type": "code",
   "execution_count": null,
   "metadata": {
    "collapsed": false
   },
   "outputs": [],
   "source": [
    "ddf_agg_customer_category = pivot_aggregate(ddf_transactions, grpby_columns=['customer_id','category'],\n",
    "                                            aggs=count_agg(grpby_columns),\n",
    "                                            pivot_column='category', pivot_filter_support=None)"
   ]
  },
  {
   "cell_type": "code",
   "execution_count": null,
   "metadata": {
    "collapsed": true
   },
   "outputs": [],
   "source": [
    "ddf_agg_customer_category.columns"
   ]
  },
  {
   "cell_type": "code",
   "execution_count": null,
   "metadata": {
    "collapsed": false
   },
   "outputs": [],
   "source": [
    "ddf_agg_customer_category.rdd.setName('ddf_agg_customer_category') \\\n",
    "                         .persist(StorageLevel.MEMORY_AND_DISK_SER)"
   ]
  },
  {
   "cell_type": "markdown",
   "metadata": {
    "collapsed": false
   },
   "source": [
    "## merge with offers history"
   ]
  },
  {
   "cell_type": "code",
   "execution_count": null,
   "metadata": {
    "collapsed": true
   },
   "outputs": [],
   "source": [
    "ddf_agg_customer_category = rename_columns(ddf_agg_customer_category, prefix = 'left', separator='.', columns=cat_cols)"
   ]
  },
  {
   "cell_type": "code",
   "execution_count": null,
   "metadata": {
    "collapsed": false
   },
   "outputs": [],
   "source": [
    "assemble_columns = list(set(ddf_agg_customer_category.columns) -set(filter_columns('left.*',ddf_agg_customer_category)) \\\n",
    "                    -set(ddf_offers_hist.columns) )+ cat_cols+num_cols"
   ]
  },
  {
   "cell_type": "code",
   "execution_count": null,
   "metadata": {
    "collapsed": true
   },
   "outputs": [],
   "source": [
    "vecAssembler = VectorAssembler(inputCols=assemble_columns, outputCol=\"features\")"
   ]
  },
  {
   "cell_type": "markdown",
   "metadata": {},
   "source": [
    "#### train"
   ]
  },
  {
   "cell_type": "code",
   "execution_count": null,
   "metadata": {
    "collapsed": false
   },
   "outputs": [],
   "source": [
    "ddf_offers__ohagg_cid_category = ddf_offers_hist.join(ddf_agg_customer_category,\n",
    "                                                     on=['customer_id'], how='left_outer')"
   ]
  },
  {
   "cell_type": "code",
   "execution_count": null,
   "metadata": {
    "collapsed": false
   },
   "outputs": [],
   "source": [
    "ddf_offers__ohagg_cid_category = vecAssembler.transform(ddf_offers__ohagg_cid_category) \\\n",
    "                                             .select(['customer_id','features', 'repeater']+cat_cols)"
   ]
  },
  {
   "cell_type": "code",
   "execution_count": null,
   "metadata": {
    "collapsed": false
   },
   "outputs": [],
   "source": [
    "write_ddf_to_csv(ddf_offers__ohagg_cid_category, spark_data_path+'ddf_offers__ohagg_cid_category')"
   ]
  },
  {
   "cell_type": "code",
   "execution_count": null,
   "metadata": {
    "collapsed": false
   },
   "outputs": [],
   "source": [
    "ddf_offers__ohagg_cid_category.show(3)"
   ]
  },
  {
   "cell_type": "markdown",
   "metadata": {},
   "source": [
    "#### submission"
   ]
  },
  {
   "cell_type": "code",
   "execution_count": null,
   "metadata": {
    "collapsed": false
   },
   "outputs": [],
   "source": [
    "ddf_offers_subm__ohagg_cid_category = ddf_offers_subm.join(ddf_agg_customer_category,\n",
    "                                                      on=['customer_id'], how='left_outer')"
   ]
  },
  {
   "cell_type": "code",
   "execution_count": null,
   "metadata": {
    "collapsed": false
   },
   "outputs": [],
   "source": [
    "ddf_offers_subm__ohagg_cid_category = vecAssembler.transform(ddf_offers_subm__ohagg_cid_category) \\\n",
    "                                    .select(['customer_id', 'features', F.lit('f').alias('repeater')]+cat_cols)"
   ]
  },
  {
   "cell_type": "code",
   "execution_count": null,
   "metadata": {
    "collapsed": false
   },
   "outputs": [],
   "source": [
    "write_ddf_to_csv(ddf_offers_subm__ohagg_cid_category, spark_data_path+'ddf_offers_subm__ohagg_cid_category')\n"
   ]
  },
  {
   "cell_type": "markdown",
   "metadata": {},
   "source": [
    "#### persist"
   ]
  },
  {
   "cell_type": "code",
   "execution_count": null,
   "metadata": {
    "collapsed": true
   },
   "outputs": [],
   "source": []
  },
  {
   "cell_type": "code",
   "execution_count": null,
   "metadata": {
    "collapsed": false
   },
   "outputs": [],
   "source": [
    "def pivot_aggregate(ddf, grpby_columns, pivot_column, aggs, pivot_filter_values=None, pivot_filter_support=None):\n",
    "    if pivot_filter_support and not pivot_filter_values:        \n",
    "        frequent = ddf.freqItems([pivot_column], support=pivot_filter_support).first().asDict()[pivot_column+'_freqItems']\n",
    "        pivot_filter_values = map(str,frequent)\n",
    "    \n",
    "    ddf_gr = ddf.groupBy(*grpby_columns)\n",
    "    ddf_pivot = ddf_gr.pivot(pivot_column, pivot_filter_values)\n",
    "    ddf_agg = ddf_pivot.agg(*aggs)\n",
    "    return ddf_agg\n",
    "    "
   ]
  },
  {
   "cell_type": "code",
   "execution_count": null,
   "metadata": {
    "collapsed": false
   },
   "outputs": [],
   "source": [
    "def rename_columns(df, prefix='', suffix='', separator='_', columns=None):\n",
    "    prefix = prefix + separator if prefix else prefix\n",
    "    suffix = separator + suffix if suffix else suffix\n",
    "    columns = df.columns if columns is None else columns\n",
    "    df1 = df.select('*')\n",
    "    for c in columns:\n",
    "        df1 = df1.withColumnRenamed(c, prefix + c + suffix)\n",
    "    return df1       \n",
    "\n",
    "\n",
    "def filter_columns(expr, df):\n",
    "    import re\n",
    "    return filter(lambda c: re.match(expr,c), df.columns)"
   ]
  },
  {
   "cell_type": "code",
   "execution_count": null,
   "metadata": {
    "collapsed": true
   },
   "outputs": [],
   "source": []
  }
 ],
 "metadata": {
  "kernelspec": {
   "display_name": "Python 2",
   "language": "python",
   "name": "python2"
  },
  "language_info": {
   "codemirror_mode": {
    "name": "ipython",
    "version": 2
   },
   "file_extension": ".py",
   "mimetype": "text/x-python",
   "name": "python",
   "nbconvert_exporter": "python",
   "pygments_lexer": "ipython2",
   "version": "2.7.11"
  }
 },
 "nbformat": 4,
 "nbformat_minor": 0
}
