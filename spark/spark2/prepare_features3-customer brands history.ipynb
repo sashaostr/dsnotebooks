{
 "cells": [
  {
   "cell_type": "code",
   "execution_count": 12,
   "metadata": {
    "collapsed": false
   },
   "outputs": [],
   "source": [
    "import findspark\n",
    "import os\n",
    "findspark.init()\n",
    "import pyspark\n",
    "from pyspark import SparkFiles\n",
    "from pyspark import sql\n",
    "from pyspark import SparkConf\n",
    "\n",
    "from pyspark.sql import SQLContext, HiveContext\n",
    "from pyspark import SparkContext\n"
   ]
  },
  {
   "cell_type": "code",
   "execution_count": 13,
   "metadata": {
    "collapsed": false
   },
   "outputs": [],
   "source": [
    "from pyspark.sql import Row\n",
    "from pyspark.sql import DataFrameWriter\n",
    "from pyspark.sql import DataFrameReader\n",
    "from pyspark.sql import GroupedData\n",
    "\n",
    "from pyspark import StorageLevel\n",
    "\n",
    "from pyspark.sql import functions as F\n",
    "from pyspark.sql.functions import struct\n",
    "from pyspark.sql import GroupedData\n",
    "\n",
    "from pyspark.ml.feature import *"
   ]
  },
  {
   "cell_type": "code",
   "execution_count": 14,
   "metadata": {
    "collapsed": false
   },
   "outputs": [],
   "source": [
    "from functools import partial\n",
    "import collections\n",
    "import numpy as np\n",
    "\n",
    "from datasu.auc import *\n",
    "\n",
    "from datasu.dicts import *\n",
    "from datasu.files import *\n",
    "from datasu.pandas import *\n",
    "from datasu.persist import *\n",
    "from datasu.spark import *\n",
    "\n",
    "import pandas as pd"
   ]
  },
  {
   "cell_type": "code",
   "execution_count": 22,
   "metadata": {
    "collapsed": false
   },
   "outputs": [
    {
     "data": {
      "text/plain": [
       "[(u'spark.master', u'spark://spark1.ea.lab:7077'),\n",
       " (u'spark.executor.max', u'3'),\n",
       " (u'spark.driver.memory', u'12g'),\n",
       " (u'spark.submit.pyFiles',\n",
       "  u'/home/ds/.ivy2/jars/com.databricks_spark-csv_2.10-1.3.0.jar,/home/ds/.ivy2/jars/org.apache.commons_commons-csv-1.1.jar,/home/ds/.ivy2/jars/com.univocity_univocity-parsers-1.5.1.jar'),\n",
       " (u'spark.executor.memory', u'4g'),\n",
       " (u'spark.jars',\n",
       "  u'file:/home/ds/.ivy2/jars/com.databricks_spark-csv_2.10-1.3.0.jar,file:/home/ds/.ivy2/jars/org.apache.commons_commons-csv-1.1.jar,file:/home/ds/.ivy2/jars/com.univocity_univocity-parsers-1.5.1.jar'),\n",
       " (u'spark.app.name', u'prepare features'),\n",
       " (u'spark.driver.maxResultSize', u'5g'),\n",
       " (u'spark.files',\n",
       "  u'file:/home/ds/.ivy2/jars/com.databricks_spark-csv_2.10-1.3.0.jar,file:/home/ds/.ivy2/jars/org.apache.commons_commons-csv-1.1.jar,file:/home/ds/.ivy2/jars/com.univocity_univocity-parsers-1.5.1.jar'),\n",
       " (u'spark.serializer', u'org.apache.spark.serializer.KryoSerializer'),\n",
       " (u'spark.cores.max', u'28'),\n",
       " (u'spark.python.worker.memory', u'2g'),\n",
       " (u'spark.executor.extraJavaOptions',\n",
       "  u'-XX:+PrintGCDetails -XX:+UseCompressedOops'),\n",
       " (u'spark.submit.deployMode', u'client')]"
      ]
     },
     "execution_count": 22,
     "metadata": {},
     "output_type": "execute_result"
    }
   ],
   "source": [
    "conf = SparkConf()\n",
    "conf.set('spark.executor.memory', '4g')\n",
    "conf.set('spark.driver.memory', '12g')\n",
    "conf.set('spark.python.worker.memory', '2g')\n",
    "conf.set(\"spark.driver.maxResultSize\", \"5g\")\n",
    "conf.set(\"spark.executor.max\", 3)\n",
    "conf.set(\"spark.cores.max\", 28)\n",
    "conf.set(\"spark.serializer\", \"org.apache.spark.serializer.KryoSerializer\")\n",
    "conf.set('spark.executor.extraJavaOptions', '-XX:+PrintGCDetails -XX:+UseCompressedOops')\n",
    "\n",
    "conf.setAppName('prepare features')\n",
    "conf.getAll()"
   ]
  },
  {
   "cell_type": "code",
   "execution_count": 23,
   "metadata": {
    "collapsed": false
   },
   "outputs": [],
   "source": [
    "try:\n",
    "    sc.stop()\n",
    "except:\n",
    "    print 'spark context not exists'"
   ]
  },
  {
   "cell_type": "code",
   "execution_count": 24,
   "metadata": {
    "collapsed": false
   },
   "outputs": [],
   "source": [
    "   \n",
    "sc = pyspark.SparkContext(conf=conf)\n",
    "sqc = pyspark.SQLContext(sc)\n",
    "# psc = PSparkContext(sc)"
   ]
  },
  {
   "cell_type": "code",
   "execution_count": null,
   "metadata": {
    "collapsed": false
   },
   "outputs": [],
   "source": [
    "sc.defaultParallelism, sc.defaultMinPartitions"
   ]
  },
  {
   "cell_type": "code",
   "execution_count": null,
   "metadata": {
    "collapsed": false
   },
   "outputs": [],
   "source": [
    "csv_reader = sqc.read.format('com.databricks.spark.csv').options(header='true', inferschema='true')"
   ]
  },
  {
   "cell_type": "markdown",
   "metadata": {},
   "source": [
    "## LOAD DATA"
   ]
  },
  {
   "cell_type": "code",
   "execution_count": null,
   "metadata": {
    "collapsed": true
   },
   "outputs": [],
   "source": [
    "base_data_path = '/home/ds/dev/data/Kagle-ValuesShoppers/'\n",
    "spark_data_path = 'file://'+ base_data_path + 'spark_data/'\n",
    "transactions_name = 'transactions'"
   ]
  },
  {
   "cell_type": "code",
   "execution_count": null,
   "metadata": {
    "collapsed": false
   },
   "outputs": [],
   "source": [
    "df_coupons = pd.read_csv(base_data_path+'offers')[['offer','category','company','brand','offervalue','quantity']]\n",
    "df_offers_ids = pd.read_csv(base_data_path+'trainHistory').rename(columns={'id': 'customer_id'})\n",
    "df_offers_ids_subm = pd.read_csv(base_data_path+'testHistory').rename(columns={'id': 'customer_id'})\n",
    "# df_trans_all = pd.read_csv(base_data_path+'transactions_reduced_category').rename(columns={'id': 'customer_id'})"
   ]
  },
  {
   "cell_type": "code",
   "execution_count": null,
   "metadata": {
    "collapsed": false
   },
   "outputs": [],
   "source": [
    "df_offers_hist = pd.merge(df_offers_ids, df_coupons, on=['offer'])\n",
    "df_offers_hist = df_offers_hist[['customer_id','chain','offer','market','category','company','brand','offerdate','offervalue','quantity','repeattrips','repeater']]\n",
    "\n",
    "df_offers_subm = pd.merge(df_offers_ids_subm, df_coupons, on=['offer'])\n",
    "df_offers_subm = df_offers_subm[['customer_id','chain','offer','market','category','company','brand','offerdate','offervalue','quantity']]"
   ]
  },
  {
   "cell_type": "code",
   "execution_count": null,
   "metadata": {
    "collapsed": false
   },
   "outputs": [],
   "source": [
    "ddf_transactions = csv_reader.load(base_data_path+transactions_name, samplingRatio=None)\n",
    "ddf_transactions.rdd.setName(transactions_name)\n",
    "ddf_transactions.alias('transactions')\n",
    "\n",
    "ddf_transactions.rdd.getNumPartitions()\n",
    "ddf_transactions = ddf_transactions.withColumnRenamed('id','customer_id')"
   ]
  },
  {
   "cell_type": "code",
   "execution_count": null,
   "metadata": {
    "collapsed": true
   },
   "outputs": [],
   "source": [
    "cat_cols = ['chain','market','category','company','brand']\n",
    "num_cols = ['offervalue','quantity']"
   ]
  },
  {
   "cell_type": "markdown",
   "metadata": {},
   "source": [
    "## EXPLORE DATA"
   ]
  },
  {
   "cell_type": "code",
   "execution_count": null,
   "metadata": {
    "collapsed": false
   },
   "outputs": [],
   "source": [
    "ddf_transactions.show(5)"
   ]
  },
  {
   "cell_type": "code",
   "execution_count": null,
   "metadata": {
    "collapsed": false
   },
   "outputs": [],
   "source": [
    "ddf_transactions.select('dept').distinct().count()"
   ]
  },
  {
   "cell_type": "code",
   "execution_count": null,
   "metadata": {
    "collapsed": false
   },
   "outputs": [],
   "source": [
    "ddf_transactions.select('category').distinct().count()"
   ]
  },
  {
   "cell_type": "code",
   "execution_count": null,
   "metadata": {
    "collapsed": false
   },
   "outputs": [],
   "source": [
    "ddf_transactions.select('company').distinct().count()"
   ]
  },
  {
   "cell_type": "code",
   "execution_count": null,
   "metadata": {
    "collapsed": false
   },
   "outputs": [],
   "source": [
    "ddf_transactions.select('brand').distinct().count()"
   ]
  },
  {
   "cell_type": "code",
   "execution_count": null,
   "metadata": {
    "collapsed": false
   },
   "outputs": [],
   "source": [
    "ddf_transactions.select('customer_id').distinct().count()"
   ]
  },
  {
   "cell_type": "code",
   "execution_count": null,
   "metadata": {
    "collapsed": true
   },
   "outputs": [],
   "source": []
  },
  {
   "cell_type": "markdown",
   "metadata": {},
   "source": [
    "## PREPARE DATA"
   ]
  },
  {
   "cell_type": "code",
   "execution_count": null,
   "metadata": {
    "collapsed": false
   },
   "outputs": [],
   "source": [
    "ddf_offers_hist_ids = sqc.createDataFrame(df_offers_hist).select('customer_id')\n",
    "ddf_offers_all_ids = ddf_offers_hist_ids.unionAll(sqc.createDataFrame(df_offers_subm).select('customer_id')).distinct()"
   ]
  },
  {
   "cell_type": "code",
   "execution_count": null,
   "metadata": {
    "collapsed": true
   },
   "outputs": [],
   "source": [
    "ddf_transactions = ddf_transactions.join(ddf_offers_all_ids, on='customer_id', how='leftsemi')\n",
    "ddf_transactions = ddf_transactions.repartition(10000)"
   ]
  },
  {
   "cell_type": "code",
   "execution_count": null,
   "metadata": {
    "collapsed": false
   },
   "outputs": [],
   "source": [
    "ddf_transactions.rdd.getNumPartitions()"
   ]
  },
  {
   "cell_type": "markdown",
   "metadata": {},
   "source": [
    "\n",
    "## PREPARE FEATURES"
   ]
  },
  {
   "cell_type": "code",
   "execution_count": null,
   "metadata": {
    "collapsed": false
   },
   "outputs": [],
   "source": [
    "summ_grouping = {'total':F.sum, 'average':F.avg }\n",
    "count_grouping = {'count':F.count }\n",
    "\n",
    "count_agg = partial(get_ddf_aggs, agg_columns=['customer_id'], agg_funcs=count_grouping, prefix='agg_')\n",
    "total_avg_agg = partial(get_ddf_aggs, agg_columns=['productsize','purchasequantity','purchaseamount'], agg_funcs=summ_grouping, prefix='agg_')"
   ]
  },
  {
   "cell_type": "code",
   "execution_count": null,
   "metadata": {
    "collapsed": false
   },
   "outputs": [],
   "source": [
    "# grpby_columns = ['customer_id','brand', 'category', 'dept']\n",
    "grpby_columns = ['customer_id','brand','category']\n",
    "grpby_columns_name = ['customer_id','brand']\n"
   ]
  },
  {
   "cell_type": "markdown",
   "metadata": {},
   "source": [
    "### agg customer_brand "
   ]
  },
  {
   "cell_type": "code",
   "execution_count": null,
   "metadata": {
    "collapsed": true
   },
   "outputs": [],
   "source": [
    "ddf_trans_agg_customer_brand = ddf_transactions.groupBy(grpby_columns) \\\n",
    "                                        .agg(*(count_agg(grpby_columns_name) + total_avg_agg(grpby_columns_name)))"
   ]
  },
  {
   "cell_type": "code",
   "execution_count": null,
   "metadata": {
    "collapsed": false
   },
   "outputs": [],
   "source": [
    "ddf_trans_agg_customer_brand.columns"
   ]
  },
  {
   "cell_type": "code",
   "execution_count": null,
   "metadata": {
    "collapsed": false
   },
   "outputs": [],
   "source": [
    "ddf_transactions.columns"
   ]
  },
  {
   "cell_type": "markdown",
   "metadata": {},
   "source": [
    "### support 1%"
   ]
  },
  {
   "cell_type": "code",
   "execution_count": null,
   "metadata": {
    "collapsed": false
   },
   "outputs": [],
   "source": [
    "frequent_brands_support1 = ddf_transactions.freqItems(['brand'], support=0.1).first().asDict()['brand_freqItems']\n",
    "frequent_brands_support1 = map(str,frequent_brands_support1)"
   ]
  },
  {
   "cell_type": "code",
   "execution_count": null,
   "metadata": {
    "collapsed": false
   },
   "outputs": [],
   "source": [
    "ddf_onehot_trans_agg_customer_brand_fs1 = ddf_transactions.groupBy('customer_id') \\\n",
    "                                                    .pivot('brand', frequent_brands_support1).count()"
   ]
  },
  {
   "cell_type": "code",
   "execution_count": null,
   "metadata": {
    "collapsed": false
   },
   "outputs": [],
   "source": [
    "def pivot_aggregate(ddf, grpby_columns, pivot_column, aggs, pivot_filter_values=None, pivot_filter_support=None):\n",
    "    if pivot_filter_support and not pivot_filter_values:        \n",
    "        frequent = ddf.freqItems([pivot_column], support=pivot_filter_support).first().asDict()[pivot_column+'_freqItems']\n",
    "        pivot_filter_values = map(str,frequent)\n",
    "    \n",
    "    ddf_gr = ddf.groupBy(*grpby_columns)\n",
    "    ddf_pivot = ddf_gr.pivot(pivot_column, pivot_filter_values)\n",
    "    ddf_agg = ddf_pivot.agg(*aggs)\n",
    "    return ddf_agg\n",
    "    "
   ]
  },
  {
   "cell_type": "code",
   "execution_count": null,
   "metadata": {
    "collapsed": true
   },
   "outputs": [],
   "source": [
    "ddf_onehot_trans_agg_customer_brand_fs1 = ddf_transactions.groupBy('customer_id') \n",
    "ddf_onehot_trans_agg_customer_brand_fs1.pivot()"
   ]
  },
  {
   "cell_type": "markdown",
   "metadata": {},
   "source": [
    "### support 0.1%"
   ]
  },
  {
   "cell_type": "code",
   "execution_count": null,
   "metadata": {
    "collapsed": true
   },
   "outputs": [],
   "source": [
    "frequent_brands_support01 = ddf_transactions.freqItems(['brand'], support=0.01).first().asDict()['brand_freqItems']\n",
    "frequent_brands_support01 = map(str,frequent_brands_support01)"
   ]
  },
  {
   "cell_type": "code",
   "execution_count": null,
   "metadata": {
    "collapsed": true
   },
   "outputs": [],
   "source": [
    "frequent_brands_support01 = pivot_aggregate()"
   ]
  },
  {
   "cell_type": "code",
   "execution_count": null,
   "metadata": {
    "collapsed": true
   },
   "outputs": [],
   "source": [
    "ddf_onehot_trans_agg_customer_brand_fs01 = ddf_transactions.groupBy('customer_id') \\\n",
    "                                                    .pivot('brand', frequent_brands_support01).count()"
   ]
  },
  {
   "cell_type": "markdown",
   "metadata": {},
   "source": [
    "### support 0.01%"
   ]
  },
  {
   "cell_type": "code",
   "execution_count": null,
   "metadata": {
    "collapsed": true
   },
   "outputs": [],
   "source": [
    "frequent_brands_support001 = ddf_transactions.freqItems(['brand'], support=0.001).first().asDict()['brand_freqItems']\n",
    "frequent_brands_support001 = map(str,frequent_brands_support001)"
   ]
  },
  {
   "cell_type": "code",
   "execution_count": null,
   "metadata": {
    "collapsed": true
   },
   "outputs": [],
   "source": [
    "ddf_onehot_trans_agg_customer_brand_fs001 = ddf_transactions.groupBy('customer_id') \\\n",
    "                                                    .pivot('brand', frequent_brands_support001).count()"
   ]
  },
  {
   "cell_type": "code",
   "execution_count": null,
   "metadata": {
    "collapsed": true
   },
   "outputs": [],
   "source": [
    "def pivot_aggs(df, aggs):\n",
    "    "
   ]
  },
  {
   "cell_type": "code",
   "execution_count": null,
   "metadata": {
    "collapsed": true
   },
   "outputs": [],
   "source": []
  },
  {
   "cell_type": "code",
   "execution_count": null,
   "metadata": {
    "collapsed": true
   },
   "outputs": [],
   "source": [
    "ddf_onehot_trans_agg_customer_brand_all = ddf_transactions.groupBy(grpby_columns)\n",
    "                                                    .pivot('brand').count()"
   ]
  },
  {
   "cell_type": "code",
   "execution_count": null,
   "metadata": {
    "collapsed": true
   },
   "outputs": [],
   "source": [
    "write_ddf_to_csv(ddf_onehot_trans_agg_customer_brand_all, spark_data_path+'ddf_onehot_trans_agg_customer_brand_all')"
   ]
  },
  {
   "cell_type": "code",
   "execution_count": null,
   "metadata": {
    "collapsed": true
   },
   "outputs": [],
   "source": []
  },
  {
   "cell_type": "code",
   "execution_count": null,
   "metadata": {
    "collapsed": false
   },
   "outputs": [],
   "source": []
  },
  {
   "cell_type": "code",
   "execution_count": null,
   "metadata": {
    "collapsed": true
   },
   "outputs": [],
   "source": [
    "# ddf_onehot_trans_agg_customer_brand_fs1 = csv_reader.load(spark_data_path+'ddf_onehot_trans_agg_customer_brand_fs1', samplingRatio=None)\n",
    "# ddf_onehot_trans_agg_customer_brand_fs01 = csv_reader.load(spark_data_path+'ddf_onehot_trans_agg_customer_brand_fs01', samplingRatio=None)"
   ]
  },
  {
   "cell_type": "code",
   "execution_count": null,
   "metadata": {
    "collapsed": false
   },
   "outputs": [],
   "source": [
    "ddf_onehot_trans_agg_customer_brand_fs1.count()"
   ]
  },
  {
   "cell_type": "code",
   "execution_count": null,
   "metadata": {
    "collapsed": false
   },
   "outputs": [],
   "source": [
    "ddf_onehot_trans_agg_customer_brand_fs01.count()"
   ]
  },
  {
   "cell_type": "markdown",
   "metadata": {
    "collapsed": false
   },
   "source": [
    "## merge with offers history"
   ]
  },
  {
   "cell_type": "code",
   "execution_count": null,
   "metadata": {
    "collapsed": false
   },
   "outputs": [],
   "source": [
    "def rename_columns(df, prefix='', suffix='', separator='_', columns=None):\n",
    "    prefix = prefix + separator if prefix else prefix\n",
    "    suffix = separator + suffix if suffix else suffix\n",
    "    columns = df.columns if columns is None else columns\n",
    "    df1 = df.select('*')\n",
    "    for c in columns:\n",
    "        df1 = df1.withColumnRenamed(c, prefix + c + suffix)\n",
    "    return df1       \n",
    "\n",
    "\n",
    "def filter_columns(expr, df):\n",
    "    import re\n",
    "    return filter(lambda c: re.match(expr,c), df.columns)"
   ]
  },
  {
   "cell_type": "code",
   "execution_count": null,
   "metadata": {
    "collapsed": true
   },
   "outputs": [],
   "source": [
    "ddf_onehot_brand_fs1 = ddf_onehot_trans_agg_customer_brand_fs1\n",
    "ddf_onehot_brand_fs1 = rename_columns(ddf_onehot_brand_fs1, prefix = 'left', separator='.', columns=cat_cols)"
   ]
  },
  {
   "cell_type": "code",
   "execution_count": null,
   "metadata": {
    "collapsed": false
   },
   "outputs": [],
   "source": []
  },
  {
   "cell_type": "code",
   "execution_count": null,
   "metadata": {
    "collapsed": false
   },
   "outputs": [],
   "source": [
    "ddf_onehot_brand_fs1 = ddf_onehot_trans_agg_customer_brand_fs01\n",
    "ddf_onehot_brand_fs1 = rename_columns(ddf_onehot_brand_fs01, prefix = 'left', separator='.', columns=cat_cols)"
   ]
  },
  {
   "cell_type": "code",
   "execution_count": null,
   "metadata": {
    "collapsed": false
   },
   "outputs": [],
   "source": [
    "ddf_onehot_brand_fs1 = ddf_onehot_trans_agg_customer_brand_fs001\n",
    "ddf_onehot_brand_fs1 = rename_columns(ddf_onehot_brand_fs1, prefix = 'left', separator='.', columns=cat_cols)"
   ]
  },
  {
   "cell_type": "markdown",
   "metadata": {},
   "source": [
    "#### train"
   ]
  },
  {
   "cell_type": "code",
   "execution_count": null,
   "metadata": {
    "collapsed": true
   },
   "outputs": [],
   "source": [
    "ddf_offers_hist = sqc.createDataFrame(df_offers_hist)"
   ]
  },
  {
   "cell_type": "code",
   "execution_count": null,
   "metadata": {
    "collapsed": false
   },
   "outputs": [],
   "source": [
    "ddf_offers_hist.count()"
   ]
  },
  {
   "cell_type": "code",
   "execution_count": null,
   "metadata": {
    "collapsed": false
   },
   "outputs": [],
   "source": [
    "ddf_offers__onehot_brand_fs1 = ddf_offers_hist.join(ddf_onehot_brand_fs1,\n",
    "                                                     on=['customer_id'], how='left_outer')"
   ]
  },
  {
   "cell_type": "code",
   "execution_count": null,
   "metadata": {
    "collapsed": false
   },
   "outputs": [],
   "source": [
    "ddf_offers__onehot_brand_fs1.count()"
   ]
  },
  {
   "cell_type": "code",
   "execution_count": null,
   "metadata": {
    "collapsed": false
   },
   "outputs": [],
   "source": [
    "vecAssembler_fs1 = VectorAssembler(inputCols=list(set(ddf_offers__onehot_brand_fs1.columns)-set(filter_columns('left.*',ddf_offers__onehot_brand_fs1))-set(ddf_offers_hist.columns) )+ cat_cols+num_cols, \n",
    "                                   outputCol=\"features\")\n",
    "\n",
    "ddf_offers__onehot_brand_fs1 = vecAssembler_fs1.transform(ddf_offers__onehot_brand_fs1) \\\n",
    "                                                           .select('customer_id', 'features', 'repeater')"
   ]
  },
  {
   "cell_type": "markdown",
   "metadata": {},
   "source": [
    "#### submission"
   ]
  },
  {
   "cell_type": "code",
   "execution_count": null,
   "metadata": {
    "collapsed": false
   },
   "outputs": [],
   "source": [
    "ddf_offers_subm = sqc.createDataFrame(df_offers_subm)"
   ]
  },
  {
   "cell_type": "code",
   "execution_count": null,
   "metadata": {
    "collapsed": false
   },
   "outputs": [],
   "source": [
    "df_offers_subm.columns"
   ]
  },
  {
   "cell_type": "code",
   "execution_count": null,
   "metadata": {
    "collapsed": false
   },
   "outputs": [],
   "source": [
    "ddf_offers_subm__onehot_brand_fs1 = ddf_offers_subm.join(ddf_onehot_brand_fs1,\n",
    "                                                     on=['customer_id'], how='left_outer')"
   ]
  },
  {
   "cell_type": "code",
   "execution_count": null,
   "metadata": {
    "collapsed": false
   },
   "outputs": [],
   "source": [
    "vecAssembler_fs1 = VectorAssembler(inputCols=list(set(ddf_offers_subm__onehot_brand_fs1.columns)-set(filter_columns('left.*',ddf_offers_subm__onehot_brand_fs1))-set(ddf_offers_subm.columns))+ cat_cols+num_cols, \n",
    "                                   outputCol=\"features\")"
   ]
  },
  {
   "cell_type": "code",
   "execution_count": null,
   "metadata": {
    "collapsed": false
   },
   "outputs": [],
   "source": [
    "ddf_offers_subm__onehot_brand_fs1 = vecAssembler_fs1.transform(ddf_offers_subm__onehot_brand_fs1) \\\n",
    "                                                    .select('customer_id', 'features')"
   ]
  },
  {
   "cell_type": "markdown",
   "metadata": {},
   "source": [
    "#### persist"
   ]
  },
  {
   "cell_type": "code",
   "execution_count": null,
   "metadata": {
    "collapsed": false
   },
   "outputs": [],
   "source": [
    "write_ddf_to_csv(ddf_offers__onehot_brand_fs1, spark_data_path+'ddf_offers__onehot_brand_fs1')\n",
    "write_ddf_to_csv(ddf_offers_subm__onehot_brand_fs1, spark_data_path+'ddf_offers_subm__onehot_brand_fs1')"
   ]
  },
  {
   "cell_type": "code",
   "execution_count": null,
   "metadata": {
    "collapsed": false
   },
   "outputs": [],
   "source": [
    "write_ddf_to_csv(ddf_offers__onehot_brand_fs1, spark_data_path+'ddf_offers__onehot_brand_fs01')\n",
    "write_ddf_to_csv(ddf_offers_subm__onehot_brand_fs1, spark_data_path+'ddf_offers_subm__onehot_brand_fs01')"
   ]
  },
  {
   "cell_type": "code",
   "execution_count": null,
   "metadata": {
    "collapsed": false
   },
   "outputs": [],
   "source": [
    "write_ddf_to_csv(ddf_offers__onehot_brand_fs1, spark_data_path+'ddf_offers__onehot_brand_fs001')\n",
    "write_ddf_to_csv(ddf_offers_subm__onehot_brand_fs1, spark_data_path+'ddf_offers_subm__onehot_brand_fs001')"
   ]
  },
  {
   "cell_type": "code",
   "execution_count": null,
   "metadata": {
    "collapsed": true
   },
   "outputs": [],
   "source": []
  }
 ],
 "metadata": {
  "kernelspec": {
   "display_name": "Python 2",
   "language": "python",
   "name": "python2"
  },
  "language_info": {
   "codemirror_mode": {
    "name": "ipython",
    "version": 2
   },
   "file_extension": ".py",
   "mimetype": "text/x-python",
   "name": "python",
   "nbconvert_exporter": "python",
   "pygments_lexer": "ipython2",
   "version": "2.7.11"
  }
 },
 "nbformat": 4,
 "nbformat_minor": 0
}
