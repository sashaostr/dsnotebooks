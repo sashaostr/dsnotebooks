{
 "cells": [
  {
   "cell_type": "code",
   "execution_count": 2,
   "metadata": {
    "collapsed": true
   },
   "outputs": [],
   "source": [
    "import pandas as pd\n",
    "import numpy as np"
   ]
  },
  {
   "cell_type": "code",
   "execution_count": 3,
   "metadata": {
    "collapsed": true
   },
   "outputs": [],
   "source": [
    "data = [\n",
    "    {'strata': 'a', 'avg0': 8.0, 'count0': 10, 'avg1': 10.0, 'count1': 2},\n",
    "    {'strata': 'b', 'avg0': 2.0, 'count0': 10, 'avg1': 9.0, 'count1': 10},\n",
    "    {'strata': 'c', 'avg0': 10.0, 'count0': 10, 'avg1': 7.0, 'count1': 9},\n",
    "    {'strata': 'd', 'avg0': 10.0, 'count0': 10, 'avg1': 9.0, 'count1': 10},   \n",
    "]\n",
    "df = pd.DataFrame(data=data, columns=['strata','avg0','count0','avg1','count1' ])\n",
    "scale = 10.0   "
   ]
  },
  {
   "cell_type": "code",
   "execution_count": 4,
   "metadata": {
    "collapsed": false
   },
   "outputs": [
    {
     "data": {
      "text/html": [
       "<div>\n",
       "<table border=\"1\" class=\"dataframe\">\n",
       "  <thead>\n",
       "    <tr style=\"text-align: right;\">\n",
       "      <th></th>\n",
       "      <th>strata</th>\n",
       "      <th>avg0</th>\n",
       "      <th>count0</th>\n",
       "      <th>avg1</th>\n",
       "      <th>count1</th>\n",
       "    </tr>\n",
       "  </thead>\n",
       "  <tbody>\n",
       "    <tr>\n",
       "      <th>0</th>\n",
       "      <td>a</td>\n",
       "      <td>8.0</td>\n",
       "      <td>10</td>\n",
       "      <td>10.0</td>\n",
       "      <td>2</td>\n",
       "    </tr>\n",
       "    <tr>\n",
       "      <th>1</th>\n",
       "      <td>b</td>\n",
       "      <td>2.0</td>\n",
       "      <td>10</td>\n",
       "      <td>9.0</td>\n",
       "      <td>10</td>\n",
       "    </tr>\n",
       "    <tr>\n",
       "      <th>2</th>\n",
       "      <td>c</td>\n",
       "      <td>10.0</td>\n",
       "      <td>10</td>\n",
       "      <td>7.0</td>\n",
       "      <td>9</td>\n",
       "    </tr>\n",
       "    <tr>\n",
       "      <th>3</th>\n",
       "      <td>d</td>\n",
       "      <td>10.0</td>\n",
       "      <td>10</td>\n",
       "      <td>9.0</td>\n",
       "      <td>10</td>\n",
       "    </tr>\n",
       "  </tbody>\n",
       "</table>\n",
       "</div>"
      ],
      "text/plain": [
       "  strata  avg0  count0  avg1  count1\n",
       "0      a   8.0      10  10.0       2\n",
       "1      b   2.0      10   9.0      10\n",
       "2      c  10.0      10   7.0       9\n",
       "3      d  10.0      10   9.0      10"
      ]
     },
     "execution_count": 4,
     "metadata": {},
     "output_type": "execute_result"
    }
   ],
   "source": [
    "df"
   ]
  },
  {
   "cell_type": "code",
   "execution_count": 5,
   "metadata": {
    "collapsed": false
   },
   "outputs": [
    {
     "data": {
      "text/html": [
       "<div>\n",
       "<table border=\"1\" class=\"dataframe\">\n",
       "  <thead>\n",
       "    <tr style=\"text-align: right;\">\n",
       "      <th></th>\n",
       "      <th>strata</th>\n",
       "      <th>avg0</th>\n",
       "      <th>count0</th>\n",
       "      <th>avg1</th>\n",
       "      <th>count1</th>\n",
       "      <th>trend</th>\n",
       "      <th>is_pos_trend</th>\n",
       "      <th>vol_change</th>\n",
       "    </tr>\n",
       "  </thead>\n",
       "  <tbody>\n",
       "    <tr>\n",
       "      <th>0</th>\n",
       "      <td>a</td>\n",
       "      <td>8.0</td>\n",
       "      <td>10</td>\n",
       "      <td>10.0</td>\n",
       "      <td>2</td>\n",
       "      <td>0.2</td>\n",
       "      <td>True</td>\n",
       "      <td>60.0</td>\n",
       "    </tr>\n",
       "    <tr>\n",
       "      <th>1</th>\n",
       "      <td>b</td>\n",
       "      <td>2.0</td>\n",
       "      <td>10</td>\n",
       "      <td>9.0</td>\n",
       "      <td>10</td>\n",
       "      <td>0.7</td>\n",
       "      <td>True</td>\n",
       "      <td>70.0</td>\n",
       "    </tr>\n",
       "    <tr>\n",
       "      <th>2</th>\n",
       "      <td>c</td>\n",
       "      <td>10.0</td>\n",
       "      <td>10</td>\n",
       "      <td>7.0</td>\n",
       "      <td>9</td>\n",
       "      <td>-0.3</td>\n",
       "      <td>False</td>\n",
       "      <td>37.0</td>\n",
       "    </tr>\n",
       "    <tr>\n",
       "      <th>3</th>\n",
       "      <td>d</td>\n",
       "      <td>10.0</td>\n",
       "      <td>10</td>\n",
       "      <td>9.0</td>\n",
       "      <td>10</td>\n",
       "      <td>-0.1</td>\n",
       "      <td>False</td>\n",
       "      <td>10.0</td>\n",
       "    </tr>\n",
       "  </tbody>\n",
       "</table>\n",
       "</div>"
      ],
      "text/plain": [
       "  strata  avg0  count0  avg1  count1  trend is_pos_trend  vol_change\n",
       "0      a   8.0      10  10.0       2    0.2         True        60.0\n",
       "1      b   2.0      10   9.0      10    0.7         True        70.0\n",
       "2      c  10.0      10   7.0       9   -0.3        False        37.0\n",
       "3      d  10.0      10   9.0      10   -0.1        False        10.0"
      ]
     },
     "execution_count": 5,
     "metadata": {},
     "output_type": "execute_result"
    }
   ],
   "source": [
    "df['trend'] = (df['avg1']-df['avg0'])/scale\n",
    "df['is_pos_trend'] = df['trend'] > 0\n",
    "df['vol_change'] =  abs(df['avg1']*df['count1'] - df['avg0']*df['count0'])\n",
    "df"
   ]
  },
  {
   "cell_type": "code",
   "execution_count": 6,
   "metadata": {
    "collapsed": false
   },
   "outputs": [],
   "source": [
    "def dunya(df):\n",
    "    df_agg = pd.DataFrame()\n",
    "    df_agg['avg0'] = [sum(df['avg0']*df['count0'])/df['count0'].sum()]\n",
    "    df_agg['avg1'] = [sum(df['avg1']*df['count1'])/df['count1'].sum()]\n",
    "    df_agg['count0'] = df['count0'].sum()\n",
    "    df_agg['count1'] = df['count1'].sum()\n",
    "    df_agg['trend'] = (df_agg['avg1'] - df_agg['avg0'])/scale\n",
    "#     df_agg['vol_change'] = abs(df_agg['avg1']*df_agg['count1'] - df_agg['avg0']*df_agg['count0'])\n",
    "    df_agg['vol_change'] = df['vol_change'].sum()\n",
    "    return df_agg      "
   ]
  },
  {
   "cell_type": "code",
   "execution_count": 7,
   "metadata": {
    "collapsed": false
   },
   "outputs": [
    {
     "data": {
      "text/html": [
       "<div>\n",
       "<table border=\"1\" class=\"dataframe\">\n",
       "  <thead>\n",
       "    <tr style=\"text-align: right;\">\n",
       "      <th></th>\n",
       "      <th>avg0</th>\n",
       "      <th>avg1</th>\n",
       "      <th>count0</th>\n",
       "      <th>count1</th>\n",
       "      <th>trend</th>\n",
       "      <th>vol_change</th>\n",
       "    </tr>\n",
       "  </thead>\n",
       "  <tbody>\n",
       "    <tr>\n",
       "      <th>0</th>\n",
       "      <td>7.5</td>\n",
       "      <td>8.483871</td>\n",
       "      <td>40</td>\n",
       "      <td>31</td>\n",
       "      <td>0.098387</td>\n",
       "      <td>177.0</td>\n",
       "    </tr>\n",
       "  </tbody>\n",
       "</table>\n",
       "</div>"
      ],
      "text/plain": [
       "   avg0      avg1  count0  count1     trend  vol_change\n",
       "0   7.5  8.483871      40      31  0.098387       177.0"
      ]
     },
     "execution_count": 7,
     "metadata": {},
     "output_type": "execute_result"
    }
   ],
   "source": [
    "df_pop = dunya(df)\n",
    "df_pop"
   ]
  },
  {
   "cell_type": "code",
   "execution_count": 8,
   "metadata": {
    "collapsed": false
   },
   "outputs": [
    {
     "data": {
      "text/html": [
       "<div>\n",
       "<table border=\"1\" class=\"dataframe\">\n",
       "  <thead>\n",
       "    <tr style=\"text-align: right;\">\n",
       "      <th></th>\n",
       "      <th>is_pos_trend</th>\n",
       "      <th>level_1</th>\n",
       "      <th>avg0</th>\n",
       "      <th>avg1</th>\n",
       "      <th>count0</th>\n",
       "      <th>count1</th>\n",
       "      <th>trend</th>\n",
       "      <th>vol_change</th>\n",
       "    </tr>\n",
       "  </thead>\n",
       "  <tbody>\n",
       "    <tr>\n",
       "      <th>0</th>\n",
       "      <td>False</td>\n",
       "      <td>0</td>\n",
       "      <td>10.0</td>\n",
       "      <td>8.052632</td>\n",
       "      <td>20</td>\n",
       "      <td>19</td>\n",
       "      <td>-0.194737</td>\n",
       "      <td>47.0</td>\n",
       "    </tr>\n",
       "    <tr>\n",
       "      <th>1</th>\n",
       "      <td>True</td>\n",
       "      <td>0</td>\n",
       "      <td>5.0</td>\n",
       "      <td>9.166667</td>\n",
       "      <td>20</td>\n",
       "      <td>12</td>\n",
       "      <td>0.416667</td>\n",
       "      <td>130.0</td>\n",
       "    </tr>\n",
       "  </tbody>\n",
       "</table>\n",
       "</div>"
      ],
      "text/plain": [
       "  is_pos_trend  level_1  avg0      avg1  count0  count1     trend  vol_change\n",
       "0        False        0  10.0  8.052632      20      19 -0.194737        47.0\n",
       "1         True        0   5.0  9.166667      20      12  0.416667       130.0"
      ]
     },
     "execution_count": 8,
     "metadata": {},
     "output_type": "execute_result"
    }
   ],
   "source": [
    "df_strat = df.groupby(by='is_pos_trend').apply(dunya)\n",
    "df_strat.reset_index(inplace=True)\n",
    "df_strat"
   ]
  },
  {
   "cell_type": "code",
   "execution_count": 9,
   "metadata": {
    "collapsed": false
   },
   "outputs": [
    {
     "data": {
      "text/html": [
       "<div>\n",
       "<table border=\"1\" class=\"dataframe\">\n",
       "  <thead>\n",
       "    <tr style=\"text-align: right;\">\n",
       "      <th></th>\n",
       "      <th>strata</th>\n",
       "      <th>avg0</th>\n",
       "      <th>count0</th>\n",
       "      <th>avg1</th>\n",
       "      <th>count1</th>\n",
       "      <th>trend</th>\n",
       "      <th>is_pos_trend</th>\n",
       "      <th>vol_change</th>\n",
       "      <th>trend_strat</th>\n",
       "      <th>vol_change_strat</th>\n",
       "      <th>impact</th>\n",
       "    </tr>\n",
       "  </thead>\n",
       "  <tbody>\n",
       "    <tr>\n",
       "      <th>0</th>\n",
       "      <td>a</td>\n",
       "      <td>8.0</td>\n",
       "      <td>10</td>\n",
       "      <td>10.0</td>\n",
       "      <td>2</td>\n",
       "      <td>0.2</td>\n",
       "      <td>True</td>\n",
       "      <td>60.0</td>\n",
       "      <td>0.416667</td>\n",
       "      <td>130.0</td>\n",
       "      <td>0.192308</td>\n",
       "    </tr>\n",
       "    <tr>\n",
       "      <th>1</th>\n",
       "      <td>b</td>\n",
       "      <td>2.0</td>\n",
       "      <td>10</td>\n",
       "      <td>9.0</td>\n",
       "      <td>10</td>\n",
       "      <td>0.7</td>\n",
       "      <td>True</td>\n",
       "      <td>70.0</td>\n",
       "      <td>0.416667</td>\n",
       "      <td>130.0</td>\n",
       "      <td>0.224359</td>\n",
       "    </tr>\n",
       "    <tr>\n",
       "      <th>2</th>\n",
       "      <td>c</td>\n",
       "      <td>10.0</td>\n",
       "      <td>10</td>\n",
       "      <td>7.0</td>\n",
       "      <td>9</td>\n",
       "      <td>-0.3</td>\n",
       "      <td>False</td>\n",
       "      <td>37.0</td>\n",
       "      <td>-0.194737</td>\n",
       "      <td>47.0</td>\n",
       "      <td>-0.153303</td>\n",
       "    </tr>\n",
       "    <tr>\n",
       "      <th>3</th>\n",
       "      <td>d</td>\n",
       "      <td>10.0</td>\n",
       "      <td>10</td>\n",
       "      <td>9.0</td>\n",
       "      <td>10</td>\n",
       "      <td>-0.1</td>\n",
       "      <td>False</td>\n",
       "      <td>10.0</td>\n",
       "      <td>-0.194737</td>\n",
       "      <td>47.0</td>\n",
       "      <td>-0.041433</td>\n",
       "    </tr>\n",
       "  </tbody>\n",
       "</table>\n",
       "</div>"
      ],
      "text/plain": [
       "  strata  avg0  count0  avg1  count1  trend is_pos_trend  vol_change  \\\n",
       "0      a   8.0      10  10.0       2    0.2         True        60.0   \n",
       "1      b   2.0      10   9.0      10    0.7         True        70.0   \n",
       "2      c  10.0      10   7.0       9   -0.3        False        37.0   \n",
       "3      d  10.0      10   9.0      10   -0.1        False        10.0   \n",
       "\n",
       "   trend_strat  vol_change_strat    impact  \n",
       "0     0.416667             130.0  0.192308  \n",
       "1     0.416667             130.0  0.224359  \n",
       "2    -0.194737              47.0 -0.153303  \n",
       "3    -0.194737              47.0 -0.041433  "
      ]
     },
     "execution_count": 9,
     "metadata": {},
     "output_type": "execute_result"
    }
   ],
   "source": [
    "df_impact = df.join(df_strat[['trend','vol_change']], on='is_pos_trend',rsuffix='_strat')\n",
    "df_impact['impact'] = df_impact['trend_strat']*df_impact['vol_change']/df_impact['vol_change_strat']\n",
    "df_impact"
   ]
  },
  {
   "cell_type": "code",
   "execution_count": 10,
   "metadata": {
    "collapsed": false
   },
   "outputs": [],
   "source": [
    "def calc_impacts(df):\n",
    "    df['trend'] = (df['avg1']-df['avg0'])/scale\n",
    "    df['is_pos_trend'] = df['trend'] > 0\n",
    "    df['vol_change'] =  abs(df['avg1']*df['count1'] - df['avg0']*df['count0'])\n",
    "        \n",
    "    df_pop = dunya(df)\n",
    "        \n",
    "    df_strat = df.groupby(by='is_pos_trend').apply(dunya)\n",
    "    df_strat.reset_index(inplace=True)    \n",
    "    \n",
    "    df_impact = df.join(df_strat[['trend','vol_change']], on='is_pos_trend',rsuffix='_strat')\n",
    "    df_impact['impact'] = df_impact['trend_strat']*df_impact['vol_change']/df_impact['vol_change_strat']\n",
    "    \n",
    "    return df_impact, df_pop"
   ]
  },
  {
   "cell_type": "code",
   "execution_count": 11,
   "metadata": {
    "collapsed": false
   },
   "outputs": [
    {
     "name": "stdout",
     "output_type": "stream",
     "text": [
      "   avg0      avg1  count0  count1     trend  vol_change\n",
      "0   7.5  8.483871      40      31  0.098387       177.0\n"
     ]
    },
    {
     "data": {
      "text/html": [
       "<div>\n",
       "<table border=\"1\" class=\"dataframe\">\n",
       "  <thead>\n",
       "    <tr style=\"text-align: right;\">\n",
       "      <th></th>\n",
       "      <th>strata</th>\n",
       "      <th>avg0</th>\n",
       "      <th>count0</th>\n",
       "      <th>avg1</th>\n",
       "      <th>count1</th>\n",
       "      <th>trend</th>\n",
       "      <th>is_pos_trend</th>\n",
       "      <th>vol_change</th>\n",
       "      <th>trend_strat</th>\n",
       "      <th>vol_change_strat</th>\n",
       "      <th>impact</th>\n",
       "    </tr>\n",
       "  </thead>\n",
       "  <tbody>\n",
       "    <tr>\n",
       "      <th>0</th>\n",
       "      <td>a</td>\n",
       "      <td>8.0</td>\n",
       "      <td>10</td>\n",
       "      <td>10.0</td>\n",
       "      <td>2</td>\n",
       "      <td>0.2</td>\n",
       "      <td>True</td>\n",
       "      <td>60.0</td>\n",
       "      <td>0.416667</td>\n",
       "      <td>130.0</td>\n",
       "      <td>0.192308</td>\n",
       "    </tr>\n",
       "    <tr>\n",
       "      <th>1</th>\n",
       "      <td>b</td>\n",
       "      <td>2.0</td>\n",
       "      <td>10</td>\n",
       "      <td>9.0</td>\n",
       "      <td>10</td>\n",
       "      <td>0.7</td>\n",
       "      <td>True</td>\n",
       "      <td>70.0</td>\n",
       "      <td>0.416667</td>\n",
       "      <td>130.0</td>\n",
       "      <td>0.224359</td>\n",
       "    </tr>\n",
       "    <tr>\n",
       "      <th>2</th>\n",
       "      <td>c</td>\n",
       "      <td>10.0</td>\n",
       "      <td>10</td>\n",
       "      <td>7.0</td>\n",
       "      <td>9</td>\n",
       "      <td>-0.3</td>\n",
       "      <td>False</td>\n",
       "      <td>37.0</td>\n",
       "      <td>-0.194737</td>\n",
       "      <td>47.0</td>\n",
       "      <td>-0.153303</td>\n",
       "    </tr>\n",
       "    <tr>\n",
       "      <th>3</th>\n",
       "      <td>d</td>\n",
       "      <td>10.0</td>\n",
       "      <td>10</td>\n",
       "      <td>9.0</td>\n",
       "      <td>10</td>\n",
       "      <td>-0.1</td>\n",
       "      <td>False</td>\n",
       "      <td>10.0</td>\n",
       "      <td>-0.194737</td>\n",
       "      <td>47.0</td>\n",
       "      <td>-0.041433</td>\n",
       "    </tr>\n",
       "  </tbody>\n",
       "</table>\n",
       "</div>"
      ],
      "text/plain": [
       "  strata  avg0  count0  avg1  count1  trend is_pos_trend  vol_change  \\\n",
       "0      a   8.0      10  10.0       2    0.2         True        60.0   \n",
       "1      b   2.0      10   9.0      10    0.7         True        70.0   \n",
       "2      c  10.0      10   7.0       9   -0.3        False        37.0   \n",
       "3      d  10.0      10   9.0      10   -0.1        False        10.0   \n",
       "\n",
       "   trend_strat  vol_change_strat    impact  \n",
       "0     0.416667             130.0  0.192308  \n",
       "1     0.416667             130.0  0.224359  \n",
       "2    -0.194737              47.0 -0.153303  \n",
       "3    -0.194737              47.0 -0.041433  "
      ]
     },
     "execution_count": 11,
     "metadata": {},
     "output_type": "execute_result"
    }
   ],
   "source": [
    "df_impact, df_pop = calc_impacts(df)\n",
    "print df_pop\n",
    "df_impact"
   ]
  },
  {
   "cell_type": "code",
   "execution_count": 12,
   "metadata": {
    "collapsed": false
   },
   "outputs": [
    {
     "data": {
      "text/html": [
       "<div>\n",
       "<table border=\"1\" class=\"dataframe\">\n",
       "  <thead>\n",
       "    <tr style=\"text-align: right;\">\n",
       "      <th></th>\n",
       "      <th>avg0</th>\n",
       "      <th>avg1</th>\n",
       "      <th>count0</th>\n",
       "      <th>count1</th>\n",
       "      <th>trend</th>\n",
       "      <th>vol_change</th>\n",
       "    </tr>\n",
       "  </thead>\n",
       "  <tbody>\n",
       "    <tr>\n",
       "      <th>0</th>\n",
       "      <td>7.5</td>\n",
       "      <td>8.483871</td>\n",
       "      <td>40</td>\n",
       "      <td>31</td>\n",
       "      <td>0.098387</td>\n",
       "      <td>177.0</td>\n",
       "    </tr>\n",
       "  </tbody>\n",
       "</table>\n",
       "</div>"
      ],
      "text/plain": [
       "   avg0      avg1  count0  count1     trend  vol_change\n",
       "0   7.5  8.483871      40      31  0.098387       177.0"
      ]
     },
     "execution_count": 12,
     "metadata": {},
     "output_type": "execute_result"
    }
   ],
   "source": [
    "df_pop"
   ]
  },
  {
   "cell_type": "code",
   "execution_count": null,
   "metadata": {
    "collapsed": true
   },
   "outputs": [],
   "source": []
  },
  {
   "cell_type": "code",
   "execution_count": 13,
   "metadata": {
    "collapsed": false
   },
   "outputs": [
    {
     "data": {
      "text/html": [
       "<div>\n",
       "<table border=\"1\" class=\"dataframe\">\n",
       "  <thead>\n",
       "    <tr style=\"text-align: right;\">\n",
       "      <th></th>\n",
       "      <th>strata</th>\n",
       "      <th>avg0</th>\n",
       "      <th>count0</th>\n",
       "      <th>avg1</th>\n",
       "      <th>count1</th>\n",
       "    </tr>\n",
       "  </thead>\n",
       "  <tbody>\n",
       "    <tr>\n",
       "      <th>0</th>\n",
       "      <td>dunya</td>\n",
       "      <td>10.0</td>\n",
       "      <td>10</td>\n",
       "      <td>1.0</td>\n",
       "      <td>30</td>\n",
       "    </tr>\n",
       "    <tr>\n",
       "      <th>1</th>\n",
       "      <td>rapnik</td>\n",
       "      <td>1.0</td>\n",
       "      <td>30</td>\n",
       "      <td>10.0</td>\n",
       "      <td>20</td>\n",
       "    </tr>\n",
       "  </tbody>\n",
       "</table>\n",
       "</div>"
      ],
      "text/plain": [
       "   strata  avg0  count0  avg1  count1\n",
       "0   dunya  10.0      10   1.0      30\n",
       "1  rapnik   1.0      30  10.0      20"
      ]
     },
     "execution_count": 13,
     "metadata": {},
     "output_type": "execute_result"
    }
   ],
   "source": [
    "data2 = [\n",
    "    {'strata': 'dunya', 'avg0': 10.0, 'count0': 10, 'avg1': 1.0, 'count1': 30},\n",
    "    {'strata': 'rapnik', 'avg0': 1.0, 'count0': 30, 'avg1': 10.0, 'count1': 20},\n",
    " \n",
    "]\n",
    "df2 = pd.DataFrame(data=data2, columns=['strata','avg0','count0','avg1','count1' ])\n",
    "df2"
   ]
  },
  {
   "cell_type": "code",
   "execution_count": 14,
   "metadata": {
    "collapsed": false
   },
   "outputs": [
    {
     "name": "stdout",
     "output_type": "stream",
     "text": [
      "   avg0  avg1  count0  count1  trend  vol_change\n",
      "0  3.25   4.6      40      50  0.135       240.0\n"
     ]
    },
    {
     "data": {
      "text/html": [
       "<div>\n",
       "<table border=\"1\" class=\"dataframe\">\n",
       "  <thead>\n",
       "    <tr style=\"text-align: right;\">\n",
       "      <th></th>\n",
       "      <th>strata</th>\n",
       "      <th>avg0</th>\n",
       "      <th>count0</th>\n",
       "      <th>avg1</th>\n",
       "      <th>count1</th>\n",
       "      <th>trend</th>\n",
       "      <th>is_pos_trend</th>\n",
       "      <th>vol_change</th>\n",
       "      <th>trend_strat</th>\n",
       "      <th>vol_change_strat</th>\n",
       "      <th>impact</th>\n",
       "    </tr>\n",
       "  </thead>\n",
       "  <tbody>\n",
       "    <tr>\n",
       "      <th>0</th>\n",
       "      <td>dunya</td>\n",
       "      <td>10.0</td>\n",
       "      <td>10</td>\n",
       "      <td>1.0</td>\n",
       "      <td>30</td>\n",
       "      <td>-0.9</td>\n",
       "      <td>False</td>\n",
       "      <td>70.0</td>\n",
       "      <td>-0.9</td>\n",
       "      <td>70.0</td>\n",
       "      <td>-0.9</td>\n",
       "    </tr>\n",
       "    <tr>\n",
       "      <th>1</th>\n",
       "      <td>rapnik</td>\n",
       "      <td>1.0</td>\n",
       "      <td>30</td>\n",
       "      <td>10.0</td>\n",
       "      <td>20</td>\n",
       "      <td>0.9</td>\n",
       "      <td>True</td>\n",
       "      <td>170.0</td>\n",
       "      <td>0.9</td>\n",
       "      <td>170.0</td>\n",
       "      <td>0.9</td>\n",
       "    </tr>\n",
       "  </tbody>\n",
       "</table>\n",
       "</div>"
      ],
      "text/plain": [
       "   strata  avg0  count0  avg1  count1  trend is_pos_trend  vol_change  \\\n",
       "0   dunya  10.0      10   1.0      30   -0.9        False        70.0   \n",
       "1  rapnik   1.0      30  10.0      20    0.9         True       170.0   \n",
       "\n",
       "   trend_strat  vol_change_strat  impact  \n",
       "0         -0.9              70.0    -0.9  \n",
       "1          0.9             170.0     0.9  "
      ]
     },
     "execution_count": 14,
     "metadata": {},
     "output_type": "execute_result"
    }
   ],
   "source": [
    "df_impact, df_pop = calc_impacts(df2)\n",
    "print df_pop\n",
    "df_impact"
   ]
  },
  {
   "cell_type": "code",
   "execution_count": 15,
   "metadata": {
    "collapsed": false
   },
   "outputs": [
    {
     "name": "stdout",
     "output_type": "stream",
     "text": [
      "   avg0  avg1  count0  count1  trend  vol_change\n",
      "0   5.5   5.5      60      60    0.0       540.0\n"
     ]
    },
    {
     "data": {
      "text/html": [
       "<div>\n",
       "<table border=\"1\" class=\"dataframe\">\n",
       "  <thead>\n",
       "    <tr style=\"text-align: right;\">\n",
       "      <th></th>\n",
       "      <th>strata</th>\n",
       "      <th>avg0</th>\n",
       "      <th>count0</th>\n",
       "      <th>avg1</th>\n",
       "      <th>count1</th>\n",
       "      <th>trend</th>\n",
       "      <th>is_pos_trend</th>\n",
       "      <th>vol_change</th>\n",
       "      <th>trend_strat</th>\n",
       "      <th>vol_change_strat</th>\n",
       "      <th>impact</th>\n",
       "    </tr>\n",
       "  </thead>\n",
       "  <tbody>\n",
       "    <tr>\n",
       "      <th>0</th>\n",
       "      <td>a</td>\n",
       "      <td>10.0</td>\n",
       "      <td>10</td>\n",
       "      <td>1.0</td>\n",
       "      <td>10</td>\n",
       "      <td>-0.9</td>\n",
       "      <td>False</td>\n",
       "      <td>90.0</td>\n",
       "      <td>-0.9</td>\n",
       "      <td>270.0</td>\n",
       "      <td>-0.3</td>\n",
       "    </tr>\n",
       "    <tr>\n",
       "      <th>1</th>\n",
       "      <td>b</td>\n",
       "      <td>10.0</td>\n",
       "      <td>20</td>\n",
       "      <td>1.0</td>\n",
       "      <td>20</td>\n",
       "      <td>-0.9</td>\n",
       "      <td>False</td>\n",
       "      <td>180.0</td>\n",
       "      <td>-0.9</td>\n",
       "      <td>270.0</td>\n",
       "      <td>-0.6</td>\n",
       "    </tr>\n",
       "    <tr>\n",
       "      <th>2</th>\n",
       "      <td>c</td>\n",
       "      <td>1.0</td>\n",
       "      <td>30</td>\n",
       "      <td>10.0</td>\n",
       "      <td>30</td>\n",
       "      <td>0.9</td>\n",
       "      <td>True</td>\n",
       "      <td>270.0</td>\n",
       "      <td>0.9</td>\n",
       "      <td>270.0</td>\n",
       "      <td>0.9</td>\n",
       "    </tr>\n",
       "  </tbody>\n",
       "</table>\n",
       "</div>"
      ],
      "text/plain": [
       "  strata  avg0  count0  avg1  count1  trend is_pos_trend  vol_change  \\\n",
       "0      a  10.0      10   1.0      10   -0.9        False        90.0   \n",
       "1      b  10.0      20   1.0      20   -0.9        False       180.0   \n",
       "2      c   1.0      30  10.0      30    0.9         True       270.0   \n",
       "\n",
       "   trend_strat  vol_change_strat  impact  \n",
       "0         -0.9             270.0    -0.3  \n",
       "1         -0.9             270.0    -0.6  \n",
       "2          0.9             270.0     0.9  "
      ]
     },
     "execution_count": 15,
     "metadata": {},
     "output_type": "execute_result"
    }
   ],
   "source": [
    "data3 = [\n",
    "    {'strata': 'a', 'avg0': 10.0, 'count0': 10, 'avg1': 1.0, 'count1': 10},\n",
    "    {'strata': 'b', 'avg0': 10.0, 'count0': 20, 'avg1': 1.0, 'count1': 20},\n",
    "    {'strata': 'c', 'avg0': 1.0, 'count0': 30, 'avg1': 10.0, 'count1': 30},\n",
    " \n",
    "]\n",
    "df3 = pd.DataFrame(data=data3, columns=['strata','avg0','count0','avg1','count1' ])\n",
    "df_impact, df_pop = calc_impacts(df3)\n",
    "print df_pop\n",
    "df_impact"
   ]
  },
  {
   "cell_type": "code",
   "execution_count": 22,
   "metadata": {
    "collapsed": false
   },
   "outputs": [
    {
     "name": "stdout",
     "output_type": "stream",
     "text": [
      "   avg0      avg1  count0  count1     trend  vol_change\n",
      "0   5.0  6.333333      30      30  0.133333        60.0\n"
     ]
    },
    {
     "data": {
      "text/html": [
       "<div>\n",
       "<table border=\"1\" class=\"dataframe\">\n",
       "  <thead>\n",
       "    <tr style=\"text-align: right;\">\n",
       "      <th></th>\n",
       "      <th>strata</th>\n",
       "      <th>avg0</th>\n",
       "      <th>count0</th>\n",
       "      <th>avg1</th>\n",
       "      <th>count1</th>\n",
       "      <th>trend</th>\n",
       "      <th>is_pos_trend</th>\n",
       "      <th>vol_change</th>\n",
       "      <th>trend_strat</th>\n",
       "      <th>vol_change_strat</th>\n",
       "      <th>impact</th>\n",
       "    </tr>\n",
       "  </thead>\n",
       "  <tbody>\n",
       "    <tr>\n",
       "      <th>0</th>\n",
       "      <td>a</td>\n",
       "      <td>5.0</td>\n",
       "      <td>10</td>\n",
       "      <td>9.0</td>\n",
       "      <td>10</td>\n",
       "      <td>0.4</td>\n",
       "      <td>True</td>\n",
       "      <td>40.0</td>\n",
       "      <td>0.25</td>\n",
       "      <td>50.0</td>\n",
       "      <td>0.20</td>\n",
       "    </tr>\n",
       "    <tr>\n",
       "      <th>1</th>\n",
       "      <td>b</td>\n",
       "      <td>5.0</td>\n",
       "      <td>10</td>\n",
       "      <td>6.0</td>\n",
       "      <td>10</td>\n",
       "      <td>0.1</td>\n",
       "      <td>True</td>\n",
       "      <td>10.0</td>\n",
       "      <td>0.25</td>\n",
       "      <td>50.0</td>\n",
       "      <td>0.05</td>\n",
       "    </tr>\n",
       "    <tr>\n",
       "      <th>2</th>\n",
       "      <td>c</td>\n",
       "      <td>5.0</td>\n",
       "      <td>10</td>\n",
       "      <td>4.0</td>\n",
       "      <td>10</td>\n",
       "      <td>-0.1</td>\n",
       "      <td>False</td>\n",
       "      <td>10.0</td>\n",
       "      <td>-0.10</td>\n",
       "      <td>10.0</td>\n",
       "      <td>-0.10</td>\n",
       "    </tr>\n",
       "  </tbody>\n",
       "</table>\n",
       "</div>"
      ],
      "text/plain": [
       "  strata  avg0  count0  avg1  count1  trend is_pos_trend  vol_change  \\\n",
       "0      a   5.0      10   9.0      10    0.4         True        40.0   \n",
       "1      b   5.0      10   6.0      10    0.1         True        10.0   \n",
       "2      c   5.0      10   4.0      10   -0.1        False        10.0   \n",
       "\n",
       "   trend_strat  vol_change_strat  impact  \n",
       "0         0.25              50.0    0.20  \n",
       "1         0.25              50.0    0.05  \n",
       "2        -0.10              10.0   -0.10  "
      ]
     },
     "execution_count": 22,
     "metadata": {},
     "output_type": "execute_result"
    }
   ],
   "source": [
    "data4 = [\n",
    "    {'strata': 'a', 'avg0': 5.0, 'count0': 10, 'avg1': 9.0, 'count1': 10},\n",
    "    {'strata': 'b', 'avg0': 5.0, 'count0': 10, 'avg1': 6.0, 'count1': 10},\n",
    "    {'strata': 'c', 'avg0': 5.0, 'count0': 10, 'avg1': 4.0, 'count1': 10},\n",
    " \n",
    "]\n",
    "df4 = pd.DataFrame(data=data4, columns=['strata','avg0','count0','avg1','count1' ])\n",
    "df_impact, df_pop = calc_impacts(df4)\n",
    "print df_pop\n",
    "df_impact"
   ]
  },
  {
   "cell_type": "code",
   "execution_count": 23,
   "metadata": {
    "collapsed": false
   },
   "outputs": [
    {
     "name": "stdout",
     "output_type": "stream",
     "text": [
      "   avg0      avg1  count0  count1     trend  vol_change\n",
      "0   5.0  6.333333     300      30  0.133333      1310.0\n"
     ]
    },
    {
     "data": {
      "text/html": [
       "<div>\n",
       "<table border=\"1\" class=\"dataframe\">\n",
       "  <thead>\n",
       "    <tr style=\"text-align: right;\">\n",
       "      <th></th>\n",
       "      <th>strata</th>\n",
       "      <th>avg0</th>\n",
       "      <th>count0</th>\n",
       "      <th>avg1</th>\n",
       "      <th>count1</th>\n",
       "      <th>trend</th>\n",
       "      <th>is_pos_trend</th>\n",
       "      <th>vol_change</th>\n",
       "      <th>trend_strat</th>\n",
       "      <th>vol_change_strat</th>\n",
       "      <th>impact</th>\n",
       "    </tr>\n",
       "  </thead>\n",
       "  <tbody>\n",
       "    <tr>\n",
       "      <th>0</th>\n",
       "      <td>a</td>\n",
       "      <td>5.0</td>\n",
       "      <td>100</td>\n",
       "      <td>9.0</td>\n",
       "      <td>10</td>\n",
       "      <td>0.4</td>\n",
       "      <td>True</td>\n",
       "      <td>410.0</td>\n",
       "      <td>0.25</td>\n",
       "      <td>850.0</td>\n",
       "      <td>0.120588</td>\n",
       "    </tr>\n",
       "    <tr>\n",
       "      <th>1</th>\n",
       "      <td>b</td>\n",
       "      <td>5.0</td>\n",
       "      <td>100</td>\n",
       "      <td>6.0</td>\n",
       "      <td>10</td>\n",
       "      <td>0.1</td>\n",
       "      <td>True</td>\n",
       "      <td>440.0</td>\n",
       "      <td>0.25</td>\n",
       "      <td>850.0</td>\n",
       "      <td>0.129412</td>\n",
       "    </tr>\n",
       "    <tr>\n",
       "      <th>2</th>\n",
       "      <td>c</td>\n",
       "      <td>5.0</td>\n",
       "      <td>100</td>\n",
       "      <td>4.0</td>\n",
       "      <td>10</td>\n",
       "      <td>-0.1</td>\n",
       "      <td>False</td>\n",
       "      <td>460.0</td>\n",
       "      <td>-0.10</td>\n",
       "      <td>460.0</td>\n",
       "      <td>-0.100000</td>\n",
       "    </tr>\n",
       "  </tbody>\n",
       "</table>\n",
       "</div>"
      ],
      "text/plain": [
       "  strata  avg0  count0  avg1  count1  trend is_pos_trend  vol_change  \\\n",
       "0      a   5.0     100   9.0      10    0.4         True       410.0   \n",
       "1      b   5.0     100   6.0      10    0.1         True       440.0   \n",
       "2      c   5.0     100   4.0      10   -0.1        False       460.0   \n",
       "\n",
       "   trend_strat  vol_change_strat    impact  \n",
       "0         0.25             850.0  0.120588  \n",
       "1         0.25             850.0  0.129412  \n",
       "2        -0.10             460.0 -0.100000  "
      ]
     },
     "execution_count": 23,
     "metadata": {},
     "output_type": "execute_result"
    }
   ],
   "source": [
    "data4 = [\n",
    "    {'strata': 'a', 'avg0': 5.0, 'count0': 100, 'avg1': 9.0, 'count1': 10},\n",
    "    {'strata': 'b', 'avg0': 5.0, 'count0': 100, 'avg1': 6.0, 'count1': 10},\n",
    "    {'strata': 'c', 'avg0': 5.0, 'count0': 100, 'avg1': 4.0, 'count1': 10},\n",
    " \n",
    "]\n",
    "df4 = pd.DataFrame(data=data4, columns=['strata','avg0','count0','avg1','count1' ])\n",
    "df_impact, df_pop = calc_impacts(df4)\n",
    "print df_pop\n",
    "df_impact"
   ]
  },
  {
   "cell_type": "code",
   "execution_count": null,
   "metadata": {
    "collapsed": true
   },
   "outputs": [],
   "source": []
  }
 ],
 "metadata": {
  "anaconda-cloud": {},
  "kernelspec": {
   "display_name": "Python [conda root]",
   "language": "python",
   "name": "conda-root-py"
  },
  "language_info": {
   "codemirror_mode": {
    "name": "ipython",
    "version": 2
   },
   "file_extension": ".py",
   "mimetype": "text/x-python",
   "name": "python",
   "nbconvert_exporter": "python",
   "pygments_lexer": "ipython2",
   "version": "2.7.12"
  }
 },
 "nbformat": 4,
 "nbformat_minor": 1
}
