{
 "cells": [
  {
   "cell_type": "code",
   "execution_count": null,
   "metadata": {
    "collapsed": true
   },
   "outputs": [],
   "source": [
    "\n",
    "def get_utility(thresh):\n",
    "    \n",
    "    df = DataFrame({'prob':clf_probs[:,1],'true':y.loc[test]})\n",
    "\n",
    "    df['util'] = df.transform(lambda x:1 if x['prob']>thresh and x['true']==1 else -1 if x['prob']>thresh and x['true']<1 else 0,axis=1)\n",
    "\n",
    "    return df['util'].mean()\n",
    "\n",
    "dfu = DataFrame([{'thresh':i,'util':get_utility(i)} for i in np.arange(0,1,0.1)])"
   ]
  },
  {
   "cell_type": "code",
   "execution_count": null,
   "metadata": {
    "collapsed": true
   },
   "outputs": [],
   "source": [
    "dfu.plot('thresh','util')"
   ]
  },
  {
   "cell_type": "code",
   "execution_count": null,
   "metadata": {
    "collapsed": true
   },
   "outputs": [],
   "source": [
    "dfu.sort_values(by='util',ascending=False).head()"
   ]
  }
 ],
 "metadata": {
  "kernelspec": {
   "display_name": "Python 3",
   "language": "python",
   "name": "python3"
  },
  "language_info": {
   "codemirror_mode": {
    "name": "ipython",
    "version": 3
   },
   "file_extension": ".py",
   "mimetype": "text/x-python",
   "name": "python",
   "nbconvert_exporter": "python",
   "pygments_lexer": "ipython3",
   "version": "3.6.1"
  }
 },
 "nbformat": 4,
 "nbformat_minor": 2
}
