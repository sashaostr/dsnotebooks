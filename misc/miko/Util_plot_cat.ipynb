{
 "cells": [
  {
   "cell_type": "code",
   "execution_count": null,
   "metadata": {
    "collapsed": true
   },
   "outputs": [],
   "source": [
    "import seaborn as sns\n",
    "\n"
   ]
  },
  {
   "cell_type": "code",
   "execution_count": null,
   "metadata": {
    "collapsed": true
   },
   "outputs": [],
   "source": [
    "#continuous\n",
    "\n",
    "sns.distplot(x)"
   ]
  },
  {
   "cell_type": "code",
   "execution_count": null,
   "metadata": {
    "collapsed": true
   },
   "outputs": [],
   "source": [
    "#categorical\n",
    "\n",
    "sns.countplot(x=\"dayofweek\", data=user_table);"
   ]
  },
  {
   "cell_type": "code",
   "execution_count": null,
   "metadata": {
    "collapsed": true
   },
   "outputs": [],
   "source": [
    "# dates\n",
    "\n",
    "sns.countplot(df_song['user_sign_up_date'].map(lambda x: (x.day)))\n",
    "\n",
    "df_song[\"user_sign_up_date\"].groupby([df_song[\"user_sign_up_date\"].dt.year, df_song[\"user_sign_up_date\"].dt.month,df_song[\"user_sign_up_date\"].dt.day]).count().plot(kind=\"bar\")\n"
   ]
  },
  {
   "cell_type": "code",
   "execution_count": null,
   "metadata": {
    "collapsed": true
   },
   "outputs": [],
   "source": [
    "# relation cat to numeric"
   ]
  },
  {
   "cell_type": "code",
   "execution_count": null,
   "metadata": {
    "collapsed": true
   },
   "outputs": [],
   "source": [
    "#best:\n",
    "sns.violinplot(x='clicked',y='user_past_purchases',data=open_email_table)\n",
    "\n",
    "sns.boxplot(x='clicked',y='hour',data=open_email_table)\n",
    "\n",
    "\n",
    "\n",
    "sns.stripplot(x='clicked',y='user_past_purchases',data=open_email_table,jitter=True)\n",
    "\n",
    "#if possible - SLOW!! STUCK\n",
    "sns.swarmplot(x='clicked',y='hour',data=open_email_table)"
   ]
  },
  {
   "cell_type": "code",
   "execution_count": null,
   "metadata": {
    "collapsed": true
   },
   "outputs": [],
   "source": [
    "# relation cat to cat"
   ]
  },
  {
   "cell_type": "code",
   "execution_count": null,
   "metadata": {
    "collapsed": true
   },
   "outputs": [],
   "source": [
    "for cat in categorical_feature:\n",
    "    print(pd.crosstab(open_email_table[cat],open_email_table.clicked,normalize='index'))\n",
    "    sns.countplot(x=cat, hue=\"clicked\", data=open_email_table,)\n",
    "    plt.show()"
   ]
  }
 ],
 "metadata": {
  "kernelspec": {
   "display_name": "Python 3",
   "language": "python",
   "name": "python3"
  },
  "language_info": {
   "codemirror_mode": {
    "name": "ipython",
    "version": 3
   },
   "file_extension": ".py",
   "mimetype": "text/x-python",
   "name": "python",
   "nbconvert_exporter": "python",
   "pygments_lexer": "ipython3",
   "version": "3.6.1"
  }
 },
 "nbformat": 4,
 "nbformat_minor": 2
}
