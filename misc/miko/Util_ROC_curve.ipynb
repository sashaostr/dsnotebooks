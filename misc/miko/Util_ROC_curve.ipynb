{
 "cells": [
  {
   "cell_type": "code",
   "execution_count": 8,
   "metadata": {
    "collapsed": true
   },
   "outputs": [],
   "source": [
    "import pandas as pd\n",
    "from pandas import DataFrame,Series\n",
    "import numpy as np\n",
    "from sklearn import datasets\n",
    "import matplotlib.pyplot as plt\n",
    "%matplotlib inline\n"
   ]
  },
  {
   "cell_type": "code",
   "execution_count": 14,
   "metadata": {},
   "outputs": [],
   "source": [
    "X, y = datasets.make_classification(n_samples=500, random_state=100, flip_y=0.3)\n",
    "X = DataFrame(X)\n",
    "y = Series(y)\n"
   ]
  },
  {
   "cell_type": "code",
   "execution_count": 15,
   "metadata": {},
   "outputs": [
    {
     "name": "stdout",
     "output_type": "stream",
     "text": [
      "----\n",
      "0.754160688666 0.611035068362\n",
      "----\n",
      "0.801793400287 0.541054597925\n",
      "----\n",
      "0.81626724764 0.719289063696\n",
      "average =  0.790740445531 0.623792909994\n",
      "[{'fpr': 0.01, 'thresh': 0.95335555555555551}, {'fpr': 0.05, 'thresh': 0.89077777777777778}, {'fpr': 0.1, 'thresh': 0.7984444444444444}]\n"
     ]
    },
    {
     "data": {
      "image/png": "[encoded data removed]",
      "text/plain": [
       "<matplotlib.figure.Figure at 0x6875be0>"
      ]
     },
     "metadata": {},
     "output_type": "display_data"
    }
   ],
   "source": [
    "# Train uncalibrated random forest classifier on whole train and validation\n",
    "# data and evaluate on test data\n",
    "from sklearn.model_selection import StratifiedKFold\n",
    "from sklearn.ensemble import RandomForestClassifier\n",
    "from sklearn.metrics import log_loss,auc,roc_curve\n",
    "from scipy import interp\n",
    "\n",
    "interp_tpr_arr = []\n",
    "interp_thresh_arr = []\n",
    "mean_fpr = np.linspace(0, 1, 100)\n",
    "\n",
    "objective_fpr = [0.01,0.05,0.1]\n",
    "\n",
    "roc_auc_arr = []\n",
    "logloss_arr = []\n",
    "\n",
    "skf = StratifiedKFold(n_splits=3)\n",
    "for train, test in skf.split(X, y):\n",
    "    print('----')\n",
    "    clf = RandomForestClassifier(n_estimators=25)\n",
    "    clf.fit(X.loc[train], y.loc[train])\n",
    "    clf_probs = clf.predict_proba(X.loc[test])\n",
    "    fpr, tpr, thresholds = roc_curve(y.loc[test], clf_probs[:,1])\n",
    "#     print(fpr, tpr, thresholds)\n",
    "    roc_auc = auc(fpr, tpr)\n",
    "    logloss = log_loss(y.loc[test], clf_probs)\n",
    "    print(roc_auc,logloss)\n",
    "    \n",
    "    roc_auc_arr = np.append(roc_auc_arr, roc_auc)\n",
    "    logloss_arr = np.append(logloss_arr, logloss)\n",
    "    \n",
    "    interp_tpr = interp(mean_fpr, fpr, tpr)\n",
    "    interp_tpr_arr.append(interp_tpr)\n",
    "    \n",
    "    interp_thresh = interp(objective_fpr, fpr, thresholds)\n",
    "    interp_thresh_arr.append(interp_thresh)\n",
    "\n",
    "#     mean_tpr[0] = 0.0\n",
    "\n",
    "mean_tpr = np.array(interp_tpr_arr).mean(axis=0)\n",
    "roc_auc = roc_auc_arr.mean()\n",
    "logloss = logloss_arr.mean()\n",
    "print(\"average = \",roc_auc,logloss)\n",
    "\n",
    "plt.plot(np.linspace(0,1),np.linspace(0,1))\n",
    "plt.plot(mean_fpr,mean_tpr)\n",
    "\n",
    "interp_thresh = np.array(interp_thresh_arr).mean(axis=0)\n",
    "print([{\"fpr\":fpr,\"thresh\":thresh} for fpr,thresh in zip(objective_fpr,interp_thresh)])"
   ]
  },
  {
   "cell_type": "code",
   "execution_count": null,
   "metadata": {
    "collapsed": true
   },
   "outputs": [],
   "source": []
  }
 ],
 "metadata": {
  "kernelspec": {
   "display_name": "Python 3",
   "language": "python",
   "name": "python3"
  },
  "language_info": {
   "codemirror_mode": {
    "name": "ipython",
    "version": 3
   },
   "file_extension": ".py",
   "mimetype": "text/x-python",
   "name": "python",
   "nbconvert_exporter": "python",
   "pygments_lexer": "ipython3",
   "version": "3.6.1"
  }
 },
 "nbformat": 4,
 "nbformat_minor": 2
}
