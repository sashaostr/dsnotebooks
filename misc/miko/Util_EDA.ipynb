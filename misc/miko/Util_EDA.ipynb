{
 "cells": [
  {
   "cell_type": "code",
   "execution_count": null,
   "metadata": {
    "collapsed": true
   },
   "outputs": [],
   "source": [
    "numerical_feature=train_.dtypes[train.dtypes!= 'object'].index\n",
    "categorical_feature=train_.dtypes[train.dtypes== 'object'].index\n",
    "\n",
    "print (\"There are {} numeric and {} categorical columns in train data\".format(numerical_feature.shape[0],categorical_feature.shape[0]))"
   ]
  },
  {
   "cell_type": "code",
   "execution_count": null,
   "metadata": {
    "collapsed": true
   },
   "outputs": [],
   "source": [
    "# Correlation heatmap\n",
    "\n",
    "corr=train_[numerical_feature].corr()\n",
    "sns.heatmap(corr)"
   ]
  },
  {
   "cell_type": "code",
   "execution_count": null,
   "metadata": {
    "collapsed": true
   },
   "outputs": [],
   "source": [
    "# Let's check the first ten features are the most positively correlated with SalePrice and \n",
    "# the next ten are the most negatively correlated.\n",
    "\n",
    "print (corr['SalePrice'].sort_values(ascending=False)[:10], '\\n') #top 10 values\n",
    "print ('----------------------')\n",
    "print (corr['SalePrice'].sort_values(ascending=False)[-10:]) #last 10 values`\n"
   ]
  },
  {
   "cell_type": "code",
   "execution_count": null,
   "metadata": {
    "collapsed": true
   },
   "outputs": [],
   "source": [
    "#GrLivArea variable\n",
    "\n",
    "sns.jointplot(x=train_['GrLivArea'], y=train['SalePrice'])"
   ]
  },
  {
   "cell_type": "code",
   "execution_count": null,
   "metadata": {
    "collapsed": true
   },
   "outputs": [],
   "source": [
    "# let's create boxplots for visualizing categorical variables.\n",
    "\n",
    "def boxplot(x,y,**kwargs):\n",
    "            sns.boxplot(x=x,y=y)\n",
    "            x = plt.xticks(rotation=90)\n",
    "\n",
    "cat = [f for f in train_.columns if train_.dtypes[f] == 'object']\n",
    "\n",
    "p = pd.melt(train_, id_vars='SalePrice', value_vars=cat)\n",
    "g = sns.FacetGrid (p, col='variable', col_wrap=2, sharex=False, sharey=False, size=5)\n",
    "g = g.map(boxplot, 'value','SalePrice')\n",
    "g\n",
    "Out[48]:\n"
   ]
  },
  {
   "cell_type": "code",
   "execution_count": null,
   "metadata": {
    "collapsed": true
   },
   "outputs": [],
   "source": [
    "# Let's check is there any ordinal feature present in numerical feature\n",
    "\n",
    "num_cat=[]\n",
    "for i in numerical_feature:\n",
    "    if ( len(train_[i].unique())<=10):\n",
    "        num_cat.append(i)\n",
    "        print(' Unique values in {} feature are {}'.format(i,train_[i].unique()))\n"
   ]
  }
 ],
 "metadata": {
  "kernelspec": {
   "display_name": "Python 3",
   "language": "python",
   "name": "python3"
  },
  "language_info": {
   "codemirror_mode": {
    "name": "ipython",
    "version": 3
   },
   "file_extension": ".py",
   "mimetype": "text/x-python",
   "name": "python",
   "nbconvert_exporter": "python",
   "pygments_lexer": "ipython3",
   "version": "3.5.0"
  }
 },
 "nbformat": 4,
 "nbformat_minor": 2
}
