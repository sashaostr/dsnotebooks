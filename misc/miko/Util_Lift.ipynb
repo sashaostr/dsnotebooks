{
 "cells": [
  {
   "cell_type": "code",
   "execution_count": 4,
   "metadata": {},
   "outputs": [],
   "source": [
    "from pandas import DataFrame"
   ]
  },
  {
   "cell_type": "code",
   "execution_count": 5,
   "metadata": {},
   "outputs": [
    {
     "data": {
      "text/plain": [
       "(array([ 0.        ,  0.        ,  0.02985075,  0.02985075,  0.04477612,\n",
       "         0.04477612,  0.05970149,  0.05970149,  0.07462687,  0.07462687,\n",
       "         0.08955224,  0.08955224,  0.10447761,  0.10447761,  0.11940299,\n",
       "         0.11940299,  0.13432836,  0.13432836,  0.17910448,  0.17910448,\n",
       "         0.23880597,  0.23880597,  0.26865672,  0.26865672,  0.28358209,\n",
       "         0.28358209,  0.40298507,  0.40298507,  0.49253731,  0.49253731,\n",
       "         0.6119403 ,  0.6119403 ,  0.68656716,  0.68656716,  0.70149254,\n",
       "         0.70149254,  0.82089552,  0.82089552,  1.        ]),\n",
       " array([ 0.03030303,  0.06060606,  0.06060606,  0.09090909,  0.09090909,\n",
       "         0.12121212,  0.12121212,  0.21212121,  0.21212121,  0.24242424,\n",
       "         0.24242424,  0.36363636,  0.36363636,  0.39393939,  0.39393939,\n",
       "         0.45454545,  0.45454545,  0.48484848,  0.48484848,  0.54545455,\n",
       "         0.54545455,  0.63636364,  0.63636364,  0.6969697 ,  0.6969697 ,\n",
       "         0.72727273,  0.72727273,  0.75757576,  0.75757576,  0.84848485,\n",
       "         0.84848485,  0.90909091,  0.90909091,  0.93939394,  0.93939394,\n",
       "         0.96969697,  0.96969697,  1.        ,  1.        ]),\n",
       " array([ 0.99174524,  0.99075188,  0.97395578,  0.97276606,  0.96115496,\n",
       "         0.95602797,  0.91121875,  0.88061167,  0.87062419,  0.85979364,\n",
       "         0.84666097,  0.81621907,  0.8110451 ,  0.80479242,  0.79882718,\n",
       "         0.75334992,  0.71728907,  0.70835786,  0.69593747,  0.67884221,\n",
       "         0.6237253 ,  0.60339824,  0.57856926,  0.56219287,  0.54914595,\n",
       "         0.54904434,  0.51580765,  0.51421778,  0.44309884,  0.40338378,\n",
       "         0.34367757,  0.31044091,  0.20380447,  0.19131128,  0.18779464,\n",
       "         0.18446582,  0.09880944,  0.08276201,  0.01326988]))"
      ]
     },
     "execution_count": 5,
     "metadata": {},
     "output_type": "execute_result"
    }
   ],
   "source": [
    "import numpy as np\n",
    "from sklearn import metrics\n",
    "n = 100\n",
    "\n",
    "predictions = np.random.rand(n)\n",
    "actual = [np.random.binomial(1,p*0.7,1)[0] for p in predictions]\n",
    "\n",
    "fpr, tpr, thresholds = metrics.roc_curve(actual, predictions, pos_label=1)\n",
    "fpr, tpr, thresholds"
   ]
  },
  {
   "cell_type": "code",
   "execution_count": 6,
   "metadata": {},
   "outputs": [
    {
     "data": {
      "text/html": [
       "<div>\n",
       "<style>\n",
       "    .dataframe thead tr:only-child th {\n",
       "        text-align: right;\n",
       "    }\n",
       "\n",
       "    .dataframe thead th {\n",
       "        text-align: left;\n",
       "    }\n",
       "\n",
       "    .dataframe tbody tr th {\n",
       "        vertical-align: top;\n",
       "    }\n",
       "</style>\n",
       "<table border=\"1\" class=\"dataframe\">\n",
       "  <thead>\n",
       "    <tr style=\"text-align: right;\">\n",
       "      <th></th>\n",
       "      <th>actual</th>\n",
       "      <th>predictions</th>\n",
       "    </tr>\n",
       "  </thead>\n",
       "  <tbody>\n",
       "    <tr>\n",
       "      <th>0</th>\n",
       "      <td>1</td>\n",
       "      <td>0.991745</td>\n",
       "    </tr>\n",
       "    <tr>\n",
       "      <th>1</th>\n",
       "      <td>1</td>\n",
       "      <td>0.990752</td>\n",
       "    </tr>\n",
       "    <tr>\n",
       "      <th>2</th>\n",
       "      <td>0</td>\n",
       "      <td>0.976225</td>\n",
       "    </tr>\n",
       "  </tbody>\n",
       "</table>\n",
       "</div>"
      ],
      "text/plain": [
       "   actual  predictions\n",
       "0       1     0.991745\n",
       "1       1     0.990752\n",
       "2       0     0.976225"
      ]
     },
     "execution_count": 6,
     "metadata": {},
     "output_type": "execute_result"
    }
   ],
   "source": [
    "df = DataFrame({\"actual\":actual,\"predictions\":predictions})\n",
    "df = df.sort_values(by='predictions',ascending=False)\n",
    "df.reset_index(drop=True,inplace=True)\n",
    "df.head(3)"
   ]
  },
  {
   "cell_type": "code",
   "execution_count": 7,
   "metadata": {
    "collapsed": true
   },
   "outputs": [],
   "source": [
    "xx = df.actual.value_counts()\n",
    "p1 = xx[1]/xx.sum()"
   ]
  },
  {
   "cell_type": "code",
   "execution_count": 8,
   "metadata": {},
   "outputs": [
    {
     "data": {
      "text/plain": [
       "[(10, 1.8181818181818181, 0.18181818181818182),\n",
       " (20, 1.9696969696969697, 0.39393939393939392),\n",
       " (30, 1.8181818181818181, 0.54545454545454541),\n",
       " (40, 1.6666666666666667, 0.66666666666666663),\n",
       " (50, 1.4545454545454544, 0.72727272727272729),\n",
       " (60, 1.3636363636363635, 0.81818181818181823),\n",
       " (70, 1.2554112554112555, 0.87878787878787878),\n",
       " (80, 1.2121212121212122, 0.96969696969696972),\n",
       " (90, 1.1111111111111109, 1.0),\n",
       " (100, 1.0, 1.0)]"
      ]
     },
     "execution_count": 8,
     "metadata": {},
     "output_type": "execute_result"
    }
   ],
   "source": [
    "[(i,(df.actual[:i].sum()/i)/p1,df.actual[:i].sum()/xx[1]) for i in range(10,110,10)]"
   ]
  },
  {
   "cell_type": "code",
   "execution_count": null,
   "metadata": {
    "collapsed": true
   },
   "outputs": [],
   "source": []
  }
 ],
 "metadata": {
  "kernelspec": {
   "display_name": "Python 3",
   "language": "python",
   "name": "python3"
  },
  "language_info": {
   "codemirror_mode": {
    "name": "ipython",
    "version": 3
   },
   "file_extension": ".py",
   "mimetype": "text/x-python",
   "name": "python",
   "nbconvert_exporter": "python",
   "pygments_lexer": "ipython3",
   "version": "3.6.1"
  }
 },
 "nbformat": 4,
 "nbformat_minor": 2
}
