{
 "cells": [
  {
   "cell_type": "code",
   "execution_count": null,
   "metadata": {
    "collapsed": true
   },
   "outputs": [],
   "source": [
    "cat = [f for f in df.columns if df.dtypes[f] == 'object']\n",
    "def anova(frame):\n",
    "    anv = pd.DataFrame()\n",
    "    anv['features'] = cat\n",
    "    pvals = []\n",
    "    for c in cat:\n",
    "           samples = []\n",
    "           for cls in frame[c].unique():\n",
    "                  s = frame[frame[c] == cls]['SalePrice'].values\n",
    "                  samples.append(s)\n",
    "           pval = stats.f_oneway(*samples)[1]\n",
    "           pvals.append(pval)\n",
    "    anv['pval'] = pvals\n",
    "    return anv.sort_values('pval')"
   ]
  },
  {
   "cell_type": "code",
   "execution_count": null,
   "metadata": {
    "collapsed": true
   },
   "outputs": [],
   "source": [
    "categorical_feature=df.dtypes[train.dtypes== 'object'].index\n",
    "\n",
    "\n",
    "cat_data= df[categorical_feature]\n",
    "cat_data['SalePrice'] = df.SalePrice.values\n",
    "k = anova(cat_data) \n",
    "k['disparity'] = np.log(1./k['pval'].values) \n",
    "sns.barplot(data=k, x = 'features', y='disparity') \n",
    "plt.xticks(rotation=90) \n",
    "plt "
   ]
  }
 ],
 "metadata": {
  "kernelspec": {
   "display_name": "Python 3",
   "language": "python",
   "name": "python3"
  },
  "language_info": {
   "codemirror_mode": {
    "name": "ipython",
    "version": 3
   },
   "file_extension": ".py",
   "mimetype": "text/x-python",
   "name": "python",
   "nbconvert_exporter": "python",
   "pygments_lexer": "ipython3",
   "version": "3.5.0"
  }
 },
 "nbformat": 4,
 "nbformat_minor": 2
}
