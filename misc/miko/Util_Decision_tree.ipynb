{
 "cells": [
  {
   "cell_type": "code",
   "execution_count": null,
   "metadata": {
    "collapsed": true
   },
   "outputs": [],
   "source": [
    "from sklearn.tree import DecisionTreeClassifier\n",
    "from sklearn.model_selection import train_test_split\n",
    "from sklearn import tree\n",
    "\n",
    "X_train, X_test, y_train, y_test = train_test_split(df[features], df[target], random_state=0)\n",
    "\n",
    "\n",
    "estimator = DecisionTreeClassifier(criterion = 'entropy',max_depth=4, random_state=0,class_weight=\"balanced\")\n",
    "estimator.fit(X_train, y_train)\n",
    "\n",
    "\n",
    "tree.export_graphviz(estimator, out_file=\"dotfile.txt\",feature_names =X_train.columns )\n",
    "\n",
    "\n",
    "import pydotplus\n",
    "from IPython.display import Image\n",
    "\n",
    "\n",
    "with open('dotfile.txt', 'w') as out:\n",
    "    content = tree.export_graphviz(estimator,out_file=None,feature_names =X_train.columns ,class_names=['No','Convert'], \n",
    "                     filled=True, rounded=True, special_characters=True)\n",
    "    graph=pydotplus.graph_from_dot_data(content)\n",
    "\n",
    "Image(graph.create_png())"
   ]
  }
 ],
 "metadata": {
  "kernelspec": {
   "display_name": "Python 3",
   "language": "python",
   "name": "python3"
  },
  "language_info": {
   "codemirror_mode": {
    "name": "ipython",
    "version": 3
   },
   "file_extension": ".py",
   "mimetype": "text/x-python",
   "name": "python",
   "nbconvert_exporter": "python",
   "pygments_lexer": "ipython3",
   "version": "3.6.1"
  }
 },
 "nbformat": 4,
 "nbformat_minor": 2
}
