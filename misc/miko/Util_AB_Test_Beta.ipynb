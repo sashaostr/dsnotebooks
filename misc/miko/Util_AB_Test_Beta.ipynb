{
 "cells": [
  {
   "cell_type": "code",
   "execution_count": 1,
   "metadata": {
    "collapsed": true
   },
   "outputs": [],
   "source": [
    "from scipy.stats import beta\n",
    "\n",
    "def calc_beta(successes,fails):\n",
    "    a=successes+1\n",
    "    b=fails+1\n",
    "    low_lim,mid,up_lim = beta.ppf([0.025,0.5,0.975], a, b)\n",
    "    return {'low':low_lim,'mid':mid,'up':up_lim}\n",
    "\n",
    "#percentile : [0.025,0.5,0.975]\n",
    "def calc_beta1(successes,fails,percentile):\n",
    "    a=successes+1\n",
    "    b=fails+1\n",
    "    return beta.ppf(percentile, a, b)"
   ]
  },
  {
   "cell_type": "code",
   "execution_count": null,
   "metadata": {
    "collapsed": true
   },
   "outputs": [],
   "source": [
    "calc_beta(len(test_table[test_table.test==1]),len(test_table[test_table.test==0]))"
   ]
  }
 ],
 "metadata": {
  "kernelspec": {
   "display_name": "Python 3",
   "language": "python",
   "name": "python3"
  },
  "language_info": {
   "codemirror_mode": {
    "name": "ipython",
    "version": 3
   },
   "file_extension": ".py",
   "mimetype": "text/x-python",
   "name": "python",
   "nbconvert_exporter": "python",
   "pygments_lexer": "ipython3",
   "version": "3.6.1"
  }
 },
 "nbformat": 4,
 "nbformat_minor": 2
}
