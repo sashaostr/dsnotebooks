{
 "cells": [
  {
   "cell_type": "code",
   "execution_count": 1,
   "metadata": {
    "collapsed": true
   },
   "outputs": [],
   "source": [
    "import pandas as pd\n",
    "from pandas import DataFrame,Series\n",
    "import numpy as np\n",
    "from sklearn import datasets\n",
    "import matplotlib.pyplot as plt\n",
    "import seaborn as sns\n",
    "%matplotlib inline"
   ]
  },
  {
   "cell_type": "code",
   "execution_count": 2,
   "metadata": {
    "collapsed": true
   },
   "outputs": [],
   "source": [
    "gender_task = pd.read_csv('data/gender_task.csv')\n"
   ]
  },
  {
   "cell_type": "code",
   "execution_count": 7,
   "metadata": {
    "collapsed": true
   },
   "outputs": [],
   "source": [
    "gender_task['user_id'] = gender_task['user_id'].map(str)\n",
    "gender_task['description_id'] = gender_task['description_id'].map(str)\n",
    "gender_task['date'] = pd.to_datetime(gender_task['date'])"
   ]
  },
  {
   "cell_type": "code",
   "execution_count": 11,
   "metadata": {},
   "outputs": [
    {
     "name": "stdout",
     "output_type": "stream",
     "text": [
      "<class 'pandas.core.frame.DataFrame'>\n",
      "RangeIndex: 2079933 entries, 0 to 2079932\n",
      "Data columns (total 6 columns):\n",
      "user_id           object\n",
      "description_id    object\n",
      "category          object\n",
      "amount            float64\n",
      "date              datetime64[ns]\n",
      "gender            object\n",
      "dtypes: datetime64[ns](1), float64(1), object(4)\n",
      "memory usage: 95.2+ MB\n"
     ]
    }
   ],
   "source": [
    "gender_task.info()"
   ]
  },
  {
   "cell_type": "code",
   "execution_count": 12,
   "metadata": {},
   "outputs": [
    {
     "data": {
      "text/html": [
       "<div>\n",
       "<style>\n",
       "    .dataframe thead tr:only-child th {\n",
       "        text-align: right;\n",
       "    }\n",
       "\n",
       "    .dataframe thead th {\n",
       "        text-align: left;\n",
       "    }\n",
       "\n",
       "    .dataframe tbody tr th {\n",
       "        vertical-align: top;\n",
       "    }\n",
       "</style>\n",
       "<table border=\"1\" class=\"dataframe\">\n",
       "  <thead>\n",
       "    <tr style=\"text-align: right;\">\n",
       "      <th></th>\n",
       "      <th>user_id</th>\n",
       "      <th>description_id</th>\n",
       "      <th>category</th>\n",
       "      <th>amount</th>\n",
       "      <th>date</th>\n",
       "      <th>gender</th>\n",
       "    </tr>\n",
       "  </thead>\n",
       "  <tbody>\n",
       "    <tr>\n",
       "      <th>0</th>\n",
       "      <td>8287665566805798917</td>\n",
       "      <td>3660638023985833343</td>\n",
       "      <td>Restaurants</td>\n",
       "      <td>-1.53</td>\n",
       "      <td>2015-02-15</td>\n",
       "      <td>M</td>\n",
       "    </tr>\n",
       "    <tr>\n",
       "      <th>1</th>\n",
       "      <td>8287665566805798917</td>\n",
       "      <td>3660638023985833343</td>\n",
       "      <td>Restaurants</td>\n",
       "      <td>-1.53</td>\n",
       "      <td>2015-05-19</td>\n",
       "      <td>M</td>\n",
       "    </tr>\n",
       "    <tr>\n",
       "      <th>2</th>\n",
       "      <td>8287665566805798917</td>\n",
       "      <td>6383041573750908048</td>\n",
       "      <td>Cash &amp; ATM</td>\n",
       "      <td>-455.39</td>\n",
       "      <td>2015-09-03</td>\n",
       "      <td>M</td>\n",
       "    </tr>\n",
       "    <tr>\n",
       "      <th>3</th>\n",
       "      <td>8287665566805798917</td>\n",
       "      <td>9183377839702642979</td>\n",
       "      <td>Music</td>\n",
       "      <td>-8.79</td>\n",
       "      <td>2015-03-07</td>\n",
       "      <td>M</td>\n",
       "    </tr>\n",
       "    <tr>\n",
       "      <th>4</th>\n",
       "      <td>8287665566805798917</td>\n",
       "      <td>2128558733007088311</td>\n",
       "      <td>Uncategorized</td>\n",
       "      <td>-52.82</td>\n",
       "      <td>2015-05-19</td>\n",
       "      <td>M</td>\n",
       "    </tr>\n",
       "  </tbody>\n",
       "</table>\n",
       "</div>"
      ],
      "text/plain": [
       "               user_id       description_id       category  amount       date  \\\n",
       "0  8287665566805798917  3660638023985833343    Restaurants   -1.53 2015-02-15   \n",
       "1  8287665566805798917  3660638023985833343    Restaurants   -1.53 2015-05-19   \n",
       "2  8287665566805798917  6383041573750908048     Cash & ATM -455.39 2015-09-03   \n",
       "3  8287665566805798917  9183377839702642979          Music   -8.79 2015-03-07   \n",
       "4  8287665566805798917  2128558733007088311  Uncategorized  -52.82 2015-05-19   \n",
       "\n",
       "  gender  \n",
       "0      M  \n",
       "1      M  \n",
       "2      M  \n",
       "3      M  \n",
       "4      M  "
      ]
     },
     "execution_count": 12,
     "metadata": {},
     "output_type": "execute_result"
    }
   ],
   "source": [
    "gender_task.head()"
   ]
  },
  {
   "cell_type": "code",
   "execution_count": 13,
   "metadata": {},
   "outputs": [
    {
     "data": {
      "text/html": [
       "<div>\n",
       "<style>\n",
       "    .dataframe thead tr:only-child th {\n",
       "        text-align: right;\n",
       "    }\n",
       "\n",
       "    .dataframe thead th {\n",
       "        text-align: left;\n",
       "    }\n",
       "\n",
       "    .dataframe tbody tr th {\n",
       "        vertical-align: top;\n",
       "    }\n",
       "</style>\n",
       "<table border=\"1\" class=\"dataframe\">\n",
       "  <thead>\n",
       "    <tr style=\"text-align: right;\">\n",
       "      <th></th>\n",
       "      <th>user_id</th>\n",
       "      <th>description_id</th>\n",
       "      <th>category</th>\n",
       "      <th>amount</th>\n",
       "      <th>date</th>\n",
       "      <th>gender</th>\n",
       "    </tr>\n",
       "  </thead>\n",
       "  <tbody>\n",
       "    <tr>\n",
       "      <th>count</th>\n",
       "      <td>2079933</td>\n",
       "      <td>2079933</td>\n",
       "      <td>2067773</td>\n",
       "      <td>2.079933e+06</td>\n",
       "      <td>2079933</td>\n",
       "      <td>2079933</td>\n",
       "    </tr>\n",
       "    <tr>\n",
       "      <th>unique</th>\n",
       "      <td>1475</td>\n",
       "      <td>179435</td>\n",
       "      <td>108</td>\n",
       "      <td>NaN</td>\n",
       "      <td>307</td>\n",
       "      <td>2</td>\n",
       "    </tr>\n",
       "    <tr>\n",
       "      <th>top</th>\n",
       "      <td>4871693080905837887</td>\n",
       "      <td>9075968186325989747</td>\n",
       "      <td>Uncategorized</td>\n",
       "      <td>NaN</td>\n",
       "      <td>2015-06-01 00:00:00</td>\n",
       "      <td>M</td>\n",
       "    </tr>\n",
       "    <tr>\n",
       "      <th>freq</th>\n",
       "      <td>18234</td>\n",
       "      <td>61168</td>\n",
       "      <td>241519</td>\n",
       "      <td>NaN</td>\n",
       "      <td>14007</td>\n",
       "      <td>1353650</td>\n",
       "    </tr>\n",
       "    <tr>\n",
       "      <th>first</th>\n",
       "      <td>NaN</td>\n",
       "      <td>NaN</td>\n",
       "      <td>NaN</td>\n",
       "      <td>NaN</td>\n",
       "      <td>2015-01-01 00:00:00</td>\n",
       "      <td>NaN</td>\n",
       "    </tr>\n",
       "    <tr>\n",
       "      <th>last</th>\n",
       "      <td>NaN</td>\n",
       "      <td>NaN</td>\n",
       "      <td>NaN</td>\n",
       "      <td>NaN</td>\n",
       "      <td>2015-11-03 00:00:00</td>\n",
       "      <td>NaN</td>\n",
       "    </tr>\n",
       "    <tr>\n",
       "      <th>mean</th>\n",
       "      <td>NaN</td>\n",
       "      <td>NaN</td>\n",
       "      <td>NaN</td>\n",
       "      <td>-5.207163e+00</td>\n",
       "      <td>NaN</td>\n",
       "      <td>NaN</td>\n",
       "    </tr>\n",
       "    <tr>\n",
       "      <th>std</th>\n",
       "      <td>NaN</td>\n",
       "      <td>NaN</td>\n",
       "      <td>NaN</td>\n",
       "      <td>7.388375e+03</td>\n",
       "      <td>NaN</td>\n",
       "      <td>NaN</td>\n",
       "    </tr>\n",
       "    <tr>\n",
       "      <th>min</th>\n",
       "      <td>NaN</td>\n",
       "      <td>NaN</td>\n",
       "      <td>NaN</td>\n",
       "      <td>-4.807600e+06</td>\n",
       "      <td>NaN</td>\n",
       "      <td>NaN</td>\n",
       "    </tr>\n",
       "    <tr>\n",
       "      <th>25%</th>\n",
       "      <td>NaN</td>\n",
       "      <td>NaN</td>\n",
       "      <td>NaN</td>\n",
       "      <td>-5.100000e+01</td>\n",
       "      <td>NaN</td>\n",
       "      <td>NaN</td>\n",
       "    </tr>\n",
       "    <tr>\n",
       "      <th>50%</th>\n",
       "      <td>NaN</td>\n",
       "      <td>NaN</td>\n",
       "      <td>NaN</td>\n",
       "      <td>-1.594000e+01</td>\n",
       "      <td>NaN</td>\n",
       "      <td>NaN</td>\n",
       "    </tr>\n",
       "    <tr>\n",
       "      <th>75%</th>\n",
       "      <td>NaN</td>\n",
       "      <td>NaN</td>\n",
       "      <td>NaN</td>\n",
       "      <td>-4.540000e+00</td>\n",
       "      <td>NaN</td>\n",
       "      <td>NaN</td>\n",
       "    </tr>\n",
       "    <tr>\n",
       "      <th>max</th>\n",
       "      <td>NaN</td>\n",
       "      <td>NaN</td>\n",
       "      <td>NaN</td>\n",
       "      <td>4.807600e+06</td>\n",
       "      <td>NaN</td>\n",
       "      <td>NaN</td>\n",
       "    </tr>\n",
       "  </tbody>\n",
       "</table>\n",
       "</div>"
      ],
      "text/plain": [
       "                    user_id       description_id       category        amount  \\\n",
       "count               2079933              2079933        2067773  2.079933e+06   \n",
       "unique                 1475               179435            108           NaN   \n",
       "top     4871693080905837887  9075968186325989747  Uncategorized           NaN   \n",
       "freq                  18234                61168         241519           NaN   \n",
       "first                   NaN                  NaN            NaN           NaN   \n",
       "last                    NaN                  NaN            NaN           NaN   \n",
       "mean                    NaN                  NaN            NaN -5.207163e+00   \n",
       "std                     NaN                  NaN            NaN  7.388375e+03   \n",
       "min                     NaN                  NaN            NaN -4.807600e+06   \n",
       "25%                     NaN                  NaN            NaN -5.100000e+01   \n",
       "50%                     NaN                  NaN            NaN -1.594000e+01   \n",
       "75%                     NaN                  NaN            NaN -4.540000e+00   \n",
       "max                     NaN                  NaN            NaN  4.807600e+06   \n",
       "\n",
       "                       date   gender  \n",
       "count               2079933  2079933  \n",
       "unique                  307        2  \n",
       "top     2015-06-01 00:00:00        M  \n",
       "freq                  14007  1353650  \n",
       "first   2015-01-01 00:00:00      NaN  \n",
       "last    2015-11-03 00:00:00      NaN  \n",
       "mean                    NaN      NaN  \n",
       "std                     NaN      NaN  \n",
       "min                     NaN      NaN  \n",
       "25%                     NaN      NaN  \n",
       "50%                     NaN      NaN  \n",
       "75%                     NaN      NaN  \n",
       "max                     NaN      NaN  "
      ]
     },
     "execution_count": 13,
     "metadata": {},
     "output_type": "execute_result"
    }
   ],
   "source": [
    "gender_task.describe(include='all')"
   ]
  },
  {
   "cell_type": "code",
   "execution_count": 91,
   "metadata": {},
   "outputs": [],
   "source": [
    "gender_task['dayofweek'] = gender_task.date.map(lambda x:x.dayofweek)"
   ]
  },
  {
   "cell_type": "code",
   "execution_count": 15,
   "metadata": {},
   "outputs": [
    {
     "data": {
      "text/plain": [
       "M    1353650\n",
       "F     726283\n",
       "Name: gender, dtype: int64"
      ]
     },
     "execution_count": 15,
     "metadata": {},
     "output_type": "execute_result"
    }
   ],
   "source": [
    "gender_task['gender'].value_counts()"
   ]
  },
  {
   "cell_type": "code",
   "execution_count": 16,
   "metadata": {},
   "outputs": [
    {
     "data": {
      "text/plain": [
       "<matplotlib.axes._subplots.AxesSubplot at 0xaa64b38>"
      ]
     },
     "execution_count": 16,
     "metadata": {},
     "output_type": "execute_result"
    },
    {
     "data": {
      "image/png": "[encoded data removed]",
      "text/plain": [
       "<matplotlib.figure.Figure at 0x148e25f8>"
      ]
     },
     "metadata": {},
     "output_type": "display_data"
    }
   ],
   "source": [
    "sns.distplot(gender_task['amount'])"
   ]
  },
  {
   "cell_type": "code",
   "execution_count": 18,
   "metadata": {},
   "outputs": [
    {
     "data": {
      "text/plain": [
       "<matplotlib.axes._subplots.AxesSubplot at 0xac326a0>"
      ]
     },
     "execution_count": 18,
     "metadata": {},
     "output_type": "execute_result"
    },
    {
     "data": {
      "image/png": "[encoded data removed]",
      "text/plain": [
       "<matplotlib.figure.Figure at 0xaacf828>"
      ]
     },
     "metadata": {},
     "output_type": "display_data"
    }
   ],
   "source": [
    "sns.boxplot(y='amount',data=gender_task)"
   ]
  },
  {
   "cell_type": "code",
   "execution_count": 19,
   "metadata": {},
   "outputs": [
    {
     "data": {
      "text/html": [
       "<div>\n",
       "<style>\n",
       "    .dataframe thead tr:only-child th {\n",
       "        text-align: right;\n",
       "    }\n",
       "\n",
       "    .dataframe thead th {\n",
       "        text-align: left;\n",
       "    }\n",
       "\n",
       "    .dataframe tbody tr th {\n",
       "        vertical-align: top;\n",
       "    }\n",
       "</style>\n",
       "<table border=\"1\" class=\"dataframe\">\n",
       "  <thead>\n",
       "    <tr style=\"text-align: right;\">\n",
       "      <th></th>\n",
       "      <th>count</th>\n",
       "      <th>mean</th>\n",
       "      <th>std</th>\n",
       "      <th>min</th>\n",
       "      <th>25%</th>\n",
       "      <th>50%</th>\n",
       "      <th>75%</th>\n",
       "      <th>max</th>\n",
       "    </tr>\n",
       "    <tr>\n",
       "      <th>gender</th>\n",
       "      <th></th>\n",
       "      <th></th>\n",
       "      <th></th>\n",
       "      <th></th>\n",
       "      <th></th>\n",
       "      <th></th>\n",
       "      <th></th>\n",
       "      <th></th>\n",
       "    </tr>\n",
       "  </thead>\n",
       "  <tbody>\n",
       "    <tr>\n",
       "      <th>F</th>\n",
       "      <td>726283.0</td>\n",
       "      <td>-8.972179</td>\n",
       "      <td>3318.044765</td>\n",
       "      <td>-800215.91</td>\n",
       "      <td>-48.75</td>\n",
       "      <td>-15.53</td>\n",
       "      <td>-4.23</td>\n",
       "      <td>1134000.0</td>\n",
       "    </tr>\n",
       "    <tr>\n",
       "      <th>M</th>\n",
       "      <td>1353650.0</td>\n",
       "      <td>-3.187094</td>\n",
       "      <td>8830.043085</td>\n",
       "      <td>-4807600.00</td>\n",
       "      <td>-52.15</td>\n",
       "      <td>-16.15</td>\n",
       "      <td>-4.71</td>\n",
       "      <td>4807600.0</td>\n",
       "    </tr>\n",
       "  </tbody>\n",
       "</table>\n",
       "</div>"
      ],
      "text/plain": [
       "            count      mean          std         min    25%    50%   75%  \\\n",
       "gender                                                                     \n",
       "F        726283.0 -8.972179  3318.044765  -800215.91 -48.75 -15.53 -4.23   \n",
       "M       1353650.0 -3.187094  8830.043085 -4807600.00 -52.15 -16.15 -4.71   \n",
       "\n",
       "              max  \n",
       "gender             \n",
       "F       1134000.0  \n",
       "M       4807600.0  "
      ]
     },
     "execution_count": 19,
     "metadata": {},
     "output_type": "execute_result"
    }
   ],
   "source": [
    "gender_task.groupby('gender')['amount'].describe()"
   ]
  },
  {
   "cell_type": "code",
   "execution_count": 92,
   "metadata": {},
   "outputs": [
    {
     "data": {
      "text/html": [
       "<div>\n",
       "<style>\n",
       "    .dataframe thead tr:only-child th {\n",
       "        text-align: right;\n",
       "    }\n",
       "\n",
       "    .dataframe thead th {\n",
       "        text-align: left;\n",
       "    }\n",
       "\n",
       "    .dataframe tbody tr th {\n",
       "        vertical-align: top;\n",
       "    }\n",
       "</style>\n",
       "<table border=\"1\" class=\"dataframe\">\n",
       "  <thead>\n",
       "    <tr style=\"text-align: right;\">\n",
       "      <th></th>\n",
       "      <th>count</th>\n",
       "      <th>mean</th>\n",
       "      <th>std</th>\n",
       "      <th>min</th>\n",
       "      <th>25%</th>\n",
       "      <th>50%</th>\n",
       "      <th>75%</th>\n",
       "      <th>max</th>\n",
       "    </tr>\n",
       "    <tr>\n",
       "      <th>gender</th>\n",
       "      <th></th>\n",
       "      <th></th>\n",
       "      <th></th>\n",
       "      <th></th>\n",
       "      <th></th>\n",
       "      <th></th>\n",
       "      <th></th>\n",
       "      <th></th>\n",
       "    </tr>\n",
       "  </thead>\n",
       "  <tbody>\n",
       "    <tr>\n",
       "      <th>F</th>\n",
       "      <td>726283.0</td>\n",
       "      <td>2.281754</td>\n",
       "      <td>1.884483</td>\n",
       "      <td>0.0</td>\n",
       "      <td>1.0</td>\n",
       "      <td>2.0</td>\n",
       "      <td>4.0</td>\n",
       "      <td>6.0</td>\n",
       "    </tr>\n",
       "    <tr>\n",
       "      <th>M</th>\n",
       "      <td>1353650.0</td>\n",
       "      <td>2.444382</td>\n",
       "      <td>1.928643</td>\n",
       "      <td>0.0</td>\n",
       "      <td>1.0</td>\n",
       "      <td>2.0</td>\n",
       "      <td>4.0</td>\n",
       "      <td>6.0</td>\n",
       "    </tr>\n",
       "  </tbody>\n",
       "</table>\n",
       "</div>"
      ],
      "text/plain": [
       "            count      mean       std  min  25%  50%  75%  max\n",
       "gender                                                        \n",
       "F        726283.0  2.281754  1.884483  0.0  1.0  2.0  4.0  6.0\n",
       "M       1353650.0  2.444382  1.928643  0.0  1.0  2.0  4.0  6.0"
      ]
     },
     "execution_count": 92,
     "metadata": {},
     "output_type": "execute_result"
    }
   ],
   "source": [
    "gender_task.groupby('gender')['dayofweek'].describe()"
   ]
  },
  {
   "cell_type": "markdown",
   "metadata": {},
   "source": [
    "# pivot from transaction to user data"
   ]
  },
  {
   "cell_type": "code",
   "execution_count": 23,
   "metadata": {
    "collapsed": true
   },
   "outputs": [],
   "source": [
    "user_amount_median = gender_task.groupby('user_id')['amount'].median()\n",
    "user_amount_min = gender_task.groupby('user_id')['amount'].min()\n",
    "user_amount_max = gender_task.groupby('user_id')['amount'].max()"
   ]
  },
  {
   "cell_type": "code",
   "execution_count": 93,
   "metadata": {
    "collapsed": true
   },
   "outputs": [],
   "source": [
    "user_dow_mean = gender_task.groupby('user_id')['dayofweek'].mean()"
   ]
  },
  {
   "cell_type": "code",
   "execution_count": 94,
   "metadata": {},
   "outputs": [],
   "source": [
    "user_amount_min.name='min'\n",
    "user_amount_median.name='median'\n",
    "user_amount_max.name='max'\n",
    "user_dow_mean.name='dow'\n"
   ]
  },
  {
   "cell_type": "code",
   "execution_count": 29,
   "metadata": {},
   "outputs": [],
   "source": [
    "user_gr = gender_task.groupby('user_id')"
   ]
  },
  {
   "cell_type": "code",
   "execution_count": 40,
   "metadata": {},
   "outputs": [],
   "source": [
    "ll = []\n",
    "for u,gr in user_gr:\n",
    "    vc = gr['category'].value_counts()\n",
    "    maxc = None\n",
    "    if len(vc)>0:\n",
    "        maxc = vc.idxmax()\n",
    "    ll.append({'user_id':u,'max_cat':maxc})\n",
    "user_cat = DataFrame(ll)\n",
    "user_cat.index = user_cat['user_id']\n",
    "user_cat = user_cat.drop('user_id',axis=1)"
   ]
  },
  {
   "cell_type": "code",
   "execution_count": 61,
   "metadata": {
    "collapsed": true
   },
   "outputs": [],
   "source": [
    "ll = []\n",
    "for u,gr in user_gr:\n",
    "    vc = gr['gender'].value_counts()\n",
    "    maxc = None\n",
    "    if len(vc)>0:\n",
    "        maxc = vc.idxmax()\n",
    "    ll.append({'user_id':u,'gender':maxc})\n",
    "user_gen = DataFrame(ll)\n",
    "user_gen.index = user_gen['user_id']\n",
    "user_gen = user_gen.drop('user_id',axis=1)"
   ]
  },
  {
   "cell_type": "code",
   "execution_count": 95,
   "metadata": {},
   "outputs": [
    {
     "data": {
      "text/html": [
       "<div>\n",
       "<style>\n",
       "    .dataframe thead tr:only-child th {\n",
       "        text-align: right;\n",
       "    }\n",
       "\n",
       "    .dataframe thead th {\n",
       "        text-align: left;\n",
       "    }\n",
       "\n",
       "    .dataframe tbody tr th {\n",
       "        vertical-align: top;\n",
       "    }\n",
       "</style>\n",
       "<table border=\"1\" class=\"dataframe\">\n",
       "  <thead>\n",
       "    <tr style=\"text-align: right;\">\n",
       "      <th></th>\n",
       "      <th>max</th>\n",
       "      <th>min</th>\n",
       "      <th>median</th>\n",
       "      <th>dow</th>\n",
       "      <th>max_cat</th>\n",
       "      <th>gender</th>\n",
       "    </tr>\n",
       "    <tr>\n",
       "      <th>user_id</th>\n",
       "      <th></th>\n",
       "      <th></th>\n",
       "      <th></th>\n",
       "      <th></th>\n",
       "      <th></th>\n",
       "      <th></th>\n",
       "    </tr>\n",
       "  </thead>\n",
       "  <tbody>\n",
       "    <tr>\n",
       "      <th>1006666640984951378</th>\n",
       "      <td>11271.39</td>\n",
       "      <td>-9460.00</td>\n",
       "      <td>-23.670</td>\n",
       "      <td>1.847007</td>\n",
       "      <td>Transfer</td>\n",
       "      <td>F</td>\n",
       "    </tr>\n",
       "    <tr>\n",
       "      <th>1009302328699422906</th>\n",
       "      <td>3427.12</td>\n",
       "      <td>-3427.12</td>\n",
       "      <td>-17.400</td>\n",
       "      <td>3.513917</td>\n",
       "      <td>Groceries</td>\n",
       "      <td>M</td>\n",
       "    </tr>\n",
       "    <tr>\n",
       "      <th>1013919850183888608</th>\n",
       "      <td>20115.78</td>\n",
       "      <td>-10800.00</td>\n",
       "      <td>-30.205</td>\n",
       "      <td>2.752018</td>\n",
       "      <td>Uncategorized</td>\n",
       "      <td>M</td>\n",
       "    </tr>\n",
       "    <tr>\n",
       "      <th>1014226823806502806</th>\n",
       "      <td>10945.77</td>\n",
       "      <td>-4900.00</td>\n",
       "      <td>-9.980</td>\n",
       "      <td>1.704776</td>\n",
       "      <td>Transfer</td>\n",
       "      <td>F</td>\n",
       "    </tr>\n",
       "    <tr>\n",
       "      <th>1021946908801156887</th>\n",
       "      <td>108158.59</td>\n",
       "      <td>-13626.53</td>\n",
       "      <td>-24.500</td>\n",
       "      <td>2.745019</td>\n",
       "      <td>Uncategorized</td>\n",
       "      <td>M</td>\n",
       "    </tr>\n",
       "  </tbody>\n",
       "</table>\n",
       "</div>"
      ],
      "text/plain": [
       "                           max       min  median       dow        max_cat  \\\n",
       "user_id                                                                     \n",
       "1006666640984951378   11271.39  -9460.00 -23.670  1.847007       Transfer   \n",
       "1009302328699422906    3427.12  -3427.12 -17.400  3.513917      Groceries   \n",
       "1013919850183888608   20115.78 -10800.00 -30.205  2.752018  Uncategorized   \n",
       "1014226823806502806   10945.77  -4900.00  -9.980  1.704776       Transfer   \n",
       "1021946908801156887  108158.59 -13626.53 -24.500  2.745019  Uncategorized   \n",
       "\n",
       "                    gender  \n",
       "user_id                     \n",
       "1006666640984951378      F  \n",
       "1009302328699422906      M  \n",
       "1013919850183888608      M  \n",
       "1014226823806502806      F  \n",
       "1021946908801156887      M  "
      ]
     },
     "execution_count": 95,
     "metadata": {},
     "output_type": "execute_result"
    }
   ],
   "source": [
    "df = pd.concat([user_amount_max.to_frame(),user_amount_min.to_frame(),user_amount_median.to_frame(),user_dow_mean.to_frame(),user_cat,user_gen],axis=1)\n",
    "df.head()"
   ]
  },
  {
   "cell_type": "code",
   "execution_count": 96,
   "metadata": {
    "collapsed": true
   },
   "outputs": [],
   "source": [
    "df.to_csv('intuit/gender_task_flat1.csv')"
   ]
  },
  {
   "cell_type": "code",
   "execution_count": 97,
   "metadata": {},
   "outputs": [
    {
     "name": "stdout",
     "output_type": "stream",
     "text": [
      "<class 'pandas.core.frame.DataFrame'>\n",
      "Index: 1475 entries, 1006666640984951378 to 999948330882583884\n",
      "Data columns (total 6 columns):\n",
      "max        1475 non-null float64\n",
      "min        1475 non-null float64\n",
      "median     1475 non-null float64\n",
      "dow        1475 non-null float64\n",
      "max_cat    1474 non-null object\n",
      "gender     1475 non-null object\n",
      "dtypes: float64(4), object(2)\n",
      "memory usage: 120.7+ KB\n"
     ]
    }
   ],
   "source": [
    "df.info()"
   ]
  },
  {
   "cell_type": "code",
   "execution_count": 115,
   "metadata": {},
   "outputs": [
    {
     "data": {
      "text/html": [
       "<div>\n",
       "<style>\n",
       "    .dataframe thead tr:only-child th {\n",
       "        text-align: right;\n",
       "    }\n",
       "\n",
       "    .dataframe thead th {\n",
       "        text-align: left;\n",
       "    }\n",
       "\n",
       "    .dataframe tbody tr th {\n",
       "        vertical-align: top;\n",
       "    }\n",
       "</style>\n",
       "<table border=\"1\" class=\"dataframe\">\n",
       "  <thead>\n",
       "    <tr style=\"text-align: right;\">\n",
       "      <th>gender</th>\n",
       "      <th>F</th>\n",
       "      <th>M</th>\n",
       "    </tr>\n",
       "    <tr>\n",
       "      <th>max_cat</th>\n",
       "      <th></th>\n",
       "      <th></th>\n",
       "    </tr>\n",
       "  </thead>\n",
       "  <tbody>\n",
       "    <tr>\n",
       "      <th>Air Travel</th>\n",
       "      <td>1.000000</td>\n",
       "      <td>0.000000</td>\n",
       "    </tr>\n",
       "    <tr>\n",
       "      <th>Bank Fee</th>\n",
       "      <td>0.800000</td>\n",
       "      <td>0.200000</td>\n",
       "    </tr>\n",
       "    <tr>\n",
       "      <th>Business Services</th>\n",
       "      <td>0.800000</td>\n",
       "      <td>0.200000</td>\n",
       "    </tr>\n",
       "    <tr>\n",
       "      <th>Cash &amp; ATM</th>\n",
       "      <td>0.363636</td>\n",
       "      <td>0.636364</td>\n",
       "    </tr>\n",
       "    <tr>\n",
       "      <th>Check</th>\n",
       "      <td>0.000000</td>\n",
       "      <td>1.000000</td>\n",
       "    </tr>\n",
       "    <tr>\n",
       "      <th>Clothing</th>\n",
       "      <td>1.000000</td>\n",
       "      <td>0.000000</td>\n",
       "    </tr>\n",
       "    <tr>\n",
       "      <th>Coffee Shops</th>\n",
       "      <td>0.529412</td>\n",
       "      <td>0.470588</td>\n",
       "    </tr>\n",
       "    <tr>\n",
       "      <th>Credit Card Payment</th>\n",
       "      <td>0.500000</td>\n",
       "      <td>0.500000</td>\n",
       "    </tr>\n",
       "    <tr>\n",
       "      <th>Doctor</th>\n",
       "      <td>0.500000</td>\n",
       "      <td>0.500000</td>\n",
       "    </tr>\n",
       "    <tr>\n",
       "      <th>Electronics &amp; Software</th>\n",
       "      <td>0.000000</td>\n",
       "      <td>1.000000</td>\n",
       "    </tr>\n",
       "    <tr>\n",
       "      <th>Entertainment</th>\n",
       "      <td>0.666667</td>\n",
       "      <td>0.333333</td>\n",
       "    </tr>\n",
       "    <tr>\n",
       "      <th>Fast Food</th>\n",
       "      <td>0.341463</td>\n",
       "      <td>0.658537</td>\n",
       "    </tr>\n",
       "    <tr>\n",
       "      <th>Fees &amp; Charges</th>\n",
       "      <td>0.000000</td>\n",
       "      <td>1.000000</td>\n",
       "    </tr>\n",
       "    <tr>\n",
       "      <th>Finance Charge</th>\n",
       "      <td>0.560000</td>\n",
       "      <td>0.440000</td>\n",
       "    </tr>\n",
       "    <tr>\n",
       "      <th>Financial</th>\n",
       "      <td>0.000000</td>\n",
       "      <td>1.000000</td>\n",
       "    </tr>\n",
       "    <tr>\n",
       "      <th>Food &amp; Dining</th>\n",
       "      <td>0.250000</td>\n",
       "      <td>0.750000</td>\n",
       "    </tr>\n",
       "    <tr>\n",
       "      <th>Gas &amp; Fuel</th>\n",
       "      <td>0.488889</td>\n",
       "      <td>0.511111</td>\n",
       "    </tr>\n",
       "    <tr>\n",
       "      <th>Groceries</th>\n",
       "      <td>0.378531</td>\n",
       "      <td>0.621469</td>\n",
       "    </tr>\n",
       "    <tr>\n",
       "      <th>Hair</th>\n",
       "      <td>1.000000</td>\n",
       "      <td>0.000000</td>\n",
       "    </tr>\n",
       "    <tr>\n",
       "      <th>Health &amp; Fitness</th>\n",
       "      <td>0.500000</td>\n",
       "      <td>0.500000</td>\n",
       "    </tr>\n",
       "    <tr>\n",
       "      <th>Home Improvement</th>\n",
       "      <td>0.666667</td>\n",
       "      <td>0.333333</td>\n",
       "    </tr>\n",
       "    <tr>\n",
       "      <th>Home Services</th>\n",
       "      <td>0.000000</td>\n",
       "      <td>1.000000</td>\n",
       "    </tr>\n",
       "    <tr>\n",
       "      <th>Income</th>\n",
       "      <td>0.466667</td>\n",
       "      <td>0.533333</td>\n",
       "    </tr>\n",
       "    <tr>\n",
       "      <th>Interest Income</th>\n",
       "      <td>0.636364</td>\n",
       "      <td>0.363636</td>\n",
       "    </tr>\n",
       "    <tr>\n",
       "      <th>Investments</th>\n",
       "      <td>0.000000</td>\n",
       "      <td>1.000000</td>\n",
       "    </tr>\n",
       "    <tr>\n",
       "      <th>Movies &amp; DVDs</th>\n",
       "      <td>0.500000</td>\n",
       "      <td>0.500000</td>\n",
       "    </tr>\n",
       "    <tr>\n",
       "      <th>Music</th>\n",
       "      <td>0.750000</td>\n",
       "      <td>0.250000</td>\n",
       "    </tr>\n",
       "    <tr>\n",
       "      <th>Parking</th>\n",
       "      <td>0.200000</td>\n",
       "      <td>0.800000</td>\n",
       "    </tr>\n",
       "    <tr>\n",
       "      <th>Paycheck</th>\n",
       "      <td>0.375000</td>\n",
       "      <td>0.625000</td>\n",
       "    </tr>\n",
       "    <tr>\n",
       "      <th>Pharmacy</th>\n",
       "      <td>0.400000</td>\n",
       "      <td>0.600000</td>\n",
       "    </tr>\n",
       "    <tr>\n",
       "      <th>Public Transportation</th>\n",
       "      <td>0.000000</td>\n",
       "      <td>1.000000</td>\n",
       "    </tr>\n",
       "    <tr>\n",
       "      <th>Rental Car &amp; Taxi</th>\n",
       "      <td>0.400000</td>\n",
       "      <td>0.600000</td>\n",
       "    </tr>\n",
       "    <tr>\n",
       "      <th>Restaurants</th>\n",
       "      <td>0.317647</td>\n",
       "      <td>0.682353</td>\n",
       "    </tr>\n",
       "    <tr>\n",
       "      <th>Service &amp; Parts</th>\n",
       "      <td>0.000000</td>\n",
       "      <td>1.000000</td>\n",
       "    </tr>\n",
       "    <tr>\n",
       "      <th>Shopping</th>\n",
       "      <td>0.396694</td>\n",
       "      <td>0.603306</td>\n",
       "    </tr>\n",
       "    <tr>\n",
       "      <th>State Tax</th>\n",
       "      <td>1.000000</td>\n",
       "      <td>0.000000</td>\n",
       "    </tr>\n",
       "    <tr>\n",
       "      <th>Television</th>\n",
       "      <td>1.000000</td>\n",
       "      <td>0.000000</td>\n",
       "    </tr>\n",
       "    <tr>\n",
       "      <th>Transfer</th>\n",
       "      <td>0.533333</td>\n",
       "      <td>0.466667</td>\n",
       "    </tr>\n",
       "    <tr>\n",
       "      <th>Uncategorized</th>\n",
       "      <td>0.444444</td>\n",
       "      <td>0.555556</td>\n",
       "    </tr>\n",
       "    <tr>\n",
       "      <th>Utilities</th>\n",
       "      <td>0.000000</td>\n",
       "      <td>1.000000</td>\n",
       "    </tr>\n",
       "  </tbody>\n",
       "</table>\n",
       "</div>"
      ],
      "text/plain": [
       "gender                         F         M\n",
       "max_cat                                   \n",
       "Air Travel              1.000000  0.000000\n",
       "Bank Fee                0.800000  0.200000\n",
       "Business Services       0.800000  0.200000\n",
       "Cash & ATM              0.363636  0.636364\n",
       "Check                   0.000000  1.000000\n",
       "Clothing                1.000000  0.000000\n",
       "Coffee Shops            0.529412  0.470588\n",
       "Credit Card Payment     0.500000  0.500000\n",
       "Doctor                  0.500000  0.500000\n",
       "Electronics & Software  0.000000  1.000000\n",
       "Entertainment           0.666667  0.333333\n",
       "Fast Food               0.341463  0.658537\n",
       "Fees & Charges          0.000000  1.000000\n",
       "Finance Charge          0.560000  0.440000\n",
       "Financial               0.000000  1.000000\n",
       "Food & Dining           0.250000  0.750000\n",
       "Gas & Fuel              0.488889  0.511111\n",
       "Groceries               0.378531  0.621469\n",
       "Hair                    1.000000  0.000000\n",
       "Health & Fitness        0.500000  0.500000\n",
       "Home Improvement        0.666667  0.333333\n",
       "Home Services           0.000000  1.000000\n",
       "Income                  0.466667  0.533333\n",
       "Interest Income         0.636364  0.363636\n",
       "Investments             0.000000  1.000000\n",
       "Movies & DVDs           0.500000  0.500000\n",
       "Music                   0.750000  0.250000\n",
       "Parking                 0.200000  0.800000\n",
       "Paycheck                0.375000  0.625000\n",
       "Pharmacy                0.400000  0.600000\n",
       "Public Transportation   0.000000  1.000000\n",
       "Rental Car & Taxi       0.400000  0.600000\n",
       "Restaurants             0.317647  0.682353\n",
       "Service & Parts         0.000000  1.000000\n",
       "Shopping                0.396694  0.603306\n",
       "State Tax               1.000000  0.000000\n",
       "Television              1.000000  0.000000\n",
       "Transfer                0.533333  0.466667\n",
       "Uncategorized           0.444444  0.555556\n",
       "Utilities               0.000000  1.000000"
      ]
     },
     "execution_count": 115,
     "metadata": {},
     "output_type": "execute_result"
    }
   ],
   "source": [
    "# relation gender to max_cat\n",
    "\n",
    "pd.crosstab(df.max_cat,df.gender,normalize='index')#normalize='index\n",
    "\n",
    "\n",
    "\n",
    "# for cat in categorical_feature:\n",
    "#     print(pd.crosstab(open_email_table[cat],open_email_table.clicked,normalize='index'))\n",
    "#     sns.countplot(x=cat, hue=\"clicked\", data=open_email_table,)\n",
    "#     plt.show()"
   ]
  },
  {
   "cell_type": "code",
   "execution_count": 68,
   "metadata": {},
   "outputs": [
    {
     "data": {
      "text/plain": [
       "<matplotlib.axes._subplots.AxesSubplot at 0xf13d3c8>"
      ]
     },
     "execution_count": 68,
     "metadata": {},
     "output_type": "execute_result"
    },
    {
     "data": {
      "image/png": "[encoded data removed]",
      "text/plain": [
       "<matplotlib.figure.Figure at 0xf129208>"
      ]
     },
     "metadata": {},
     "output_type": "display_data"
    }
   ],
   "source": [
    "sns.boxplot(x='gender',y='max',data=df)\n"
   ]
  },
  {
   "cell_type": "code",
   "execution_count": 69,
   "metadata": {},
   "outputs": [
    {
     "data": {
      "text/plain": [
       "<matplotlib.axes._subplots.AxesSubplot at 0xf16e400>"
      ]
     },
     "execution_count": 69,
     "metadata": {},
     "output_type": "execute_result"
    },
    {
     "data": {
      "image/png": "[encoded data removed]",
      "text/plain": [
       "<matplotlib.figure.Figure at 0xf1f45f8>"
      ]
     },
     "metadata": {},
     "output_type": "display_data"
    }
   ],
   "source": [
    "sns.boxplot(x='gender',y='median',data=df)\n"
   ]
  },
  {
   "cell_type": "code",
   "execution_count": 70,
   "metadata": {},
   "outputs": [
    {
     "data": {
      "text/plain": [
       "<matplotlib.axes._subplots.AxesSubplot at 0xf224630>"
      ]
     },
     "execution_count": 70,
     "metadata": {},
     "output_type": "execute_result"
    },
    {
     "data": {
      "image/png": "[encoded data removed]",
      "text/plain": [
       "<matplotlib.figure.Figure at 0xf0fbbe0>"
      ]
     },
     "metadata": {},
     "output_type": "display_data"
    }
   ],
   "source": [
    "sns.boxplot(x='gender',y='min',data=df)\n"
   ]
  },
  {
   "cell_type": "code",
   "execution_count": 98,
   "metadata": {},
   "outputs": [
    {
     "data": {
      "text/plain": [
       "<matplotlib.axes._subplots.AxesSubplot at 0xc3a9e48>"
      ]
     },
     "execution_count": 98,
     "metadata": {},
     "output_type": "execute_result"
    },
    {
     "data": {
      "image/png": "[encoded data removed]",
      "text/plain": [
       "<matplotlib.figure.Figure at 0xca15358>"
      ]
     },
     "metadata": {},
     "output_type": "display_data"
    }
   ],
   "source": [
    "sns.boxplot(x='gender',y='dow',data=df)\n"
   ]
  },
  {
   "cell_type": "markdown",
   "metadata": {
    "collapsed": true
   },
   "source": [
    "# classification "
   ]
  },
  {
   "cell_type": "code",
   "execution_count": 71,
   "metadata": {},
   "outputs": [
    {
     "data": {
      "text/plain": [
       "Index(['max', 'min', 'median', 'max_cat', 'gender'], dtype='object')"
      ]
     },
     "execution_count": 71,
     "metadata": {},
     "output_type": "execute_result"
    }
   ],
   "source": [
    "df.columns"
   ]
  },
  {
   "cell_type": "code",
   "execution_count": 105,
   "metadata": {},
   "outputs": [],
   "source": [
    "df['target'] = df.gender.map(lambda x:1 if x=='F' else 0)"
   ]
  },
  {
   "cell_type": "code",
   "execution_count": 106,
   "metadata": {},
   "outputs": [
    {
     "data": {
      "text/plain": [
       "0.4406779661016949"
      ]
     },
     "execution_count": 106,
     "metadata": {},
     "output_type": "execute_result"
    }
   ],
   "source": [
    "df['target'].mean()"
   ]
  },
  {
   "cell_type": "code",
   "execution_count": 107,
   "metadata": {},
   "outputs": [],
   "source": [
    "df_dummy = pd.get_dummies(df)"
   ]
  },
  {
   "cell_type": "code",
   "execution_count": 108,
   "metadata": {},
   "outputs": [
    {
     "data": {
      "text/plain": [
       "Index(['max', 'min', 'median', 'dow', 'target', 'max_cat_Air Travel',\n",
       "       'max_cat_Bank Fee', 'max_cat_Business Services', 'max_cat_Cash & ATM',\n",
       "       'max_cat_Check', 'max_cat_Clothing', 'max_cat_Coffee Shops',\n",
       "       'max_cat_Credit Card Payment', 'max_cat_Doctor',\n",
       "       'max_cat_Electronics & Software', 'max_cat_Entertainment',\n",
       "       'max_cat_Fast Food', 'max_cat_Fees & Charges', 'max_cat_Finance Charge',\n",
       "       'max_cat_Financial', 'max_cat_Food & Dining', 'max_cat_Gas & Fuel',\n",
       "       'max_cat_Groceries', 'max_cat_Hair', 'max_cat_Health & Fitness',\n",
       "       'max_cat_Home Improvement', 'max_cat_Home Services', 'max_cat_Income',\n",
       "       'max_cat_Interest Income', 'max_cat_Investments',\n",
       "       'max_cat_Movies & DVDs', 'max_cat_Music', 'max_cat_Parking',\n",
       "       'max_cat_Paycheck', 'max_cat_Pharmacy', 'max_cat_Public Transportation',\n",
       "       'max_cat_Rental Car & Taxi', 'max_cat_Restaurants',\n",
       "       'max_cat_Service & Parts', 'max_cat_Shopping', 'max_cat_State Tax',\n",
       "       'max_cat_Television', 'max_cat_Transfer', 'max_cat_Uncategorized',\n",
       "       'max_cat_Utilities', 'gender_F', 'gender_M'],\n",
       "      dtype='object')"
      ]
     },
     "execution_count": 108,
     "metadata": {},
     "output_type": "execute_result"
    }
   ],
   "source": [
    "df_dummy.columns"
   ]
  },
  {
   "cell_type": "code",
   "execution_count": 109,
   "metadata": {
    "collapsed": true
   },
   "outputs": [],
   "source": [
    "features = ['max', 'min', 'median','dow', 'max_cat_Air Travel',\n",
    "       'max_cat_Bank Fee', 'max_cat_Business Services', 'max_cat_Cash & ATM',\n",
    "       'max_cat_Check', 'max_cat_Clothing', 'max_cat_Coffee Shops',\n",
    "       'max_cat_Credit Card Payment', 'max_cat_Doctor',\n",
    "       'max_cat_Electronics & Software', 'max_cat_Entertainment',\n",
    "       'max_cat_Fast Food', 'max_cat_Fees & Charges', 'max_cat_Finance Charge',\n",
    "       'max_cat_Financial', 'max_cat_Food & Dining', 'max_cat_Gas & Fuel',\n",
    "       'max_cat_Groceries', 'max_cat_Hair', 'max_cat_Health & Fitness',\n",
    "       'max_cat_Home Improvement', 'max_cat_Home Services', 'max_cat_Income',\n",
    "       'max_cat_Interest Income', 'max_cat_Investments',\n",
    "       'max_cat_Movies & DVDs', 'max_cat_Music', 'max_cat_Parking',\n",
    "       'max_cat_Paycheck', 'max_cat_Pharmacy', 'max_cat_Public Transportation',\n",
    "       'max_cat_Rental Car & Taxi', 'max_cat_Restaurants',\n",
    "       'max_cat_Service & Parts', 'max_cat_Shopping', 'max_cat_State Tax',\n",
    "       'max_cat_Television', 'max_cat_Transfer', 'max_cat_Uncategorized',\n",
    "       'max_cat_Utilities' ]\n",
    "target = 'target'"
   ]
  },
  {
   "cell_type": "code",
   "execution_count": 116,
   "metadata": {},
   "outputs": [
    {
     "data": {
      "image/png": "[encoded data removed]",
      "text/plain": [
       "<IPython.core.display.Image object>"
      ]
     },
     "execution_count": 116,
     "metadata": {},
     "output_type": "execute_result"
    }
   ],
   "source": [
    "from sklearn.tree import DecisionTreeClassifier\n",
    "from sklearn.model_selection import train_test_split\n",
    "from sklearn import tree\n",
    "\n",
    "X_train, X_test, y_train, y_test = train_test_split(df_dummy[features], df_dummy[target], random_state=0)\n",
    "\n",
    "\n",
    "estimator = DecisionTreeClassifier(criterion = 'entropy',max_depth=2, random_state=0,class_weight='b')\n",
    "estimator.fit(X_train, y_train)\n",
    "\n",
    "\n",
    "tree.export_graphviz(estimator, out_file=\"dotfile.txt\",feature_names =X_train.columns )\n",
    "\n",
    "\n",
    "import pydotplus\n",
    "from IPython.display import Image\n",
    "\n",
    "\n",
    "with open('dotfile.txt', 'w') as out:\n",
    "    content = tree.export_graphviz(estimator,out_file=None,feature_names =X_train.columns ,class_names=['Male','Female'], \n",
    "                     filled=True, rounded=True, special_characters=True)\n",
    "    graph=pydotplus.graph_from_dot_data(content)\n",
    "\n",
    "Image(graph.create_png())"
   ]
  },
  {
   "cell_type": "markdown",
   "metadata": {},
   "source": [
    "# feature importance"
   ]
  },
  {
   "cell_type": "code",
   "execution_count": 112,
   "metadata": {
    "collapsed": true
   },
   "outputs": [
    {
     "data": {
      "text/plain": [
       "array([ 0.2254186 ,  0.23229753,  0.21889066,  0.24313862,  0.0011695 ,\n",
       "        0.00221241,  0.00123332,  0.00183764,  0.00622   ,  0.00681217,\n",
       "        0.00211544,  0.00297174,  0.        ,  0.00143336,  0.00097756,\n",
       "        0.00436534,  0.00086243,  0.00134614,  0.00084932,  0.00136514,\n",
       "        0.00213827,  0.00364216,  0.00109373,  0.00081506,  0.0006667 ,\n",
       "        0.00071111,  0.00242347,  0.00241085,  0.        ,  0.00138174,\n",
       "        0.00176376,  0.00180228,  0.00195186,  0.00110543,  0.        ,\n",
       "        0.00191321,  0.00448469,  0.00060705,  0.00392186,  0.00086675,\n",
       "        0.00109419,  0.00547142,  0.00352569,  0.00069178])"
      ]
     },
     "execution_count": 112,
     "metadata": {},
     "output_type": "execute_result"
    }
   ],
   "source": [
    "import numpy as np\n",
    "import matplotlib.pyplot as plt\n",
    "\n",
    "from sklearn.datasets import make_classification\n",
    "from sklearn.ensemble import ExtraTreesClassifier\n",
    "\n",
    "\n",
    "# Build a forest and compute the feature importances\n",
    "forest = ExtraTreesClassifier(n_estimators=100,\n",
    "                              random_state=0)\n",
    "\n",
    "forest.fit(X_train, y_train)\n",
    "importances = forest.feature_importances_\n",
    "std = np.std([tree.feature_importances_ for tree in forest.estimators_],\n",
    "             axis=0)\n",
    "indices = np.argsort(importances)[::-1]\n",
    "\n",
    "importances"
   ]
  },
  {
   "cell_type": "code",
   "execution_count": 114,
   "metadata": {},
   "outputs": [
    {
     "data": {
      "text/html": [
       "<div>\n",
       "<style>\n",
       "    .dataframe thead tr:only-child th {\n",
       "        text-align: right;\n",
       "    }\n",
       "\n",
       "    .dataframe thead th {\n",
       "        text-align: left;\n",
       "    }\n",
       "\n",
       "    .dataframe tbody tr th {\n",
       "        vertical-align: top;\n",
       "    }\n",
       "</style>\n",
       "<table border=\"1\" class=\"dataframe\">\n",
       "  <thead>\n",
       "    <tr style=\"text-align: right;\">\n",
       "      <th></th>\n",
       "      <th>feature</th>\n",
       "      <th>importance</th>\n",
       "    </tr>\n",
       "  </thead>\n",
       "  <tbody>\n",
       "    <tr>\n",
       "      <th>3</th>\n",
       "      <td>dow</td>\n",
       "      <td>0.243139</td>\n",
       "    </tr>\n",
       "    <tr>\n",
       "      <th>1</th>\n",
       "      <td>min</td>\n",
       "      <td>0.232298</td>\n",
       "    </tr>\n",
       "    <tr>\n",
       "      <th>0</th>\n",
       "      <td>max</td>\n",
       "      <td>0.225419</td>\n",
       "    </tr>\n",
       "    <tr>\n",
       "      <th>2</th>\n",
       "      <td>median</td>\n",
       "      <td>0.218891</td>\n",
       "    </tr>\n",
       "    <tr>\n",
       "      <th>9</th>\n",
       "      <td>max_cat_Clothing</td>\n",
       "      <td>0.006812</td>\n",
       "    </tr>\n",
       "    <tr>\n",
       "      <th>8</th>\n",
       "      <td>max_cat_Check</td>\n",
       "      <td>0.006220</td>\n",
       "    </tr>\n",
       "    <tr>\n",
       "      <th>41</th>\n",
       "      <td>max_cat_Transfer</td>\n",
       "      <td>0.005471</td>\n",
       "    </tr>\n",
       "    <tr>\n",
       "      <th>36</th>\n",
       "      <td>max_cat_Restaurants</td>\n",
       "      <td>0.004485</td>\n",
       "    </tr>\n",
       "    <tr>\n",
       "      <th>15</th>\n",
       "      <td>max_cat_Fast Food</td>\n",
       "      <td>0.004365</td>\n",
       "    </tr>\n",
       "    <tr>\n",
       "      <th>38</th>\n",
       "      <td>max_cat_Shopping</td>\n",
       "      <td>0.003922</td>\n",
       "    </tr>\n",
       "    <tr>\n",
       "      <th>21</th>\n",
       "      <td>max_cat_Groceries</td>\n",
       "      <td>0.003642</td>\n",
       "    </tr>\n",
       "    <tr>\n",
       "      <th>42</th>\n",
       "      <td>max_cat_Uncategorized</td>\n",
       "      <td>0.003526</td>\n",
       "    </tr>\n",
       "    <tr>\n",
       "      <th>11</th>\n",
       "      <td>max_cat_Credit Card Payment</td>\n",
       "      <td>0.002972</td>\n",
       "    </tr>\n",
       "    <tr>\n",
       "      <th>26</th>\n",
       "      <td>max_cat_Income</td>\n",
       "      <td>0.002423</td>\n",
       "    </tr>\n",
       "    <tr>\n",
       "      <th>27</th>\n",
       "      <td>max_cat_Interest Income</td>\n",
       "      <td>0.002411</td>\n",
       "    </tr>\n",
       "    <tr>\n",
       "      <th>5</th>\n",
       "      <td>max_cat_Bank Fee</td>\n",
       "      <td>0.002212</td>\n",
       "    </tr>\n",
       "    <tr>\n",
       "      <th>20</th>\n",
       "      <td>max_cat_Gas &amp; Fuel</td>\n",
       "      <td>0.002138</td>\n",
       "    </tr>\n",
       "    <tr>\n",
       "      <th>10</th>\n",
       "      <td>max_cat_Coffee Shops</td>\n",
       "      <td>0.002115</td>\n",
       "    </tr>\n",
       "    <tr>\n",
       "      <th>32</th>\n",
       "      <td>max_cat_Paycheck</td>\n",
       "      <td>0.001952</td>\n",
       "    </tr>\n",
       "    <tr>\n",
       "      <th>35</th>\n",
       "      <td>max_cat_Rental Car &amp; Taxi</td>\n",
       "      <td>0.001913</td>\n",
       "    </tr>\n",
       "    <tr>\n",
       "      <th>7</th>\n",
       "      <td>max_cat_Cash &amp; ATM</td>\n",
       "      <td>0.001838</td>\n",
       "    </tr>\n",
       "    <tr>\n",
       "      <th>31</th>\n",
       "      <td>max_cat_Parking</td>\n",
       "      <td>0.001802</td>\n",
       "    </tr>\n",
       "    <tr>\n",
       "      <th>30</th>\n",
       "      <td>max_cat_Music</td>\n",
       "      <td>0.001764</td>\n",
       "    </tr>\n",
       "    <tr>\n",
       "      <th>13</th>\n",
       "      <td>max_cat_Electronics &amp; Software</td>\n",
       "      <td>0.001433</td>\n",
       "    </tr>\n",
       "    <tr>\n",
       "      <th>29</th>\n",
       "      <td>max_cat_Movies &amp; DVDs</td>\n",
       "      <td>0.001382</td>\n",
       "    </tr>\n",
       "    <tr>\n",
       "      <th>19</th>\n",
       "      <td>max_cat_Food &amp; Dining</td>\n",
       "      <td>0.001365</td>\n",
       "    </tr>\n",
       "    <tr>\n",
       "      <th>17</th>\n",
       "      <td>max_cat_Finance Charge</td>\n",
       "      <td>0.001346</td>\n",
       "    </tr>\n",
       "    <tr>\n",
       "      <th>6</th>\n",
       "      <td>max_cat_Business Services</td>\n",
       "      <td>0.001233</td>\n",
       "    </tr>\n",
       "    <tr>\n",
       "      <th>4</th>\n",
       "      <td>max_cat_Air Travel</td>\n",
       "      <td>0.001170</td>\n",
       "    </tr>\n",
       "    <tr>\n",
       "      <th>33</th>\n",
       "      <td>max_cat_Pharmacy</td>\n",
       "      <td>0.001105</td>\n",
       "    </tr>\n",
       "    <tr>\n",
       "      <th>40</th>\n",
       "      <td>max_cat_Television</td>\n",
       "      <td>0.001094</td>\n",
       "    </tr>\n",
       "    <tr>\n",
       "      <th>22</th>\n",
       "      <td>max_cat_Hair</td>\n",
       "      <td>0.001094</td>\n",
       "    </tr>\n",
       "    <tr>\n",
       "      <th>14</th>\n",
       "      <td>max_cat_Entertainment</td>\n",
       "      <td>0.000978</td>\n",
       "    </tr>\n",
       "    <tr>\n",
       "      <th>39</th>\n",
       "      <td>max_cat_State Tax</td>\n",
       "      <td>0.000867</td>\n",
       "    </tr>\n",
       "    <tr>\n",
       "      <th>16</th>\n",
       "      <td>max_cat_Fees &amp; Charges</td>\n",
       "      <td>0.000862</td>\n",
       "    </tr>\n",
       "    <tr>\n",
       "      <th>18</th>\n",
       "      <td>max_cat_Financial</td>\n",
       "      <td>0.000849</td>\n",
       "    </tr>\n",
       "    <tr>\n",
       "      <th>23</th>\n",
       "      <td>max_cat_Health &amp; Fitness</td>\n",
       "      <td>0.000815</td>\n",
       "    </tr>\n",
       "    <tr>\n",
       "      <th>25</th>\n",
       "      <td>max_cat_Home Services</td>\n",
       "      <td>0.000711</td>\n",
       "    </tr>\n",
       "    <tr>\n",
       "      <th>43</th>\n",
       "      <td>max_cat_Utilities</td>\n",
       "      <td>0.000692</td>\n",
       "    </tr>\n",
       "    <tr>\n",
       "      <th>24</th>\n",
       "      <td>max_cat_Home Improvement</td>\n",
       "      <td>0.000667</td>\n",
       "    </tr>\n",
       "    <tr>\n",
       "      <th>37</th>\n",
       "      <td>max_cat_Service &amp; Parts</td>\n",
       "      <td>0.000607</td>\n",
       "    </tr>\n",
       "    <tr>\n",
       "      <th>28</th>\n",
       "      <td>max_cat_Investments</td>\n",
       "      <td>0.000000</td>\n",
       "    </tr>\n",
       "    <tr>\n",
       "      <th>34</th>\n",
       "      <td>max_cat_Public Transportation</td>\n",
       "      <td>0.000000</td>\n",
       "    </tr>\n",
       "    <tr>\n",
       "      <th>12</th>\n",
       "      <td>max_cat_Doctor</td>\n",
       "      <td>0.000000</td>\n",
       "    </tr>\n",
       "  </tbody>\n",
       "</table>\n",
       "</div>"
      ],
      "text/plain": [
       "                           feature  importance\n",
       "3                              dow    0.243139\n",
       "1                              min    0.232298\n",
       "0                              max    0.225419\n",
       "2                           median    0.218891\n",
       "9                 max_cat_Clothing    0.006812\n",
       "8                    max_cat_Check    0.006220\n",
       "41                max_cat_Transfer    0.005471\n",
       "36             max_cat_Restaurants    0.004485\n",
       "15               max_cat_Fast Food    0.004365\n",
       "38                max_cat_Shopping    0.003922\n",
       "21               max_cat_Groceries    0.003642\n",
       "42           max_cat_Uncategorized    0.003526\n",
       "11     max_cat_Credit Card Payment    0.002972\n",
       "26                  max_cat_Income    0.002423\n",
       "27         max_cat_Interest Income    0.002411\n",
       "5                 max_cat_Bank Fee    0.002212\n",
       "20              max_cat_Gas & Fuel    0.002138\n",
       "10            max_cat_Coffee Shops    0.002115\n",
       "32                max_cat_Paycheck    0.001952\n",
       "35       max_cat_Rental Car & Taxi    0.001913\n",
       "7               max_cat_Cash & ATM    0.001838\n",
       "31                 max_cat_Parking    0.001802\n",
       "30                   max_cat_Music    0.001764\n",
       "13  max_cat_Electronics & Software    0.001433\n",
       "29           max_cat_Movies & DVDs    0.001382\n",
       "19           max_cat_Food & Dining    0.001365\n",
       "17          max_cat_Finance Charge    0.001346\n",
       "6        max_cat_Business Services    0.001233\n",
       "4               max_cat_Air Travel    0.001170\n",
       "33                max_cat_Pharmacy    0.001105\n",
       "40              max_cat_Television    0.001094\n",
       "22                    max_cat_Hair    0.001094\n",
       "14           max_cat_Entertainment    0.000978\n",
       "39               max_cat_State Tax    0.000867\n",
       "16          max_cat_Fees & Charges    0.000862\n",
       "18               max_cat_Financial    0.000849\n",
       "23        max_cat_Health & Fitness    0.000815\n",
       "25           max_cat_Home Services    0.000711\n",
       "43               max_cat_Utilities    0.000692\n",
       "24        max_cat_Home Improvement    0.000667\n",
       "37         max_cat_Service & Parts    0.000607\n",
       "28             max_cat_Investments    0.000000\n",
       "34   max_cat_Public Transportation    0.000000\n",
       "12                  max_cat_Doctor    0.000000"
      ]
     },
     "execution_count": 114,
     "metadata": {},
     "output_type": "execute_result"
    }
   ],
   "source": [
    "DataFrame({'feature':X_train.columns,'importance':importances}).sort_values(by='importance',ascending=False)"
   ]
  },
  {
   "cell_type": "code",
   "execution_count": null,
   "metadata": {
    "collapsed": true
   },
   "outputs": [],
   "source": []
  }
 ],
 "metadata": {
  "kernelspec": {
   "display_name": "Python 3",
   "language": "python",
   "name": "python3"
  },
  "language_info": {
   "codemirror_mode": {
    "name": "ipython",
    "version": 3
   },
   "file_extension": ".py",
   "mimetype": "text/x-python",
   "name": "python",
   "nbconvert_exporter": "python",
   "pygments_lexer": "ipython3",
   "version": "3.5.0"
  }
 },
 "nbformat": 4,
 "nbformat_minor": 2
}
