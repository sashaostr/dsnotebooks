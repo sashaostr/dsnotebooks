{
 "cells": [
  {
   "cell_type": "code",
   "execution_count": 1,
   "metadata": {
    "collapsed": true
   },
   "outputs": [],
   "source": [
    "import pandas as pd\n",
    "from pandas import DataFrame,Series\n",
    "import numpy as np\n",
    "from sklearn import datasets\n",
    "import matplotlib.pyplot as plt\n",
    "import seaborn as sns\n",
    "%matplotlib inline"
   ]
  },
  {
   "cell_type": "code",
   "execution_count": 2,
   "metadata": {},
   "outputs": [
    {
     "name": "stderr",
     "output_type": "stream",
     "text": [
      "C:\\Anaconda3\\lib\\site-packages\\IPython\\core\\interactiveshell.py:2717: DtypeWarning: Columns (2,3,4,5,6,7,8,9,10,11,12,13,14,15,16,17,18,19,20,21,22,23,24,25,26,27,28,29,31,33,35,36,37,38) have mixed types. Specify dtype option on import or set low_memory=False.\n",
      "  interactivity=interactivity, compiler=compiler, result=result)\n"
     ]
    }
   ],
   "source": [
    "udata = pd.read_csv('temp/Users Data- V2.csv')\n"
   ]
  },
  {
   "cell_type": "code",
   "execution_count": null,
   "metadata": {
    "collapsed": true
   },
   "outputs": [],
   "source": []
  },
  {
   "cell_type": "code",
   "execution_count": 3,
   "metadata": {},
   "outputs": [
    {
     "data": {
      "text/html": [
       "<div>\n",
       "<style>\n",
       "    .dataframe thead tr:only-child th {\n",
       "        text-align: right;\n",
       "    }\n",
       "\n",
       "    .dataframe thead th {\n",
       "        text-align: left;\n",
       "    }\n",
       "\n",
       "    .dataframe tbody tr th {\n",
       "        vertical-align: top;\n",
       "    }\n",
       "</style>\n",
       "<table border=\"1\" class=\"dataframe\">\n",
       "  <thead>\n",
       "    <tr style=\"text-align: right;\">\n",
       "      <th></th>\n",
       "      <th>user_id</th>\n",
       "      <th>platform_id</th>\n",
       "      <th>r2</th>\n",
       "      <th>r3</th>\n",
       "      <th>r4</th>\n",
       "      <th>r5</th>\n",
       "      <th>r6</th>\n",
       "      <th>r7</th>\n",
       "      <th>new_money_0_days</th>\n",
       "      <th>new_money_1_days</th>\n",
       "      <th>...</th>\n",
       "      <th>current_tier_id</th>\n",
       "      <th>Tier till day 7</th>\n",
       "      <th>ip_country</th>\n",
       "      <th>country_name</th>\n",
       "      <th>region_name</th>\n",
       "      <th>city_name</th>\n",
       "      <th>Unnamed: 39</th>\n",
       "      <th>Unnamed: 40</th>\n",
       "      <th>Unnamed: 41</th>\n",
       "      <th>Unnamed: 42</th>\n",
       "    </tr>\n",
       "  </thead>\n",
       "  <tbody>\n",
       "    <tr>\n",
       "      <th>0</th>\n",
       "      <td>1000982.0</td>\n",
       "      <td>1.0</td>\n",
       "      <td>1</td>\n",
       "      <td>0</td>\n",
       "      <td>0</td>\n",
       "      <td>0</td>\n",
       "      <td>0</td>\n",
       "      <td>0</td>\n",
       "      <td>0</td>\n",
       "      <td>0</td>\n",
       "      <td>...</td>\n",
       "      <td>2</td>\n",
       "      <td>2.0</td>\n",
       "      <td>US</td>\n",
       "      <td>United States</td>\n",
       "      <td>California</td>\n",
       "      <td>Daly City</td>\n",
       "      <td>NaN</td>\n",
       "      <td>NaN</td>\n",
       "      <td>NaN</td>\n",
       "      <td>NaN</td>\n",
       "    </tr>\n",
       "    <tr>\n",
       "      <th>1</th>\n",
       "      <td>10020919.0</td>\n",
       "      <td>9.0</td>\n",
       "      <td>0</td>\n",
       "      <td>0</td>\n",
       "      <td>0</td>\n",
       "      <td>0</td>\n",
       "      <td>0</td>\n",
       "      <td>0</td>\n",
       "      <td>0</td>\n",
       "      <td>0</td>\n",
       "      <td>...</td>\n",
       "      <td>2</td>\n",
       "      <td>2.0</td>\n",
       "      <td>BE</td>\n",
       "      <td>Belgium</td>\n",
       "      <td>(null)</td>\n",
       "      <td>Gent</td>\n",
       "      <td>NaN</td>\n",
       "      <td>NaN</td>\n",
       "      <td>NaN</td>\n",
       "      <td>NaN</td>\n",
       "    </tr>\n",
       "    <tr>\n",
       "      <th>2</th>\n",
       "      <td>10024442.0</td>\n",
       "      <td>2.0</td>\n",
       "      <td>1</td>\n",
       "      <td>1</td>\n",
       "      <td>1</td>\n",
       "      <td>1</td>\n",
       "      <td>1</td>\n",
       "      <td>1</td>\n",
       "      <td>0</td>\n",
       "      <td>8.33808</td>\n",
       "      <td>...</td>\n",
       "      <td>2</td>\n",
       "      <td>2.0</td>\n",
       "      <td>US</td>\n",
       "      <td>United States</td>\n",
       "      <td>New Jersey</td>\n",
       "      <td>Asbury Park</td>\n",
       "      <td>NaN</td>\n",
       "      <td>NaN</td>\n",
       "      <td>NaN</td>\n",
       "      <td>NaN</td>\n",
       "    </tr>\n",
       "    <tr>\n",
       "      <th>3</th>\n",
       "      <td>1002743.0</td>\n",
       "      <td>1.0</td>\n",
       "      <td>1</td>\n",
       "      <td>1</td>\n",
       "      <td>1</td>\n",
       "      <td>1</td>\n",
       "      <td>1</td>\n",
       "      <td>1</td>\n",
       "      <td>3.3864</td>\n",
       "      <td>3.3864</td>\n",
       "      <td>...</td>\n",
       "      <td>2</td>\n",
       "      <td>2.0</td>\n",
       "      <td>US</td>\n",
       "      <td>United States</td>\n",
       "      <td>Oklahoma</td>\n",
       "      <td>Oklahoma City</td>\n",
       "      <td>NaN</td>\n",
       "      <td>NaN</td>\n",
       "      <td>NaN</td>\n",
       "      <td>NaN</td>\n",
       "    </tr>\n",
       "    <tr>\n",
       "      <th>4</th>\n",
       "      <td>10031183.0</td>\n",
       "      <td>3.0</td>\n",
       "      <td>0</td>\n",
       "      <td>0</td>\n",
       "      <td>0</td>\n",
       "      <td>0</td>\n",
       "      <td>0</td>\n",
       "      <td>0</td>\n",
       "      <td>0</td>\n",
       "      <td>0</td>\n",
       "      <td>...</td>\n",
       "      <td>1</td>\n",
       "      <td>1.0</td>\n",
       "      <td>US</td>\n",
       "      <td>United States</td>\n",
       "      <td>Connecticut</td>\n",
       "      <td>Shelton</td>\n",
       "      <td>NaN</td>\n",
       "      <td>NaN</td>\n",
       "      <td>NaN</td>\n",
       "      <td>NaN</td>\n",
       "    </tr>\n",
       "  </tbody>\n",
       "</table>\n",
       "<p>5 rows × 43 columns</p>\n",
       "</div>"
      ],
      "text/plain": [
       "      user_id  platform_id r2 r3 r4 r5 r6 r7 new_money_0_days  \\\n",
       "0   1000982.0          1.0  1  0  0  0  0  0                0   \n",
       "1  10020919.0          9.0  0  0  0  0  0  0                0   \n",
       "2  10024442.0          2.0  1  1  1  1  1  1                0   \n",
       "3   1002743.0          1.0  1  1  1  1  1  1           3.3864   \n",
       "4  10031183.0          3.0  0  0  0  0  0  0                0   \n",
       "\n",
       "  new_money_1_days     ...     current_tier_id Tier till day 7 ip_country  \\\n",
       "0                0     ...                   2             2.0         US   \n",
       "1                0     ...                   2             2.0         BE   \n",
       "2          8.33808     ...                   2             2.0         US   \n",
       "3           3.3864     ...                   2             2.0         US   \n",
       "4                0     ...                   1             1.0         US   \n",
       "\n",
       "    country_name  region_name      city_name Unnamed: 39 Unnamed: 40  \\\n",
       "0  United States   California      Daly City         NaN         NaN   \n",
       "1        Belgium       (null)           Gent         NaN         NaN   \n",
       "2  United States   New Jersey    Asbury Park         NaN         NaN   \n",
       "3  United States     Oklahoma  Oklahoma City         NaN         NaN   \n",
       "4  United States  Connecticut        Shelton         NaN         NaN   \n",
       "\n",
       "  Unnamed: 41 Unnamed: 42  \n",
       "0         NaN         NaN  \n",
       "1         NaN         NaN  \n",
       "2         NaN         NaN  \n",
       "3         NaN         NaN  \n",
       "4         NaN         NaN  \n",
       "\n",
       "[5 rows x 43 columns]"
      ]
     },
     "execution_count": 3,
     "metadata": {},
     "output_type": "execute_result"
    }
   ],
   "source": [
    "udata.head()"
   ]
  },
  {
   "cell_type": "code",
   "execution_count": 4,
   "metadata": {},
   "outputs": [
    {
     "data": {
      "text/plain": [
       "Index(['user_id', 'platform_id', 'r2', 'r3', 'r4', 'r5', 'r6', 'r7',\n",
       "       'new_money_0_days', 'new_money_1_days', 'new_money_2_days',\n",
       "       'new_money_3_days', 'new_money_4_days', 'new_money_5_days',\n",
       "       'new_money_6_days', 'new_money_7_days', 'new_money_lifetime',\n",
       "       'transactions_0_days', 'transactions_1_days', 'transactions_2_days',\n",
       "       'transactions_3_days', 'transactions_4_days', 'transactions_5_days',\n",
       "       'transactions_6_days', 'transactions_7_days', 'transactions_lifetime',\n",
       "       'sn_type_id', 'installation_ts', 'language', 'current_level',\n",
       "       'Level till day 7', 'current_progression', 'Progress till day 7',\n",
       "       'current_tier_id', 'Tier till day 7', 'ip_country', 'country_name',\n",
       "       'region_name', 'city_name', 'Unnamed: 39', 'Unnamed: 40', 'Unnamed: 41',\n",
       "       'Unnamed: 42'],\n",
       "      dtype='object')"
      ]
     },
     "execution_count": 4,
     "metadata": {},
     "output_type": "execute_result"
    }
   ],
   "source": [
    "udata.columns"
   ]
  },
  {
   "cell_type": "code",
   "execution_count": 5,
   "metadata": {},
   "outputs": [
    {
     "name": "stdout",
     "output_type": "stream",
     "text": [
      "<class 'pandas.core.frame.DataFrame'>\n",
      "RangeIndex: 65535 entries, 0 to 65534\n",
      "Data columns (total 43 columns):\n",
      "user_id                  30000 non-null float64\n",
      "platform_id              30000 non-null float64\n",
      "r2                       30000 non-null object\n",
      "r3                       30000 non-null object\n",
      "r4                       30000 non-null object\n",
      "r5                       30000 non-null object\n",
      "r6                       30000 non-null object\n",
      "r7                       30000 non-null object\n",
      "new_money_0_days         30000 non-null object\n",
      "new_money_1_days         30000 non-null object\n",
      "new_money_2_days         30000 non-null object\n",
      "new_money_3_days         30000 non-null object\n",
      "new_money_4_days         30000 non-null object\n",
      "new_money_5_days         30000 non-null object\n",
      "new_money_6_days         30000 non-null object\n",
      "new_money_7_days         30000 non-null object\n",
      "new_money_lifetime       30000 non-null object\n",
      "transactions_0_days      30000 non-null object\n",
      "transactions_1_days      30000 non-null object\n",
      "transactions_2_days      30000 non-null object\n",
      "transactions_3_days      30000 non-null object\n",
      "transactions_4_days      30000 non-null object\n",
      "transactions_5_days      30000 non-null object\n",
      "transactions_6_days      30000 non-null object\n",
      "transactions_7_days      30000 non-null object\n",
      "transactions_lifetime    30000 non-null object\n",
      "sn_type_id               30000 non-null object\n",
      "installation_ts          30000 non-null object\n",
      "language                 30000 non-null object\n",
      "current_level            30000 non-null object\n",
      "Level till day 7         30000 non-null float64\n",
      "current_progression      30000 non-null object\n",
      "Progress till day 7      30000 non-null float64\n",
      "current_tier_id          30000 non-null object\n",
      "Tier till day 7          30000 non-null float64\n",
      "ip_country               29999 non-null object\n",
      "country_name             30000 non-null object\n",
      "region_name              30000 non-null object\n",
      "city_name                30000 non-null object\n",
      "Unnamed: 39              0 non-null float64\n",
      "Unnamed: 40              0 non-null float64\n",
      "Unnamed: 41              0 non-null float64\n",
      "Unnamed: 42              0 non-null float64\n",
      "dtypes: float64(9), object(34)\n",
      "memory usage: 21.5+ MB\n"
     ]
    }
   ],
   "source": [
    "udata.info()"
   ]
  },
  {
   "cell_type": "code",
   "execution_count": 6,
   "metadata": {},
   "outputs": [],
   "source": [
    "import numbers \n",
    "udata['new_money_lifetime'] = udata['new_money_lifetime'].map(lambda x:float(x) if isinstance(x, numbers.Number) else 0) \n",
    "udata['transactions_lifetime'] = udata['transactions_lifetime'].map(lambda x:float(x) if isinstance(x, numbers.Number) else 0) \n"
   ]
  },
  {
   "cell_type": "code",
   "execution_count": 12,
   "metadata": {
    "collapsed": true
   },
   "outputs": [],
   "source": [
    "features = ['new_money_lifetime','transactions_lifetime','country_name']\n",
    "features = ['new_money_lifetime','transactions_lifetime']"
   ]
  },
  {
   "cell_type": "code",
   "execution_count": 17,
   "metadata": {
    "collapsed": true
   },
   "outputs": [],
   "source": [
    "udata1 = udata[features]"
   ]
  },
  {
   "cell_type": "code",
   "execution_count": 18,
   "metadata": {},
   "outputs": [
    {
     "data": {
      "text/html": [
       "<div>\n",
       "<style>\n",
       "    .dataframe thead tr:only-child th {\n",
       "        text-align: right;\n",
       "    }\n",
       "\n",
       "    .dataframe thead th {\n",
       "        text-align: left;\n",
       "    }\n",
       "\n",
       "    .dataframe tbody tr th {\n",
       "        vertical-align: top;\n",
       "    }\n",
       "</style>\n",
       "<table border=\"1\" class=\"dataframe\">\n",
       "  <thead>\n",
       "    <tr style=\"text-align: right;\">\n",
       "      <th></th>\n",
       "      <th>new_money_lifetime</th>\n",
       "      <th>transactions_lifetime</th>\n",
       "    </tr>\n",
       "  </thead>\n",
       "  <tbody>\n",
       "    <tr>\n",
       "      <th>count</th>\n",
       "      <td>30000.0</td>\n",
       "      <td>30000.0</td>\n",
       "    </tr>\n",
       "    <tr>\n",
       "      <th>mean</th>\n",
       "      <td>0.0</td>\n",
       "      <td>0.0</td>\n",
       "    </tr>\n",
       "    <tr>\n",
       "      <th>std</th>\n",
       "      <td>0.0</td>\n",
       "      <td>0.0</td>\n",
       "    </tr>\n",
       "    <tr>\n",
       "      <th>min</th>\n",
       "      <td>0.0</td>\n",
       "      <td>0.0</td>\n",
       "    </tr>\n",
       "    <tr>\n",
       "      <th>25%</th>\n",
       "      <td>0.0</td>\n",
       "      <td>0.0</td>\n",
       "    </tr>\n",
       "    <tr>\n",
       "      <th>50%</th>\n",
       "      <td>0.0</td>\n",
       "      <td>0.0</td>\n",
       "    </tr>\n",
       "    <tr>\n",
       "      <th>75%</th>\n",
       "      <td>0.0</td>\n",
       "      <td>0.0</td>\n",
       "    </tr>\n",
       "    <tr>\n",
       "      <th>max</th>\n",
       "      <td>0.0</td>\n",
       "      <td>0.0</td>\n",
       "    </tr>\n",
       "  </tbody>\n",
       "</table>\n",
       "</div>"
      ],
      "text/plain": [
       "       new_money_lifetime  transactions_lifetime\n",
       "count             30000.0                30000.0\n",
       "mean                  0.0                    0.0\n",
       "std                   0.0                    0.0\n",
       "min                   0.0                    0.0\n",
       "25%                   0.0                    0.0\n",
       "50%                   0.0                    0.0\n",
       "75%                   0.0                    0.0\n",
       "max                   0.0                    0.0"
      ]
     },
     "execution_count": 18,
     "metadata": {},
     "output_type": "execute_result"
    }
   ],
   "source": [
    "udata1.describe()"
   ]
  },
  {
   "cell_type": "code",
   "execution_count": 22,
   "metadata": {
    "collapsed": true
   },
   "outputs": [],
   "source": [
    "udata1 = udata1.fillna(0)"
   ]
  },
  {
   "cell_type": "code",
   "execution_count": 23,
   "metadata": {
    "collapsed": true
   },
   "outputs": [],
   "source": [
    "df = pd.get_dummies(udata1)"
   ]
  },
  {
   "cell_type": "code",
   "execution_count": 24,
   "metadata": {},
   "outputs": [
    {
     "data": {
      "text/plain": [
       "Index(['new_money_lifetime', 'transactions_lifetime'], dtype='object')"
      ]
     },
     "execution_count": 24,
     "metadata": {},
     "output_type": "execute_result"
    }
   ],
   "source": [
    "df.columns"
   ]
  },
  {
   "cell_type": "code",
   "execution_count": 25,
   "metadata": {},
   "outputs": [
    {
     "data": {
      "text/plain": [
       "KMeans(algorithm='auto', copy_x=True, init='k-means++', max_iter=300,\n",
       "    n_clusters=8, n_init=10, n_jobs=1, precompute_distances='auto',\n",
       "    random_state=None, tol=0.0001, verbose=0)"
      ]
     },
     "execution_count": 25,
     "metadata": {},
     "output_type": "execute_result"
    }
   ],
   "source": [
    "\n",
    "import numpy as np\n",
    "import matplotlib.pyplot as plt\n",
    "from mpl_toolkits.mplot3d import Axes3D\n",
    "\n",
    "\n",
    "from sklearn.cluster import KMeans\n",
    "\n",
    "np.random.seed(5)\n",
    "\n",
    "est = KMeans(n_clusters=8)\n",
    "\n",
    "est.fit(df)\n",
    "\n",
    "\n"
   ]
  },
  {
   "cell_type": "code",
   "execution_count": null,
   "metadata": {
    "collapsed": true
   },
   "outputs": [],
   "source": []
  }
 ],
 "metadata": {
  "kernelspec": {
   "display_name": "Python 3",
   "language": "python",
   "name": "python3"
  },
  "language_info": {
   "codemirror_mode": {
    "name": "ipython",
    "version": 3
   },
   "file_extension": ".py",
   "mimetype": "text/x-python",
   "name": "python",
   "nbconvert_exporter": "python",
   "pygments_lexer": "ipython3",
   "version": "3.5.0"
  }
 },
 "nbformat": 4,
 "nbformat_minor": 2
}
