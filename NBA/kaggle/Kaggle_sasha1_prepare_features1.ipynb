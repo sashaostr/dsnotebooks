{
 "cells": [
  {
   "cell_type": "code",
   "execution_count": 2,
   "metadata": {
    "collapsed": false
   },
   "outputs": [
    {
     "name": "stdout",
     "output_type": "stream",
     "text": [
      "Automatically created module for IPython interactive environment\n"
     ]
    }
   ],
   "source": [
    "%matplotlib inline\n",
    "from IPython.core.pylabtools import figsize\n",
    "\n",
    "from functools import partial\n",
    "import itertools\n",
    "import re\n",
    "\n",
    "import matplotlib.gridspec as gridspec\n",
    "import numpy as np\n",
    "import scipy.stats as stats\n",
    "import matplotlib.pyplot as plt\n",
    "import pylab as pl\n",
    "import scipy as sp\n",
    "from graphviz import Digraph\n",
    "import pydot\n",
    "from IPython.display import Image\n",
    "import pandas as pd\n",
    "import seaborn as sns\n",
    "\n",
    "print(__doc__)\n",
    "import pandas as pd\n",
    "from patsy import dmatrices\n",
    "import scipy as sc\n",
    "import scipy.optimize as opt\n",
    "import statsmodels.api as sm\n",
    "\n",
    "import sklearn as sk\n",
    "\n",
    "\n",
    "from sklearn.pipeline import Pipeline\n",
    "from sklearn.pipeline import FeatureUnion\n",
    "from sklearn.pipeline import TransformerMixin\n",
    "from sklearn.pipeline import BaseEstimator\n",
    "from sklearn.base import BaseEstimator, TransformerMixin, clone\n",
    "from sklearn.utils.metaestimators import if_delegate_has_method\n",
    "from sklearn.utils import column_or_1d\n",
    "from sklearn.pipeline import make_pipeline\n",
    "from sklearn.pipeline import make_union\n",
    "\n",
    "\n",
    "from sklearn.datasets import samples_generator\n",
    "from sklearn import datasets\n",
    "\n",
    "from sklearn.preprocessing import PolynomialFeatures\n",
    "from sklearn.preprocessing import FunctionTransformer\n",
    "\n",
    "from sklearn.feature_extraction import DictVectorizer\n",
    "\n",
    "import sklearn.feature_extraction as fe\n",
    "\n",
    "import sklearn.feature_selection as fs\n",
    "from sklearn.feature_selection import SelectKBest\n",
    "from sklearn.feature_selection import f_regression\n",
    "from sklearn.feature_selection import VarianceThreshold\n",
    "\n",
    "import sklearn.linear_model as lm\n",
    "import sklearn.grid_search as gs\n",
    "from sklearn.svm import SVC\n",
    "from sklearn.decomposition import PCA\n",
    "\n",
    "\n",
    "import sklearn.preprocessing as preprocessing\n",
    "import sklearn.cross_validation as cv\n",
    "from sklearn.cross_validation import train_test_split\n",
    "from sklearn.metrics import roc_curve, auc\n",
    "\n",
    "from sklearn_pandas import DataFrameMapper, cross_val_score\n",
    "\n",
    "import matplotlib.pyplot as plt\n",
    "import patsy\n",
    "from statsmodels.sandbox import cox\n",
    "\n",
    "from patsylearn import *\n",
    "\n",
    "import joblib as jb\n",
    "\n",
    "\n",
    "from datasu.auc import *\n",
    "from datasu.dicts import *\n",
    "from datasu.files import *\n",
    "from datasu.pandas import *\n",
    "from datasu.persist import *"
   ]
  },
  {
   "cell_type": "markdown",
   "metadata": {},
   "source": [
    "## UTILS"
   ]
  },
  {
   "cell_type": "markdown",
   "metadata": {},
   "source": [
    "## LOAD DATA"
   ]
  },
  {
   "cell_type": "code",
   "execution_count": 3,
   "metadata": {
    "collapsed": false
   },
   "outputs": [],
   "source": [
    "main_folder = '/ea/Datasets/Kaggle-AcquireValuedShoppersChallenge2/'\n",
    "df_coupons = pd.read_csv(main_folder+'offers')[['offer','category','company','brand','offervalue','quantity']]\n",
    "df_offers_ids = pd.read_csv(main_folder+'trainHistory').rename(columns={'id': 'customer_id'})\n",
    "df_offers_ids_submission = pd.read_csv(main_folder+'testHistory').rename(columns={'id': 'customer_id'})\n",
    "df_trans_all = pd.read_csv(main_folder+'transactions_reduced_category').rename(columns={'id': 'customer_id'})"
   ]
  },
  {
   "cell_type": "code",
   "execution_count": 4,
   "metadata": {
    "collapsed": false
   },
   "outputs": [],
   "source": [
    "df_offers_all = pd.merge(df_offers_ids, df_coupons, on=['offer'])\n",
    "df_offers_all = df_offers_all[['customer_id','chain','offer','market','category','company','brand','offerdate','offervalue','quantity','repeattrips','repeater']]\n",
    "\n",
    "df_offers_all_submission = pd.merge(df_offers_ids_submission, df_coupons, on=['offer'])\n",
    "df_offers_all_submission = df_offers_all_submission[['customer_id','chain','offer','market','category','company','brand','offerdate','offervalue','quantity']]"
   ]
  },
  {
   "cell_type": "code",
   "execution_count": 5,
   "metadata": {
    "collapsed": false
   },
   "outputs": [
    {
     "data": {
      "text/html": [
       "<div>\n",
       "<table border=\"1\" class=\"dataframe\">\n",
       "  <thead>\n",
       "    <tr style=\"text-align: right;\">\n",
       "      <th></th>\n",
       "      <th>offer</th>\n",
       "      <th>category</th>\n",
       "      <th>company</th>\n",
       "      <th>brand</th>\n",
       "      <th>offervalue</th>\n",
       "      <th>quantity</th>\n",
       "    </tr>\n",
       "  </thead>\n",
       "  <tbody>\n",
       "    <tr>\n",
       "      <th>0</th>\n",
       "      <td>1190530</td>\n",
       "      <td>9115</td>\n",
       "      <td>108500080</td>\n",
       "      <td>93904</td>\n",
       "      <td>5.00</td>\n",
       "      <td>1</td>\n",
       "    </tr>\n",
       "    <tr>\n",
       "      <th>1</th>\n",
       "      <td>1194044</td>\n",
       "      <td>9909</td>\n",
       "      <td>107127979</td>\n",
       "      <td>6732</td>\n",
       "      <td>1.00</td>\n",
       "      <td>1</td>\n",
       "    </tr>\n",
       "    <tr>\n",
       "      <th>2</th>\n",
       "      <td>1197502</td>\n",
       "      <td>3203</td>\n",
       "      <td>106414464</td>\n",
       "      <td>13474</td>\n",
       "      <td>0.75</td>\n",
       "      <td>1</td>\n",
       "    </tr>\n",
       "    <tr>\n",
       "      <th>3</th>\n",
       "      <td>1198271</td>\n",
       "      <td>5558</td>\n",
       "      <td>107120272</td>\n",
       "      <td>5072</td>\n",
       "      <td>1.50</td>\n",
       "      <td>1</td>\n",
       "    </tr>\n",
       "    <tr>\n",
       "      <th>4</th>\n",
       "      <td>1198272</td>\n",
       "      <td>5558</td>\n",
       "      <td>107120272</td>\n",
       "      <td>5072</td>\n",
       "      <td>1.50</td>\n",
       "      <td>1</td>\n",
       "    </tr>\n",
       "  </tbody>\n",
       "</table>\n",
       "</div>"
      ],
      "text/plain": [
       "     offer  category    company  brand  offervalue  quantity\n",
       "0  1190530      9115  108500080  93904        5.00         1\n",
       "1  1194044      9909  107127979   6732        1.00         1\n",
       "2  1197502      3203  106414464  13474        0.75         1\n",
       "3  1198271      5558  107120272   5072        1.50         1\n",
       "4  1198272      5558  107120272   5072        1.50         1"
      ]
     },
     "execution_count": 5,
     "metadata": {},
     "output_type": "execute_result"
    }
   ],
   "source": [
    "df_coupons.head()"
   ]
  },
  {
   "cell_type": "code",
   "execution_count": 6,
   "metadata": {
    "collapsed": false
   },
   "outputs": [
    {
     "data": {
      "text/html": [
       "<div>\n",
       "<table border=\"1\" class=\"dataframe\">\n",
       "  <thead>\n",
       "    <tr style=\"text-align: right;\">\n",
       "      <th></th>\n",
       "      <th>offer</th>\n",
       "      <th>category</th>\n",
       "      <th>company</th>\n",
       "      <th>brand</th>\n",
       "      <th>offervalue</th>\n",
       "      <th>quantity</th>\n",
       "    </tr>\n",
       "  </thead>\n",
       "  <tbody>\n",
       "    <tr>\n",
       "      <th>26</th>\n",
       "      <td>1213242</td>\n",
       "      <td>5824</td>\n",
       "      <td>105190050</td>\n",
       "      <td>26456</td>\n",
       "      <td>2</td>\n",
       "      <td>1</td>\n",
       "    </tr>\n",
       "  </tbody>\n",
       "</table>\n",
       "</div>"
      ],
      "text/plain": [
       "      offer  category    company  brand  offervalue  quantity\n",
       "26  1213242      5824  105190050  26456           2         1"
      ]
     },
     "execution_count": 6,
     "metadata": {},
     "output_type": "execute_result"
    }
   ],
   "source": [
    "df_coupons[df_coupons.offer==1213242]"
   ]
  },
  {
   "cell_type": "code",
   "execution_count": 7,
   "metadata": {
    "collapsed": false
   },
   "outputs": [
    {
     "data": {
      "text/html": [
       "<div>\n",
       "<table border=\"1\" class=\"dataframe\">\n",
       "  <thead>\n",
       "    <tr style=\"text-align: right;\">\n",
       "      <th></th>\n",
       "      <th>customer_id</th>\n",
       "      <th>chain</th>\n",
       "      <th>offer</th>\n",
       "      <th>market</th>\n",
       "      <th>category</th>\n",
       "      <th>company</th>\n",
       "      <th>brand</th>\n",
       "      <th>offerdate</th>\n",
       "      <th>offervalue</th>\n",
       "      <th>quantity</th>\n",
       "      <th>repeattrips</th>\n",
       "      <th>repeater</th>\n",
       "    </tr>\n",
       "  </thead>\n",
       "  <tbody>\n",
       "    <tr>\n",
       "      <th>0</th>\n",
       "      <td>86246</td>\n",
       "      <td>205</td>\n",
       "      <td>1208251</td>\n",
       "      <td>34</td>\n",
       "      <td>2202</td>\n",
       "      <td>104460040</td>\n",
       "      <td>3718</td>\n",
       "      <td>2013-04-24</td>\n",
       "      <td>2</td>\n",
       "      <td>1</td>\n",
       "      <td>5</td>\n",
       "      <td>t</td>\n",
       "    </tr>\n",
       "    <tr>\n",
       "      <th>1</th>\n",
       "      <td>15753725</td>\n",
       "      <td>17</td>\n",
       "      <td>1208251</td>\n",
       "      <td>4</td>\n",
       "      <td>2202</td>\n",
       "      <td>104460040</td>\n",
       "      <td>3718</td>\n",
       "      <td>2013-04-24</td>\n",
       "      <td>2</td>\n",
       "      <td>1</td>\n",
       "      <td>0</td>\n",
       "      <td>f</td>\n",
       "    </tr>\n",
       "    <tr>\n",
       "      <th>2</th>\n",
       "      <td>16535563</td>\n",
       "      <td>4</td>\n",
       "      <td>1208251</td>\n",
       "      <td>1</td>\n",
       "      <td>2202</td>\n",
       "      <td>104460040</td>\n",
       "      <td>3718</td>\n",
       "      <td>2013-04-27</td>\n",
       "      <td>2</td>\n",
       "      <td>1</td>\n",
       "      <td>7</td>\n",
       "      <td>t</td>\n",
       "    </tr>\n",
       "    <tr>\n",
       "      <th>3</th>\n",
       "      <td>18259179</td>\n",
       "      <td>3</td>\n",
       "      <td>1208251</td>\n",
       "      <td>2</td>\n",
       "      <td>2202</td>\n",
       "      <td>104460040</td>\n",
       "      <td>3718</td>\n",
       "      <td>2013-04-24</td>\n",
       "      <td>2</td>\n",
       "      <td>1</td>\n",
       "      <td>0</td>\n",
       "      <td>f</td>\n",
       "    </tr>\n",
       "    <tr>\n",
       "      <th>4</th>\n",
       "      <td>21024070</td>\n",
       "      <td>15</td>\n",
       "      <td>1208251</td>\n",
       "      <td>9</td>\n",
       "      <td>2202</td>\n",
       "      <td>104460040</td>\n",
       "      <td>3718</td>\n",
       "      <td>2013-04-23</td>\n",
       "      <td>2</td>\n",
       "      <td>1</td>\n",
       "      <td>1</td>\n",
       "      <td>t</td>\n",
       "    </tr>\n",
       "  </tbody>\n",
       "</table>\n",
       "</div>"
      ],
      "text/plain": [
       "   customer_id  chain    offer  market  category    company  brand  \\\n",
       "0        86246    205  1208251      34      2202  104460040   3718   \n",
       "1     15753725     17  1208251       4      2202  104460040   3718   \n",
       "2     16535563      4  1208251       1      2202  104460040   3718   \n",
       "3     18259179      3  1208251       2      2202  104460040   3718   \n",
       "4     21024070     15  1208251       9      2202  104460040   3718   \n",
       "\n",
       "    offerdate  offervalue  quantity  repeattrips repeater  \n",
       "0  2013-04-24           2         1            5        t  \n",
       "1  2013-04-24           2         1            0        f  \n",
       "2  2013-04-27           2         1            7        t  \n",
       "3  2013-04-24           2         1            0        f  \n",
       "4  2013-04-23           2         1            1        t  "
      ]
     },
     "execution_count": 7,
     "metadata": {},
     "output_type": "execute_result"
    }
   ],
   "source": [
    "df_offers_all.head()"
   ]
  },
  {
   "cell_type": "code",
   "execution_count": 8,
   "metadata": {
    "collapsed": false
   },
   "outputs": [
    {
     "data": {
      "text/html": [
       "<div>\n",
       "<table border=\"1\" class=\"dataframe\">\n",
       "  <thead>\n",
       "    <tr style=\"text-align: right;\">\n",
       "      <th></th>\n",
       "      <th>customer_id</th>\n",
       "      <th>chain</th>\n",
       "      <th>dept</th>\n",
       "      <th>category</th>\n",
       "      <th>company</th>\n",
       "      <th>brand</th>\n",
       "      <th>date</th>\n",
       "      <th>productsize</th>\n",
       "      <th>productmeasure</th>\n",
       "      <th>purchasequantity</th>\n",
       "      <th>purchaseamount</th>\n",
       "    </tr>\n",
       "  </thead>\n",
       "  <tbody>\n",
       "    <tr>\n",
       "      <th>0</th>\n",
       "      <td>86246</td>\n",
       "      <td>205</td>\n",
       "      <td>99</td>\n",
       "      <td>9909</td>\n",
       "      <td>104538848</td>\n",
       "      <td>15343</td>\n",
       "      <td>2012-03-02</td>\n",
       "      <td>16.0</td>\n",
       "      <td>OZ</td>\n",
       "      <td>1</td>\n",
       "      <td>2.49</td>\n",
       "    </tr>\n",
       "    <tr>\n",
       "      <th>1</th>\n",
       "      <td>86246</td>\n",
       "      <td>205</td>\n",
       "      <td>58</td>\n",
       "      <td>5824</td>\n",
       "      <td>108674585</td>\n",
       "      <td>55172</td>\n",
       "      <td>2012-03-02</td>\n",
       "      <td>16.0</td>\n",
       "      <td>OZ</td>\n",
       "      <td>1</td>\n",
       "      <td>3.29</td>\n",
       "    </tr>\n",
       "    <tr>\n",
       "      <th>2</th>\n",
       "      <td>86246</td>\n",
       "      <td>205</td>\n",
       "      <td>72</td>\n",
       "      <td>7205</td>\n",
       "      <td>103500030</td>\n",
       "      <td>3830</td>\n",
       "      <td>2012-03-06</td>\n",
       "      <td>4.6</td>\n",
       "      <td>OZ</td>\n",
       "      <td>1</td>\n",
       "      <td>3.99</td>\n",
       "    </tr>\n",
       "    <tr>\n",
       "      <th>3</th>\n",
       "      <td>86246</td>\n",
       "      <td>205</td>\n",
       "      <td>55</td>\n",
       "      <td>5558</td>\n",
       "      <td>104154848</td>\n",
       "      <td>5603</td>\n",
       "      <td>2012-03-07</td>\n",
       "      <td>5.8</td>\n",
       "      <td>OZ</td>\n",
       "      <td>1</td>\n",
       "      <td>1.25</td>\n",
       "    </tr>\n",
       "    <tr>\n",
       "      <th>4</th>\n",
       "      <td>86246</td>\n",
       "      <td>205</td>\n",
       "      <td>58</td>\n",
       "      <td>5824</td>\n",
       "      <td>1076401474</td>\n",
       "      <td>304</td>\n",
       "      <td>2012-03-14</td>\n",
       "      <td>12.0</td>\n",
       "      <td>OZ</td>\n",
       "      <td>1</td>\n",
       "      <td>4.99</td>\n",
       "    </tr>\n",
       "  </tbody>\n",
       "</table>\n",
       "</div>"
      ],
      "text/plain": [
       "   customer_id  chain  dept  category     company  brand        date  \\\n",
       "0        86246    205    99      9909   104538848  15343  2012-03-02   \n",
       "1        86246    205    58      5824   108674585  55172  2012-03-02   \n",
       "2        86246    205    72      7205   103500030   3830  2012-03-06   \n",
       "3        86246    205    55      5558   104154848   5603  2012-03-07   \n",
       "4        86246    205    58      5824  1076401474    304  2012-03-14   \n",
       "\n",
       "   productsize productmeasure  purchasequantity  purchaseamount  \n",
       "0         16.0             OZ                 1            2.49  \n",
       "1         16.0             OZ                 1            3.29  \n",
       "2          4.6             OZ                 1            3.99  \n",
       "3          5.8             OZ                 1            1.25  \n",
       "4         12.0             OZ                 1            4.99  "
      ]
     },
     "execution_count": 8,
     "metadata": {},
     "output_type": "execute_result"
    }
   ],
   "source": [
    "df_trans_all.head()"
   ]
  },
  {
   "cell_type": "code",
   "execution_count": 9,
   "metadata": {
    "collapsed": false
   },
   "outputs": [
    {
     "name": "stderr",
     "output_type": "stream",
     "text": [
      "/root/.pyenv/versions/2.7.9/envs/2.7.9-analytics2/lib/python2.7/site-packages/ipykernel/__main__.py:1: FutureWarning: order is deprecated, use sort_values(...)\n",
      "  if __name__ == '__main__':\n",
      "/root/.pyenv/versions/2.7.9/envs/2.7.9-analytics2/lib/python2.7/site-packages/matplotlib/__init__.py:892: UserWarning: axes.color_cycle is deprecated and replaced with axes.prop_cycle; please use the latter.\n",
      "  warnings.warn(self.msg_depr % (key, alt_key))\n"
     ]
    },
    {
     "data": {
      "text/plain": [
       "<matplotlib.axes._subplots.AxesSubplot at 0x7f083e5d9fd0>"
      ]
     },
     "execution_count": 9,
     "metadata": {},
     "output_type": "execute_result"
    },
    {
     "data": {
      "image/png": "[encoded data removed]",
      "text/plain": [
       "<matplotlib.figure.Figure at 0x7f083fb4cb10>"
      ]
     },
     "metadata": {},
     "output_type": "display_data"
    }
   ],
   "source": [
    "offer_counts = df_offers_all.groupby(by='offer').count().customer_id.order(ascending=False)\n",
    "sns.barplot(y=offer_counts.index.values, x=offer_counts.values, orient='h')"
   ]
  },
  {
   "cell_type": "markdown",
   "metadata": {},
   "source": [
    "## FILTER DATA"
   ]
  },
  {
   "cell_type": "code",
   "execution_count": 10,
   "metadata": {
    "collapsed": false
   },
   "outputs": [],
   "source": [
    "df_trans = df_trans_all#[0:3000000]"
   ]
  },
  {
   "cell_type": "code",
   "execution_count": 11,
   "metadata": {
    "collapsed": false
   },
   "outputs": [],
   "source": [
    "df_offers_filtered = df_offers_all#[df_offers_all.offer==1197502]"
   ]
  },
  {
   "cell_type": "code",
   "execution_count": 12,
   "metadata": {
    "collapsed": false
   },
   "outputs": [
    {
     "data": {
      "text/plain": [
       "(310665, 15349956, 160057, 160057)"
      ]
     },
     "execution_count": 12,
     "metadata": {},
     "output_type": "execute_result"
    }
   ],
   "source": [
    "len(df_trans.customer_id.unique()), len(df_trans.customer_id),  len(df_offers_filtered.customer_id.unique()),len(df_offers_filtered.customer_id), "
   ]
  },
  {
   "cell_type": "markdown",
   "metadata": {},
   "source": [
    "## FEATURE EXTRACTION"
   ]
  },
  {
   "cell_type": "markdown",
   "metadata": {},
   "source": [
    "### AGGREGATE TRANSCATIONS"
   ]
  },
  {
   "cell_type": "code",
   "execution_count": 13,
   "metadata": {
    "collapsed": false
   },
   "outputs": [],
   "source": [
    "summ_grouping = {'total':np.sum, 'average':np.average }\n",
    "count_grouping = {'count':np.count_nonzero }"
   ]
  },
  {
   "cell_type": "code",
   "execution_count": 14,
   "metadata": {
    "collapsed": false
   },
   "outputs": [],
   "source": [
    "count_agg = partial(get_agg, grp_columns=['customer_id'], grouping=count_grouping)\n",
    "total_avg_agg = partial(get_agg, grp_columns=['productsize','purchasequantity','purchaseamount'], grouping=summ_grouping)"
   ]
  },
  {
   "cell_type": "code",
   "execution_count": 15,
   "metadata": {
    "collapsed": false
   },
   "outputs": [
    {
     "data": {
      "text/html": [
       "<div>\n",
       "<table border=\"1\" class=\"dataframe\">\n",
       "  <thead>\n",
       "    <tr style=\"text-align: right;\">\n",
       "      <th></th>\n",
       "      <th>customer_id</th>\n",
       "      <th>brand</th>\n",
       "      <th>agg_productsize_customer_id_brand_average</th>\n",
       "      <th>agg_productsize_customer_id_brand_total</th>\n",
       "      <th>agg_customer_id_customer_id_brand_count</th>\n",
       "      <th>agg_purchaseamount_customer_id_brand_average</th>\n",
       "      <th>agg_purchaseamount_customer_id_brand_total</th>\n",
       "      <th>agg_purchasequantity_customer_id_brand_average</th>\n",
       "      <th>agg_purchasequantity_customer_id_brand_total</th>\n",
       "    </tr>\n",
       "  </thead>\n",
       "  <tbody>\n",
       "    <tr>\n",
       "      <th>0</th>\n",
       "      <td>86246</td>\n",
       "      <td>304</td>\n",
       "      <td>12</td>\n",
       "      <td>36</td>\n",
       "      <td>3</td>\n",
       "      <td>5.156667</td>\n",
       "      <td>15.47</td>\n",
       "      <td>1.000000</td>\n",
       "      <td>3</td>\n",
       "    </tr>\n",
       "    <tr>\n",
       "      <th>1</th>\n",
       "      <td>86246</td>\n",
       "      <td>305</td>\n",
       "      <td>6</td>\n",
       "      <td>18</td>\n",
       "      <td>3</td>\n",
       "      <td>1.650000</td>\n",
       "      <td>4.95</td>\n",
       "      <td>1.666667</td>\n",
       "      <td>5</td>\n",
       "    </tr>\n",
       "    <tr>\n",
       "      <th>2</th>\n",
       "      <td>86246</td>\n",
       "      <td>330</td>\n",
       "      <td>20</td>\n",
       "      <td>60</td>\n",
       "      <td>3</td>\n",
       "      <td>1.923333</td>\n",
       "      <td>5.77</td>\n",
       "      <td>1.000000</td>\n",
       "      <td>3</td>\n",
       "    </tr>\n",
       "    <tr>\n",
       "      <th>3</th>\n",
       "      <td>86246</td>\n",
       "      <td>401</td>\n",
       "      <td>50</td>\n",
       "      <td>50</td>\n",
       "      <td>1</td>\n",
       "      <td>6.590000</td>\n",
       "      <td>6.59</td>\n",
       "      <td>1.000000</td>\n",
       "      <td>1</td>\n",
       "    </tr>\n",
       "    <tr>\n",
       "      <th>4</th>\n",
       "      <td>86246</td>\n",
       "      <td>867</td>\n",
       "      <td>44</td>\n",
       "      <td>220</td>\n",
       "      <td>5</td>\n",
       "      <td>1.728000</td>\n",
       "      <td>8.64</td>\n",
       "      <td>1.200000</td>\n",
       "      <td>6</td>\n",
       "    </tr>\n",
       "  </tbody>\n",
       "</table>\n",
       "</div>"
      ],
      "text/plain": [
       "   customer_id  brand  agg_productsize_customer_id_brand_average  \\\n",
       "0        86246    304                                         12   \n",
       "1        86246    305                                          6   \n",
       "2        86246    330                                         20   \n",
       "3        86246    401                                         50   \n",
       "4        86246    867                                         44   \n",
       "\n",
       "   agg_productsize_customer_id_brand_total  \\\n",
       "0                                       36   \n",
       "1                                       18   \n",
       "2                                       60   \n",
       "3                                       50   \n",
       "4                                      220   \n",
       "\n",
       "   agg_customer_id_customer_id_brand_count  \\\n",
       "0                                        3   \n",
       "1                                        3   \n",
       "2                                        3   \n",
       "3                                        1   \n",
       "4                                        5   \n",
       "\n",
       "   agg_purchaseamount_customer_id_brand_average  \\\n",
       "0                                      5.156667   \n",
       "1                                      1.650000   \n",
       "2                                      1.923333   \n",
       "3                                      6.590000   \n",
       "4                                      1.728000   \n",
       "\n",
       "   agg_purchaseamount_customer_id_brand_total  \\\n",
       "0                                       15.47   \n",
       "1                                        4.95   \n",
       "2                                        5.77   \n",
       "3                                        6.59   \n",
       "4                                        8.64   \n",
       "\n",
       "   agg_purchasequantity_customer_id_brand_average  \\\n",
       "0                                        1.000000   \n",
       "1                                        1.666667   \n",
       "2                                        1.000000   \n",
       "3                                        1.000000   \n",
       "4                                        1.200000   \n",
       "\n",
       "   agg_purchasequantity_customer_id_brand_total  \n",
       "0                                             3  \n",
       "1                                             5  \n",
       "2                                             3  \n",
       "3                                             1  \n",
       "4                                             6  "
      ]
     },
     "execution_count": 15,
     "metadata": {},
     "output_type": "execute_result"
    }
   ],
   "source": [
    "grpby_columns = ['customer_id','brand']\n",
    "\n",
    "df_trans_grp_customer_brand = df_trans.groupby(by=grpby_columns, axis=0) \\\n",
    "                               .agg(merge_dicts(count_agg(grpby_columns), \\\n",
    "                                                total_avg_agg(grpby_columns)))    \n",
    "    \n",
    "df_trans_grp_customer_brand.columns = flatten_columns(df_trans_grp_customer_brand,prefix='agg_')\n",
    "df_trans_grp_customer_brand = df_trans_grp_customer_brand.reset_index()#.set_index('customer_id')\n",
    "df_trans_grp_customer_brand.head()\n"
   ]
  },
  {
   "cell_type": "code",
   "execution_count": 16,
   "metadata": {
    "collapsed": false
   },
   "outputs": [
    {
     "name": "stdout",
     "output_type": "stream",
     "text": [
      "1881\n",
      "4182530\n"
     ]
    }
   ],
   "source": [
    "print len(df_trans_grp_customer_brand.brand.unique())\n",
    "print len(df_trans_grp_customer_brand)"
   ]
  },
  {
   "cell_type": "code",
   "execution_count": 17,
   "metadata": {
    "collapsed": false
   },
   "outputs": [
    {
     "data": {
      "text/html": [
       "<div>\n",
       "<table border=\"1\" class=\"dataframe\">\n",
       "  <thead>\n",
       "    <tr style=\"text-align: right;\">\n",
       "      <th></th>\n",
       "      <th>customer_id</th>\n",
       "      <th>category</th>\n",
       "      <th>agg_productsize_customer_id_category_total</th>\n",
       "      <th>agg_productsize_customer_id_category_average</th>\n",
       "      <th>agg_customer_id_customer_id_category_count</th>\n",
       "      <th>agg_purchaseamount_customer_id_category_total</th>\n",
       "      <th>agg_purchaseamount_customer_id_category_average</th>\n",
       "      <th>agg_purchasequantity_customer_id_category_total</th>\n",
       "      <th>agg_purchasequantity_customer_id_category_average</th>\n",
       "    </tr>\n",
       "  </thead>\n",
       "  <tbody>\n",
       "    <tr>\n",
       "      <th>0</th>\n",
       "      <td>86246</td>\n",
       "      <td>706</td>\n",
       "      <td>441.0</td>\n",
       "      <td>49.000000</td>\n",
       "      <td>9</td>\n",
       "      <td>37.38</td>\n",
       "      <td>4.153333</td>\n",
       "      <td>10</td>\n",
       "      <td>1.111111</td>\n",
       "    </tr>\n",
       "    <tr>\n",
       "      <th>1</th>\n",
       "      <td>86246</td>\n",
       "      <td>1703</td>\n",
       "      <td>470.5</td>\n",
       "      <td>31.366667</td>\n",
       "      <td>15</td>\n",
       "      <td>57.64</td>\n",
       "      <td>3.842667</td>\n",
       "      <td>18</td>\n",
       "      <td>1.200000</td>\n",
       "    </tr>\n",
       "    <tr>\n",
       "      <th>2</th>\n",
       "      <td>86246</td>\n",
       "      <td>1726</td>\n",
       "      <td>230.0</td>\n",
       "      <td>57.500000</td>\n",
       "      <td>4</td>\n",
       "      <td>12.18</td>\n",
       "      <td>3.045000</td>\n",
       "      <td>4</td>\n",
       "      <td>1.000000</td>\n",
       "    </tr>\n",
       "    <tr>\n",
       "      <th>3</th>\n",
       "      <td>86246</td>\n",
       "      <td>2119</td>\n",
       "      <td>1224.6</td>\n",
       "      <td>43.735714</td>\n",
       "      <td>28</td>\n",
       "      <td>63.66</td>\n",
       "      <td>2.273571</td>\n",
       "      <td>38</td>\n",
       "      <td>1.357143</td>\n",
       "    </tr>\n",
       "    <tr>\n",
       "      <th>4</th>\n",
       "      <td>86246</td>\n",
       "      <td>3203</td>\n",
       "      <td>79.0</td>\n",
       "      <td>5.266667</td>\n",
       "      <td>15</td>\n",
       "      <td>41.66</td>\n",
       "      <td>2.777333</td>\n",
       "      <td>15</td>\n",
       "      <td>1.000000</td>\n",
       "    </tr>\n",
       "  </tbody>\n",
       "</table>\n",
       "</div>"
      ],
      "text/plain": [
       "   customer_id  category  agg_productsize_customer_id_category_total  \\\n",
       "0        86246       706                                       441.0   \n",
       "1        86246      1703                                       470.5   \n",
       "2        86246      1726                                       230.0   \n",
       "3        86246      2119                                      1224.6   \n",
       "4        86246      3203                                        79.0   \n",
       "\n",
       "   agg_productsize_customer_id_category_average  \\\n",
       "0                                     49.000000   \n",
       "1                                     31.366667   \n",
       "2                                     57.500000   \n",
       "3                                     43.735714   \n",
       "4                                      5.266667   \n",
       "\n",
       "   agg_customer_id_customer_id_category_count  \\\n",
       "0                                           9   \n",
       "1                                          15   \n",
       "2                                           4   \n",
       "3                                          28   \n",
       "4                                          15   \n",
       "\n",
       "   agg_purchaseamount_customer_id_category_total  \\\n",
       "0                                          37.38   \n",
       "1                                          57.64   \n",
       "2                                          12.18   \n",
       "3                                          63.66   \n",
       "4                                          41.66   \n",
       "\n",
       "   agg_purchaseamount_customer_id_category_average  \\\n",
       "0                                         4.153333   \n",
       "1                                         3.842667   \n",
       "2                                         3.045000   \n",
       "3                                         2.273571   \n",
       "4                                         2.777333   \n",
       "\n",
       "   agg_purchasequantity_customer_id_category_total  \\\n",
       "0                                               10   \n",
       "1                                               18   \n",
       "2                                                4   \n",
       "3                                               38   \n",
       "4                                               15   \n",
       "\n",
       "   agg_purchasequantity_customer_id_category_average  \n",
       "0                                           1.111111  \n",
       "1                                           1.200000  \n",
       "2                                           1.000000  \n",
       "3                                           1.357143  \n",
       "4                                           1.000000  "
      ]
     },
     "execution_count": 17,
     "metadata": {},
     "output_type": "execute_result"
    }
   ],
   "source": [
    "grpby_columns = ['customer_id','category']\n",
    "grp_columns = ['purchaseamount']\n",
    "\n",
    "df_trans_grp_customer_category = df_trans.groupby(by=grpby_columns, axis=0) \\\n",
    "                                         .agg(merge_dicts(count_agg(grpby_columns), \\\n",
    "                                              total_avg_agg(grpby_columns))) \n",
    "    \n",
    "df_trans_grp_customer_category.columns = flatten_columns(df_trans_grp_customer_category, prefix='agg_')\n",
    "df_trans_grp_customer_category = df_trans_grp_customer_category.reset_index()#.set_index('customer_id')\n",
    "df_trans_grp_customer_category.head()\n",
    "\n"
   ]
  },
  {
   "cell_type": "code",
   "execution_count": 18,
   "metadata": {
    "collapsed": false
   },
   "outputs": [
    {
     "name": "stdout",
     "output_type": "stream",
     "text": [
      "2402099\n"
     ]
    }
   ],
   "source": [
    "print len(df_trans_grp_customer_category)"
   ]
  },
  {
   "cell_type": "code",
   "execution_count": 19,
   "metadata": {
    "collapsed": false
   },
   "outputs": [
    {
     "data": {
      "text/html": [
       "<div>\n",
       "<table border=\"1\" class=\"dataframe\">\n",
       "  <thead>\n",
       "    <tr style=\"text-align: right;\">\n",
       "      <th></th>\n",
       "      <th>customer_id</th>\n",
       "      <th>dept</th>\n",
       "      <th>agg_productsize_customer_id_dept_average</th>\n",
       "      <th>agg_productsize_customer_id_dept_total</th>\n",
       "      <th>agg_customer_id_customer_id_dept_count</th>\n",
       "      <th>agg_purchaseamount_customer_id_dept_average</th>\n",
       "      <th>agg_purchaseamount_customer_id_dept_total</th>\n",
       "      <th>agg_purchasequantity_customer_id_dept_average</th>\n",
       "      <th>agg_purchasequantity_customer_id_dept_total</th>\n",
       "    </tr>\n",
       "  </thead>\n",
       "  <tbody>\n",
       "    <tr>\n",
       "      <th>0</th>\n",
       "      <td>86246</td>\n",
       "      <td>7</td>\n",
       "      <td>49.000000</td>\n",
       "      <td>441.00</td>\n",
       "      <td>9</td>\n",
       "      <td>4.153333</td>\n",
       "      <td>37.38</td>\n",
       "      <td>1.111111</td>\n",
       "      <td>10</td>\n",
       "    </tr>\n",
       "    <tr>\n",
       "      <th>1</th>\n",
       "      <td>86246</td>\n",
       "      <td>17</td>\n",
       "      <td>36.868421</td>\n",
       "      <td>700.50</td>\n",
       "      <td>19</td>\n",
       "      <td>3.674737</td>\n",
       "      <td>69.82</td>\n",
       "      <td>1.157895</td>\n",
       "      <td>22</td>\n",
       "    </tr>\n",
       "    <tr>\n",
       "      <th>2</th>\n",
       "      <td>86246</td>\n",
       "      <td>21</td>\n",
       "      <td>43.735714</td>\n",
       "      <td>1224.60</td>\n",
       "      <td>28</td>\n",
       "      <td>2.273571</td>\n",
       "      <td>63.66</td>\n",
       "      <td>1.357143</td>\n",
       "      <td>38</td>\n",
       "    </tr>\n",
       "    <tr>\n",
       "      <th>3</th>\n",
       "      <td>86246</td>\n",
       "      <td>32</td>\n",
       "      <td>5.266667</td>\n",
       "      <td>79.00</td>\n",
       "      <td>15</td>\n",
       "      <td>2.777333</td>\n",
       "      <td>41.66</td>\n",
       "      <td>1.000000</td>\n",
       "      <td>15</td>\n",
       "    </tr>\n",
       "    <tr>\n",
       "      <th>4</th>\n",
       "      <td>86246</td>\n",
       "      <td>35</td>\n",
       "      <td>39.182941</td>\n",
       "      <td>3996.66</td>\n",
       "      <td>102</td>\n",
       "      <td>3.289706</td>\n",
       "      <td>335.55</td>\n",
       "      <td>1.333333</td>\n",
       "      <td>136</td>\n",
       "    </tr>\n",
       "  </tbody>\n",
       "</table>\n",
       "</div>"
      ],
      "text/plain": [
       "   customer_id  dept  agg_productsize_customer_id_dept_average  \\\n",
       "0        86246     7                                 49.000000   \n",
       "1        86246    17                                 36.868421   \n",
       "2        86246    21                                 43.735714   \n",
       "3        86246    32                                  5.266667   \n",
       "4        86246    35                                 39.182941   \n",
       "\n",
       "   agg_productsize_customer_id_dept_total  \\\n",
       "0                                  441.00   \n",
       "1                                  700.50   \n",
       "2                                 1224.60   \n",
       "3                                   79.00   \n",
       "4                                 3996.66   \n",
       "\n",
       "   agg_customer_id_customer_id_dept_count  \\\n",
       "0                                       9   \n",
       "1                                      19   \n",
       "2                                      28   \n",
       "3                                      15   \n",
       "4                                     102   \n",
       "\n",
       "   agg_purchaseamount_customer_id_dept_average  \\\n",
       "0                                     4.153333   \n",
       "1                                     3.674737   \n",
       "2                                     2.273571   \n",
       "3                                     2.777333   \n",
       "4                                     3.289706   \n",
       "\n",
       "   agg_purchaseamount_customer_id_dept_total  \\\n",
       "0                                      37.38   \n",
       "1                                      69.82   \n",
       "2                                      63.66   \n",
       "3                                      41.66   \n",
       "4                                     335.55   \n",
       "\n",
       "   agg_purchasequantity_customer_id_dept_average  \\\n",
       "0                                       1.111111   \n",
       "1                                       1.157895   \n",
       "2                                       1.357143   \n",
       "3                                       1.000000   \n",
       "4                                       1.333333   \n",
       "\n",
       "   agg_purchasequantity_customer_id_dept_total  \n",
       "0                                           10  \n",
       "1                                           22  \n",
       "2                                           38  \n",
       "3                                           15  \n",
       "4                                          136  "
      ]
     },
     "execution_count": 19,
     "metadata": {},
     "output_type": "execute_result"
    }
   ],
   "source": [
    "grpby_columns = ['customer_id','dept']\n",
    "grp_columns = ['productsize','purchaseamount']\n",
    "\n",
    "df_trans_grp_customer_dept = df_trans.groupby(by=grpby_columns, axis=0) \\\n",
    "                                     .agg(merge_dicts(count_agg(grpby_columns), \\\n",
    "                                          total_avg_agg(grpby_columns))) \n",
    "    \n",
    "df_trans_grp_customer_dept.columns = flatten_columns(df_trans_grp_customer_dept, prefix='agg_')\n",
    "df_trans_grp_customer_dept = df_trans_grp_customer_dept.reset_index()#.set_index('customer_id')\n",
    "df_trans_grp_customer_dept.head()"
   ]
  },
  {
   "cell_type": "markdown",
   "metadata": {},
   "source": [
    "### PERSIST DATA TO DISK"
   ]
  },
  {
   "cell_type": "code",
   "execution_count": null,
   "metadata": {
    "collapsed": false
   },
   "outputs": [],
   "source": [
    "persist_variables(['df_trans_grp_customer_brand',\n",
    "                   'df_trans_grp_customer_category',\n",
    "                   'df_trans_grp_customer_dept']\n",
    "                  ,path=main_folder+'working_data')"
   ]
  }
 ],
 "metadata": {
  "kernelspec": {
   "display_name": "Python 2",
   "language": "python",
   "name": "python2"
  },
  "language_info": {
   "codemirror_mode": {
    "name": "ipython",
    "version": 2
   },
   "file_extension": ".py",
   "mimetype": "text/x-python",
   "name": "python",
   "nbconvert_exporter": "python",
   "pygments_lexer": "ipython2",
   "version": "2.7.9"
  }
 },
 "nbformat": 4,
 "nbformat_minor": 0
}
