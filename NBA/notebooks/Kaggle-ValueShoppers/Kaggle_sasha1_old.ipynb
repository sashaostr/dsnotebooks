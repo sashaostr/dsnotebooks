{
 "cells": [
  {
   "cell_type": "code",
   "execution_count": 61,
   "metadata": {
    "collapsed": false
   },
   "outputs": [
    {
     "name": "stdout",
     "output_type": "stream",
     "text": [
      "Automatically created module for IPython interactive environment\n"
     ]
    }
   ],
   "source": [
    "%matplotlib inline\n",
    "from IPython.core.pylabtools import figsize\n",
    "\n",
    "from functools import partial\n",
    "import itertools\n",
    "import re\n",
    "\n",
    "import matplotlib.gridspec as gridspec\n",
    "import numpy as np\n",
    "import scipy.stats as stats\n",
    "import matplotlib.pyplot as plt\n",
    "import pylab as pl\n",
    "import scipy as sp\n",
    "from graphviz import Digraph\n",
    "import pydot\n",
    "from IPython.display import Image\n",
    "import pandas as pd\n",
    "import seaborn as sns\n",
    "\n",
    "print(__doc__)\n",
    "import pandas as pd\n",
    "from patsy import dmatrices\n",
    "import scipy as sc\n",
    "import scipy.optimize as opt\n",
    "import statsmodels.api as sm\n",
    "\n",
    "import sklearn as sk\n",
    "\n",
    "\n",
    "from sklearn.pipeline import Pipeline\n",
    "from sklearn.pipeline import FeatureUnion\n",
    "from sklearn.pipeline import TransformerMixin\n",
    "from sklearn.pipeline import BaseEstimator\n",
    "from sklearn.base import BaseEstimator, TransformerMixin, clone\n",
    "from sklearn.utils.metaestimators import if_delegate_has_method\n",
    "from sklearn.utils import column_or_1d\n",
    "from sklearn.pipeline import make_pipeline\n",
    "from sklearn.pipeline import make_union\n",
    "\n",
    "\n",
    "from sklearn.datasets import samples_generator\n",
    "from sklearn import datasets\n",
    "\n",
    "from sklearn.preprocessing import PolynomialFeatures\n",
    "from sklearn.preprocessing import FunctionTransformer\n",
    "\n",
    "from sklearn.feature_extraction import DictVectorizer\n",
    "\n",
    "import sklearn.feature_extraction as fe\n",
    "\n",
    "import sklearn.feature_selection as fs\n",
    "from sklearn.feature_selection import SelectKBest\n",
    "from sklearn.feature_selection import f_regression\n",
    "from sklearn.feature_selection import VarianceThreshold\n",
    "\n",
    "import sklearn.linear_model as lm\n",
    "import sklearn.grid_search as gs\n",
    "\n",
    "import sklearn.preprocessing as preprocessing\n",
    "import sklearn.cross_validation as cv\n",
    "from sklearn.cross_validation import train_test_split\n",
    "from sklearn.metrics import roc_curve, auc\n",
    "\n",
    "from sklearn_pandas import DataFrameMapper, cross_val_score\n",
    "\n",
    "import matplotlib.pyplot as plt\n",
    "import patsy\n",
    "from statsmodels.sandbox import cox\n",
    "\n",
    "from patsylearn import *\n"
   ]
  },
  {
   "cell_type": "markdown",
   "metadata": {},
   "source": [
    "## UTILS"
   ]
  },
  {
   "cell_type": "code",
   "execution_count": 2,
   "metadata": {
    "collapsed": true
   },
   "outputs": [],
   "source": [
    "def merge_dicts(*dict_args):\n",
    "    '''\n",
    "    Given any number of dicts, shallow copy and merge into a new dict,\n",
    "    precedence goes to key value pairs in latter dicts.\n",
    "    '''\n",
    "    result = {}\n",
    "    for dictionary in dict_args:\n",
    "        result.update(dictionary)\n",
    "    return result"
   ]
  },
  {
   "cell_type": "code",
   "execution_count": 3,
   "metadata": {
    "collapsed": false
   },
   "outputs": [],
   "source": [
    "def flatten_columns(df, prefix=''):\n",
    "    return [prefix + '_'.join(t) for t in df.columns]"
   ]
  },
  {
   "cell_type": "code",
   "execution_count": 4,
   "metadata": {
    "collapsed": false
   },
   "outputs": [],
   "source": [
    "def get_agg(grpby_columns, grp_columns, grouping):    \n",
    "    col_prefix = '_'.join(grpby_columns)    \n",
    "    gr_aggs = lambda pref,grps:  {'_'.join((pref ,gr[0])):gr[1] for gr in grps.iteritems()}\n",
    "    agg = {gc:gr_aggs(col_prefix, grouping) for gc in grp_columns}\n",
    "    return agg"
   ]
  },
  {
   "cell_type": "code",
   "execution_count": 5,
   "metadata": {
    "collapsed": true
   },
   "outputs": [],
   "source": [
    "def columns_to_type(df, columns, totype):\n",
    "    for col in columns:\n",
    "        df[col] = df[col].astype(totype)"
   ]
  },
  {
   "cell_type": "code",
   "execution_count": 128,
   "metadata": {
    "collapsed": true
   },
   "outputs": [],
   "source": [
    "from sklearn.cross_validation import StratifiedKFold\n",
    "from sklearn import svm\n",
    "from scipy import interp\n",
    "\n",
    "def run_crossval(X,y, fitter):\n",
    "    \n",
    "    # Classification and ROC analysis\n",
    "\n",
    "    # Run classifier with cross-validation and plot ROC curves\n",
    "    skf_cv = StratifiedKFold(y, n_folds=5) #n_folds=6\n",
    "#     classifier = svm.Lo(kernel='linear', probability=True,random_state=random_state)\n",
    "\n",
    "    mean_tpr = 0.0\n",
    "    mean_fpr = np.linspace(0, 1, 100)\n",
    "    all_tpr = []\n",
    "\n",
    "    for i, (train, test) in enumerate(skf_cv):\n",
    "        model = fitter.fit(X.ix[train], y.ix[train])\n",
    "        probas_ = model.predict_proba(X.ix[test])\n",
    "        # Compute ROC curve and area the curve\n",
    "        fpr, tpr, thresholds = roc_curve(y[test], probas_[:, 1])\n",
    "        mean_tpr += interp(mean_fpr, fpr, tpr)\n",
    "        mean_tpr[0] = 0.0\n",
    "        roc_auc = auc(fpr, tpr)\n",
    "        plt.plot(fpr, tpr, lw=1, label='ROC fold %d (area = %0.2f)' % (i, roc_auc))\n",
    "\n",
    "    plt.plot([0, 1], [0, 1], '--', color=(0.6, 0.6, 0.6), label='Luck')\n",
    "\n",
    "    mean_tpr /= len(skf_cv)\n",
    "    mean_tpr[-1] = 1.0\n",
    "    mean_auc = auc(mean_fpr, mean_tpr)\n",
    "    plt.plot(mean_fpr, mean_tpr, 'k--',\n",
    "             label='Mean ROC (area = %0.2f)' % mean_auc, lw=2)\n",
    "\n",
    "    plt.xlim([-0.05, 1.05])\n",
    "    plt.ylim([-0.05, 1.05])\n",
    "    plt.xlabel('False Positive Rate')\n",
    "    plt.ylabel('True Positive Rate')\n",
    "    plt.title('Receiver operating characteristic example')\n",
    "    plt.legend(loc=\"lower right\")\n",
    "    plt.show()\n",
    "    return mean_auc"
   ]
  },
  {
   "cell_type": "markdown",
   "metadata": {},
   "source": [
    "## LOAD DATA"
   ]
  },
  {
   "cell_type": "code",
   "execution_count": 6,
   "metadata": {
    "collapsed": false
   },
   "outputs": [],
   "source": [
    "main_folder = '/ea/Datasets/Kaggle-AcquireValuedShoppersChallenge2/'\n",
    "df_coupons = pd.read_csv(main_folder+'offers')[['offer','category','company','brand','offervalue','quantity']]\n",
    "df_offers_ids = pd.read_csv(main_folder+'trainHistory').rename(columns={'id': 'customer_id'})\n",
    "df_trans_all = pd.read_csv(main_folder+'transactions_reduced_customer_category').rename(columns={'id': 'customer_id'})"
   ]
  },
  {
   "cell_type": "code",
   "execution_count": 99,
   "metadata": {
    "collapsed": false
   },
   "outputs": [],
   "source": [
    "df_offers_all = pd.merge(df_offers_ids, df_coupons, on=['offer'])\n",
    "df_offers_all = df_offers_all[['customer_id','chain','offer','market','category','company','brand','offerdate','offervalue','quantity','repeattrips','repeater']]\n",
    "# df_offers.set_index('customer_id',inplace=True)"
   ]
  },
  {
   "cell_type": "code",
   "execution_count": 100,
   "metadata": {
    "collapsed": false
   },
   "outputs": [
    {
     "data": {
      "text/html": [
       "<div>\n",
       "<table border=\"1\" class=\"dataframe\">\n",
       "  <thead>\n",
       "    <tr style=\"text-align: right;\">\n",
       "      <th></th>\n",
       "      <th>offer</th>\n",
       "      <th>category</th>\n",
       "      <th>company</th>\n",
       "      <th>brand</th>\n",
       "      <th>offervalue</th>\n",
       "      <th>quantity</th>\n",
       "    </tr>\n",
       "  </thead>\n",
       "  <tbody>\n",
       "    <tr>\n",
       "      <th>0</th>\n",
       "      <td>1190530</td>\n",
       "      <td>9115</td>\n",
       "      <td>108500080</td>\n",
       "      <td>93904</td>\n",
       "      <td>5.00</td>\n",
       "      <td>1</td>\n",
       "    </tr>\n",
       "    <tr>\n",
       "      <th>1</th>\n",
       "      <td>1194044</td>\n",
       "      <td>9909</td>\n",
       "      <td>107127979</td>\n",
       "      <td>6732</td>\n",
       "      <td>1.00</td>\n",
       "      <td>1</td>\n",
       "    </tr>\n",
       "    <tr>\n",
       "      <th>2</th>\n",
       "      <td>1197502</td>\n",
       "      <td>3203</td>\n",
       "      <td>106414464</td>\n",
       "      <td>13474</td>\n",
       "      <td>0.75</td>\n",
       "      <td>1</td>\n",
       "    </tr>\n",
       "    <tr>\n",
       "      <th>3</th>\n",
       "      <td>1198271</td>\n",
       "      <td>5558</td>\n",
       "      <td>107120272</td>\n",
       "      <td>5072</td>\n",
       "      <td>1.50</td>\n",
       "      <td>1</td>\n",
       "    </tr>\n",
       "    <tr>\n",
       "      <th>4</th>\n",
       "      <td>1198272</td>\n",
       "      <td>5558</td>\n",
       "      <td>107120272</td>\n",
       "      <td>5072</td>\n",
       "      <td>1.50</td>\n",
       "      <td>1</td>\n",
       "    </tr>\n",
       "  </tbody>\n",
       "</table>\n",
       "</div>"
      ],
      "text/plain": [
       "     offer  category    company  brand  offervalue  quantity\n",
       "0  1190530      9115  108500080  93904        5.00         1\n",
       "1  1194044      9909  107127979   6732        1.00         1\n",
       "2  1197502      3203  106414464  13474        0.75         1\n",
       "3  1198271      5558  107120272   5072        1.50         1\n",
       "4  1198272      5558  107120272   5072        1.50         1"
      ]
     },
     "execution_count": 100,
     "metadata": {},
     "output_type": "execute_result"
    }
   ],
   "source": [
    "df_coupons.head()"
   ]
  },
  {
   "cell_type": "code",
   "execution_count": 101,
   "metadata": {
    "collapsed": false
   },
   "outputs": [
    {
     "data": {
      "text/html": [
       "<div>\n",
       "<table border=\"1\" class=\"dataframe\">\n",
       "  <thead>\n",
       "    <tr style=\"text-align: right;\">\n",
       "      <th></th>\n",
       "      <th>customer_id</th>\n",
       "      <th>chain</th>\n",
       "      <th>offer</th>\n",
       "      <th>market</th>\n",
       "      <th>category</th>\n",
       "      <th>company</th>\n",
       "      <th>brand</th>\n",
       "      <th>offerdate</th>\n",
       "      <th>offervalue</th>\n",
       "      <th>quantity</th>\n",
       "      <th>repeattrips</th>\n",
       "      <th>repeater</th>\n",
       "    </tr>\n",
       "  </thead>\n",
       "  <tbody>\n",
       "    <tr>\n",
       "      <th>0</th>\n",
       "      <td>86246</td>\n",
       "      <td>205</td>\n",
       "      <td>1208251</td>\n",
       "      <td>34</td>\n",
       "      <td>2202</td>\n",
       "      <td>104460040</td>\n",
       "      <td>3718</td>\n",
       "      <td>2013-04-24</td>\n",
       "      <td>2</td>\n",
       "      <td>1</td>\n",
       "      <td>5</td>\n",
       "      <td>t</td>\n",
       "    </tr>\n",
       "    <tr>\n",
       "      <th>1</th>\n",
       "      <td>15753725</td>\n",
       "      <td>17</td>\n",
       "      <td>1208251</td>\n",
       "      <td>4</td>\n",
       "      <td>2202</td>\n",
       "      <td>104460040</td>\n",
       "      <td>3718</td>\n",
       "      <td>2013-04-24</td>\n",
       "      <td>2</td>\n",
       "      <td>1</td>\n",
       "      <td>0</td>\n",
       "      <td>f</td>\n",
       "    </tr>\n",
       "    <tr>\n",
       "      <th>2</th>\n",
       "      <td>16535563</td>\n",
       "      <td>4</td>\n",
       "      <td>1208251</td>\n",
       "      <td>1</td>\n",
       "      <td>2202</td>\n",
       "      <td>104460040</td>\n",
       "      <td>3718</td>\n",
       "      <td>2013-04-27</td>\n",
       "      <td>2</td>\n",
       "      <td>1</td>\n",
       "      <td>7</td>\n",
       "      <td>t</td>\n",
       "    </tr>\n",
       "    <tr>\n",
       "      <th>3</th>\n",
       "      <td>18259179</td>\n",
       "      <td>3</td>\n",
       "      <td>1208251</td>\n",
       "      <td>2</td>\n",
       "      <td>2202</td>\n",
       "      <td>104460040</td>\n",
       "      <td>3718</td>\n",
       "      <td>2013-04-24</td>\n",
       "      <td>2</td>\n",
       "      <td>1</td>\n",
       "      <td>0</td>\n",
       "      <td>f</td>\n",
       "    </tr>\n",
       "    <tr>\n",
       "      <th>4</th>\n",
       "      <td>21024070</td>\n",
       "      <td>15</td>\n",
       "      <td>1208251</td>\n",
       "      <td>9</td>\n",
       "      <td>2202</td>\n",
       "      <td>104460040</td>\n",
       "      <td>3718</td>\n",
       "      <td>2013-04-23</td>\n",
       "      <td>2</td>\n",
       "      <td>1</td>\n",
       "      <td>1</td>\n",
       "      <td>t</td>\n",
       "    </tr>\n",
       "  </tbody>\n",
       "</table>\n",
       "</div>"
      ],
      "text/plain": [
       "   customer_id  chain    offer  market  category    company  brand  \\\n",
       "0        86246    205  1208251      34      2202  104460040   3718   \n",
       "1     15753725     17  1208251       4      2202  104460040   3718   \n",
       "2     16535563      4  1208251       1      2202  104460040   3718   \n",
       "3     18259179      3  1208251       2      2202  104460040   3718   \n",
       "4     21024070     15  1208251       9      2202  104460040   3718   \n",
       "\n",
       "    offerdate  offervalue  quantity  repeattrips repeater  \n",
       "0  2013-04-24           2         1            5        t  \n",
       "1  2013-04-24           2         1            0        f  \n",
       "2  2013-04-27           2         1            7        t  \n",
       "3  2013-04-24           2         1            0        f  \n",
       "4  2013-04-23           2         1            1        t  "
      ]
     },
     "execution_count": 101,
     "metadata": {},
     "output_type": "execute_result"
    }
   ],
   "source": [
    "df_offers_all.head()"
   ]
  },
  {
   "cell_type": "code",
   "execution_count": 102,
   "metadata": {
    "collapsed": false
   },
   "outputs": [
    {
     "ename": "NameError",
     "evalue": "name 'df_trans_all' is not defined",
     "output_type": "error",
     "traceback": [
      "\u001b[1;31m---------------------------------------------------------------------------\u001b[0m",
      "\u001b[1;31mNameError\u001b[0m                                 Traceback (most recent call last)",
      "\u001b[1;32m<ipython-input-102-23e20634ac36>\u001b[0m in \u001b[0;36m<module>\u001b[1;34m()\u001b[0m\n\u001b[1;32m----> 1\u001b[1;33m \u001b[0mdf_trans_all\u001b[0m\u001b[1;33m.\u001b[0m\u001b[0mhead\u001b[0m\u001b[1;33m(\u001b[0m\u001b[1;33m)\u001b[0m\u001b[1;33m\u001b[0m\u001b[0m\n\u001b[0m",
      "\u001b[1;31mNameError\u001b[0m: name 'df_trans_all' is not defined"
     ]
    }
   ],
   "source": [
    "df_trans_all.head()"
   ]
  },
  {
   "cell_type": "code",
   "execution_count": 103,
   "metadata": {
    "collapsed": false
   },
   "outputs": [
    {
     "name": "stderr",
     "output_type": "stream",
     "text": [
      "/root/.pyenv/versions/2.7.9/envs/2.7.9-analytics2/lib/python2.7/site-packages/ipykernel/__main__.py:1: FutureWarning: order is deprecated, use sort_values(...)\n",
      "  if __name__ == '__main__':\n"
     ]
    },
    {
     "data": {
      "text/plain": [
       "<matplotlib.axes._subplots.AxesSubplot at 0x7f82abfdff10>"
      ]
     },
     "execution_count": 103,
     "metadata": {},
     "output_type": "execute_result"
    },
    {
     "data": {
      "image/png": "[encoded data removed]",
      "text/plain": [
       "<matplotlib.figure.Figure at 0x7f82abbccd50>"
      ]
     },
     "metadata": {},
     "output_type": "display_data"
    }
   ],
   "source": [
    "offer_counts = df_offers_all.groupby(by='offer').count().customer_id.order(ascending=False)\n",
    "sns.barplot(y=offer_counts.index.values, x=offer_counts.values, orient='h')"
   ]
  },
  {
   "cell_type": "markdown",
   "metadata": {},
   "source": [
    "## FILTER DATA"
   ]
  },
  {
   "cell_type": "code",
   "execution_count": 104,
   "metadata": {
    "collapsed": true
   },
   "outputs": [
    {
     "ename": "NameError",
     "evalue": "name 'df_trans_all' is not defined",
     "output_type": "error",
     "traceback": [
      "\u001b[1;31m---------------------------------------------------------------------------\u001b[0m",
      "\u001b[1;31mNameError\u001b[0m                                 Traceback (most recent call last)",
      "\u001b[1;32m<ipython-input-104-0421233dcc0a>\u001b[0m in \u001b[0;36m<module>\u001b[1;34m()\u001b[0m\n\u001b[1;32m----> 1\u001b[1;33m \u001b[0mdf_trans\u001b[0m \u001b[1;33m=\u001b[0m \u001b[0mdf_trans_all\u001b[0m\u001b[1;31m#[0:3000000]\u001b[0m\u001b[1;33m\u001b[0m\u001b[0m\n\u001b[0m",
      "\u001b[1;31mNameError\u001b[0m: name 'df_trans_all' is not defined"
     ]
    }
   ],
   "source": [
    "df_trans = df_trans_all#[0:3000000]"
   ]
  },
  {
   "cell_type": "code",
   "execution_count": 1,
   "metadata": {
    "collapsed": false
   },
   "outputs": [
    {
     "ename": "NameError",
     "evalue": "name 'df_offers_all' is not defined",
     "output_type": "error",
     "traceback": [
      "\u001b[1;31m---------------------------------------------------------------------------\u001b[0m",
      "\u001b[1;31mNameError\u001b[0m                                 Traceback (most recent call last)",
      "\u001b[1;32m<ipython-input-1-e3cdff3d5369>\u001b[0m in \u001b[0;36m<module>\u001b[1;34m()\u001b[0m\n\u001b[1;32m----> 1\u001b[1;33m \u001b[0mdf_offers\u001b[0m \u001b[1;33m=\u001b[0m \u001b[0mdf_offers_all\u001b[0m\u001b[1;33m[\u001b[0m\u001b[0mdf_offers_all\u001b[0m\u001b[1;33m.\u001b[0m\u001b[0moffer\u001b[0m\u001b[1;33m==\u001b[0m\u001b[1;36m1208503\u001b[0m\u001b[1;33m]\u001b[0m\u001b[1;33m\u001b[0m\u001b[0m\n\u001b[0m",
      "\u001b[1;31mNameError\u001b[0m: name 'df_offers_all' is not defined"
     ]
    }
   ],
   "source": [
    "df_offers = df_offers_all[df_offers_all.offer==1208503]"
   ]
  },
  {
   "cell_type": "code",
   "execution_count": 110,
   "metadata": {
    "collapsed": false
   },
   "outputs": [
    {
     "data": {
      "text/plain": [
       "(159700, 8420912, 2413, 2413)"
      ]
     },
     "execution_count": 110,
     "metadata": {},
     "output_type": "execute_result"
    }
   ],
   "source": [
    "len(df_trans.customer_id.unique()), len(df_trans.customer_id),  len(df_offers.customer_id.unique()),len(df_offers.customer_id), "
   ]
  },
  {
   "cell_type": "markdown",
   "metadata": {},
   "source": [
    "### SPLIT TRAIN-TEST"
   ]
  },
  {
   "cell_type": "code",
   "execution_count": 111,
   "metadata": {
    "collapsed": false,
    "scrolled": true
   },
   "outputs": [
    {
     "data": {
      "text/plain": [
       "(1809, 604)"
      ]
     },
     "execution_count": 111,
     "metadata": {},
     "output_type": "execute_result"
    }
   ],
   "source": [
    "df_offers_train, df_offers_test = train_test_split(df_offers)\n",
    "len(df_offers_train),len(df_offers_test)"
   ]
  },
  {
   "cell_type": "markdown",
   "metadata": {},
   "source": [
    "## FEATURE EXTRACTION"
   ]
  },
  {
   "cell_type": "markdown",
   "metadata": {},
   "source": [
    "### AGGREGATE TRANSCATIONS"
   ]
  },
  {
   "cell_type": "code",
   "execution_count": 20,
   "metadata": {
    "collapsed": false
   },
   "outputs": [],
   "source": [
    "summ_grouping = {'total':np.sum, 'average':np.average }\n",
    "count_grouping = {'count':np.count_nonzero }"
   ]
  },
  {
   "cell_type": "code",
   "execution_count": 21,
   "metadata": {
    "collapsed": false
   },
   "outputs": [],
   "source": [
    "count_agg = partial(get_agg, grp_columns=['customer_id'], grouping=count_grouping)\n",
    "total_avg_agg = partial(get_agg, grp_columns=['productsize','purchasequantity','purchaseamount'], grouping=summ_grouping)"
   ]
  },
  {
   "cell_type": "code",
   "execution_count": 22,
   "metadata": {
    "collapsed": false
   },
   "outputs": [
    {
     "data": {
      "text/html": [
       "<div>\n",
       "<table border=\"1\" class=\"dataframe\">\n",
       "  <thead>\n",
       "    <tr style=\"text-align: right;\">\n",
       "      <th></th>\n",
       "      <th>customer_id</th>\n",
       "      <th>brand</th>\n",
       "      <th>agg_productsize_customer_id_brand_average</th>\n",
       "      <th>agg_productsize_customer_id_brand_total</th>\n",
       "      <th>agg_customer_id_customer_id_brand_count</th>\n",
       "      <th>agg_purchaseamount_customer_id_brand_average</th>\n",
       "      <th>agg_purchaseamount_customer_id_brand_total</th>\n",
       "      <th>agg_purchasequantity_customer_id_brand_average</th>\n",
       "      <th>agg_purchasequantity_customer_id_brand_total</th>\n",
       "    </tr>\n",
       "  </thead>\n",
       "  <tbody>\n",
       "    <tr>\n",
       "      <th>0</th>\n",
       "      <td>86246</td>\n",
       "      <td>304</td>\n",
       "      <td>12</td>\n",
       "      <td>36</td>\n",
       "      <td>3</td>\n",
       "      <td>5.156667</td>\n",
       "      <td>15.47</td>\n",
       "      <td>1.000000</td>\n",
       "      <td>3</td>\n",
       "    </tr>\n",
       "    <tr>\n",
       "      <th>1</th>\n",
       "      <td>86246</td>\n",
       "      <td>305</td>\n",
       "      <td>6</td>\n",
       "      <td>18</td>\n",
       "      <td>3</td>\n",
       "      <td>1.650000</td>\n",
       "      <td>4.95</td>\n",
       "      <td>1.666667</td>\n",
       "      <td>5</td>\n",
       "    </tr>\n",
       "    <tr>\n",
       "      <th>2</th>\n",
       "      <td>86246</td>\n",
       "      <td>330</td>\n",
       "      <td>20</td>\n",
       "      <td>60</td>\n",
       "      <td>3</td>\n",
       "      <td>1.923333</td>\n",
       "      <td>5.77</td>\n",
       "      <td>1.000000</td>\n",
       "      <td>3</td>\n",
       "    </tr>\n",
       "    <tr>\n",
       "      <th>3</th>\n",
       "      <td>86246</td>\n",
       "      <td>401</td>\n",
       "      <td>50</td>\n",
       "      <td>50</td>\n",
       "      <td>1</td>\n",
       "      <td>6.590000</td>\n",
       "      <td>6.59</td>\n",
       "      <td>1.000000</td>\n",
       "      <td>1</td>\n",
       "    </tr>\n",
       "    <tr>\n",
       "      <th>4</th>\n",
       "      <td>86246</td>\n",
       "      <td>867</td>\n",
       "      <td>44</td>\n",
       "      <td>220</td>\n",
       "      <td>5</td>\n",
       "      <td>1.728000</td>\n",
       "      <td>8.64</td>\n",
       "      <td>1.200000</td>\n",
       "      <td>6</td>\n",
       "    </tr>\n",
       "  </tbody>\n",
       "</table>\n",
       "</div>"
      ],
      "text/plain": [
       "   customer_id  brand  agg_productsize_customer_id_brand_average  \\\n",
       "0        86246    304                                         12   \n",
       "1        86246    305                                          6   \n",
       "2        86246    330                                         20   \n",
       "3        86246    401                                         50   \n",
       "4        86246    867                                         44   \n",
       "\n",
       "   agg_productsize_customer_id_brand_total  \\\n",
       "0                                       36   \n",
       "1                                       18   \n",
       "2                                       60   \n",
       "3                                       50   \n",
       "4                                      220   \n",
       "\n",
       "   agg_customer_id_customer_id_brand_count  \\\n",
       "0                                        3   \n",
       "1                                        3   \n",
       "2                                        3   \n",
       "3                                        1   \n",
       "4                                        5   \n",
       "\n",
       "   agg_purchaseamount_customer_id_brand_average  \\\n",
       "0                                      5.156667   \n",
       "1                                      1.650000   \n",
       "2                                      1.923333   \n",
       "3                                      6.590000   \n",
       "4                                      1.728000   \n",
       "\n",
       "   agg_purchaseamount_customer_id_brand_total  \\\n",
       "0                                       15.47   \n",
       "1                                        4.95   \n",
       "2                                        5.77   \n",
       "3                                        6.59   \n",
       "4                                        8.64   \n",
       "\n",
       "   agg_purchasequantity_customer_id_brand_average  \\\n",
       "0                                        1.000000   \n",
       "1                                        1.666667   \n",
       "2                                        1.000000   \n",
       "3                                        1.000000   \n",
       "4                                        1.200000   \n",
       "\n",
       "   agg_purchasequantity_customer_id_brand_total  \n",
       "0                                             3  \n",
       "1                                             5  \n",
       "2                                             3  \n",
       "3                                             1  \n",
       "4                                             6  "
      ]
     },
     "execution_count": 22,
     "metadata": {},
     "output_type": "execute_result"
    }
   ],
   "source": [
    "grpby_columns = ['customer_id','brand']\n",
    "\n",
    "df_trans_grp_customer_brand = df_trans.groupby(by=grpby_columns, axis=0) \\\n",
    "                               .agg(merge_dicts(count_agg(grpby_columns), \\\n",
    "                                                total_avg_agg(grpby_columns)))    \n",
    "    \n",
    "df_trans_grp_customer_brand.columns = flatten_columns(df_trans_grp_customer_brand,prefix='agg_')\n",
    "df_trans_grp_customer_brand = df_trans_grp_customer_brand.reset_index()#.set_index('customer_id')\n",
    "df_trans_grp_customer_brand.head()\n"
   ]
  },
  {
   "cell_type": "code",
   "execution_count": 23,
   "metadata": {
    "collapsed": false
   },
   "outputs": [
    {
     "name": "stdout",
     "output_type": "stream",
     "text": [
      "1689\n",
      "2220514\n"
     ]
    }
   ],
   "source": [
    "print len(df_trans_grp_customer_brand.brand.unique())\n",
    "print len(df_trans_grp_customer_brand)"
   ]
  },
  {
   "cell_type": "code",
   "execution_count": 24,
   "metadata": {
    "collapsed": false
   },
   "outputs": [
    {
     "data": {
      "text/html": [
       "<div>\n",
       "<table border=\"1\" class=\"dataframe\">\n",
       "  <thead>\n",
       "    <tr style=\"text-align: right;\">\n",
       "      <th></th>\n",
       "      <th>customer_id</th>\n",
       "      <th>category</th>\n",
       "      <th>agg_productsize_customer_id_category_total</th>\n",
       "      <th>agg_productsize_customer_id_category_average</th>\n",
       "      <th>agg_customer_id_customer_id_category_count</th>\n",
       "      <th>agg_purchaseamount_customer_id_category_total</th>\n",
       "      <th>agg_purchaseamount_customer_id_category_average</th>\n",
       "      <th>agg_purchasequantity_customer_id_category_total</th>\n",
       "      <th>agg_purchasequantity_customer_id_category_average</th>\n",
       "    </tr>\n",
       "  </thead>\n",
       "  <tbody>\n",
       "    <tr>\n",
       "      <th>0</th>\n",
       "      <td>86246</td>\n",
       "      <td>706</td>\n",
       "      <td>441.0</td>\n",
       "      <td>49.000000</td>\n",
       "      <td>9</td>\n",
       "      <td>37.38</td>\n",
       "      <td>4.153333</td>\n",
       "      <td>10</td>\n",
       "      <td>1.111111</td>\n",
       "    </tr>\n",
       "    <tr>\n",
       "      <th>1</th>\n",
       "      <td>86246</td>\n",
       "      <td>1703</td>\n",
       "      <td>470.5</td>\n",
       "      <td>31.366667</td>\n",
       "      <td>15</td>\n",
       "      <td>57.64</td>\n",
       "      <td>3.842667</td>\n",
       "      <td>18</td>\n",
       "      <td>1.200000</td>\n",
       "    </tr>\n",
       "    <tr>\n",
       "      <th>2</th>\n",
       "      <td>86246</td>\n",
       "      <td>1726</td>\n",
       "      <td>230.0</td>\n",
       "      <td>57.500000</td>\n",
       "      <td>4</td>\n",
       "      <td>12.18</td>\n",
       "      <td>3.045000</td>\n",
       "      <td>4</td>\n",
       "      <td>1.000000</td>\n",
       "    </tr>\n",
       "    <tr>\n",
       "      <th>3</th>\n",
       "      <td>86246</td>\n",
       "      <td>2119</td>\n",
       "      <td>1224.6</td>\n",
       "      <td>43.735714</td>\n",
       "      <td>28</td>\n",
       "      <td>63.66</td>\n",
       "      <td>2.273571</td>\n",
       "      <td>38</td>\n",
       "      <td>1.357143</td>\n",
       "    </tr>\n",
       "    <tr>\n",
       "      <th>4</th>\n",
       "      <td>86246</td>\n",
       "      <td>3203</td>\n",
       "      <td>79.0</td>\n",
       "      <td>5.266667</td>\n",
       "      <td>15</td>\n",
       "      <td>41.66</td>\n",
       "      <td>2.777333</td>\n",
       "      <td>15</td>\n",
       "      <td>1.000000</td>\n",
       "    </tr>\n",
       "  </tbody>\n",
       "</table>\n",
       "</div>"
      ],
      "text/plain": [
       "   customer_id  category  agg_productsize_customer_id_category_total  \\\n",
       "0        86246       706                                       441.0   \n",
       "1        86246      1703                                       470.5   \n",
       "2        86246      1726                                       230.0   \n",
       "3        86246      2119                                      1224.6   \n",
       "4        86246      3203                                        79.0   \n",
       "\n",
       "   agg_productsize_customer_id_category_average  \\\n",
       "0                                     49.000000   \n",
       "1                                     31.366667   \n",
       "2                                     57.500000   \n",
       "3                                     43.735714   \n",
       "4                                      5.266667   \n",
       "\n",
       "   agg_customer_id_customer_id_category_count  \\\n",
       "0                                           9   \n",
       "1                                          15   \n",
       "2                                           4   \n",
       "3                                          28   \n",
       "4                                          15   \n",
       "\n",
       "   agg_purchaseamount_customer_id_category_total  \\\n",
       "0                                          37.38   \n",
       "1                                          57.64   \n",
       "2                                          12.18   \n",
       "3                                          63.66   \n",
       "4                                          41.66   \n",
       "\n",
       "   agg_purchaseamount_customer_id_category_average  \\\n",
       "0                                         4.153333   \n",
       "1                                         3.842667   \n",
       "2                                         3.045000   \n",
       "3                                         2.273571   \n",
       "4                                         2.777333   \n",
       "\n",
       "   agg_purchasequantity_customer_id_category_total  \\\n",
       "0                                               10   \n",
       "1                                               18   \n",
       "2                                                4   \n",
       "3                                               38   \n",
       "4                                               15   \n",
       "\n",
       "   agg_purchasequantity_customer_id_category_average  \n",
       "0                                           1.111111  \n",
       "1                                           1.200000  \n",
       "2                                           1.000000  \n",
       "3                                           1.357143  \n",
       "4                                           1.000000  "
      ]
     },
     "execution_count": 24,
     "metadata": {},
     "output_type": "execute_result"
    }
   ],
   "source": [
    "grpby_columns = ['customer_id','category']\n",
    "grp_columns = ['purchaseamount']\n",
    "\n",
    "df_trans_grp_customer_category = df_trans.groupby(by=grpby_columns, axis=0) \\\n",
    "                                         .agg(merge_dicts(count_agg(grpby_columns), \\\n",
    "                                              total_avg_agg(grpby_columns))) \n",
    "    \n",
    "df_trans_grp_customer_category.columns = flatten_columns(df_trans_grp_customer_category, prefix='agg_')\n",
    "df_trans_grp_customer_category = df_trans_grp_customer_category.reset_index()#.set_index('customer_id')\n",
    "df_trans_grp_customer_category.head()\n",
    "\n"
   ]
  },
  {
   "cell_type": "code",
   "execution_count": 25,
   "metadata": {
    "collapsed": false
   },
   "outputs": [
    {
     "name": "stdout",
     "output_type": "stream",
     "text": [
      "1247483\n"
     ]
    }
   ],
   "source": [
    "print len(df_trans_grp_customer_category)"
   ]
  },
  {
   "cell_type": "code",
   "execution_count": 26,
   "metadata": {
    "collapsed": false
   },
   "outputs": [
    {
     "data": {
      "text/html": [
       "<div>\n",
       "<table border=\"1\" class=\"dataframe\">\n",
       "  <thead>\n",
       "    <tr style=\"text-align: right;\">\n",
       "      <th></th>\n",
       "      <th>customer_id</th>\n",
       "      <th>dept</th>\n",
       "      <th>agg_productsize_customer_id_dept_average</th>\n",
       "      <th>agg_productsize_customer_id_dept_total</th>\n",
       "      <th>agg_customer_id_customer_id_dept_count</th>\n",
       "      <th>agg_purchaseamount_customer_id_dept_average</th>\n",
       "      <th>agg_purchaseamount_customer_id_dept_total</th>\n",
       "      <th>agg_purchasequantity_customer_id_dept_average</th>\n",
       "      <th>agg_purchasequantity_customer_id_dept_total</th>\n",
       "    </tr>\n",
       "  </thead>\n",
       "  <tbody>\n",
       "    <tr>\n",
       "      <th>0</th>\n",
       "      <td>86246</td>\n",
       "      <td>7</td>\n",
       "      <td>49.000000</td>\n",
       "      <td>441.00</td>\n",
       "      <td>9</td>\n",
       "      <td>4.153333</td>\n",
       "      <td>37.38</td>\n",
       "      <td>1.111111</td>\n",
       "      <td>10</td>\n",
       "    </tr>\n",
       "    <tr>\n",
       "      <th>1</th>\n",
       "      <td>86246</td>\n",
       "      <td>17</td>\n",
       "      <td>36.868421</td>\n",
       "      <td>700.50</td>\n",
       "      <td>19</td>\n",
       "      <td>3.674737</td>\n",
       "      <td>69.82</td>\n",
       "      <td>1.157895</td>\n",
       "      <td>22</td>\n",
       "    </tr>\n",
       "    <tr>\n",
       "      <th>2</th>\n",
       "      <td>86246</td>\n",
       "      <td>21</td>\n",
       "      <td>43.735714</td>\n",
       "      <td>1224.60</td>\n",
       "      <td>28</td>\n",
       "      <td>2.273571</td>\n",
       "      <td>63.66</td>\n",
       "      <td>1.357143</td>\n",
       "      <td>38</td>\n",
       "    </tr>\n",
       "    <tr>\n",
       "      <th>3</th>\n",
       "      <td>86246</td>\n",
       "      <td>32</td>\n",
       "      <td>5.266667</td>\n",
       "      <td>79.00</td>\n",
       "      <td>15</td>\n",
       "      <td>2.777333</td>\n",
       "      <td>41.66</td>\n",
       "      <td>1.000000</td>\n",
       "      <td>15</td>\n",
       "    </tr>\n",
       "    <tr>\n",
       "      <th>4</th>\n",
       "      <td>86246</td>\n",
       "      <td>35</td>\n",
       "      <td>39.182941</td>\n",
       "      <td>3996.66</td>\n",
       "      <td>102</td>\n",
       "      <td>3.289706</td>\n",
       "      <td>335.55</td>\n",
       "      <td>1.333333</td>\n",
       "      <td>136</td>\n",
       "    </tr>\n",
       "  </tbody>\n",
       "</table>\n",
       "</div>"
      ],
      "text/plain": [
       "   customer_id  dept  agg_productsize_customer_id_dept_average  \\\n",
       "0        86246     7                                 49.000000   \n",
       "1        86246    17                                 36.868421   \n",
       "2        86246    21                                 43.735714   \n",
       "3        86246    32                                  5.266667   \n",
       "4        86246    35                                 39.182941   \n",
       "\n",
       "   agg_productsize_customer_id_dept_total  \\\n",
       "0                                  441.00   \n",
       "1                                  700.50   \n",
       "2                                 1224.60   \n",
       "3                                   79.00   \n",
       "4                                 3996.66   \n",
       "\n",
       "   agg_customer_id_customer_id_dept_count  \\\n",
       "0                                       9   \n",
       "1                                      19   \n",
       "2                                      28   \n",
       "3                                      15   \n",
       "4                                     102   \n",
       "\n",
       "   agg_purchaseamount_customer_id_dept_average  \\\n",
       "0                                     4.153333   \n",
       "1                                     3.674737   \n",
       "2                                     2.273571   \n",
       "3                                     2.777333   \n",
       "4                                     3.289706   \n",
       "\n",
       "   agg_purchaseamount_customer_id_dept_total  \\\n",
       "0                                      37.38   \n",
       "1                                      69.82   \n",
       "2                                      63.66   \n",
       "3                                      41.66   \n",
       "4                                     335.55   \n",
       "\n",
       "   agg_purchasequantity_customer_id_dept_average  \\\n",
       "0                                       1.111111   \n",
       "1                                       1.157895   \n",
       "2                                       1.357143   \n",
       "3                                       1.000000   \n",
       "4                                       1.333333   \n",
       "\n",
       "   agg_purchasequantity_customer_id_dept_total  \n",
       "0                                           10  \n",
       "1                                           22  \n",
       "2                                           38  \n",
       "3                                           15  \n",
       "4                                          136  "
      ]
     },
     "execution_count": 26,
     "metadata": {},
     "output_type": "execute_result"
    }
   ],
   "source": [
    "grpby_columns = ['customer_id','dept']\n",
    "grp_columns = ['productsize','purchaseamount']\n",
    "\n",
    "df_trans_grp_customer_dept = df_trans.groupby(by=grpby_columns, axis=0) \\\n",
    "                                     .agg(merge_dicts(count_agg(grpby_columns), \\\n",
    "                                          total_avg_agg(grpby_columns))) \n",
    "    \n",
    "df_trans_grp_customer_dept.columns = flatten_columns(df_trans_grp_customer_dept, prefix='agg_')\n",
    "df_trans_grp_customer_dept = df_trans_grp_customer_dept.reset_index()#.set_index('customer_id')\n",
    "df_trans_grp_customer_dept.head()"
   ]
  },
  {
   "cell_type": "markdown",
   "metadata": {},
   "source": [
    "### MERGE FEATURES TO ONE TABLE"
   ]
  },
  {
   "cell_type": "code",
   "execution_count": 112,
   "metadata": {
    "collapsed": false
   },
   "outputs": [
    {
     "name": "stdout",
     "output_type": "stream",
     "text": [
      "2413\n"
     ]
    },
    {
     "data": {
      "text/html": [
       "<div>\n",
       "<table border=\"1\" class=\"dataframe\">\n",
       "  <thead>\n",
       "    <tr style=\"text-align: right;\">\n",
       "      <th></th>\n",
       "      <th>customer_id</th>\n",
       "      <th>chain</th>\n",
       "      <th>offer</th>\n",
       "      <th>market</th>\n",
       "      <th>category</th>\n",
       "      <th>company</th>\n",
       "      <th>brand</th>\n",
       "      <th>offerdate</th>\n",
       "      <th>offervalue</th>\n",
       "      <th>quantity</th>\n",
       "      <th>repeattrips</th>\n",
       "      <th>repeater</th>\n",
       "    </tr>\n",
       "  </thead>\n",
       "  <tbody>\n",
       "    <tr>\n",
       "      <th>122523</th>\n",
       "      <td>203870922</td>\n",
       "      <td>96</td>\n",
       "      <td>1208503</td>\n",
       "      <td>27</td>\n",
       "      <td>6202</td>\n",
       "      <td>1087744888</td>\n",
       "      <td>64486</td>\n",
       "      <td>2013-04-24</td>\n",
       "      <td>1.5</td>\n",
       "      <td>1</td>\n",
       "      <td>0</td>\n",
       "      <td>f</td>\n",
       "    </tr>\n",
       "    <tr>\n",
       "      <th>122524</th>\n",
       "      <td>241826116</td>\n",
       "      <td>96</td>\n",
       "      <td>1208503</td>\n",
       "      <td>27</td>\n",
       "      <td>6202</td>\n",
       "      <td>1087744888</td>\n",
       "      <td>64486</td>\n",
       "      <td>2013-04-24</td>\n",
       "      <td>1.5</td>\n",
       "      <td>1</td>\n",
       "      <td>0</td>\n",
       "      <td>f</td>\n",
       "    </tr>\n",
       "    <tr>\n",
       "      <th>122525</th>\n",
       "      <td>241917653</td>\n",
       "      <td>96</td>\n",
       "      <td>1208503</td>\n",
       "      <td>27</td>\n",
       "      <td>6202</td>\n",
       "      <td>1087744888</td>\n",
       "      <td>64486</td>\n",
       "      <td>2013-04-27</td>\n",
       "      <td>1.5</td>\n",
       "      <td>1</td>\n",
       "      <td>0</td>\n",
       "      <td>f</td>\n",
       "    </tr>\n",
       "    <tr>\n",
       "      <th>122526</th>\n",
       "      <td>245103878</td>\n",
       "      <td>241</td>\n",
       "      <td>1208503</td>\n",
       "      <td>16</td>\n",
       "      <td>6202</td>\n",
       "      <td>1087744888</td>\n",
       "      <td>64486</td>\n",
       "      <td>2013-04-25</td>\n",
       "      <td>1.5</td>\n",
       "      <td>1</td>\n",
       "      <td>0</td>\n",
       "      <td>f</td>\n",
       "    </tr>\n",
       "    <tr>\n",
       "      <th>122527</th>\n",
       "      <td>245128847</td>\n",
       "      <td>240</td>\n",
       "      <td>1208503</td>\n",
       "      <td>12</td>\n",
       "      <td>6202</td>\n",
       "      <td>1087744888</td>\n",
       "      <td>64486</td>\n",
       "      <td>2013-04-29</td>\n",
       "      <td>1.5</td>\n",
       "      <td>1</td>\n",
       "      <td>1</td>\n",
       "      <td>t</td>\n",
       "    </tr>\n",
       "  </tbody>\n",
       "</table>\n",
       "</div>"
      ],
      "text/plain": [
       "        customer_id  chain    offer  market  category     company  brand  \\\n",
       "122523    203870922     96  1208503      27      6202  1087744888  64486   \n",
       "122524    241826116     96  1208503      27      6202  1087744888  64486   \n",
       "122525    241917653     96  1208503      27      6202  1087744888  64486   \n",
       "122526    245103878    241  1208503      16      6202  1087744888  64486   \n",
       "122527    245128847    240  1208503      12      6202  1087744888  64486   \n",
       "\n",
       "         offerdate  offervalue  quantity  repeattrips repeater  \n",
       "122523  2013-04-24         1.5         1            0        f  \n",
       "122524  2013-04-24         1.5         1            0        f  \n",
       "122525  2013-04-27         1.5         1            0        f  \n",
       "122526  2013-04-25         1.5         1            0        f  \n",
       "122527  2013-04-29         1.5         1            1        t  "
      ]
     },
     "execution_count": 112,
     "metadata": {},
     "output_type": "execute_result"
    }
   ],
   "source": [
    "print len(df_offers)\n",
    "df_offers.head()"
   ]
  },
  {
   "cell_type": "code",
   "execution_count": 113,
   "metadata": {
    "collapsed": false
   },
   "outputs": [
    {
     "data": {
      "text/html": [
       "<div>\n",
       "<table border=\"1\" class=\"dataframe\">\n",
       "  <thead>\n",
       "    <tr style=\"text-align: right;\">\n",
       "      <th></th>\n",
       "      <th>customer_id</th>\n",
       "      <th>chain</th>\n",
       "      <th>offer</th>\n",
       "      <th>market</th>\n",
       "      <th>category</th>\n",
       "      <th>company</th>\n",
       "      <th>brand</th>\n",
       "      <th>offerdate</th>\n",
       "      <th>offervalue</th>\n",
       "      <th>quantity</th>\n",
       "      <th>repeattrips</th>\n",
       "      <th>repeater</th>\n",
       "      <th>agg_productsize_customer_id_brand_average</th>\n",
       "      <th>agg_productsize_customer_id_brand_total</th>\n",
       "      <th>agg_customer_id_customer_id_brand_count</th>\n",
       "      <th>agg_purchaseamount_customer_id_brand_average</th>\n",
       "      <th>agg_purchaseamount_customer_id_brand_total</th>\n",
       "      <th>agg_purchasequantity_customer_id_brand_average</th>\n",
       "      <th>agg_purchasequantity_customer_id_brand_total</th>\n",
       "    </tr>\n",
       "  </thead>\n",
       "  <tbody>\n",
       "    <tr>\n",
       "      <th>0</th>\n",
       "      <td>245998678</td>\n",
       "      <td>240</td>\n",
       "      <td>1208503</td>\n",
       "      <td>12</td>\n",
       "      <td>6202</td>\n",
       "      <td>1087744888</td>\n",
       "      <td>64486</td>\n",
       "      <td>2013-04-29</td>\n",
       "      <td>1.5</td>\n",
       "      <td>1</td>\n",
       "      <td>0</td>\n",
       "      <td>f</td>\n",
       "      <td>8.8</td>\n",
       "      <td>8.8</td>\n",
       "      <td>1</td>\n",
       "      <td>7.98</td>\n",
       "      <td>7.98</td>\n",
       "      <td>2</td>\n",
       "      <td>2</td>\n",
       "    </tr>\n",
       "    <tr>\n",
       "      <th>1</th>\n",
       "      <td>246201384</td>\n",
       "      <td>240</td>\n",
       "      <td>1208503</td>\n",
       "      <td>12</td>\n",
       "      <td>6202</td>\n",
       "      <td>1087744888</td>\n",
       "      <td>64486</td>\n",
       "      <td>2013-04-25</td>\n",
       "      <td>1.5</td>\n",
       "      <td>1</td>\n",
       "      <td>0</td>\n",
       "      <td>f</td>\n",
       "      <td>8.8</td>\n",
       "      <td>8.8</td>\n",
       "      <td>1</td>\n",
       "      <td>4.99</td>\n",
       "      <td>4.99</td>\n",
       "      <td>2</td>\n",
       "      <td>2</td>\n",
       "    </tr>\n",
       "    <tr>\n",
       "      <th>2</th>\n",
       "      <td>247178052</td>\n",
       "      <td>96</td>\n",
       "      <td>1208503</td>\n",
       "      <td>27</td>\n",
       "      <td>6202</td>\n",
       "      <td>1087744888</td>\n",
       "      <td>64486</td>\n",
       "      <td>2013-04-25</td>\n",
       "      <td>1.5</td>\n",
       "      <td>1</td>\n",
       "      <td>1</td>\n",
       "      <td>t</td>\n",
       "      <td>12.0</td>\n",
       "      <td>24.0</td>\n",
       "      <td>2</td>\n",
       "      <td>5.74</td>\n",
       "      <td>11.48</td>\n",
       "      <td>1</td>\n",
       "      <td>2</td>\n",
       "    </tr>\n",
       "    <tr>\n",
       "      <th>3</th>\n",
       "      <td>253934857</td>\n",
       "      <td>96</td>\n",
       "      <td>1208503</td>\n",
       "      <td>27</td>\n",
       "      <td>6202</td>\n",
       "      <td>1087744888</td>\n",
       "      <td>64486</td>\n",
       "      <td>2013-04-28</td>\n",
       "      <td>1.5</td>\n",
       "      <td>1</td>\n",
       "      <td>10</td>\n",
       "      <td>t</td>\n",
       "      <td>12.0</td>\n",
       "      <td>24.0</td>\n",
       "      <td>2</td>\n",
       "      <td>5.99</td>\n",
       "      <td>11.98</td>\n",
       "      <td>1</td>\n",
       "      <td>2</td>\n",
       "    </tr>\n",
       "    <tr>\n",
       "      <th>4</th>\n",
       "      <td>259885134</td>\n",
       "      <td>240</td>\n",
       "      <td>1208503</td>\n",
       "      <td>12</td>\n",
       "      <td>6202</td>\n",
       "      <td>1087744888</td>\n",
       "      <td>64486</td>\n",
       "      <td>2013-04-24</td>\n",
       "      <td>1.5</td>\n",
       "      <td>1</td>\n",
       "      <td>2</td>\n",
       "      <td>t</td>\n",
       "      <td>17.6</td>\n",
       "      <td>17.6</td>\n",
       "      <td>1</td>\n",
       "      <td>7.38</td>\n",
       "      <td>7.38</td>\n",
       "      <td>2</td>\n",
       "      <td>2</td>\n",
       "    </tr>\n",
       "  </tbody>\n",
       "</table>\n",
       "</div>"
      ],
      "text/plain": [
       "   customer_id  chain    offer  market  category     company  brand  \\\n",
       "0    245998678    240  1208503      12      6202  1087744888  64486   \n",
       "1    246201384    240  1208503      12      6202  1087744888  64486   \n",
       "2    247178052     96  1208503      27      6202  1087744888  64486   \n",
       "3    253934857     96  1208503      27      6202  1087744888  64486   \n",
       "4    259885134    240  1208503      12      6202  1087744888  64486   \n",
       "\n",
       "    offerdate  offervalue  quantity  repeattrips repeater  \\\n",
       "0  2013-04-29         1.5         1            0        f   \n",
       "1  2013-04-25         1.5         1            0        f   \n",
       "2  2013-04-25         1.5         1            1        t   \n",
       "3  2013-04-28         1.5         1           10        t   \n",
       "4  2013-04-24         1.5         1            2        t   \n",
       "\n",
       "   agg_productsize_customer_id_brand_average  \\\n",
       "0                                        8.8   \n",
       "1                                        8.8   \n",
       "2                                       12.0   \n",
       "3                                       12.0   \n",
       "4                                       17.6   \n",
       "\n",
       "   agg_productsize_customer_id_brand_total  \\\n",
       "0                                      8.8   \n",
       "1                                      8.8   \n",
       "2                                     24.0   \n",
       "3                                     24.0   \n",
       "4                                     17.6   \n",
       "\n",
       "   agg_customer_id_customer_id_brand_count  \\\n",
       "0                                        1   \n",
       "1                                        1   \n",
       "2                                        2   \n",
       "3                                        2   \n",
       "4                                        1   \n",
       "\n",
       "   agg_purchaseamount_customer_id_brand_average  \\\n",
       "0                                          7.98   \n",
       "1                                          4.99   \n",
       "2                                          5.74   \n",
       "3                                          5.99   \n",
       "4                                          7.38   \n",
       "\n",
       "   agg_purchaseamount_customer_id_brand_total  \\\n",
       "0                                        7.98   \n",
       "1                                        4.99   \n",
       "2                                       11.48   \n",
       "3                                       11.98   \n",
       "4                                        7.38   \n",
       "\n",
       "   agg_purchasequantity_customer_id_brand_average  \\\n",
       "0                                               2   \n",
       "1                                               2   \n",
       "2                                               1   \n",
       "3                                               1   \n",
       "4                                               2   \n",
       "\n",
       "   agg_purchasequantity_customer_id_brand_total  \n",
       "0                                             2  \n",
       "1                                             2  \n",
       "2                                             2  \n",
       "3                                             2  \n",
       "4                                             2  "
      ]
     },
     "execution_count": 113,
     "metadata": {},
     "output_type": "execute_result"
    }
   ],
   "source": [
    "df_offers_merge1 = df_offers.merge(df_trans_grp_customer_brand, how='inner', on=['customer_id','brand'])\n",
    "df_offers_merge1.head()"
   ]
  },
  {
   "cell_type": "code",
   "execution_count": 114,
   "metadata": {
    "collapsed": false
   },
   "outputs": [
    {
     "data": {
      "text/html": [
       "<div>\n",
       "<table border=\"1\" class=\"dataframe\">\n",
       "  <thead>\n",
       "    <tr style=\"text-align: right;\">\n",
       "      <th></th>\n",
       "      <th>customer_id</th>\n",
       "      <th>chain</th>\n",
       "      <th>offer</th>\n",
       "      <th>market</th>\n",
       "      <th>category</th>\n",
       "      <th>company</th>\n",
       "      <th>brand</th>\n",
       "      <th>offerdate</th>\n",
       "      <th>offervalue</th>\n",
       "      <th>quantity</th>\n",
       "      <th>...</th>\n",
       "      <th>agg_purchaseamount_customer_id_brand_total</th>\n",
       "      <th>agg_purchasequantity_customer_id_brand_average</th>\n",
       "      <th>agg_purchasequantity_customer_id_brand_total</th>\n",
       "      <th>agg_productsize_customer_id_category_total</th>\n",
       "      <th>agg_productsize_customer_id_category_average</th>\n",
       "      <th>agg_customer_id_customer_id_category_count</th>\n",
       "      <th>agg_purchaseamount_customer_id_category_total</th>\n",
       "      <th>agg_purchaseamount_customer_id_category_average</th>\n",
       "      <th>agg_purchasequantity_customer_id_category_total</th>\n",
       "      <th>agg_purchasequantity_customer_id_category_average</th>\n",
       "    </tr>\n",
       "  </thead>\n",
       "  <tbody>\n",
       "    <tr>\n",
       "      <th>0</th>\n",
       "      <td>245998678</td>\n",
       "      <td>240</td>\n",
       "      <td>1208503</td>\n",
       "      <td>12</td>\n",
       "      <td>6202</td>\n",
       "      <td>1087744888</td>\n",
       "      <td>64486</td>\n",
       "      <td>2013-04-29</td>\n",
       "      <td>1.5</td>\n",
       "      <td>1</td>\n",
       "      <td>...</td>\n",
       "      <td>7.98</td>\n",
       "      <td>2</td>\n",
       "      <td>2</td>\n",
       "      <td>64.8</td>\n",
       "      <td>12.960000</td>\n",
       "      <td>5</td>\n",
       "      <td>37.83</td>\n",
       "      <td>7.566000</td>\n",
       "      <td>7</td>\n",
       "      <td>1.4</td>\n",
       "    </tr>\n",
       "    <tr>\n",
       "      <th>1</th>\n",
       "      <td>246201384</td>\n",
       "      <td>240</td>\n",
       "      <td>1208503</td>\n",
       "      <td>12</td>\n",
       "      <td>6202</td>\n",
       "      <td>1087744888</td>\n",
       "      <td>64486</td>\n",
       "      <td>2013-04-25</td>\n",
       "      <td>1.5</td>\n",
       "      <td>1</td>\n",
       "      <td>...</td>\n",
       "      <td>4.99</td>\n",
       "      <td>2</td>\n",
       "      <td>2</td>\n",
       "      <td>40.8</td>\n",
       "      <td>8.160000</td>\n",
       "      <td>5</td>\n",
       "      <td>47.40</td>\n",
       "      <td>9.480000</td>\n",
       "      <td>16</td>\n",
       "      <td>3.2</td>\n",
       "    </tr>\n",
       "    <tr>\n",
       "      <th>2</th>\n",
       "      <td>247178052</td>\n",
       "      <td>96</td>\n",
       "      <td>1208503</td>\n",
       "      <td>27</td>\n",
       "      <td>6202</td>\n",
       "      <td>1087744888</td>\n",
       "      <td>64486</td>\n",
       "      <td>2013-04-25</td>\n",
       "      <td>1.5</td>\n",
       "      <td>1</td>\n",
       "      <td>...</td>\n",
       "      <td>11.48</td>\n",
       "      <td>1</td>\n",
       "      <td>2</td>\n",
       "      <td>42.0</td>\n",
       "      <td>10.500000</td>\n",
       "      <td>4</td>\n",
       "      <td>22.46</td>\n",
       "      <td>5.615000</td>\n",
       "      <td>4</td>\n",
       "      <td>1.0</td>\n",
       "    </tr>\n",
       "    <tr>\n",
       "      <th>3</th>\n",
       "      <td>253934857</td>\n",
       "      <td>96</td>\n",
       "      <td>1208503</td>\n",
       "      <td>27</td>\n",
       "      <td>6202</td>\n",
       "      <td>1087744888</td>\n",
       "      <td>64486</td>\n",
       "      <td>2013-04-28</td>\n",
       "      <td>1.5</td>\n",
       "      <td>1</td>\n",
       "      <td>...</td>\n",
       "      <td>11.98</td>\n",
       "      <td>1</td>\n",
       "      <td>2</td>\n",
       "      <td>69.0</td>\n",
       "      <td>9.857143</td>\n",
       "      <td>7</td>\n",
       "      <td>37.53</td>\n",
       "      <td>5.361429</td>\n",
       "      <td>7</td>\n",
       "      <td>1.0</td>\n",
       "    </tr>\n",
       "    <tr>\n",
       "      <th>4</th>\n",
       "      <td>259885134</td>\n",
       "      <td>240</td>\n",
       "      <td>1208503</td>\n",
       "      <td>12</td>\n",
       "      <td>6202</td>\n",
       "      <td>1087744888</td>\n",
       "      <td>64486</td>\n",
       "      <td>2013-04-24</td>\n",
       "      <td>1.5</td>\n",
       "      <td>1</td>\n",
       "      <td>...</td>\n",
       "      <td>7.38</td>\n",
       "      <td>2</td>\n",
       "      <td>2</td>\n",
       "      <td>25.6</td>\n",
       "      <td>12.800000</td>\n",
       "      <td>2</td>\n",
       "      <td>12.67</td>\n",
       "      <td>6.335000</td>\n",
       "      <td>4</td>\n",
       "      <td>2.0</td>\n",
       "    </tr>\n",
       "  </tbody>\n",
       "</table>\n",
       "<p>5 rows × 26 columns</p>\n",
       "</div>"
      ],
      "text/plain": [
       "   customer_id  chain    offer  market  category     company  brand  \\\n",
       "0    245998678    240  1208503      12      6202  1087744888  64486   \n",
       "1    246201384    240  1208503      12      6202  1087744888  64486   \n",
       "2    247178052     96  1208503      27      6202  1087744888  64486   \n",
       "3    253934857     96  1208503      27      6202  1087744888  64486   \n",
       "4    259885134    240  1208503      12      6202  1087744888  64486   \n",
       "\n",
       "    offerdate  offervalue  quantity  \\\n",
       "0  2013-04-29         1.5         1   \n",
       "1  2013-04-25         1.5         1   \n",
       "2  2013-04-25         1.5         1   \n",
       "3  2013-04-28         1.5         1   \n",
       "4  2013-04-24         1.5         1   \n",
       "\n",
       "                         ...                          \\\n",
       "0                        ...                           \n",
       "1                        ...                           \n",
       "2                        ...                           \n",
       "3                        ...                           \n",
       "4                        ...                           \n",
       "\n",
       "   agg_purchaseamount_customer_id_brand_total  \\\n",
       "0                                        7.98   \n",
       "1                                        4.99   \n",
       "2                                       11.48   \n",
       "3                                       11.98   \n",
       "4                                        7.38   \n",
       "\n",
       "  agg_purchasequantity_customer_id_brand_average  \\\n",
       "0                                              2   \n",
       "1                                              2   \n",
       "2                                              1   \n",
       "3                                              1   \n",
       "4                                              2   \n",
       "\n",
       "   agg_purchasequantity_customer_id_brand_total  \\\n",
       "0                                             2   \n",
       "1                                             2   \n",
       "2                                             2   \n",
       "3                                             2   \n",
       "4                                             2   \n",
       "\n",
       "   agg_productsize_customer_id_category_total  \\\n",
       "0                                        64.8   \n",
       "1                                        40.8   \n",
       "2                                        42.0   \n",
       "3                                        69.0   \n",
       "4                                        25.6   \n",
       "\n",
       "   agg_productsize_customer_id_category_average  \\\n",
       "0                                     12.960000   \n",
       "1                                      8.160000   \n",
       "2                                     10.500000   \n",
       "3                                      9.857143   \n",
       "4                                     12.800000   \n",
       "\n",
       "   agg_customer_id_customer_id_category_count  \\\n",
       "0                                           5   \n",
       "1                                           5   \n",
       "2                                           4   \n",
       "3                                           7   \n",
       "4                                           2   \n",
       "\n",
       "   agg_purchaseamount_customer_id_category_total  \\\n",
       "0                                          37.83   \n",
       "1                                          47.40   \n",
       "2                                          22.46   \n",
       "3                                          37.53   \n",
       "4                                          12.67   \n",
       "\n",
       "   agg_purchaseamount_customer_id_category_average  \\\n",
       "0                                         7.566000   \n",
       "1                                         9.480000   \n",
       "2                                         5.615000   \n",
       "3                                         5.361429   \n",
       "4                                         6.335000   \n",
       "\n",
       "   agg_purchasequantity_customer_id_category_total  \\\n",
       "0                                                7   \n",
       "1                                               16   \n",
       "2                                                4   \n",
       "3                                                7   \n",
       "4                                                4   \n",
       "\n",
       "   agg_purchasequantity_customer_id_category_average  \n",
       "0                                                1.4  \n",
       "1                                                3.2  \n",
       "2                                                1.0  \n",
       "3                                                1.0  \n",
       "4                                                2.0  \n",
       "\n",
       "[5 rows x 26 columns]"
      ]
     },
     "execution_count": 114,
     "metadata": {},
     "output_type": "execute_result"
    }
   ],
   "source": [
    "df_offers_merge2 = df_offers_merge1.merge(df_trans_grp_customer_category, how='inner', on=['customer_id', 'category'])\n",
    "df_offers_merge2.head()"
   ]
  },
  {
   "cell_type": "code",
   "execution_count": 115,
   "metadata": {
    "collapsed": false
   },
   "outputs": [
    {
     "data": {
      "text/html": [
       "<div>\n",
       "<table border=\"1\" class=\"dataframe\">\n",
       "  <thead>\n",
       "    <tr style=\"text-align: right;\">\n",
       "      <th></th>\n",
       "      <th>customer_id</th>\n",
       "      <th>chain</th>\n",
       "      <th>offer</th>\n",
       "      <th>market</th>\n",
       "      <th>category</th>\n",
       "      <th>company</th>\n",
       "      <th>brand</th>\n",
       "      <th>offerdate</th>\n",
       "      <th>offervalue</th>\n",
       "      <th>quantity</th>\n",
       "      <th>...</th>\n",
       "      <th>agg_purchasequantity_customer_id_category_total</th>\n",
       "      <th>agg_purchasequantity_customer_id_category_average</th>\n",
       "      <th>dept</th>\n",
       "      <th>agg_productsize_customer_id_dept_average</th>\n",
       "      <th>agg_productsize_customer_id_dept_total</th>\n",
       "      <th>agg_customer_id_customer_id_dept_count</th>\n",
       "      <th>agg_purchaseamount_customer_id_dept_average</th>\n",
       "      <th>agg_purchaseamount_customer_id_dept_total</th>\n",
       "      <th>agg_purchasequantity_customer_id_dept_average</th>\n",
       "      <th>agg_purchasequantity_customer_id_dept_total</th>\n",
       "    </tr>\n",
       "  </thead>\n",
       "  <tbody>\n",
       "    <tr>\n",
       "      <th>0</th>\n",
       "      <td>245998678</td>\n",
       "      <td>240</td>\n",
       "      <td>1208503</td>\n",
       "      <td>12</td>\n",
       "      <td>6202</td>\n",
       "      <td>1087744888</td>\n",
       "      <td>64486</td>\n",
       "      <td>2013-04-29</td>\n",
       "      <td>1.5</td>\n",
       "      <td>1</td>\n",
       "      <td>...</td>\n",
       "      <td>7</td>\n",
       "      <td>1.4</td>\n",
       "      <td>21</td>\n",
       "      <td>32.00</td>\n",
       "      <td>192.0</td>\n",
       "      <td>6</td>\n",
       "      <td>2.933333</td>\n",
       "      <td>17.60</td>\n",
       "      <td>2.0</td>\n",
       "      <td>12</td>\n",
       "    </tr>\n",
       "    <tr>\n",
       "      <th>1</th>\n",
       "      <td>245998678</td>\n",
       "      <td>240</td>\n",
       "      <td>1208503</td>\n",
       "      <td>12</td>\n",
       "      <td>6202</td>\n",
       "      <td>1087744888</td>\n",
       "      <td>64486</td>\n",
       "      <td>2013-04-29</td>\n",
       "      <td>1.5</td>\n",
       "      <td>1</td>\n",
       "      <td>...</td>\n",
       "      <td>7</td>\n",
       "      <td>1.4</td>\n",
       "      <td>58</td>\n",
       "      <td>19.00</td>\n",
       "      <td>19.0</td>\n",
       "      <td>1</td>\n",
       "      <td>5.290000</td>\n",
       "      <td>5.29</td>\n",
       "      <td>1.0</td>\n",
       "      <td>1</td>\n",
       "    </tr>\n",
       "    <tr>\n",
       "      <th>2</th>\n",
       "      <td>245998678</td>\n",
       "      <td>240</td>\n",
       "      <td>1208503</td>\n",
       "      <td>12</td>\n",
       "      <td>6202</td>\n",
       "      <td>1087744888</td>\n",
       "      <td>64486</td>\n",
       "      <td>2013-04-29</td>\n",
       "      <td>1.5</td>\n",
       "      <td>1</td>\n",
       "      <td>...</td>\n",
       "      <td>7</td>\n",
       "      <td>1.4</td>\n",
       "      <td>62</td>\n",
       "      <td>12.96</td>\n",
       "      <td>64.8</td>\n",
       "      <td>5</td>\n",
       "      <td>7.566000</td>\n",
       "      <td>37.83</td>\n",
       "      <td>1.4</td>\n",
       "      <td>7</td>\n",
       "    </tr>\n",
       "    <tr>\n",
       "      <th>3</th>\n",
       "      <td>245998678</td>\n",
       "      <td>240</td>\n",
       "      <td>1208503</td>\n",
       "      <td>12</td>\n",
       "      <td>6202</td>\n",
       "      <td>1087744888</td>\n",
       "      <td>64486</td>\n",
       "      <td>2013-04-29</td>\n",
       "      <td>1.5</td>\n",
       "      <td>1</td>\n",
       "      <td>...</td>\n",
       "      <td>7</td>\n",
       "      <td>1.4</td>\n",
       "      <td>72</td>\n",
       "      <td>4.00</td>\n",
       "      <td>4.0</td>\n",
       "      <td>1</td>\n",
       "      <td>3.000000</td>\n",
       "      <td>3.00</td>\n",
       "      <td>1.0</td>\n",
       "      <td>1</td>\n",
       "    </tr>\n",
       "    <tr>\n",
       "      <th>4</th>\n",
       "      <td>245998678</td>\n",
       "      <td>240</td>\n",
       "      <td>1208503</td>\n",
       "      <td>12</td>\n",
       "      <td>6202</td>\n",
       "      <td>1087744888</td>\n",
       "      <td>64486</td>\n",
       "      <td>2013-04-29</td>\n",
       "      <td>1.5</td>\n",
       "      <td>1</td>\n",
       "      <td>...</td>\n",
       "      <td>7</td>\n",
       "      <td>1.4</td>\n",
       "      <td>99</td>\n",
       "      <td>5.95</td>\n",
       "      <td>59.5</td>\n",
       "      <td>10</td>\n",
       "      <td>4.152000</td>\n",
       "      <td>41.52</td>\n",
       "      <td>1.5</td>\n",
       "      <td>15</td>\n",
       "    </tr>\n",
       "  </tbody>\n",
       "</table>\n",
       "<p>5 rows × 34 columns</p>\n",
       "</div>"
      ],
      "text/plain": [
       "   customer_id  chain    offer  market  category     company  brand  \\\n",
       "0    245998678    240  1208503      12      6202  1087744888  64486   \n",
       "1    245998678    240  1208503      12      6202  1087744888  64486   \n",
       "2    245998678    240  1208503      12      6202  1087744888  64486   \n",
       "3    245998678    240  1208503      12      6202  1087744888  64486   \n",
       "4    245998678    240  1208503      12      6202  1087744888  64486   \n",
       "\n",
       "    offerdate  offervalue  quantity  \\\n",
       "0  2013-04-29         1.5         1   \n",
       "1  2013-04-29         1.5         1   \n",
       "2  2013-04-29         1.5         1   \n",
       "3  2013-04-29         1.5         1   \n",
       "4  2013-04-29         1.5         1   \n",
       "\n",
       "                      ...                       \\\n",
       "0                     ...                        \n",
       "1                     ...                        \n",
       "2                     ...                        \n",
       "3                     ...                        \n",
       "4                     ...                        \n",
       "\n",
       "   agg_purchasequantity_customer_id_category_total  \\\n",
       "0                                                7   \n",
       "1                                                7   \n",
       "2                                                7   \n",
       "3                                                7   \n",
       "4                                                7   \n",
       "\n",
       "  agg_purchasequantity_customer_id_category_average  dept  \\\n",
       "0                                               1.4    21   \n",
       "1                                               1.4    58   \n",
       "2                                               1.4    62   \n",
       "3                                               1.4    72   \n",
       "4                                               1.4    99   \n",
       "\n",
       "   agg_productsize_customer_id_dept_average  \\\n",
       "0                                     32.00   \n",
       "1                                     19.00   \n",
       "2                                     12.96   \n",
       "3                                      4.00   \n",
       "4                                      5.95   \n",
       "\n",
       "   agg_productsize_customer_id_dept_total  \\\n",
       "0                                   192.0   \n",
       "1                                    19.0   \n",
       "2                                    64.8   \n",
       "3                                     4.0   \n",
       "4                                    59.5   \n",
       "\n",
       "   agg_customer_id_customer_id_dept_count  \\\n",
       "0                                       6   \n",
       "1                                       1   \n",
       "2                                       5   \n",
       "3                                       1   \n",
       "4                                      10   \n",
       "\n",
       "   agg_purchaseamount_customer_id_dept_average  \\\n",
       "0                                     2.933333   \n",
       "1                                     5.290000   \n",
       "2                                     7.566000   \n",
       "3                                     3.000000   \n",
       "4                                     4.152000   \n",
       "\n",
       "   agg_purchaseamount_customer_id_dept_total  \\\n",
       "0                                      17.60   \n",
       "1                                       5.29   \n",
       "2                                      37.83   \n",
       "3                                       3.00   \n",
       "4                                      41.52   \n",
       "\n",
       "   agg_purchasequantity_customer_id_dept_average  \\\n",
       "0                                            2.0   \n",
       "1                                            1.0   \n",
       "2                                            1.4   \n",
       "3                                            1.0   \n",
       "4                                            1.5   \n",
       "\n",
       "   agg_purchasequantity_customer_id_dept_total  \n",
       "0                                           12  \n",
       "1                                            1  \n",
       "2                                            7  \n",
       "3                                            1  \n",
       "4                                           15  \n",
       "\n",
       "[5 rows x 34 columns]"
      ]
     },
     "execution_count": 115,
     "metadata": {},
     "output_type": "execute_result"
    }
   ],
   "source": [
    "df_offers_merge3 = df_offers_merge2.merge(df_trans_grp_customer_dept, how='inner', on=['customer_id'])\n",
    "df_offers_merge3.head()"
   ]
  },
  {
   "cell_type": "code",
   "execution_count": 116,
   "metadata": {
    "collapsed": false
   },
   "outputs": [
    {
     "data": {
      "text/html": [
       "<div>\n",
       "<table border=\"1\" class=\"dataframe\">\n",
       "  <thead>\n",
       "    <tr style=\"text-align: right;\">\n",
       "      <th></th>\n",
       "      <th>customer_id</th>\n",
       "      <th>chain</th>\n",
       "      <th>offer</th>\n",
       "      <th>market</th>\n",
       "      <th>category</th>\n",
       "      <th>company</th>\n",
       "      <th>brand</th>\n",
       "      <th>offerdate</th>\n",
       "      <th>offervalue</th>\n",
       "      <th>quantity</th>\n",
       "      <th>repeattrips</th>\n",
       "      <th>repeater</th>\n",
       "      <th>agg_productsize_customer_id_brand_average</th>\n",
       "      <th>agg_productsize_customer_id_brand_total</th>\n",
       "      <th>agg_customer_id_customer_id_brand_count</th>\n",
       "      <th>agg_purchaseamount_customer_id_brand_average</th>\n",
       "      <th>agg_purchaseamount_customer_id_brand_total</th>\n",
       "      <th>agg_purchasequantity_customer_id_brand_average</th>\n",
       "      <th>agg_purchasequantity_customer_id_brand_total</th>\n",
       "    </tr>\n",
       "  </thead>\n",
       "  <tbody>\n",
       "  </tbody>\n",
       "</table>\n",
       "</div>"
      ],
      "text/plain": [
       "Empty DataFrame\n",
       "Columns: [customer_id, chain, offer, market, category, company, brand, offerdate, offervalue, quantity, repeattrips, repeater, agg_productsize_customer_id_brand_average, agg_productsize_customer_id_brand_total, agg_customer_id_customer_id_brand_count, agg_purchaseamount_customer_id_brand_average, agg_purchaseamount_customer_id_brand_total, agg_purchasequantity_customer_id_brand_average, agg_purchasequantity_customer_id_brand_total]\n",
       "Index: []"
      ]
     },
     "execution_count": 116,
     "metadata": {},
     "output_type": "execute_result"
    }
   ],
   "source": [
    "df_offers_merge1[df_offers_merge1.isnull().any(axis=1)]"
   ]
  },
  {
   "cell_type": "code",
   "execution_count": 117,
   "metadata": {
    "collapsed": false
   },
   "outputs": [
    {
     "data": {
      "text/html": [
       "<div>\n",
       "<table border=\"1\" class=\"dataframe\">\n",
       "  <thead>\n",
       "    <tr style=\"text-align: right;\">\n",
       "      <th></th>\n",
       "      <th>customer_id</th>\n",
       "      <th>chain</th>\n",
       "      <th>offer</th>\n",
       "      <th>market</th>\n",
       "      <th>category</th>\n",
       "      <th>company</th>\n",
       "      <th>brand</th>\n",
       "      <th>offerdate</th>\n",
       "      <th>offervalue</th>\n",
       "      <th>quantity</th>\n",
       "      <th>...</th>\n",
       "      <th>agg_purchaseamount_customer_id_brand_total</th>\n",
       "      <th>agg_purchasequantity_customer_id_brand_average</th>\n",
       "      <th>agg_purchasequantity_customer_id_brand_total</th>\n",
       "      <th>agg_productsize_customer_id_category_total</th>\n",
       "      <th>agg_productsize_customer_id_category_average</th>\n",
       "      <th>agg_customer_id_customer_id_category_count</th>\n",
       "      <th>agg_purchaseamount_customer_id_category_total</th>\n",
       "      <th>agg_purchaseamount_customer_id_category_average</th>\n",
       "      <th>agg_purchasequantity_customer_id_category_total</th>\n",
       "      <th>agg_purchasequantity_customer_id_category_average</th>\n",
       "    </tr>\n",
       "  </thead>\n",
       "  <tbody>\n",
       "  </tbody>\n",
       "</table>\n",
       "<p>0 rows × 26 columns</p>\n",
       "</div>"
      ],
      "text/plain": [
       "Empty DataFrame\n",
       "Columns: [customer_id, chain, offer, market, category, company, brand, offerdate, offervalue, quantity, repeattrips, repeater, agg_productsize_customer_id_brand_average, agg_productsize_customer_id_brand_total, agg_customer_id_customer_id_brand_count, agg_purchaseamount_customer_id_brand_average, agg_purchaseamount_customer_id_brand_total, agg_purchasequantity_customer_id_brand_average, agg_purchasequantity_customer_id_brand_total, agg_productsize_customer_id_category_total, agg_productsize_customer_id_category_average, agg_customer_id_customer_id_category_count, agg_purchaseamount_customer_id_category_total, agg_purchaseamount_customer_id_category_average, agg_purchasequantity_customer_id_category_total, agg_purchasequantity_customer_id_category_average]\n",
       "Index: []\n",
       "\n",
       "[0 rows x 26 columns]"
      ]
     },
     "execution_count": 117,
     "metadata": {},
     "output_type": "execute_result"
    }
   ],
   "source": [
    "df_offers_merge2[df_offers_merge2.isnull().any(axis=1)]"
   ]
  },
  {
   "cell_type": "code",
   "execution_count": 118,
   "metadata": {
    "collapsed": false
   },
   "outputs": [
    {
     "data": {
      "text/html": [
       "<div>\n",
       "<table border=\"1\" class=\"dataframe\">\n",
       "  <thead>\n",
       "    <tr style=\"text-align: right;\">\n",
       "      <th></th>\n",
       "      <th>customer_id</th>\n",
       "      <th>chain</th>\n",
       "      <th>offer</th>\n",
       "      <th>market</th>\n",
       "      <th>category</th>\n",
       "      <th>company</th>\n",
       "      <th>brand</th>\n",
       "      <th>offerdate</th>\n",
       "      <th>offervalue</th>\n",
       "      <th>quantity</th>\n",
       "      <th>...</th>\n",
       "      <th>agg_purchasequantity_customer_id_category_total</th>\n",
       "      <th>agg_purchasequantity_customer_id_category_average</th>\n",
       "      <th>dept</th>\n",
       "      <th>agg_productsize_customer_id_dept_average</th>\n",
       "      <th>agg_productsize_customer_id_dept_total</th>\n",
       "      <th>agg_customer_id_customer_id_dept_count</th>\n",
       "      <th>agg_purchaseamount_customer_id_dept_average</th>\n",
       "      <th>agg_purchaseamount_customer_id_dept_total</th>\n",
       "      <th>agg_purchasequantity_customer_id_dept_average</th>\n",
       "      <th>agg_purchasequantity_customer_id_dept_total</th>\n",
       "    </tr>\n",
       "  </thead>\n",
       "  <tbody>\n",
       "  </tbody>\n",
       "</table>\n",
       "<p>0 rows × 34 columns</p>\n",
       "</div>"
      ],
      "text/plain": [
       "Empty DataFrame\n",
       "Columns: [customer_id, chain, offer, market, category, company, brand, offerdate, offervalue, quantity, repeattrips, repeater, agg_productsize_customer_id_brand_average, agg_productsize_customer_id_brand_total, agg_customer_id_customer_id_brand_count, agg_purchaseamount_customer_id_brand_average, agg_purchaseamount_customer_id_brand_total, agg_purchasequantity_customer_id_brand_average, agg_purchasequantity_customer_id_brand_total, agg_productsize_customer_id_category_total, agg_productsize_customer_id_category_average, agg_customer_id_customer_id_category_count, agg_purchaseamount_customer_id_category_total, agg_purchaseamount_customer_id_category_average, agg_purchasequantity_customer_id_category_total, agg_purchasequantity_customer_id_category_average, dept, agg_productsize_customer_id_dept_average, agg_productsize_customer_id_dept_total, agg_customer_id_customer_id_dept_count, agg_purchaseamount_customer_id_dept_average, agg_purchaseamount_customer_id_dept_total, agg_purchasequantity_customer_id_dept_average, agg_purchasequantity_customer_id_dept_total]\n",
       "Index: []\n",
       "\n",
       "[0 rows x 34 columns]"
      ]
     },
     "execution_count": 118,
     "metadata": {},
     "output_type": "execute_result"
    }
   ],
   "source": [
    "df_offers_merge3[df_offers_merge3.isnull().any(axis=1)]"
   ]
  },
  {
   "cell_type": "markdown",
   "metadata": {},
   "source": [
    "### CLEAR MEMORY"
   ]
  },
  {
   "cell_type": "code",
   "execution_count": 34,
   "metadata": {
    "collapsed": false
   },
   "outputs": [],
   "source": [
    "%reset_selective -f df_trans_all"
   ]
  },
  {
   "cell_type": "markdown",
   "metadata": {},
   "source": [
    "## TRAIN MODEL"
   ]
  },
  {
   "cell_type": "code",
   "execution_count": 119,
   "metadata": {
    "collapsed": true
   },
   "outputs": [],
   "source": [
    "df_data = df_offers_merge3"
   ]
  },
  {
   "cell_type": "code",
   "execution_count": 120,
   "metadata": {
    "collapsed": false
   },
   "outputs": [
    {
     "data": {
      "text/plain": [
       "Index([u'customer_id', u'chain', u'offer', u'market', u'category', u'company',\n",
       "       u'brand', u'offerdate', u'offervalue', u'quantity', u'repeattrips',\n",
       "       u'repeater', u'agg_productsize_customer_id_brand_average',\n",
       "       u'agg_productsize_customer_id_brand_total',\n",
       "       u'agg_customer_id_customer_id_brand_count',\n",
       "       u'agg_purchaseamount_customer_id_brand_average',\n",
       "       u'agg_purchaseamount_customer_id_brand_total',\n",
       "       u'agg_purchasequantity_customer_id_brand_average',\n",
       "       u'agg_purchasequantity_customer_id_brand_total',\n",
       "       u'agg_productsize_customer_id_category_total',\n",
       "       u'agg_productsize_customer_id_category_average',\n",
       "       u'agg_customer_id_customer_id_category_count',\n",
       "       u'agg_purchaseamount_customer_id_category_total',\n",
       "       u'agg_purchaseamount_customer_id_category_average',\n",
       "       u'agg_purchasequantity_customer_id_category_total',\n",
       "       u'agg_purchasequantity_customer_id_category_average', u'dept',\n",
       "       u'agg_productsize_customer_id_dept_average',\n",
       "       u'agg_productsize_customer_id_dept_total',\n",
       "       u'agg_customer_id_customer_id_dept_count',\n",
       "       u'agg_purchaseamount_customer_id_dept_average',\n",
       "       u'agg_purchaseamount_customer_id_dept_total',\n",
       "       u'agg_purchasequantity_customer_id_dept_average',\n",
       "       u'agg_purchasequantity_customer_id_dept_total'],\n",
       "      dtype='object')"
      ]
     },
     "execution_count": 120,
     "metadata": {},
     "output_type": "execute_result"
    }
   ],
   "source": [
    "df_data.columns"
   ]
  },
  {
   "cell_type": "code",
   "execution_count": 121,
   "metadata": {
    "collapsed": false
   },
   "outputs": [],
   "source": [
    "categorical_cols = ['chain','market','category','company']\n",
    "agg_cols = filter(lambda c: re.match(\"agg_*\",c), df_data.columns)\n",
    "num_cols = ['offervalue','quantity','repeattrips']\n",
    "\n",
    "df_X = df_data.filter(items=categorical_cols+agg_cols+num_cols) \n",
    "df_Y = df_data[['repeater']]\n",
    "Y = df_Y.repeater.map(lambda v: v=='t')"
   ]
  },
  {
   "cell_type": "code",
   "execution_count": 122,
   "metadata": {
    "collapsed": false
   },
   "outputs": [],
   "source": [
    "columns_to_type(df_X, categorical_cols, 'category')"
   ]
  },
  {
   "cell_type": "code",
   "execution_count": 123,
   "metadata": {
    "collapsed": false
   },
   "outputs": [
    {
     "data": {
      "text/plain": [
       "(25, 28)"
      ]
     },
     "execution_count": 123,
     "metadata": {},
     "output_type": "execute_result"
    }
   ],
   "source": [
    "len(categorical_cols+agg_cols), len(df_X.columns)"
   ]
  },
  {
   "cell_type": "code",
   "execution_count": 124,
   "metadata": {
    "collapsed": false
   },
   "outputs": [
    {
     "data": {
      "text/plain": [
       "(5627, 5627)"
      ]
     },
     "execution_count": 124,
     "metadata": {},
     "output_type": "execute_result"
    }
   ],
   "source": [
    "len(df_X),len(df_Y)"
   ]
  },
  {
   "cell_type": "markdown",
   "metadata": {},
   "source": [
    "### BUILD PIPELINE"
   ]
  },
  {
   "cell_type": "code",
   "execution_count": 125,
   "metadata": {
    "collapsed": false
   },
   "outputs": [],
   "source": [
    "mapper = DataFrameMapper([\n",
    "        (col, sk.preprocessing.LabelBinarizer()) for col in categorical_cols] \n",
    "      + [(agg_cols+num_cols, None)])\n",
    "\n",
    "prepare_pipeline = make_pipeline(mapper,\n",
    "                        PolynomialFeatures(degree=1, interaction_only=True),                         \n",
    "                        preprocessing.StandardScaler()\n",
    "                        ) \n"
   ]
  },
  {
   "cell_type": "code",
   "execution_count": 126,
   "metadata": {
    "collapsed": true
   },
   "outputs": [],
   "source": [
    "fit_pipeline_LR1 = make_pipeline(prepare_pipeline,\n",
    "                             lm.LogisticRegression(C=0.01, penalty='l1', fit_intercept=False))     "
   ]
  },
  {
   "cell_type": "code",
   "execution_count": null,
   "metadata": {
    "collapsed": true
   },
   "outputs": [],
   "source": [
    "patsy_transf = make_pipeline(PatsyTransformer(\"total_int_calls_minutes:C(intl_package, Treatment) + age -1\", return_type='dataframe'))"
   ]
  },
  {
   "cell_type": "markdown",
   "metadata": {},
   "source": [
    "### FIT DATA"
   ]
  },
  {
   "cell_type": "code",
   "execution_count": 56,
   "metadata": {
    "collapsed": false
   },
   "outputs": [],
   "source": [
    "df_X_transf = prepare_pipeline.fit_transform(df_X)\n"
   ]
  },
  {
   "cell_type": "code",
   "execution_count": 57,
   "metadata": {
    "collapsed": false
   },
   "outputs": [
    {
     "data": {
      "text/plain": [
       "(142, 13601, 13601)"
      ]
     },
     "execution_count": 57,
     "metadata": {},
     "output_type": "execute_result"
    }
   ],
   "source": [
    "len(df_X_transf[1]),len(df_X_transf), len(Y)"
   ]
  },
  {
   "cell_type": "code",
   "execution_count": 58,
   "metadata": {
    "collapsed": false
   },
   "outputs": [
    {
     "name": "stdout",
     "output_type": "stream",
     "text": [
      "score-train: 0.717961914565\n"
     ]
    }
   ],
   "source": [
    "fit_pipeline_LR1.fit(df_X, y=Y)\n",
    "print 'score-train: ' + str(fit_pipeline_LR1.score(df_X, y=Y))"
   ]
  },
  {
   "cell_type": "code",
   "execution_count": 59,
   "metadata": {
    "collapsed": false
   },
   "outputs": [
    {
     "data": {
      "text/plain": [
       "8.3510434332634365"
      ]
     },
     "execution_count": 59,
     "metadata": {},
     "output_type": "execute_result"
    }
   ],
   "source": [
    "logreg = fit_pipeline_LR1.named_steps['logisticregression']\n",
    "logreg.classes_\n",
    "sum(logreg.coef_[0,:])"
   ]
  },
  {
   "cell_type": "code",
   "execution_count": 78,
   "metadata": {
    "collapsed": false
   },
   "outputs": [
    {
     "name": "stdout",
     "output_type": "stream",
     "text": [
      "[ 0.66115399  0.69227941  0.67279412  0.63639706  1.        ]\n",
      "Accuracy: 0.73 (+/- 0.27)\n"
     ]
    }
   ],
   "source": [
    "scores = cv.cross_val_score(fit_pipeline_LR1, df_X, Y,cv=5, scoring='accuracy')\n",
    "print scores\n",
    "print(\"Accuracy: %0.2f (+/- %0.2f)\" % (scores.mean(), scores.std() * 2))\n",
    "\n",
    "# X_test = prepare_pipeline.transform(X_test)\n",
    "# print 'Test accuracy: %0.2f' % fit_pipeline.score(X_test, Y_test\n"
   ]
  },
  {
   "cell_type": "markdown",
   "metadata": {},
   "source": [
    "### AUC"
   ]
  },
  {
   "cell_type": "code",
   "execution_count": 129,
   "metadata": {
    "collapsed": false
   },
   "outputs": [
    {
     "data": {
      "image/png": "[encoded data removed]",
      "text/plain": [
       "<matplotlib.figure.Figure at 0x7f82ab724690>"
      ]
     },
     "metadata": {},
     "output_type": "display_data"
    },
    {
     "data": {
      "text/plain": [
       "0.99494949494949503"
      ]
     },
     "execution_count": 129,
     "metadata": {},
     "output_type": "execute_result"
    }
   ],
   "source": [
    "run_crossval(df_X, Y, fit_pipeline_LR1)"
   ]
  },
  {
   "cell_type": "markdown",
   "metadata": {},
   "source": [
    "## OTHER"
   ]
  },
  {
   "cell_type": "code",
   "execution_count": null,
   "metadata": {
    "collapsed": false
   },
   "outputs": [],
   "source": [
    "X =patsy.dmatrix('productsize_id_category_total:C(category, Treatment)  -1', data=df_trans_category_grp, return_type='dataframe')\n",
    "X.head()"
   ]
  },
  {
   "cell_type": "code",
   "execution_count": null,
   "metadata": {
    "collapsed": false
   },
   "outputs": [],
   "source": [
    "X = patsy.dmatrix('market + category -1', data=df_off_hist_train, return_type='dataframe')\n",
    "X.head()"
   ]
  },
  {
   "cell_type": "code",
   "execution_count": null,
   "metadata": {
    "collapsed": true
   },
   "outputs": [],
   "source": [
    "pd.DataFrame(df_trans_grp_brand.to_records())"
   ]
  },
  {
   "cell_type": "code",
   "execution_count": null,
   "metadata": {
    "collapsed": true
   },
   "outputs": [],
   "source": [
    "X = patsy.dmatrix('total_int_calls_minutes:C(intl_package, Treatment) + age -1', data=X_train, return_type='dataframe')"
   ]
  },
  {
   "cell_type": "code",
   "execution_count": null,
   "metadata": {
    "collapsed": false
   },
   "outputs": [],
   "source": [
    "df_offers_history[df_offers_history.id==4638754711]"
   ]
  },
  {
   "cell_type": "code",
   "execution_count": null,
   "metadata": {
    "collapsed": true
   },
   "outputs": [],
   "source": [
    "df_off_hist_train['id_chain'] =  df_off_hist_train['id'].map(lambda x:(str(x)+'_')) + df_off_hist_train['chain'].map(str)"
   ]
  }
 ],
 "metadata": {
  "kernelspec": {
   "display_name": "Python 2",
   "language": "python",
   "name": "python2"
  },
  "language_info": {
   "codemirror_mode": {
    "name": "ipython",
    "version": 2
   },
   "file_extension": ".py",
   "mimetype": "text/x-python",
   "name": "python",
   "nbconvert_exporter": "python",
   "pygments_lexer": "ipython2",
   "version": "2.7.9"
  }
 },
 "nbformat": 4,
 "nbformat_minor": 0
}
