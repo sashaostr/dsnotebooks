{
 "cells": [
  {
   "cell_type": "code",
   "execution_count": 1,
   "metadata": {
    "collapsed": false
   },
   "outputs": [],
   "source": [
    "import findspark\n",
    "import os\n",
    "findspark.init()\n",
    "import pyspark\n",
    "from pyspark import SparkFiles\n",
    "from pyspark import sql\n",
    "from pyspark import SparkConf\n",
    "\n",
    "from pyspark.sql import SQLContext, HiveContext\n",
    "from pyspark import SparkContext\n"
   ]
  },
  {
   "cell_type": "code",
   "execution_count": 2,
   "metadata": {
    "collapsed": false
   },
   "outputs": [],
   "source": [
    "from pyspark.sql import Row\n",
    "from pyspark.sql import DataFrameWriter\n",
    "from pyspark.sql import DataFrameReader\n",
    "from pyspark import StorageLevel\n",
    "\n",
    "from pyspark.sql import functions as F\n",
    "from pyspark.sql.functions import struct\n",
    "from pyspark.sql import GroupedData\n"
   ]
  },
  {
   "cell_type": "code",
   "execution_count": 2,
   "metadata": {
    "collapsed": false
   },
   "outputs": [
    {
     "ename": "ImportError",
     "evalue": "No module named pyspark.sql",
     "output_type": "error",
     "traceback": [
      "\u001b[1;31m---------------------------------------------------------------------------\u001b[0m",
      "\u001b[1;31mImportError\u001b[0m                               Traceback (most recent call last)",
      "\u001b[1;32m<ipython-input-2-2144a0098e78>\u001b[0m in \u001b[0;36m<module>\u001b[1;34m()\u001b[0m\n\u001b[0;32m      7\u001b[0m \u001b[1;32mfrom\u001b[0m \u001b[0mdatasu\u001b[0m\u001b[1;33m.\u001b[0m\u001b[0mpandas\u001b[0m \u001b[1;32mimport\u001b[0m \u001b[1;33m*\u001b[0m\u001b[1;33m\u001b[0m\u001b[0m\n\u001b[0;32m      8\u001b[0m \u001b[1;32mfrom\u001b[0m \u001b[0mdatasu\u001b[0m\u001b[1;33m.\u001b[0m\u001b[0mpersist\u001b[0m \u001b[1;32mimport\u001b[0m \u001b[1;33m*\u001b[0m\u001b[1;33m\u001b[0m\u001b[0m\n\u001b[1;32m----> 9\u001b[1;33m \u001b[1;32mfrom\u001b[0m \u001b[0mdatasu\u001b[0m\u001b[1;33m.\u001b[0m\u001b[0mspark\u001b[0m \u001b[1;32mimport\u001b[0m \u001b[1;33m*\u001b[0m\u001b[1;33m\u001b[0m\u001b[0m\n\u001b[0m\u001b[0;32m     10\u001b[0m \u001b[1;33m\u001b[0m\u001b[0m\n\u001b[0;32m     11\u001b[0m \u001b[1;32mimport\u001b[0m \u001b[0mpandas\u001b[0m \u001b[1;32mas\u001b[0m \u001b[0mpd\u001b[0m\u001b[1;33m\u001b[0m\u001b[0m\n",
      "\u001b[1;32m/home/ds/.pyenv/versions/anaconda2-2.4.1/lib/python2.7/site-packages/datasu/spark.py\u001b[0m in \u001b[0;36m<module>\u001b[1;34m()\u001b[0m\n\u001b[0;32m      3\u001b[0m \u001b[1;32mimport\u001b[0m \u001b[0mnumpy\u001b[0m \u001b[1;32mas\u001b[0m \u001b[0mnp\u001b[0m\u001b[1;33m\u001b[0m\u001b[0m\n\u001b[0;32m      4\u001b[0m \u001b[1;32mimport\u001b[0m \u001b[0mdoctest\u001b[0m\u001b[1;33m\u001b[0m\u001b[0m\n\u001b[1;32m----> 5\u001b[1;33m \u001b[1;32mfrom\u001b[0m \u001b[0mpyspark\u001b[0m\u001b[1;33m.\u001b[0m\u001b[0msql\u001b[0m \u001b[1;32mimport\u001b[0m \u001b[0mfunctions\u001b[0m \u001b[1;32mas\u001b[0m \u001b[0mF\u001b[0m\u001b[1;33m\u001b[0m\u001b[0m\n\u001b[0m\u001b[0;32m      6\u001b[0m \u001b[1;32mfrom\u001b[0m \u001b[0mpyspark\u001b[0m\u001b[1;33m.\u001b[0m\u001b[0msql\u001b[0m\u001b[1;33m.\u001b[0m\u001b[0mfunctions\u001b[0m \u001b[1;32mimport\u001b[0m \u001b[0mudf\u001b[0m\u001b[1;33m,\u001b[0m \u001b[0mUserDefinedFunction\u001b[0m\u001b[1;33m\u001b[0m\u001b[0m\n\u001b[0;32m      7\u001b[0m \u001b[1;32mfrom\u001b[0m \u001b[0mpyspark\u001b[0m\u001b[1;33m.\u001b[0m\u001b[0msql\u001b[0m\u001b[1;33m.\u001b[0m\u001b[0mtypes\u001b[0m \u001b[1;32mimport\u001b[0m \u001b[1;33m*\u001b[0m\u001b[1;33m\u001b[0m\u001b[0m\n",
      "\u001b[1;31mImportError\u001b[0m: No module named pyspark.sql"
     ]
    }
   ],
   "source": [
    "from functools import partial\n",
    "import numpy as np\n",
    "\n",
    "from datasu.auc import *\n",
    "from datasu.dicts import *\n",
    "from datasu.files import *\n",
    "from datasu.pandas import *\n",
    "from datasu.persist import *\n",
    "from datasu.spark import *\n",
    "\n",
    "import pandas as pd"
   ]
  },
  {
   "cell_type": "code",
   "execution_count": null,
   "metadata": {
    "collapsed": false
   },
   "outputs": [],
   "source": [
    "conf = SparkConf()\n",
    "conf.set('spark.executor.memory', '8g')\n",
    "conf.set('spark.driver.memory', '12g')\n",
    "conf.set('spark.python.worker.memory', '2g')\n",
    "conf.set(\"spark.driver.maxResultSize\", \"5g\")\n",
    "conf.set(\"spark.serializer\", \"org.apache.spark.serializer.KryoSerializer\")\n",
    "conf.set('spark.executor.extraJavaOptions', '-XX:+PrintGCDetails -XX:+UseCompressedOops')\n",
    "\n",
    "conf.setAppName('prepare features')\n",
    "conf.getAll()"
   ]
  },
  {
   "cell_type": "code",
   "execution_count": null,
   "metadata": {
    "collapsed": false
   },
   "outputs": [],
   "source": [
    "try:\n",
    "    sc.stop()\n",
    "except:\n",
    "    print 'spark context not exists'"
   ]
  },
  {
   "cell_type": "code",
   "execution_count": 6,
   "metadata": {
    "collapsed": false
   },
   "outputs": [],
   "source": [
    "   \n",
    "sc = pyspark.SparkContext(conf=conf)\n",
    "sqc = pyspark.SQLContext(sc)\n",
    "# psc = PSparkContext(sc)"
   ]
  },
  {
   "cell_type": "code",
   "execution_count": 7,
   "metadata": {
    "collapsed": false
   },
   "outputs": [
    {
     "data": {
      "text/plain": [
       "(2, 2)"
      ]
     },
     "execution_count": 7,
     "metadata": {},
     "output_type": "execute_result"
    }
   ],
   "source": [
    "sc.defaultParallelism, sc.defaultMinPartitions"
   ]
  },
  {
   "cell_type": "code",
   "execution_count": 8,
   "metadata": {
    "collapsed": false
   },
   "outputs": [],
   "source": [
    "csv_reader = sqc.read.format('com.databricks.spark.csv').options(header='true', inferschema='true')"
   ]
  },
  {
   "cell_type": "markdown",
   "metadata": {},
   "source": [
    "## LOAD DATA"
   ]
  },
  {
   "cell_type": "code",
   "execution_count": 51,
   "metadata": {
    "collapsed": true
   },
   "outputs": [],
   "source": [
    "base_data_path = '/home/ds/dev/data/Kagle-ValuesShoppers/'\n",
    "spark_data_path = 'file://'+ base_data_path + 'spark_data/'\n",
    "transactions_name = 'transactions'"
   ]
  },
  {
   "cell_type": "code",
   "execution_count": 13,
   "metadata": {
    "collapsed": false
   },
   "outputs": [],
   "source": [
    "df_coupons = pd.read_csv(base_data_path+'offers')[['offer','category','company','brand','offervalue','quantity']]\n",
    "df_offers_ids = pd.read_csv(base_data_path+'trainHistory').rename(columns={'id': 'customer_id'})\n",
    "df_offers_ids_submission = pd.read_csv(base_data_path+'testHistory').rename(columns={'id': 'customer_id'})\n",
    "# df_trans_all = pd.read_csv(base_data_path+'transactions_reduced_category').rename(columns={'id': 'customer_id'})"
   ]
  },
  {
   "cell_type": "code",
   "execution_count": 14,
   "metadata": {
    "collapsed": true
   },
   "outputs": [],
   "source": [
    "df_offers_all = pd.merge(df_offers_ids, df_coupons, on=['offer'])\n",
    "df_offers_all = df_offers_all[['customer_id','chain','offer','market','category','company','brand','offerdate','offervalue','quantity','repeattrips','repeater']]\n",
    "\n",
    "df_offers_all_submission = pd.merge(df_offers_ids_submission, df_coupons, on=['offer'])\n",
    "df_offers_all_submission = df_offers_all_submission[['customer_id','chain','offer','market','category','company','brand','offerdate','offervalue','quantity']]"
   ]
  },
  {
   "cell_type": "code",
   "execution_count": 15,
   "metadata": {
    "collapsed": false
   },
   "outputs": [],
   "source": [
    "ddf_transactions = csv_reader.load(base_data_path+transactions_name, samplingRatio=None)\n",
    "ddf_transactions.rdd.setName(transactions_name)\n",
    "ddf_transactions.alias('transactions')\n",
    "\n",
    "ddf_transactions.rdd.getNumPartitions()\n",
    "ddf_transactions = ddf_transactions.withColumnRenamed('id','customer_id')"
   ]
  },
  {
   "cell_type": "code",
   "execution_count": null,
   "metadata": {
    "collapsed": true
   },
   "outputs": [],
   "source": []
  },
  {
   "cell_type": "markdown",
   "metadata": {},
   "source": [
    "## EXPLORE DATA"
   ]
  },
  {
   "cell_type": "code",
   "execution_count": null,
   "metadata": {
    "collapsed": false
   },
   "outputs": [],
   "source": [
    "ddf_transactions.show(5)"
   ]
  },
  {
   "cell_type": "code",
   "execution_count": null,
   "metadata": {
    "collapsed": false
   },
   "outputs": [],
   "source": [
    "ddf_transactions.select('dept').distinct().count()"
   ]
  },
  {
   "cell_type": "code",
   "execution_count": null,
   "metadata": {
    "collapsed": false
   },
   "outputs": [],
   "source": [
    "ddf_transactions.select('category').distinct().count()"
   ]
  },
  {
   "cell_type": "code",
   "execution_count": null,
   "metadata": {
    "collapsed": false
   },
   "outputs": [],
   "source": [
    "ddf_transactions.select('company').distinct().count()"
   ]
  },
  {
   "cell_type": "code",
   "execution_count": null,
   "metadata": {
    "collapsed": false
   },
   "outputs": [],
   "source": [
    "ddf_transactions.select('brand').distinct().count()"
   ]
  },
  {
   "cell_type": "code",
   "execution_count": null,
   "metadata": {
    "collapsed": false
   },
   "outputs": [],
   "source": [
    "ddf_transactions.select('customer_id').distinct().count()"
   ]
  },
  {
   "cell_type": "markdown",
   "metadata": {},
   "source": [
    "## PREPARE DATA"
   ]
  },
  {
   "cell_type": "markdown",
   "metadata": {},
   "source": [
    "## PREPARE FEATURES"
   ]
  },
  {
   "cell_type": "code",
   "execution_count": 16,
   "metadata": {
    "collapsed": false
   },
   "outputs": [],
   "source": [
    "summ_grouping = {'total':F.sum, 'average':F.avg }\n",
    "count_grouping = {'count':F.count }\n",
    "\n",
    "count_agg = partial(get_ddf_aggs, agg_columns=['customer_id'], agg_funcs=count_grouping, prefix='agg_')\n",
    "total_avg_agg = partial(get_ddf_aggs, agg_columns=['productsize','purchasequantity','purchaseamount'], agg_funcs=summ_grouping, prefix='agg_')"
   ]
  },
  {
   "cell_type": "markdown",
   "metadata": {},
   "source": [
    "### agg customer_brand "
   ]
  },
  {
   "cell_type": "code",
   "execution_count": 17,
   "metadata": {
    "collapsed": false
   },
   "outputs": [],
   "source": [
    "# grpby_columns = ['customer_id','brand', 'category', 'dept']\n",
    "grpby_columns = ['customer_id','brand','category']\n",
    "grpby_columns_name = ['customer_id','brand']\n",
    "ddf_trans_agg_customer_brand = ddf_transactions.groupby(grpby_columns) \\\n",
    "                                        .agg(*(count_agg(grpby_columns_name) + total_avg_agg(grpby_columns_name)))"
   ]
  },
  {
   "cell_type": "code",
   "execution_count": 18,
   "metadata": {
    "collapsed": false
   },
   "outputs": [
    {
     "data": {
      "text/plain": [
       "['customer_id',\n",
       " 'brand',\n",
       " 'category',\n",
       " 'agg_customer_id_brand_customer_id_count',\n",
       " 'agg_customer_id_brand_productsize_average',\n",
       " 'agg_customer_id_brand_productsize_total',\n",
       " 'agg_customer_id_brand_purchasequantity_average',\n",
       " 'agg_customer_id_brand_purchasequantity_total',\n",
       " 'agg_customer_id_brand_purchaseamount_average',\n",
       " 'agg_customer_id_brand_purchaseamount_total']"
      ]
     },
     "execution_count": 18,
     "metadata": {},
     "output_type": "execute_result"
    }
   ],
   "source": [
    "ddf_trans_agg_customer_brand.columns"
   ]
  },
  {
   "cell_type": "markdown",
   "metadata": {},
   "source": [
    "### agg customer_category"
   ]
  },
  {
   "cell_type": "code",
   "execution_count": 19,
   "metadata": {
    "collapsed": false
   },
   "outputs": [],
   "source": [
    "grpby_cid_ctgry_columns = ['customer_id','category']\n",
    "\n",
    "ddf_trans_agg_customer_category = ddf_transactions.groupby(grpby_cid_ctgry_columns) \\\n",
    "                                        .agg(*(count_agg(grpby_cid_ctgry_columns) + total_avg_agg(grpby_cid_ctgry_columns)))"
   ]
  },
  {
   "cell_type": "code",
   "execution_count": 20,
   "metadata": {
    "collapsed": false
   },
   "outputs": [
    {
     "data": {
      "text/plain": [
       "['customer_id',\n",
       " 'category',\n",
       " 'agg_customer_id_category_customer_id_count',\n",
       " 'agg_customer_id_category_productsize_average',\n",
       " 'agg_customer_id_category_productsize_total',\n",
       " 'agg_customer_id_category_purchasequantity_average',\n",
       " 'agg_customer_id_category_purchasequantity_total',\n",
       " 'agg_customer_id_category_purchaseamount_average',\n",
       " 'agg_customer_id_category_purchaseamount_total']"
      ]
     },
     "execution_count": 20,
     "metadata": {},
     "output_type": "execute_result"
    }
   ],
   "source": [
    "ddf_trans_agg_customer_category.columns"
   ]
  },
  {
   "cell_type": "markdown",
   "metadata": {},
   "source": [
    "### merge"
   ]
  },
  {
   "cell_type": "code",
   "execution_count": 21,
   "metadata": {
    "collapsed": false
   },
   "outputs": [],
   "source": [
    "ddf_trans_agg_history = ddf_trans_agg_customer_brand.join(ddf_trans_agg_customer_category, \n",
    "                                                           on=['customer_id', 'category'], how='left_outer')"
   ]
  },
  {
   "cell_type": "code",
   "execution_count": 22,
   "metadata": {
    "collapsed": false
   },
   "outputs": [
    {
     "data": {
      "text/plain": [
       "['customer_id',\n",
       " 'category',\n",
       " 'brand',\n",
       " 'agg_customer_id_brand_customer_id_count',\n",
       " 'agg_customer_id_brand_productsize_average',\n",
       " 'agg_customer_id_brand_productsize_total',\n",
       " 'agg_customer_id_brand_purchasequantity_average',\n",
       " 'agg_customer_id_brand_purchasequantity_total',\n",
       " 'agg_customer_id_brand_purchaseamount_average',\n",
       " 'agg_customer_id_brand_purchaseamount_total',\n",
       " 'agg_customer_id_category_customer_id_count',\n",
       " 'agg_customer_id_category_productsize_average',\n",
       " 'agg_customer_id_category_productsize_total',\n",
       " 'agg_customer_id_category_purchasequantity_average',\n",
       " 'agg_customer_id_category_purchasequantity_total',\n",
       " 'agg_customer_id_category_purchaseamount_average',\n",
       " 'agg_customer_id_category_purchaseamount_total']"
      ]
     },
     "execution_count": 22,
     "metadata": {},
     "output_type": "execute_result"
    }
   ],
   "source": [
    "ddf_trans_agg_history.columns"
   ]
  },
  {
   "cell_type": "code",
   "execution_count": 23,
   "metadata": {
    "collapsed": false
   },
   "outputs": [],
   "source": [
    "ddf_trans_agg_history = ddf_trans_agg_history \\\n",
    "                                    .withColumn('repeater_calc', ddf_trans_agg_history.agg_customer_id_brand_customer_id_count > 1)\n",
    "\n"
   ]
  },
  {
   "cell_type": "code",
   "execution_count": 24,
   "metadata": {
    "collapsed": false
   },
   "outputs": [
    {
     "data": {
      "text/plain": [
       "['customer_id',\n",
       " 'category',\n",
       " 'brand',\n",
       " 'agg_customer_id_brand_customer_id_count',\n",
       " 'agg_customer_id_brand_productsize_average',\n",
       " 'agg_customer_id_brand_productsize_total',\n",
       " 'agg_customer_id_brand_purchasequantity_average',\n",
       " 'agg_customer_id_brand_purchasequantity_total',\n",
       " 'agg_customer_id_brand_purchaseamount_average',\n",
       " 'agg_customer_id_brand_purchaseamount_total',\n",
       " 'agg_customer_id_category_customer_id_count',\n",
       " 'agg_customer_id_category_productsize_average',\n",
       " 'agg_customer_id_category_productsize_total',\n",
       " 'agg_customer_id_category_purchasequantity_average',\n",
       " 'agg_customer_id_category_purchasequantity_total',\n",
       " 'agg_customer_id_category_purchaseamount_average',\n",
       " 'agg_customer_id_category_purchaseamount_total',\n",
       " 'repeater_calc']"
      ]
     },
     "execution_count": 24,
     "metadata": {},
     "output_type": "execute_result"
    }
   ],
   "source": [
    "ddf_trans_agg_history.columns"
   ]
  },
  {
   "cell_type": "code",
   "execution_count": null,
   "metadata": {
    "collapsed": false
   },
   "outputs": [],
   "source": [
    "ddf_trans_agg_history.count()"
   ]
  },
  {
   "cell_type": "code",
   "execution_count": null,
   "metadata": {
    "collapsed": false
   },
   "outputs": [],
   "source": [
    "# ddf_trans_agg_history.persist(StorageLevel.DISK_ONLY)"
   ]
  },
  {
   "cell_type": "code",
   "execution_count": null,
   "metadata": {
    "collapsed": false
   },
   "outputs": [],
   "source": [
    "# ddf_trans_agg_history.unpersist()"
   ]
  },
  {
   "cell_type": "code",
   "execution_count": 40,
   "metadata": {
    "collapsed": false
   },
   "outputs": [],
   "source": [
    "write_ddf_to_csv(ddf_trans_agg_history, spark_data_path+'ddf_trans_agg_history')"
   ]
  },
  {
   "cell_type": "code",
   "execution_count": null,
   "metadata": {
    "collapsed": false
   },
   "outputs": [],
   "source": [
    "\n"
   ]
  },
  {
   "cell_type": "markdown",
   "metadata": {
    "collapsed": false
   },
   "source": [
    "## merge with offers history"
   ]
  },
  {
   "cell_type": "markdown",
   "metadata": {},
   "source": [
    "#### train"
   ]
  },
  {
   "cell_type": "code",
   "execution_count": null,
   "metadata": {
    "collapsed": true
   },
   "outputs": [],
   "source": [
    "# ddf_trans_agg_history = csv_reader.load(spark_data_path+'ddf_trans_agg_history', samplingRatio=None)\n",
    "# ddf_trans_agg_history.columns"
   ]
  },
  {
   "cell_type": "code",
   "execution_count": 25,
   "metadata": {
    "collapsed": false
   },
   "outputs": [
    {
     "data": {
      "text/plain": [
       "['customer_id',\n",
       " 'chain',\n",
       " 'offer',\n",
       " 'market',\n",
       " 'category',\n",
       " 'company',\n",
       " 'brand',\n",
       " 'offerdate',\n",
       " 'offervalue',\n",
       " 'quantity',\n",
       " 'repeattrips',\n",
       " 'repeater']"
      ]
     },
     "execution_count": 25,
     "metadata": {},
     "output_type": "execute_result"
    }
   ],
   "source": [
    "df_offers_all.columns.values.tolist()"
   ]
  },
  {
   "cell_type": "code",
   "execution_count": 26,
   "metadata": {
    "collapsed": true
   },
   "outputs": [],
   "source": [
    "ddf_offers_all = sqc.createDataFrame(df_offers_all)"
   ]
  },
  {
   "cell_type": "code",
   "execution_count": 27,
   "metadata": {
    "collapsed": false
   },
   "outputs": [
    {
     "data": {
      "text/plain": [
       "160057"
      ]
     },
     "execution_count": 27,
     "metadata": {},
     "output_type": "execute_result"
    }
   ],
   "source": [
    "ddf_offers_all.count()"
   ]
  },
  {
   "cell_type": "code",
   "execution_count": 28,
   "metadata": {
    "collapsed": false
   },
   "outputs": [
    {
     "data": {
      "text/plain": [
       "['customer_id',\n",
       " 'brand',\n",
       " 'category',\n",
       " 'agg_customer_id_brand_customer_id_count',\n",
       " 'agg_customer_id_brand_productsize_average',\n",
       " 'agg_customer_id_brand_productsize_total',\n",
       " 'agg_customer_id_brand_purchasequantity_average',\n",
       " 'agg_customer_id_brand_purchasequantity_total',\n",
       " 'agg_customer_id_brand_purchaseamount_average',\n",
       " 'agg_customer_id_brand_purchaseamount_total']"
      ]
     },
     "execution_count": 28,
     "metadata": {},
     "output_type": "execute_result"
    }
   ],
   "source": [
    "ddf_trans_agg_customer_brand.columns"
   ]
  },
  {
   "cell_type": "code",
   "execution_count": 29,
   "metadata": {
    "collapsed": false
   },
   "outputs": [],
   "source": [
    "ddf_offers__trans_aggs = ddf_offers_all.join(ddf_trans_agg_customer_brand,\n",
    "                                             on=['customer_id','brand','category'], how='left_outer')\n",
    "ddf_offers__trans_aggs = ddf_offers__trans_aggs.drop('repeattrips')"
   ]
  },
  {
   "cell_type": "code",
   "execution_count": 30,
   "metadata": {
    "collapsed": false
   },
   "outputs": [],
   "source": [
    "ddf_offers__trans_aggs = ddf_offers__trans_aggs.join(ddf_trans_agg_customer_category, \n",
    "                                                     on=['customer_id','category'], how='left_outer')"
   ]
  },
  {
   "cell_type": "code",
   "execution_count": 31,
   "metadata": {
    "collapsed": false
   },
   "outputs": [
    {
     "data": {
      "text/plain": [
       "['customer_id',\n",
       " 'category',\n",
       " 'brand',\n",
       " 'chain',\n",
       " 'offer',\n",
       " 'market',\n",
       " 'company',\n",
       " 'offerdate',\n",
       " 'offervalue',\n",
       " 'quantity',\n",
       " 'repeater',\n",
       " 'agg_customer_id_brand_customer_id_count',\n",
       " 'agg_customer_id_brand_productsize_average',\n",
       " 'agg_customer_id_brand_productsize_total',\n",
       " 'agg_customer_id_brand_purchasequantity_average',\n",
       " 'agg_customer_id_brand_purchasequantity_total',\n",
       " 'agg_customer_id_brand_purchaseamount_average',\n",
       " 'agg_customer_id_brand_purchaseamount_total',\n",
       " 'agg_customer_id_category_customer_id_count',\n",
       " 'agg_customer_id_category_productsize_average',\n",
       " 'agg_customer_id_category_productsize_total',\n",
       " 'agg_customer_id_category_purchasequantity_average',\n",
       " 'agg_customer_id_category_purchasequantity_total',\n",
       " 'agg_customer_id_category_purchaseamount_average',\n",
       " 'agg_customer_id_category_purchaseamount_total']"
      ]
     },
     "execution_count": 31,
     "metadata": {},
     "output_type": "execute_result"
    }
   ],
   "source": [
    "ddf_offers__trans_aggs.columns"
   ]
  },
  {
   "cell_type": "code",
   "execution_count": 53,
   "metadata": {
    "collapsed": false
   },
   "outputs": [],
   "source": [
    "df_offers__trans_aggs = ddf_offers__trans_aggs.toPandas()"
   ]
  },
  {
   "cell_type": "markdown",
   "metadata": {},
   "source": [
    "#### submission"
   ]
  },
  {
   "cell_type": "code",
   "execution_count": 32,
   "metadata": {
    "collapsed": false
   },
   "outputs": [],
   "source": [
    "ddf_offers_all_submission = sqc.createDataFrame(df_offers_all_submission)"
   ]
  },
  {
   "cell_type": "code",
   "execution_count": 33,
   "metadata": {
    "collapsed": false
   },
   "outputs": [
    {
     "data": {
      "text/plain": [
       "['customer_id',\n",
       " 'chain',\n",
       " 'offer',\n",
       " 'market',\n",
       " 'category',\n",
       " 'company',\n",
       " 'brand',\n",
       " 'offerdate',\n",
       " 'offervalue',\n",
       " 'quantity']"
      ]
     },
     "execution_count": 33,
     "metadata": {},
     "output_type": "execute_result"
    }
   ],
   "source": [
    "ddf_offers_all_submission.columns"
   ]
  },
  {
   "cell_type": "code",
   "execution_count": 34,
   "metadata": {
    "collapsed": true
   },
   "outputs": [],
   "source": [
    "ddf_offers_submission__trans_aggs = ddf_offers_all_submission.join(ddf_trans_agg_customer_brand,\n",
    "                                             on=['customer_id','brand','category'], how='left_outer')\n",
    "ddf_offers_submission__trans_aggs = ddf_offers_submission__trans_aggs.drop('repeattrips')"
   ]
  },
  {
   "cell_type": "code",
   "execution_count": 35,
   "metadata": {
    "collapsed": true
   },
   "outputs": [],
   "source": [
    "ddf_offers_submission__trans_aggs = ddf_offers_submission__trans_aggs.join(ddf_trans_agg_customer_category, \n",
    "                                                     on=['customer_id','category'], how='left_outer')"
   ]
  },
  {
   "cell_type": "code",
   "execution_count": 36,
   "metadata": {
    "collapsed": false
   },
   "outputs": [
    {
     "data": {
      "text/plain": [
       "['customer_id',\n",
       " 'category',\n",
       " 'brand',\n",
       " 'chain',\n",
       " 'offer',\n",
       " 'market',\n",
       " 'company',\n",
       " 'offerdate',\n",
       " 'offervalue',\n",
       " 'quantity',\n",
       " 'agg_customer_id_brand_customer_id_count',\n",
       " 'agg_customer_id_brand_productsize_average',\n",
       " 'agg_customer_id_brand_productsize_total',\n",
       " 'agg_customer_id_brand_purchasequantity_average',\n",
       " 'agg_customer_id_brand_purchasequantity_total',\n",
       " 'agg_customer_id_brand_purchaseamount_average',\n",
       " 'agg_customer_id_brand_purchaseamount_total',\n",
       " 'agg_customer_id_category_customer_id_count',\n",
       " 'agg_customer_id_category_productsize_average',\n",
       " 'agg_customer_id_category_productsize_total',\n",
       " 'agg_customer_id_category_purchasequantity_average',\n",
       " 'agg_customer_id_category_purchasequantity_total',\n",
       " 'agg_customer_id_category_purchaseamount_average',\n",
       " 'agg_customer_id_category_purchaseamount_total']"
      ]
     },
     "execution_count": 36,
     "metadata": {},
     "output_type": "execute_result"
    }
   ],
   "source": [
    "ddf_offers_submission__trans_aggs.columns"
   ]
  },
  {
   "cell_type": "code",
   "execution_count": 37,
   "metadata": {
    "collapsed": true
   },
   "outputs": [],
   "source": [
    "df_offers_submission__trans_aggs = ddf_offers_submission__trans_aggs.toPandas()"
   ]
  },
  {
   "cell_type": "markdown",
   "metadata": {},
   "source": [
    "#### persist"
   ]
  },
  {
   "cell_type": "code",
   "execution_count": 55,
   "metadata": {
    "collapsed": false
   },
   "outputs": [
    {
     "name": "stdout",
     "output_type": "stream",
     "text": [
      "dumping df_offers_submission__trans_aggs to /home/ds/dev/data/Kagle-ValuesShoppers/working_data/df_offers_submission__trans_aggs.var\n",
      "dumping df_offers_submission__trans_aggs to /home/ds/dev/data/Kagle-ValuesShoppers/working_data/df_offers_submission__trans_aggs.var\n"
     ]
    }
   ],
   "source": [
    "persist_variables(['df_offers_submission__trans_aggs','df_offers_submission__trans_aggs']\n",
    "                  ,path=base_data_path+'working_data')"
   ]
  }
 ],
 "metadata": {
  "kernelspec": {
   "display_name": "Python 2",
   "language": "python",
   "name": "python2"
  },
  "language_info": {
   "codemirror_mode": {
    "name": "ipython",
    "version": 2
   },
   "file_extension": ".py",
   "mimetype": "text/x-python",
   "name": "python",
   "nbconvert_exporter": "python",
   "pygments_lexer": "ipython2",
   "version": "2.7.11"
  }
 },
 "nbformat": 4,
 "nbformat_minor": 0
}
